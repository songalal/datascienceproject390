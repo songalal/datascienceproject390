{
 "cells": [
  {
   "cell_type": "code",
   "execution_count": 64,
   "id": "2fbb46e8",
   "metadata": {},
   "outputs": [],
   "source": [
    "import warnings\n",
    "import pandas as pd\n",
    "from matplotlib import pyplot\n",
    "import matplotlib.pyplot as plt\n",
    "import seaborn as sns\n",
    "from statsmodels.tsa.stattools import adfuller\n",
    "from statsmodels.tsa.arima.model import ARIMA\n",
    "from sklearn.metrics import r2_score, mean_squared_error\n",
    "warnings.filterwarnings('ignore')\n",
    "from statsmodels.tsa.arima.model import ARIMA\n",
    "import statsmodels.api as sm\n",
    "from sklearn.model_selection import TimeSeriesSplit\n",
    "from statsmodels.tsa.statespace.sarimax import SARIMAX\n",
    "from sklearn.metrics import mean_squared_error\n",
    "import numpy as np\n",
    "import random"
   ]
  },
  {
   "cell_type": "code",
   "execution_count": 65,
   "id": "5c561b0f",
   "metadata": {},
   "outputs": [],
   "source": [
    "data = pd.read_csv('finalized_county.csv')"
   ]
  },
  {
   "cell_type": "code",
   "execution_count": 66,
   "id": "7a52dd5e",
   "metadata": {},
   "outputs": [],
   "source": [
    "tarrant = data[data['county'] == 'Tarrant'].loc[:, ['date', 'incremental_cases']]\n",
    "tarrant['incremental_cases'] = tarrant['incremental_cases'].astype('int')\n",
    "tarrant['date'] = pd.to_datetime(tarrant['date'], format=\"%Y-%m-%d\")\n",
    "\n",
    "# use 85%-15% for train-test split\n",
    "train = tarrant.iloc[:230, :]\n",
    "test = tarrant.iloc[230:, :]\n",
    "\n",
    "def stationary_test(series):\n",
    "    result = adfuller(series)\n",
    "    return (result[0], result[1])\n"
   ]
  },
  {
   "cell_type": "code",
   "execution_count": 67,
   "id": "b8745c0b",
   "metadata": {},
   "outputs": [
    {
     "name": "stdout",
     "output_type": "stream",
     "text": [
      "Stationary or not?: (-0.7851430797441187, 0.8234472689051321)\n",
      "3199    642\n",
      "Name: incremental_cases, dtype: int64\n",
      "Stationary after first level diff?: (-7.253082067142602, 1.7592508012141803e-10)\n"
     ]
    }
   ],
   "source": [
    "# Tarrant is non-stationary\n",
    "print(\"Stationary or not?:\", stationary_test(train.incremental_cases))\n",
    "\n",
    "# get this value for reversion purposes\n",
    "print(train.loc[train['date'] == '2020-10-25', 'incremental_cases'])\n",
    "\n",
    "# first-level differencing\n",
    "train['incremental_cases'] = train['incremental_cases'].diff(\n",
    ").fillna(train['incremental_cases']).astype('int')\n",
    "\n",
    "# Tarrant is stationary after first-level differencing\n",
    "print(\"Stationary after first level diff?:\", stationary_test(train.incremental_cases))"
   ]
  },
  {
   "cell_type": "code",
   "execution_count": 68,
   "id": "fadaffd6",
   "metadata": {},
   "outputs": [
    {
     "data": {
      "text/plain": [
       "<AxesSubplot:xlabel='date', ylabel='incremental_cases'>"
      ]
     },
     "execution_count": 68,
     "metadata": {},
     "output_type": "execute_result"
    },
    {
     "data": {
      "image/png": "[encoded data removed]",
      "text/plain": [
       "<Figure size 432x288 with 1 Axes>"
      ]
     },
     "metadata": {
      "needs_background": "light"
     },
     "output_type": "display_data"
    }
   ],
   "source": [
    "# use non-differenced cases for test actuals\n",
    "testing = data[data['county'] == 'Tarrant'].loc[:, ['date', 'incremental_cases']]\n",
    "test = testing.iloc[230:, :]\n",
    "\n",
    "# Plotting actual test data\n",
    "sns.lineplot(x=\"date\", y=\"incremental_cases\",legend = 'full' , data=testing)"
   ]
  },
  {
   "cell_type": "code",
   "execution_count": 13,
   "id": "8ba23ade",
   "metadata": {},
   "outputs": [
    {
     "name": "stdout",
     "output_type": "stream",
     "text": [
      "Best SARIMA parameters: ((2, 1, 3), (0, 1, 1, 30)) with MSE: 64182.1413255427\n"
     ]
    }
   ],
   "source": [
    "train = train.loc[:, ['incremental_cases']].reset_index().drop(columns='index')\n",
    "n_splits = 3\n",
    "\n",
    "tscv = TimeSeriesSplit(n_splits=n_splits)\n",
    "\n",
    "p_values = [0, 1, 2, 3]\n",
    "d_values = [1]\n",
    "q_values = [0, 1, 2, 3]\n",
    "P_values = [0, 1, 2, 3]\n",
    "D_values = [1]\n",
    "Q_values = [0, 1, 2, 3]\n",
    "m_values = [30]  \n",
    "\n",
    "# Generate all possible combinations of parameters\n",
    "all_combinations = [(p, d, q, P, D, Q, m) for p in p_values for d in d_values for q in q_values\n",
    "                    for P in P_values for D in D_values for Q in Q_values for m in m_values]\n",
    "\n",
    "# Randomize\n",
    "random.shuffle(all_combinations)\n",
    "\n",
    "# Limit the number of iterations\n",
    "max_iterations = 20  \n",
    "limited_combinations = all_combinations[:max_iterations]\n",
    "\n",
    "best_score, best_cfg = float(\"inf\"), None\n",
    "\n",
    "# Iterate through the randomized/limited combinations of parameters\n",
    "for (p, d, q, P, D, Q, m) in limited_combinations:\n",
    "    mse_scores = []\n",
    "\n",
    "    for train_index, val_index in tscv.split(train):\n",
    "        try:\n",
    "            train_data, val_data = train.loc[train_index], train.loc[val_index]\n",
    "            model = SARIMAX(train_data.incremental_cases,\n",
    "                            order=(p, d, q),\n",
    "                            seasonal_order=(P, D, Q, m),\n",
    "                            enforce_stationarity=False,\n",
    "                            enforce_invertibility=False)\n",
    "            model_fit = model.fit(disp=0)\n",
    "            forecast = model_fit.forecast(steps=len(val_data))\n",
    "            mse = mean_squared_error(val_data.incremental_cases, forecast)\n",
    "            mse_scores.append(mse)\n",
    "        except:\n",
    "            mse_scores.append(float(\"inf\"))  # In case the model fitting fails\n",
    "\n",
    "    average_mse = np.mean(mse_scores)\n",
    "    if average_mse < best_score:\n",
    "        best_score, best_cfg = average_mse, ((p, d, q), (P, D, Q, m))\n",
    "\n",
    "print(f'Best SARIMA parameters: {best_cfg} with MSE: {best_score}')"
   ]
  },
  {
   "cell_type": "code",
   "execution_count": 69,
   "id": "90dd8910",
   "metadata": {},
   "outputs": [
    {
     "name": "stdout",
     "output_type": "stream",
     "text": [
      "RUNNING THE L-BFGS-B CODE\n",
      "\n",
      "           * * *\n",
      "\n",
      "Machine precision = 2.220D-16\n",
      " N =            7     M =           10\n",
      "\n",
      "At X0         0 variables are exactly at the bounds\n",
      "\n",
      "At iterate    0    f=  6.11184D+00    |proj g|=  2.61184D-01\n"
     ]
    },
    {
     "name": "stderr",
     "output_type": "stream",
     "text": [
      " This problem is unconstrained.\n"
     ]
    },
    {
     "name": "stdout",
     "output_type": "stream",
     "text": [
      "\n",
      "At iterate    5    f=  5.98581D+00    |proj g|=  4.81891D-02\n",
      "\n",
      "At iterate   10    f=  5.96041D+00    |proj g|=  1.82842D-02\n",
      "\n",
      "At iterate   15    f=  5.94844D+00    |proj g|=  2.89695D-01\n",
      "\n",
      "At iterate   20    f=  5.93702D+00    |proj g|=  8.74951D-03\n",
      "\n",
      "At iterate   25    f=  5.93463D+00    |proj g|=  1.91225D-02\n",
      "\n",
      "At iterate   30    f=  5.93456D+00    |proj g|=  2.48345D-02\n",
      "\n",
      "At iterate   35    f=  5.93370D+00    |proj g|=  2.99136D-02\n",
      "\n",
      "At iterate   40    f=  5.93361D+00    |proj g|=  6.28337D-03\n",
      "\n",
      "At iterate   45    f=  5.93345D+00    |proj g|=  1.59389D-02\n",
      "\n",
      "At iterate   50    f=  5.93092D+00    |proj g|=  4.99643D-02\n",
      "\n",
      "           * * *\n",
      "\n",
      "Tit   = total number of iterations\n",
      "Tnf   = total number of function evaluations\n",
      "Tnint = total number of segments explored during Cauchy searches\n",
      "Skip  = number of BFGS updates skipped\n",
      "Nact  = number of active bounds at final generalized Cauchy point\n",
      "Projg = norm of the final projected gradient\n",
      "F     = final function value\n",
      "\n",
      "           * * *\n",
      "\n",
      "   N    Tit     Tnf  Tnint  Skip  Nact     Projg        F\n",
      "    7     50     67      1     0     0   4.996D-02   5.931D+00\n",
      "  F =   5.9309166670845821     \n",
      "\n",
      "STOP: TOTAL NO. of ITERATIONS REACHED LIMIT                 \n",
      "R-squared -0.19110283107002046\n"
     ]
    }
   ],
   "source": [
    "model = sm.tsa.statespace.SARIMAX(train.incremental_cases, order=(2, 1, 3), seasonal_order=(0,1,1,30)).fit()\n",
    "pred = pd.concat([pd.Series([642]), model.forecast(steps=40)]).cumsum()[1:]\n",
    "r2 = r2_score(test.incremental_cases, pred)\n",
    "print(\"R-squared\", r2) "
   ]
  },
  {
   "cell_type": "code",
   "execution_count": 70,
   "id": "35d865ed",
   "metadata": {},
   "outputs": [
    {
     "data": {
      "text/plain": [
       "<AxesSubplot:xlabel='date'>"
      ]
     },
     "execution_count": 70,
     "metadata": {},
     "output_type": "execute_result"
    },
    {
     "data": {
      "image/png": "[encoded data removed]",
      "text/plain": [
       "<Figure size 432x288 with 1 Axes>"
      ]
     },
     "metadata": {
      "needs_background": "light"
     },
     "output_type": "display_data"
    }
   ],
   "source": [
    "prediction = pd.DataFrame({'actual':test.incremental_cases.reset_index(drop = True), \n",
    "              'pred':pred.reset_index(drop = True)})\n",
    "prediction['date'] = test['date'].reset_index(drop = True)\n",
    "prediction.plot(x = 'date', y = ['actual', 'pred'])"
   ]
  },
  {
   "cell_type": "code",
   "execution_count": 16,
   "id": "6350b44d",
   "metadata": {},
   "outputs": [
    {
     "name": "stdout",
     "output_type": "stream",
     "text": [
      "Best SARIMA parameters: ((2, 1, 2), (0, 1, 2, 30)) with MSE: 66557.50419641519\n"
     ]
    }
   ],
   "source": [
    "train = train.loc[:, ['incremental_cases']].reset_index().drop(columns='index')\n",
    "n_splits = 3\n",
    "\n",
    "tscv = TimeSeriesSplit(n_splits=n_splits)\n",
    "\n",
    "# Non-seasonal ARIMA parameters\n",
    "p_values = [2, 3]\n",
    "d_values = [1]\n",
    "q_values = [1, 2, 3]\n",
    "\n",
    "# Seasonal parameters\n",
    "P_values = [0, 1, 2, 3]  \n",
    "D_values = [1]  \n",
    "Q_values = [2, 3]  \n",
    "m_values = [30]    \n",
    "\n",
    "best_score, best_cfg = float(\"inf\"), None\n",
    "\n",
    "# Iterate through all combinations of parameters\n",
    "for p in p_values:\n",
    "    for d in d_values:\n",
    "        for q in q_values:\n",
    "            for P in P_values:\n",
    "                for D in D_values:\n",
    "                    for Q in Q_values:\n",
    "                        for m in m_values:\n",
    "                            mse_scores = []  # List to store the MSE of each cross-validation fold\n",
    "                            \n",
    "                            # Cross-validation as the inner loop\n",
    "                            for train_index, val_index in tscv.split(train):\n",
    "                                try:\n",
    "                                    train_data, val_data = train.loc[train_index], train.loc[val_index]\n",
    "                                    model = SARIMAX(train_data.incremental_cases,\n",
    "                                                    order=(p, d, q),\n",
    "                                                    seasonal_order=(P, D, Q, m),\n",
    "                                                    enforce_stationarity=False,\n",
    "                                                    enforce_invertibility=False)\n",
    "                                    model_fit = model.fit(disp=0)\n",
    "                                    forecast = model_fit.forecast(steps=len(val_data))\n",
    "                                    mse = mean_squared_error(val_data.incremental_cases, forecast)\n",
    "                                    mse_scores.append(mse)\n",
    "                                except:\n",
    "                                    mse_scores.append(float(\"inf\"))  \n",
    "                            \n",
    "                            average_mse = np.mean(mse_scores)  # Average MSE over all folds\n",
    "                            if average_mse < best_score:\n",
    "                                best_score, best_cfg = average_mse, ((p, d, q), (P, D, Q, m))\n",
    "\n",
    "print(f'Best SARIMA parameters: {best_cfg} with MSE: {best_score}')"
   ]
  },
  {
   "cell_type": "code",
   "execution_count": 71,
   "id": "c07a9ef4",
   "metadata": {},
   "outputs": [
    {
     "name": "stderr",
     "output_type": "stream",
     "text": [
      " This problem is unconstrained.\n"
     ]
    },
    {
     "name": "stdout",
     "output_type": "stream",
     "text": [
      "RUNNING THE L-BFGS-B CODE\n",
      "\n",
      "           * * *\n",
      "\n",
      "Machine precision = 2.220D-16\n",
      " N =            7     M =           10\n",
      "\n",
      "At X0         0 variables are exactly at the bounds\n",
      "\n",
      "At iterate    0    f=  6.08200D+00    |proj g|=  3.15310D-01\n",
      "\n",
      "At iterate    5    f=  5.97668D+00    |proj g|=  7.88775D-03\n",
      "\n",
      "At iterate   10    f=  5.95453D+00    |proj g|=  3.15702D-02\n",
      "\n",
      "At iterate   15    f=  5.92743D+00    |proj g|=  7.05316D-03\n",
      "\n",
      "At iterate   20    f=  5.92673D+00    |proj g|=  3.94498D-03\n",
      "\n",
      "At iterate   25    f=  5.92243D+00    |proj g|=  7.62130D-03\n",
      "\n",
      "At iterate   30    f=  5.82131D+00    |proj g|=  1.34895D-01\n",
      "\n",
      "At iterate   35    f=  5.77004D+00    |proj g|=  4.16750D-03\n",
      "\n",
      "At iterate   40    f=  5.77001D+00    |proj g|=  1.41225D-03\n",
      "\n",
      "At iterate   45    f=  5.76982D+00    |proj g|=  5.49286D-04\n",
      "\n",
      "At iterate   50    f=  5.76977D+00    |proj g|=  1.87574D-04\n",
      "\n",
      "           * * *\n",
      "\n",
      "Tit   = total number of iterations\n",
      "Tnf   = total number of function evaluations\n",
      "Tnint = total number of segments explored during Cauchy searches\n",
      "Skip  = number of BFGS updates skipped\n",
      "Nact  = number of active bounds at final generalized Cauchy point\n",
      "Projg = norm of the final projected gradient\n",
      "F     = final function value\n",
      "\n",
      "           * * *\n",
      "\n",
      "   N    Tit     Tnf  Tnint  Skip  Nact     Projg        F\n",
      "    7     50     59      1     0     0   1.876D-04   5.770D+00\n",
      "  F =   5.7697687942730997     \n",
      "\n",
      "STOP: TOTAL NO. of ITERATIONS REACHED LIMIT                 \n",
      "R-squared -0.2122249452202707\n"
     ]
    }
   ],
   "source": [
    "model = sm.tsa.statespace.SARIMAX(train.incremental_cases, order=(2, 1, 2), seasonal_order=(0,1,2,30)).fit()\n",
    "pred = pd.concat([pd.Series([642]), model.forecast(steps=40)]).cumsum()[1:]\n",
    "r2 = r2_score(test.incremental_cases, pred)\n",
    "print(\"R-squared\", r2) "
   ]
  },
  {
   "cell_type": "code",
   "execution_count": 72,
   "id": "55229940",
   "metadata": {},
   "outputs": [
    {
     "data": {
      "image/png": "[encoded data removed]",
      "text/plain": [
       "<Figure size 432x288 with 1 Axes>"
      ]
     },
     "metadata": {
      "needs_background": "light"
     },
     "output_type": "display_data"
    }
   ],
   "source": [
    "test['date'] = pd.to_datetime(test['date'], format=\"%Y-%m-%d\")\n",
    "\n",
    "prediction = pd.DataFrame({'actual':test.incremental_cases.reset_index(drop = True), \n",
    "              'pred':pred.reset_index(drop = True)})\n",
    "prediction['date'] = test['date'].reset_index(drop = True)\n",
    "ax = prediction.plot(x = 'date', y = ['actual', 'pred'])\n",
    "\n",
    "# Set the labels for the x and y axes\n",
    "ax.set_xlabel('Date')\n",
    "ax.set_ylabel('Incremental Cases')\n",
    "\n",
    "# Optionally, you can also set the title of the plot\n",
    "ax.set_title('Actual vs Predicted Incremental Cases')\n",
    "\n",
    "# Show the plot\n",
    "plt.show()"
   ]
  },
  {
   "cell_type": "code",
   "execution_count": null,
   "id": "c51f7dbd",
   "metadata": {},
   "outputs": [],
   "source": []
  },
  {
   "cell_type": "code",
   "execution_count": null,
   "id": "f95c18b8",
   "metadata": {},
   "outputs": [],
   "source": []
  },
  {
   "cell_type": "code",
   "execution_count": null,
   "id": "53b8a8f2",
   "metadata": {},
   "outputs": [],
   "source": []
  },
  {
   "cell_type": "code",
   "execution_count": 73,
   "id": "e867118a",
   "metadata": {},
   "outputs": [],
   "source": [
    "harris = data[data['county'] == 'Harris'].loc[:, ['date', 'incremental_cases']]\n",
    "harris['incremental_cases'] = harris['incremental_cases'].astype('int')\n",
    "harris['date'] = pd.to_datetime(harris['date'], format=\"%Y-%m-%d\")\n",
    "\n",
    "# use 85%-15% for train-test split\n",
    "train = harris.iloc[:230, :]\n",
    "test = harris.iloc[230:, :]\n",
    "\n",
    "def stationary_test(series):\n",
    "    result = adfuller(series)\n",
    "    return (result[0], result[1])\n"
   ]
  },
  {
   "cell_type": "code",
   "execution_count": 74,
   "id": "f063ec2b",
   "metadata": {},
   "outputs": [
    {
     "name": "stdout",
     "output_type": "stream",
     "text": [
      "Stationary or not?: (-2.2416106051506035, 0.19149116285834866)\n",
      "2929    379\n",
      "Name: incremental_cases, dtype: int64\n",
      "Stationary after first level diff?: (-8.652159828218712, 5.0809546880530815e-14)\n"
     ]
    }
   ],
   "source": [
    "# Harris is non-stationary\n",
    "print(\"Stationary or not?:\", stationary_test(train.incremental_cases))\n",
    "\n",
    "# get this value for reversion purposes\n",
    "print(train.loc[train['date'] == '2020-10-25', 'incremental_cases'])\n",
    "\n",
    "# first-level differencing\n",
    "train['incremental_cases'] = train['incremental_cases'].diff(\n",
    ").fillna(train['incremental_cases']).astype('int')\n",
    "\n",
    "# Harris is stationary after first-level differencing\n",
    "print(\"Stationary after first level diff?:\", stationary_test(train.incremental_cases))"
   ]
  },
  {
   "cell_type": "code",
   "execution_count": 75,
   "id": "d0566935",
   "metadata": {},
   "outputs": [
    {
     "data": {
      "text/plain": [
       "<AxesSubplot:xlabel='date', ylabel='incremental_cases'>"
      ]
     },
     "execution_count": 75,
     "metadata": {},
     "output_type": "execute_result"
    },
    {
     "data": {
      "image/png": "[encoded data removed]",
      "text/plain": [
       "<Figure size 432x288 with 1 Axes>"
      ]
     },
     "metadata": {
      "needs_background": "light"
     },
     "output_type": "display_data"
    }
   ],
   "source": [
    "# use non-differenced cases for test actuals\n",
    "testing = data[data['county'] == 'Harris'].loc[:, ['date', 'incremental_cases']]\n",
    "test = testing.iloc[230:, :]\n",
    "\n",
    "# Plotting actual test data\n",
    "sns.lineplot(x=\"date\", y=\"incremental_cases\",legend = 'full' , data=testing)"
   ]
  },
  {
   "cell_type": "code",
   "execution_count": 22,
   "id": "85b903b6",
   "metadata": {},
   "outputs": [
    {
     "name": "stdout",
     "output_type": "stream",
     "text": [
      "Best SARIMA parameters: ((3, 1, 1), (1, 1, 0, 30)) with MSE: 2362459.4580989517\n"
     ]
    }
   ],
   "source": [
    "train = train.loc[:, ['incremental_cases']].reset_index().drop(columns='index')\n",
    "n_splits = 3\n",
    "\n",
    "tscv = TimeSeriesSplit(n_splits=n_splits)\n",
    "\n",
    "p_values = [0, 1, 2, 3]\n",
    "d_values = [1]\n",
    "q_values = [0, 1, 2, 3]\n",
    "P_values = [0, 1, 2, 3]\n",
    "D_values = [1]\n",
    "Q_values = [0, 1, 2, 3]\n",
    "m_values = [30]  \n",
    "\n",
    "# Generate all possible combinations of parameters\n",
    "all_combinations = [(p, d, q, P, D, Q, m) for p in p_values for d in d_values for q in q_values\n",
    "                    for P in P_values for D in D_values for Q in Q_values for m in m_values]\n",
    "\n",
    "# Randomize\n",
    "random.shuffle(all_combinations)\n",
    "\n",
    "# Limit the number of iterations\n",
    "max_iterations = 20  \n",
    "limited_combinations = all_combinations[:max_iterations]\n",
    "\n",
    "best_score, best_cfg = float(\"inf\"), None\n",
    "\n",
    "# Iterate through the randomized/limited combinations of parameters\n",
    "for (p, d, q, P, D, Q, m) in limited_combinations:\n",
    "    mse_scores = []\n",
    "\n",
    "    for train_index, val_index in tscv.split(train):\n",
    "        try:\n",
    "            train_data, val_data = train.loc[train_index], train.loc[val_index]\n",
    "            model = SARIMAX(train_data.incremental_cases,\n",
    "                            order=(p, d, q),\n",
    "                            seasonal_order=(P, D, Q, m),\n",
    "                            enforce_stationarity=False,\n",
    "                            enforce_invertibility=False)\n",
    "            model_fit = model.fit(disp=0)\n",
    "            forecast = model_fit.forecast(steps=len(val_data))\n",
    "            mse = mean_squared_error(val_data.incremental_cases, forecast)\n",
    "            mse_scores.append(mse)\n",
    "        except:\n",
    "            mse_scores.append(float(\"inf\"))  # In case the model fitting fails\n",
    "\n",
    "    average_mse = np.mean(mse_scores)\n",
    "    if average_mse < best_score:\n",
    "        best_score, best_cfg = average_mse, ((p, d, q), (P, D, Q, m))\n",
    "\n",
    "print(f'Best SARIMA parameters: {best_cfg} with MSE: {best_score}')"
   ]
  },
  {
   "cell_type": "code",
   "execution_count": 76,
   "id": "dae43252",
   "metadata": {},
   "outputs": [
    {
     "name": "stderr",
     "output_type": "stream",
     "text": [
      " This problem is unconstrained.\n"
     ]
    },
    {
     "name": "stdout",
     "output_type": "stream",
     "text": [
      "RUNNING THE L-BFGS-B CODE\n",
      "\n",
      "           * * *\n",
      "\n",
      "Machine precision = 2.220D-16\n",
      " N =            6     M =           10\n",
      "\n",
      "At X0         0 variables are exactly at the bounds\n",
      "\n",
      "At iterate    0    f=  7.57967D+00    |proj g|=  7.31971D-02\n",
      "\n",
      "At iterate    5    f=  7.55181D+00    |proj g|=  1.74787D-02\n",
      "\n",
      "At iterate   10    f=  7.53538D+00    |proj g|=  2.46219D-02\n",
      "\n",
      "At iterate   15    f=  7.53390D+00    |proj g|=  6.59103D-04\n",
      "\n",
      "At iterate   20    f=  7.53357D+00    |proj g|=  5.51777D-04\n",
      "\n",
      "At iterate   25    f=  7.53350D+00    |proj g|=  2.80860D-03\n",
      "\n",
      "At iterate   30    f=  7.41094D+00    |proj g|=  6.59695D-02\n",
      "\n",
      "At iterate   35    f=  7.38791D+00    |proj g|=  1.50550D-03\n",
      "\n",
      "At iterate   40    f=  7.38582D+00    |proj g|=  2.45406D-03\n",
      "\n",
      "At iterate   45    f=  7.34890D+00    |proj g|=  1.22045D-02\n",
      "\n",
      "At iterate   50    f=  7.34877D+00    |proj g|=  1.44936D-04\n",
      "\n",
      "           * * *\n",
      "\n",
      "Tit   = total number of iterations\n",
      "Tnf   = total number of function evaluations\n",
      "Tnint = total number of segments explored during Cauchy searches\n",
      "Skip  = number of BFGS updates skipped\n",
      "Nact  = number of active bounds at final generalized Cauchy point\n",
      "Projg = norm of the final projected gradient\n",
      "F     = final function value\n",
      "\n",
      "           * * *\n",
      "\n",
      "   N    Tit     Tnf  Tnint  Skip  Nact     Projg        F\n",
      "    6     50     76      1     0     0   1.449D-04   7.349D+00\n",
      "  F =   7.3487670359312176     \n",
      "\n",
      "STOP: TOTAL NO. of ITERATIONS REACHED LIMIT                 \n",
      "R-squared -10.938095232749845\n"
     ]
    }
   ],
   "source": [
    "model = sm.tsa.statespace.SARIMAX(train.incremental_cases, order=(3, 1, 1), seasonal_order=(1,1,0,30)).fit()\n",
    "pred = pd.concat([pd.Series([379]), model.forecast(steps=40)]).cumsum()[1:]\n",
    "r2 = r2_score(test.incremental_cases, pred)\n",
    "print(\"R-squared\", r2) "
   ]
  },
  {
   "cell_type": "code",
   "execution_count": 77,
   "id": "5f493fb1",
   "metadata": {},
   "outputs": [
    {
     "data": {
      "image/png": "[encoded data removed]",
      "text/plain": [
       "<Figure size 432x288 with 1 Axes>"
      ]
     },
     "metadata": {
      "needs_background": "light"
     },
     "output_type": "display_data"
    }
   ],
   "source": [
    "test['date'] = pd.to_datetime(test['date'], format=\"%Y-%m-%d\")\n",
    "\n",
    "prediction = pd.DataFrame({'actual':test.incremental_cases.reset_index(drop = True), \n",
    "              'pred':pred.reset_index(drop = True)})\n",
    "prediction['date'] = test['date'].reset_index(drop = True)\n",
    "ax = prediction.plot(x = 'date', y = ['actual', 'pred'])\n",
    "\n",
    "# Set the labels for the x and y axes\n",
    "ax.set_xlabel('Date')\n",
    "ax.set_ylabel('Incremental Cases')\n",
    "\n",
    "# Optionally, you can also set the title of the plot\n",
    "ax.set_title('Actual vs Predicted Incremental Cases')\n",
    "\n",
    "# Show the plot\n",
    "plt.show()"
   ]
  },
  {
   "cell_type": "code",
   "execution_count": 23,
   "id": "66ec9dc2",
   "metadata": {},
   "outputs": [
    {
     "name": "stdout",
     "output_type": "stream",
     "text": [
      "Best SARIMA parameters: ((3, 1, 1), (2, 1, 2, 30)) with MSE: 2365086.718210355\n"
     ]
    }
   ],
   "source": [
    "train = train.loc[:, ['incremental_cases']].reset_index().drop(columns='index')\n",
    "n_splits = 3\n",
    "\n",
    "tscv = TimeSeriesSplit(n_splits=n_splits)\n",
    "\n",
    "# Non-seasonal ARIMA parameters\n",
    "p_values = [2, 3]\n",
    "d_values = [1]\n",
    "q_values = [1, 2, 3]\n",
    "\n",
    "# Seasonal parameters\n",
    "P_values = [0, 1, 2, 3]  \n",
    "D_values = [1]  \n",
    "Q_values = [2, 3]  \n",
    "m_values = [30]    \n",
    "\n",
    "best_score, best_cfg = float(\"inf\"), None\n",
    "\n",
    "# Iterate through all combinations of parameters\n",
    "for p in p_values:\n",
    "    for d in d_values:\n",
    "        for q in q_values:\n",
    "            for P in P_values:\n",
    "                for D in D_values:\n",
    "                    for Q in Q_values:\n",
    "                        for m in m_values:\n",
    "                            mse_scores = []  # List to store the MSE of each cross-validation fold\n",
    "                            \n",
    "                            # Cross-validation as the inner loop\n",
    "                            for train_index, val_index in tscv.split(train):\n",
    "                                try:\n",
    "                                    train_data, val_data = train.loc[train_index], train.loc[val_index]\n",
    "                                    model = SARIMAX(train_data.incremental_cases,\n",
    "                                                    order=(p, d, q),\n",
    "                                                    seasonal_order=(P, D, Q, m),\n",
    "                                                    enforce_stationarity=False,\n",
    "                                                    enforce_invertibility=False)\n",
    "                                    model_fit = model.fit(disp=0)\n",
    "                                    forecast = model_fit.forecast(steps=len(val_data))\n",
    "                                    mse = mean_squared_error(val_data.incremental_cases, forecast)\n",
    "                                    mse_scores.append(mse)\n",
    "                                except:\n",
    "                                    mse_scores.append(float(\"inf\"))  \n",
    "                            \n",
    "                            average_mse = np.mean(mse_scores)  # Average MSE over all folds\n",
    "                            if average_mse < best_score:\n",
    "                                best_score, best_cfg = average_mse, ((p, d, q), (P, D, Q, m))\n",
    "\n",
    "print(f'Best SARIMA parameters: {best_cfg} with MSE: {best_score}')"
   ]
  },
  {
   "cell_type": "code",
   "execution_count": null,
   "id": "38e0f2c3",
   "metadata": {},
   "outputs": [
    {
     "name": "stderr",
     "output_type": "stream",
     "text": [
      " This problem is unconstrained.\n"
     ]
    },
    {
     "name": "stdout",
     "output_type": "stream",
     "text": [
      "RUNNING THE L-BFGS-B CODE\n",
      "\n",
      "           * * *\n",
      "\n",
      "Machine precision = 2.220D-16\n",
      " N =            9     M =           10\n",
      "\n",
      "At X0         0 variables are exactly at the bounds\n",
      "\n",
      "At iterate    0    f=  7.56924D+00    |proj g|=  8.35743D-02\n"
     ]
    }
   ],
   "source": [
    "model = sm.tsa.statespace.SARIMAX(train.incremental_cases, order=(3, 1, 1), seasonal_order=(2,1,2,30)).fit()\n",
    "pred = pd.concat([pd.Series([379]), model.forecast(steps=40)]).cumsum()[1:]\n",
    "r2 = r2_score(test.incremental_cases, pred)\n",
    "print(\"R-squared\", r2) "
   ]
  },
  {
   "cell_type": "code",
   "execution_count": null,
   "id": "37032f65",
   "metadata": {},
   "outputs": [],
   "source": [
    "test['date'] = pd.to_datetime(test['date'], format=\"%Y-%m-%d\")\n",
    "\n",
    "prediction = pd.DataFrame({'actual':test.incremental_cases.reset_index(drop = True), \n",
    "              'pred':pred.reset_index(drop = True)})\n",
    "prediction['date'] = test['date'].reset_index(drop = True)\n",
    "ax = prediction.plot(x = 'date', y = ['actual', 'pred'])\n",
    "\n",
    "# Set the labels for the x and y axes\n",
    "ax.set_xlabel('Date')\n",
    "ax.set_ylabel('Incremental Cases')\n",
    "\n",
    "# Optionally, you can also set the title of the plot\n",
    "ax.set_title('Actual vs Predicted Incremental Cases')\n",
    "\n",
    "# Show the plot\n",
    "plt.show()"
   ]
  },
  {
   "cell_type": "code",
   "execution_count": null,
   "id": "46abd221",
   "metadata": {},
   "outputs": [],
   "source": []
  },
  {
   "cell_type": "code",
   "execution_count": null,
   "id": "81fc2131",
   "metadata": {},
   "outputs": [],
   "source": []
  },
  {
   "cell_type": "code",
   "execution_count": null,
   "id": "69b44bf9",
   "metadata": {},
   "outputs": [],
   "source": []
  },
  {
   "cell_type": "code",
   "execution_count": null,
   "id": "c338513e",
   "metadata": {},
   "outputs": [],
   "source": []
  },
  {
   "cell_type": "code",
   "execution_count": null,
   "id": "e2ba759f",
   "metadata": {},
   "outputs": [],
   "source": [
    "philly = data[data['county'] == 'Philadelphia'].loc[:, ['date', 'incremental_cases']]\n",
    "philly['incremental_cases'] = philly['incremental_cases'].astype('int')\n",
    "philly['date'] = pd.to_datetime(philly['date'], format=\"%Y-%m-%d\")\n",
    "\n",
    "# use 85%-15% for train-test split\n",
    "train = philly.iloc[:230, :]\n",
    "test = philly.iloc[230:, :]\n",
    "\n",
    "def stationary_test(series):\n",
    "    result = adfuller(series)\n",
    "    return (result[0], result[1])\n"
   ]
  },
  {
   "cell_type": "code",
   "execution_count": null,
   "id": "f2cb209d",
   "metadata": {},
   "outputs": [],
   "source": [
    "# Philly is non-stationary\n",
    "print(\"Stationary or not?:\", stationary_test(train.incremental_cases))\n",
    "\n",
    "# get this value for reversion purposes\n",
    "print(train.loc[train['date'] == '2020-10-25', 'incremental_cases'])\n",
    "\n",
    "# first-level differencing\n",
    "train['incremental_cases'] = train['incremental_cases'].diff(\n",
    ").fillna(train['incremental_cases']).astype('int')\n",
    "\n",
    "# Philly is stationary after first-level differencing\n",
    "print(\"Stationary after first level diff?:\", stationary_test(train.incremental_cases))"
   ]
  },
  {
   "cell_type": "code",
   "execution_count": null,
   "id": "60a105cd",
   "metadata": {},
   "outputs": [],
   "source": [
    "# use non-differenced cases for test actuals\n",
    "testing = data[data['county'] == 'Philadelphia'].loc[:, ['date', 'incremental_cases']]\n",
    "test = testing.iloc[230:, :]\n",
    "\n",
    "# Plotting actual test data\n",
    "sns.lineplot(x=\"date\", y=\"incremental_cases\",legend = 'full' , data=testing)"
   ]
  },
  {
   "cell_type": "code",
   "execution_count": 27,
   "id": "8260c1b6",
   "metadata": {},
   "outputs": [
    {
     "name": "stdout",
     "output_type": "stream",
     "text": [
      "Best SARIMA parameters: ((2, 1, 3), (1, 1, 1, 30)) with MSE: 53272.020348650905\n"
     ]
    }
   ],
   "source": [
    "train = train.loc[:, ['incremental_cases']].reset_index().drop(columns='index')\n",
    "n_splits = 3\n",
    "\n",
    "tscv = TimeSeriesSplit(n_splits=n_splits)\n",
    "\n",
    "p_values = [0, 1, 2, 3]\n",
    "d_values = [1]\n",
    "q_values = [0, 1, 2, 3]\n",
    "P_values = [0, 1, 2, 3]\n",
    "D_values = [1]\n",
    "Q_values = [0, 1, 2, 3]\n",
    "m_values = [30]  \n",
    "\n",
    "# Generate all possible combinations of parameters\n",
    "all_combinations = [(p, d, q, P, D, Q, m) for p in p_values for d in d_values for q in q_values\n",
    "                    for P in P_values for D in D_values for Q in Q_values for m in m_values]\n",
    "\n",
    "# Randomize\n",
    "random.shuffle(all_combinations)\n",
    "\n",
    "# Limit the number of iterations\n",
    "max_iterations = 20  \n",
    "limited_combinations = all_combinations[:max_iterations]\n",
    "\n",
    "best_score, best_cfg = float(\"inf\"), None\n",
    "\n",
    "# Iterate through the randomized/limited combinations of parameters\n",
    "for (p, d, q, P, D, Q, m) in limited_combinations:\n",
    "    mse_scores = []\n",
    "\n",
    "    for train_index, val_index in tscv.split(train):\n",
    "        try:\n",
    "            train_data, val_data = train.loc[train_index], train.loc[val_index]\n",
    "            model = SARIMAX(train_data.incremental_cases,\n",
    "                            order=(p, d, q),\n",
    "                            seasonal_order=(P, D, Q, m),\n",
    "                            enforce_stationarity=False,\n",
    "                            enforce_invertibility=False)\n",
    "            model_fit = model.fit(disp=0)\n",
    "            forecast = model_fit.forecast(steps=len(val_data))\n",
    "            mse = mean_squared_error(val_data.incremental_cases, forecast)\n",
    "            mse_scores.append(mse)\n",
    "        except:\n",
    "            mse_scores.append(float(\"inf\"))  # In case the model fitting fails\n",
    "\n",
    "    average_mse = np.mean(mse_scores)\n",
    "    if average_mse < best_score:\n",
    "        best_score, best_cfg = average_mse, ((p, d, q), (P, D, Q, m))\n",
    "\n",
    "print(f'Best SARIMA parameters: {best_cfg} with MSE: {best_score}')"
   ]
  },
  {
   "cell_type": "code",
   "execution_count": null,
   "id": "9bd9cbaa",
   "metadata": {},
   "outputs": [],
   "source": [
    "model = sm.tsa.statespace.SARIMAX(train.incremental_cases, order=(2, 1, 3), seasonal_order=(1,1,1,30)).fit()\n",
    "pred = pd.concat([pd.Series([0]), model.forecast(steps=40)]).cumsum()[1:]\n",
    "r2 = r2_score(test.incremental_cases, pred)\n",
    "print(\"R-squared\", r2) "
   ]
  },
  {
   "cell_type": "code",
   "execution_count": null,
   "id": "762b7c53",
   "metadata": {},
   "outputs": [],
   "source": [
    "prediction = pd.DataFrame({'actual':test.incremental_cases.reset_index(drop = True), \n",
    "              'pred':pred.reset_index(drop = True)})\n",
    "prediction['date'] = test['date'].reset_index(drop = True)\n",
    "prediction.plot(x = 'date', y = ['actual', 'pred'])"
   ]
  },
  {
   "cell_type": "code",
   "execution_count": 28,
   "id": "fa6b3dc2",
   "metadata": {},
   "outputs": [
    {
     "name": "stdout",
     "output_type": "stream",
     "text": [
      "Best SARIMA parameters: ((3, 1, 3), (1, 1, 2, 30)) with MSE: 52878.35323810712\n"
     ]
    }
   ],
   "source": [
    "train = train.loc[:, ['incremental_cases']].reset_index().drop(columns='index')\n",
    "n_splits = 3\n",
    "\n",
    "tscv = TimeSeriesSplit(n_splits=n_splits)\n",
    "\n",
    "# Non-seasonal ARIMA parameters\n",
    "p_values = [2, 3]\n",
    "d_values = [1]\n",
    "q_values = [1, 2, 3]\n",
    "\n",
    "# Seasonal parameters\n",
    "P_values = [0, 1, 2, 3]  \n",
    "D_values = [1]  \n",
    "Q_values = [2, 3]  \n",
    "m_values = [30]    \n",
    "\n",
    "best_score, best_cfg = float(\"inf\"), None\n",
    "\n",
    "# Iterate through all combinations of parameters\n",
    "for p in p_values:\n",
    "    for d in d_values:\n",
    "        for q in q_values:\n",
    "            for P in P_values:\n",
    "                for D in D_values:\n",
    "                    for Q in Q_values:\n",
    "                        for m in m_values:\n",
    "                            mse_scores = []  # List to store the MSE of each cross-validation fold\n",
    "                            \n",
    "                            # Cross-validation as the inner loop\n",
    "                            for train_index, val_index in tscv.split(train):\n",
    "                                try:\n",
    "                                    train_data, val_data = train.loc[train_index], train.loc[val_index]\n",
    "                                    model = SARIMAX(train_data.incremental_cases,\n",
    "                                                    order=(p, d, q),\n",
    "                                                    seasonal_order=(P, D, Q, m),\n",
    "                                                    enforce_stationarity=False,\n",
    "                                                    enforce_invertibility=False)\n",
    "                                    model_fit = model.fit(disp=0)\n",
    "                                    forecast = model_fit.forecast(steps=len(val_data))\n",
    "                                    mse = mean_squared_error(val_data.incremental_cases, forecast)\n",
    "                                    mse_scores.append(mse)\n",
    "                                except:\n",
    "                                    mse_scores.append(float(\"inf\"))  \n",
    "                            \n",
    "                            average_mse = np.mean(mse_scores)  # Average MSE over all folds\n",
    "                            if average_mse < best_score:\n",
    "                                best_score, best_cfg = average_mse, ((p, d, q), (P, D, Q, m))\n",
    "\n",
    "print(f'Best SARIMA parameters: {best_cfg} with MSE: {best_score}')"
   ]
  },
  {
   "cell_type": "code",
   "execution_count": null,
   "id": "cf9cae01",
   "metadata": {},
   "outputs": [],
   "source": [
    "model = sm.tsa.statespace.SARIMAX(train.incremental_cases, order=(3, 1, 3), seasonal_order=(1,1,2,30)).fit()\n",
    "pred = pd.concat([pd.Series([0]), model.forecast(steps=40)]).cumsum()[1:]\n",
    "r2 = r2_score(test.incremental_cases, pred)\n",
    "print(\"R-squared\", r2) "
   ]
  },
  {
   "cell_type": "code",
   "execution_count": null,
   "id": "e97fa36f",
   "metadata": {},
   "outputs": [],
   "source": [
    "test['date'] = pd.to_datetime(test['date'], format=\"%Y-%m-%d\")\n",
    "\n",
    "prediction = pd.DataFrame({'actual':test.incremental_cases.reset_index(drop = True), \n",
    "              'pred':pred.reset_index(drop = True)})\n",
    "prediction['date'] = test['date'].reset_index(drop = True)\n",
    "ax = prediction.plot(x = 'date', y = ['actual', 'pred'])\n",
    "\n",
    "# Set the labels for the x and y axes\n",
    "ax.set_xlabel('Date')\n",
    "ax.set_ylabel('Incremental Cases')\n",
    "\n",
    "# Optionally, you can also set the title of the plot\n",
    "ax.set_title('Actual vs Predicted Incremental Cases')\n",
    "\n",
    "# Show the plot\n",
    "plt.show()"
   ]
  },
  {
   "cell_type": "code",
   "execution_count": null,
   "id": "2db29bef",
   "metadata": {},
   "outputs": [],
   "source": []
  },
  {
   "cell_type": "code",
   "execution_count": null,
   "id": "0d96a3e4",
   "metadata": {},
   "outputs": [],
   "source": []
  },
  {
   "cell_type": "code",
   "execution_count": null,
   "id": "d21faf27",
   "metadata": {},
   "outputs": [],
   "source": []
  },
  {
   "cell_type": "code",
   "execution_count": null,
   "id": "32a709f3",
   "metadata": {},
   "outputs": [],
   "source": []
  },
  {
   "cell_type": "code",
   "execution_count": null,
   "id": "327f479e",
   "metadata": {},
   "outputs": [],
   "source": []
  },
  {
   "cell_type": "code",
   "execution_count": null,
   "id": "ac60c984",
   "metadata": {},
   "outputs": [],
   "source": []
  },
  {
   "cell_type": "code",
   "execution_count": null,
   "id": "f5b0e292",
   "metadata": {},
   "outputs": [],
   "source": []
  },
  {
   "cell_type": "code",
   "execution_count": null,
   "id": "25dcbe65",
   "metadata": {},
   "outputs": [],
   "source": []
  },
  {
   "cell_type": "code",
   "execution_count": null,
   "id": "aba87cd7",
   "metadata": {},
   "outputs": [],
   "source": []
  },
  {
   "cell_type": "code",
   "execution_count": null,
   "id": "9ea389a0",
   "metadata": {},
   "outputs": [],
   "source": []
  },
  {
   "cell_type": "code",
   "execution_count": null,
   "id": "d1181b76",
   "metadata": {},
   "outputs": [],
   "source": []
  },
  {
   "cell_type": "code",
   "execution_count": null,
   "id": "1009a9ad",
   "metadata": {},
   "outputs": [],
   "source": []
  },
  {
   "cell_type": "code",
   "execution_count": null,
   "id": "70033b5f",
   "metadata": {},
   "outputs": [],
   "source": []
  },
  {
   "cell_type": "code",
   "execution_count": null,
   "id": "64cea1da",
   "metadata": {},
   "outputs": [],
   "source": []
  },
  {
   "cell_type": "code",
   "execution_count": null,
   "id": "573e767d",
   "metadata": {},
   "outputs": [],
   "source": []
  },
  {
   "cell_type": "code",
   "execution_count": null,
   "id": "b86b58b5",
   "metadata": {},
   "outputs": [],
   "source": []
  }
 ],
 "metadata": {
  "kernelspec": {
   "display_name": "Python 3 (ipykernel)",
   "language": "python",
   "name": "python3"
  },
  "language_info": {
   "codemirror_mode": {
    "name": "ipython",
    "version": 3
   },
   "file_extension": ".py",
   "mimetype": "text/x-python",
   "name": "python",
   "nbconvert_exporter": "python",
   "pygments_lexer": "ipython3",
   "version": "3.9.12"
  }
 },
 "nbformat": 4,
 "nbformat_minor": 5
}
