{
 "cells": [
  {
   "cell_type": "code",
   "execution_count": 1,
   "id": "dececa99",
   "metadata": {},
   "outputs": [],
   "source": [
    "import warnings\n",
    "import pandas as pd\n",
    "from matplotlib import pyplot\n",
    "import matplotlib.pyplot as plt\n",
    "import seaborn as sns\n",
    "from statsmodels.tsa.stattools import adfuller\n",
    "from statsmodels.tsa.arima.model import ARIMA\n",
    "from sklearn.metrics import r2_score, mean_squared_error\n",
    "warnings.filterwarnings('ignore')"
   ]
  },
  {
   "cell_type": "code",
   "execution_count": 2,
   "id": "4b6cdc2d",
   "metadata": {},
   "outputs": [],
   "source": [
    "data = pd.read_csv('finalized_county.csv')"
   ]
  },
  {
   "cell_type": "code",
   "execution_count": 3,
   "id": "48a5208e",
   "metadata": {},
   "outputs": [
    {
     "data": {
      "text/html": [
       "<div>\n",
       "<style scoped>\n",
       "    .dataframe tbody tr th:only-of-type {\n",
       "        vertical-align: middle;\n",
       "    }\n",
       "\n",
       "    .dataframe tbody tr th {\n",
       "        vertical-align: top;\n",
       "    }\n",
       "\n",
       "    .dataframe thead th {\n",
       "        text-align: right;\n",
       "    }\n",
       "</style>\n",
       "<table border=\"1\" class=\"dataframe\">\n",
       "  <thead>\n",
       "    <tr style=\"text-align: right;\">\n",
       "      <th></th>\n",
       "      <th>Unnamed: 0</th>\n",
       "      <th>date</th>\n",
       "      <th>county</th>\n",
       "      <th>state</th>\n",
       "      <th>cases</th>\n",
       "      <th>deaths</th>\n",
       "      <th>stay_at_home_announced</th>\n",
       "      <th>stay_at_home_effective</th>\n",
       "      <th>lat</th>\n",
       "      <th>lon</th>\n",
       "      <th>...</th>\n",
       "      <th>min_temp_10d_avg</th>\n",
       "      <th>min_temp_15d_avg</th>\n",
       "      <th>dewpoint_3d_avg</th>\n",
       "      <th>dewpoint_5d_avg</th>\n",
       "      <th>dewpoint_10d_avg</th>\n",
       "      <th>dewpoint_15d_avg</th>\n",
       "      <th>date_stay_at_home_announced</th>\n",
       "      <th>date_stay_at_home_effective</th>\n",
       "      <th>entity</th>\n",
       "      <th>incremental_cases</th>\n",
       "    </tr>\n",
       "  </thead>\n",
       "  <tbody>\n",
       "    <tr>\n",
       "      <th>0</th>\n",
       "      <td>190</td>\n",
       "      <td>2020-03-10</td>\n",
       "      <td>Los Angeles</td>\n",
       "      <td>California</td>\n",
       "      <td>20</td>\n",
       "      <td>0.0</td>\n",
       "      <td>no</td>\n",
       "      <td>no</td>\n",
       "      <td>34.358922</td>\n",
       "      <td>-118.217049</td>\n",
       "      <td>...</td>\n",
       "      <td>52.70</td>\n",
       "      <td>52.52</td>\n",
       "      <td>47.000000</td>\n",
       "      <td>46.10</td>\n",
       "      <td>46.60</td>\n",
       "      <td>43.573333</td>\n",
       "      <td>2020-03-19</td>\n",
       "      <td>2020-03-19</td>\n",
       "      <td>California-Los Angeles</td>\n",
       "      <td>1.0</td>\n",
       "    </tr>\n",
       "    <tr>\n",
       "      <th>1</th>\n",
       "      <td>201</td>\n",
       "      <td>2020-03-11</td>\n",
       "      <td>Los Angeles</td>\n",
       "      <td>California</td>\n",
       "      <td>28</td>\n",
       "      <td>1.0</td>\n",
       "      <td>no</td>\n",
       "      <td>no</td>\n",
       "      <td>34.358922</td>\n",
       "      <td>-118.217049</td>\n",
       "      <td>...</td>\n",
       "      <td>51.80</td>\n",
       "      <td>51.56</td>\n",
       "      <td>51.566667</td>\n",
       "      <td>48.14</td>\n",
       "      <td>46.69</td>\n",
       "      <td>44.326667</td>\n",
       "      <td>2020-03-19</td>\n",
       "      <td>2020-03-19</td>\n",
       "      <td>California-Los Angeles</td>\n",
       "      <td>8.0</td>\n",
       "    </tr>\n",
       "    <tr>\n",
       "      <th>2</th>\n",
       "      <td>213</td>\n",
       "      <td>2020-03-12</td>\n",
       "      <td>Los Angeles</td>\n",
       "      <td>California</td>\n",
       "      <td>32</td>\n",
       "      <td>1.0</td>\n",
       "      <td>no</td>\n",
       "      <td>no</td>\n",
       "      <td>34.358922</td>\n",
       "      <td>-118.217049</td>\n",
       "      <td>...</td>\n",
       "      <td>50.54</td>\n",
       "      <td>51.08</td>\n",
       "      <td>50.833333</td>\n",
       "      <td>51.54</td>\n",
       "      <td>46.19</td>\n",
       "      <td>44.380000</td>\n",
       "      <td>2020-03-19</td>\n",
       "      <td>2020-03-19</td>\n",
       "      <td>California-Los Angeles</td>\n",
       "      <td>4.0</td>\n",
       "    </tr>\n",
       "    <tr>\n",
       "      <th>3</th>\n",
       "      <td>225</td>\n",
       "      <td>2020-03-13</td>\n",
       "      <td>Los Angeles</td>\n",
       "      <td>California</td>\n",
       "      <td>40</td>\n",
       "      <td>1.0</td>\n",
       "      <td>no</td>\n",
       "      <td>no</td>\n",
       "      <td>34.358922</td>\n",
       "      <td>-118.217049</td>\n",
       "      <td>...</td>\n",
       "      <td>50.18</td>\n",
       "      <td>50.60</td>\n",
       "      <td>50.800000</td>\n",
       "      <td>49.76</td>\n",
       "      <td>45.43</td>\n",
       "      <td>44.306667</td>\n",
       "      <td>2020-03-19</td>\n",
       "      <td>2020-03-19</td>\n",
       "      <td>California-Los Angeles</td>\n",
       "      <td>8.0</td>\n",
       "    </tr>\n",
       "    <tr>\n",
       "      <th>4</th>\n",
       "      <td>237</td>\n",
       "      <td>2020-03-14</td>\n",
       "      <td>Los Angeles</td>\n",
       "      <td>California</td>\n",
       "      <td>53</td>\n",
       "      <td>1.0</td>\n",
       "      <td>no</td>\n",
       "      <td>no</td>\n",
       "      <td>34.358922</td>\n",
       "      <td>-118.217049</td>\n",
       "      <td>...</td>\n",
       "      <td>50.18</td>\n",
       "      <td>50.00</td>\n",
       "      <td>48.866667</td>\n",
       "      <td>48.06</td>\n",
       "      <td>45.90</td>\n",
       "      <td>44.380000</td>\n",
       "      <td>2020-03-19</td>\n",
       "      <td>2020-03-19</td>\n",
       "      <td>California-Los Angeles</td>\n",
       "      <td>13.0</td>\n",
       "    </tr>\n",
       "  </tbody>\n",
       "</table>\n",
       "<p>5 rows × 228 columns</p>\n",
       "</div>"
      ],
      "text/plain": [
       "   Unnamed: 0        date       county       state  cases  deaths  \\\n",
       "0         190  2020-03-10  Los Angeles  California     20     0.0   \n",
       "1         201  2020-03-11  Los Angeles  California     28     1.0   \n",
       "2         213  2020-03-12  Los Angeles  California     32     1.0   \n",
       "3         225  2020-03-13  Los Angeles  California     40     1.0   \n",
       "4         237  2020-03-14  Los Angeles  California     53     1.0   \n",
       "\n",
       "  stay_at_home_announced stay_at_home_effective        lat         lon  ...  \\\n",
       "0                     no                     no  34.358922 -118.217049  ...   \n",
       "1                     no                     no  34.358922 -118.217049  ...   \n",
       "2                     no                     no  34.358922 -118.217049  ...   \n",
       "3                     no                     no  34.358922 -118.217049  ...   \n",
       "4                     no                     no  34.358922 -118.217049  ...   \n",
       "\n",
       "   min_temp_10d_avg  min_temp_15d_avg  dewpoint_3d_avg  dewpoint_5d_avg  \\\n",
       "0             52.70             52.52        47.000000            46.10   \n",
       "1             51.80             51.56        51.566667            48.14   \n",
       "2             50.54             51.08        50.833333            51.54   \n",
       "3             50.18             50.60        50.800000            49.76   \n",
       "4             50.18             50.00        48.866667            48.06   \n",
       "\n",
       "   dewpoint_10d_avg  dewpoint_15d_avg  date_stay_at_home_announced  \\\n",
       "0             46.60         43.573333                   2020-03-19   \n",
       "1             46.69         44.326667                   2020-03-19   \n",
       "2             46.19         44.380000                   2020-03-19   \n",
       "3             45.43         44.306667                   2020-03-19   \n",
       "4             45.90         44.380000                   2020-03-19   \n",
       "\n",
       "   date_stay_at_home_effective                  entity  incremental_cases  \n",
       "0                   2020-03-19  California-Los Angeles                1.0  \n",
       "1                   2020-03-19  California-Los Angeles                8.0  \n",
       "2                   2020-03-19  California-Los Angeles                4.0  \n",
       "3                   2020-03-19  California-Los Angeles                8.0  \n",
       "4                   2020-03-19  California-Los Angeles               13.0  \n",
       "\n",
       "[5 rows x 228 columns]"
      ]
     },
     "execution_count": 3,
     "metadata": {},
     "output_type": "execute_result"
    }
   ],
   "source": [
    "data.head()"
   ]
  },
  {
   "cell_type": "code",
   "execution_count": 4,
   "id": "9695c7d5",
   "metadata": {},
   "outputs": [
    {
     "data": {
      "text/plain": [
       "array(['California-Los Angeles', 'California-Orange',\n",
       "       'California-San Diego', 'Florida-Miami-Dade', 'Illinois-Cook',\n",
       "       'Nevada-Clark', 'New York-Nassau', 'New York-New York City',\n",
       "       'New York-Suffolk', 'Pennsylvania-Philadelphia', 'Texas-Harris',\n",
       "       'Texas-Tarrant'], dtype=object)"
      ]
     },
     "execution_count": 4,
     "metadata": {},
     "output_type": "execute_result"
    }
   ],
   "source": [
    "data['entity'].unique()"
   ]
  },
  {
   "cell_type": "code",
   "execution_count": 5,
   "id": "e928bdf3",
   "metadata": {},
   "outputs": [],
   "source": [
    "tarrant = data[data['entity'] == 'Texas-Tarrant'].loc[:, ['date', 'incremental_cases']]"
   ]
  },
  {
   "cell_type": "code",
   "execution_count": 6,
   "id": "1e117bb8",
   "metadata": {},
   "outputs": [
    {
     "data": {
      "text/plain": [
       "(0.797730554034858, 0.991599446459923)"
      ]
     },
     "execution_count": 6,
     "metadata": {},
     "output_type": "execute_result"
    }
   ],
   "source": [
    "def stationary_test(series):\n",
    "    result = adfuller(series)\n",
    "    return (result[0], result[1])\n",
    "\n",
    "# Tarrant data is non-stationary without any differencing\n",
    "stationary_test(tarrant.incremental_cases)\n",
    "\n",
    "# test statistic (hypothesis that non-stationarity cannot be rejected)\n",
    "# p-value is greater than 0.05 "
   ]
  },
  {
   "cell_type": "code",
   "execution_count": 7,
   "id": "9ac8e095",
   "metadata": {},
   "outputs": [
    {
     "data": {
      "text/plain": [
       "(-4.202227487486791, 0.0006532028881806257)"
      ]
     },
     "execution_count": 7,
     "metadata": {},
     "output_type": "execute_result"
    }
   ],
   "source": [
    "# first-level differencing\n",
    "tarrant['incremental_cases'] = tarrant['incremental_cases'].diff().fillna(tarrant['incremental_cases']).astype('int')\n",
    "\n",
    "# tarrant is stationary after first-level differencing\n",
    "stationary_test(tarrant.incremental_cases)\n",
    "\n",
    "# test statistic (hypothesis that non-stationarity cannot be rejected)\n",
    "# p-value is greater than 0.05 "
   ]
  },
  {
   "cell_type": "code",
   "execution_count": 9,
   "id": "ac657202",
   "metadata": {},
   "outputs": [
    {
     "data": {
      "text/plain": [
       "<AxesSubplot:xlabel='date', ylabel='incremental_cases'>"
      ]
     },
     "execution_count": 9,
     "metadata": {},
     "output_type": "execute_result"
    },
    {
     "data": {
      "image/png": "[encoded data removed]",
      "text/plain": [
       "<Figure size 432x288 with 1 Axes>"
      ]
     },
     "metadata": {
      "needs_background": "light"
     },
     "output_type": "display_data"
    }
   ],
   "source": [
    "# use non-differenced cases for test actuals\n",
    "# using differenced cases for train\n",
    "train = tarrant.iloc[:230, :]\n",
    "testing = data[data['entity'] == 'Texas-Tarrant'].loc[:, ['date', 'incremental_cases']]\n",
    "test = testing.iloc[230:, :]\n",
    "\n",
    "sns.lineplot(x=\"date\", y=\"incremental_cases\",legend = 'full' , data=testing)"
   ]
  },
  {
   "cell_type": "code",
   "execution_count": 10,
   "id": "44c54bff",
   "metadata": {},
   "outputs": [
    {
     "name": "stdout",
     "output_type": "stream",
     "text": [
      "2569473.419238112 for parameters (0, 0, 0)\n",
      "1381069.6361003642 for parameters (0, 0, 1)\n",
      "14174678.407674938 for parameters (0, 0, 2)\n",
      "832540.9870014527 for parameters (0, 0, 5)\n",
      "1908402.5904258154 for parameters (0, 0, 10)\n",
      "2801741024.85 for parameters (0, 1, 0)\n",
      "2560540.476180624 for parameters (0, 1, 1)\n",
      "1259742.8331533037 for parameters (0, 1, 2)\n",
      "797566.9988461343 for parameters (0, 1, 5)\n",
      "1263153.1931345072 for parameters (0, 1, 10)\n",
      "106969943699.84996 for parameters (0, 2, 0)\n",
      "3096174592.780471 for parameters (0, 2, 1)\n",
      "5568262.043074178 for parameters (0, 2, 2)\n",
      "11110265.07121401 for parameters (0, 2, 5)\n",
      "37694442.61141221 for parameters (0, 2, 10)\n",
      "2.5868946071213e+18 for parameters (0, 5, 0)\n",
      "1.6572093375015184e+16 for parameters (0, 5, 1)\n",
      "38090830306424.64 for parameters (0, 5, 2)\n",
      "3921193351953.343 for parameters (0, 5, 5)\n",
      "250072405481.1259 for parameters (0, 5, 10)\n",
      "1380485.4629258858 for parameters (1, 0, 0)\n",
      "3316658.6320265024 for parameters (1, 0, 1)\n",
      "2700685.514175326 for parameters (1, 0, 2)\n",
      "973885.4557211373 for parameters (1, 0, 5)\n",
      "1964097.8911485765 for parameters (1, 0, 10)\n",
      "2123457946.7808547 for parameters (1, 1, 0)\n",
      "1339559.223218605 for parameters (1, 1, 1)\n",
      "2272959.232047419 for parameters (1, 1, 2)\n",
      "20323951.178500425 for parameters (1, 1, 5)\n",
      "1152443.298610681 for parameters (1, 1, 10)\n",
      "296829522946.3672 for parameters (1, 2, 0)\n",
      "2347438723.428894 for parameters (1, 2, 1)\n",
      "2826365.5938337417 for parameters (1, 2, 2)\n",
      "11495456.47630347 for parameters (1, 2, 5)\n",
      "1927855.7674152437 for parameters (1, 2, 10)\n",
      "2.551216281438486e+17 for parameters (1, 5, 0)\n",
      "1098813836439456.0 for parameters (1, 5, 1)\n",
      "910627512557.5579 for parameters (1, 5, 2)\n",
      "5760775975.301303 for parameters (1, 5, 5)\n",
      "22831279024.371918 for parameters (1, 5, 10)\n",
      "767763.1914530443 for parameters (5, 0, 0)\n",
      "1561682.075911018 for parameters (5, 0, 1)\n",
      "1211677.4700988124 for parameters (5, 0, 2)\n",
      "1116707.8625399382 for parameters (5, 0, 5)\n",
      "1036599.1418850276 for parameters (5, 0, 10)\n",
      "62266407.36778662 for parameters (5, 1, 0)\n",
      "657417.3763955422 for parameters (5, 1, 1)\n",
      "1004144.0007280394 for parameters (5, 1, 2)\n",
      "834115.295948307 for parameters (5, 1, 5)\n",
      "1315350.709037306 for parameters (5, 1, 10)\n",
      "58617752781.825424 for parameters (5, 2, 0)\n",
      "67016228.774993286 for parameters (5, 2, 1)\n",
      "527932.7194438062 for parameters (5, 2, 2)\n",
      "621259.2754885653 for parameters (5, 2, 5)\n",
      "4342410.737511547 for parameters (5, 2, 10)\n",
      "9657575966578234.0 for parameters (5, 5, 0)\n",
      "55282147972043.64 for parameters (5, 5, 1)\n",
      "11241658823333.574 for parameters (5, 5, 2)\n",
      "770764474061.156 for parameters (5, 5, 5)\n",
      "23930973166.130867 for parameters (5, 5, 10)\n",
      "1068511.6997821364 for parameters (8, 0, 0)\n",
      "1519382.654079777 for parameters (8, 0, 1)\n",
      "824814.862219229 for parameters (8, 0, 2)\n",
      "1752458.0218655549 for parameters (8, 0, 5)\n",
      "1315847.1247261674 for parameters (8, 0, 10)\n",
      "120450511.23897688 for parameters (8, 1, 0)\n",
      "1042166.55005558 for parameters (8, 1, 1)\n",
      "720371.2997728732 for parameters (8, 1, 2)\n",
      "15333060.052336156 for parameters (8, 1, 5)\n",
      "11549384.267153686 for parameters (8, 1, 10)\n",
      "112546044.83680835 for parameters (8, 2, 0)\n",
      "136839626.29940316 for parameters (8, 2, 1)\n",
      "140633071.95926696 for parameters (8, 2, 2)\n",
      "11782407.939151332 for parameters (8, 2, 5)\n",
      "597515.0433582927 for parameters (8, 2, 10)\n",
      "480700535329018.1 for parameters (8, 5, 0)\n",
      "111855135859039.05 for parameters (8, 5, 1)\n",
      "546556265739.38934 for parameters (8, 5, 2)\n",
      "15450308.768216724 for parameters (8, 5, 5)\n",
      "837969110.124399 for parameters (8, 5, 10)\n",
      "(5, 2, 2) 527932.7194438062\n"
     ]
    }
   ],
   "source": [
    "p_values = [1, 5, 10]\n",
    "d_values = [1, 2, 4, 6]\n",
    "q_values = [1, 5, 10, 15]\n",
    "vals = []\n",
    "prev = 100000000000000000000000000\n",
    "for p in p_values:\n",
    "    for d in d_values:\n",
    "        for q in q_values:\n",
    "            param = (p, d, q)\n",
    "            model = ARIMA(train.incremental_cases, order=param).fit()\n",
    "            pred = model.forecast(steps=40)\n",
    "            mse = mean_squared_error(test.incremental_cases, pred)\n",
    "            if mse < prev:\n",
    "                prev = mse\n",
    "                best = param\n",
    "            print(mse, 'for parameters', param)\n",
    "print(best, prev)"
   ]
  },
  {
   "cell_type": "code",
   "execution_count": 19,
   "id": "6617ed66",
   "metadata": {},
   "outputs": [
    {
     "name": "stdout",
     "output_type": "stream",
     "text": [
      "1339559.223218605 for parameters (1, 1, 1)\n",
      "2272959.232047419 for parameters (1, 1, 2)\n",
      "2354763.3091720664 for parameters (1, 1, 3)\n",
      "16678880.162999174 for parameters (1, 1, 4)\n",
      "20323951.178500425 for parameters (1, 1, 5)\n",
      "2347438723.428894 for parameters (1, 2, 1)\n",
      "2826365.5938337417 for parameters (1, 2, 2)\n",
      "9084340.135920348 for parameters (1, 2, 3)\n",
      "27790160.08100053 for parameters (1, 2, 4)\n",
      "11495456.47630347 for parameters (1, 2, 5)\n",
      "320154950510.2367 for parameters (1, 3, 1)\n",
      "2819966018.057811 for parameters (1, 3, 2)\n",
      "10646872471.867283 for parameters (1, 3, 3)\n",
      "59763917.51633513 for parameters (1, 3, 4)\n",
      "20048009.795742385 for parameters (1, 3, 5)\n",
      "502227558691.62616 for parameters (1, 4, 1)\n",
      "398997680546.2494 for parameters (1, 4, 2)\n",
      "13888823891.341742 for parameters (1, 4, 3)\n",
      "6387196408.495573 for parameters (1, 4, 4)\n",
      "43154046.445269965 for parameters (1, 4, 5)\n",
      "1098813836439456.0 for parameters (1, 5, 1)\n",
      "910627512557.5579 for parameters (1, 5, 2)\n",
      "487929748932.953 for parameters (1, 5, 3)\n",
      "2.731780913918599e+22 for parameters (1, 5, 4)\n",
      "5760775975.301303 for parameters (1, 5, 5)\n",
      "774623.2454817205 for parameters (2, 1, 1)\n",
      "20134082.949643027 for parameters (2, 1, 2)\n",
      "2271569.2044354924 for parameters (2, 1, 3)\n",
      "20401619.284957796 for parameters (2, 1, 4)\n",
      "19977915.23145993 for parameters (2, 1, 5)\n",
      "556299236.7990708 for parameters (2, 2, 1)\n",
      "1869458.521052373 for parameters (2, 2, 2)\n",
      "47462470.05056492 for parameters (2, 2, 3)\n",
      "30342763.896416605 for parameters (2, 2, 4)\n",
      "62879725.282612 for parameters (2, 2, 5)\n",
      "222033633270.8571 for parameters (2, 3, 1)\n",
      "772966955.4915805 for parameters (2, 3, 2)\n",
      "13974405.695647588 for parameters (2, 3, 3)\n",
      "1362750.6852631916 for parameters (2, 3, 4)\n",
      "62666620.28441831 for parameters (2, 3, 5)\n",
      "2358392942073.9507 for parameters (2, 4, 1)\n",
      "410544339618.59735 for parameters (2, 4, 2)\n",
      "1535674845.6005473 for parameters (2, 4, 3)\n",
      "5123527378.744215 for parameters (2, 4, 4)\n",
      "1.3549372840733419e+20 for parameters (2, 4, 5)\n",
      "155603834230970.5 for parameters (2, 5, 1)\n",
      "4042081284977.8647 for parameters (2, 5, 2)\n",
      "922649287237.35 for parameters (2, 5, 3)\n",
      "706956380966.1554 for parameters (2, 5, 4)\n",
      "1260275456725.2488 for parameters (2, 5, 5)\n",
      "1010376.7101487368 for parameters (3, 1, 1)\n",
      "773622.7668558912 for parameters (3, 1, 2)\n",
      "612967.3970448045 for parameters (3, 1, 3)\n",
      "2702330.3681001225 for parameters (3, 1, 4)\n",
      "22295798.86628884 for parameters (3, 1, 5)\n",
      "115336611.56394243 for parameters (3, 2, 1)\n",
      "3348102.8227341617 for parameters (3, 2, 2)\n",
      "546514.0411272226 for parameters (3, 2, 3)\n",
      "4095986.919073905 for parameters (3, 2, 4)\n",
      "21238097.757407993 for parameters (3, 2, 5)\n",
      "169554811690.88458 for parameters (3, 3, 1)\n",
      "170038676.24135995 for parameters (3, 3, 2)\n",
      "1194661479.3561606 for parameters (3, 3, 3)\n",
      "1610403531.0841599 for parameters (3, 3, 4)\n",
      "26395623.360489465 for parameters (3, 3, 5)\n",
      "4063333024777.5264 for parameters (3, 4, 1)\n",
      "214241464819.17523 for parameters (3, 4, 2)\n",
      "281823675328.651 for parameters (3, 4, 3)\n",
      "3092282063.583736 for parameters (3, 4, 4)\n",
      "104744206344.71162 for parameters (3, 4, 5)\n",
      "175617671683421.94 for parameters (3, 5, 1)\n",
      "4771088547636.697 for parameters (3, 5, 2)\n",
      "4.656330969663629e+25 for parameters (3, 5, 3)\n",
      "414948111639.35767 for parameters (3, 5, 4)\n",
      "6741528316999.226 for parameters (3, 5, 5)\n",
      "1004256.3218832569 for parameters (4, 1, 1)\n",
      "18557699.633086734 for parameters (4, 1, 2)\n",
      "1389524.3958214622 for parameters (4, 1, 3)\n",
      "21073602.349276096 for parameters (4, 1, 4)\n",
      "21440897.648524005 for parameters (4, 1, 5)\n",
      "533879.0439469896 for parameters (4, 2, 1)\n",
      "3514079.2050885363 for parameters (4, 2, 2)\n",
      "254434717.67009473 for parameters (4, 2, 3)\n",
      "1714989.3081535795 for parameters (4, 2, 4)\n",
      "49171755.36955039 for parameters (4, 2, 5)\n",
      "110685561644.07996 for parameters (4, 3, 1)\n",
      "360148.0481060642 for parameters (4, 3, 2)\n",
      "160098422.6005171 for parameters (4, 3, 3)\n",
      "1108362611.0251467 for parameters (4, 3, 4)\n",
      "396416.05180391925 for parameters (4, 3, 5)\n",
      "8690220072272.318 for parameters (4, 4, 1)\n",
      "156997407123.19635 for parameters (4, 4, 2)\n",
      "15588051579.18916 for parameters (4, 4, 3)\n",
      "129816850548.127 for parameters (4, 4, 4)\n",
      "33858947741.029396 for parameters (4, 4, 5)\n",
      "10568729887013.46 for parameters (4, 5, 1)\n",
      "10500778679187.23 for parameters (4, 5, 2)\n",
      "2440854294432.961 for parameters (4, 5, 3)\n",
      "9.121519708456802e+23 for parameters (4, 5, 4)\n",
      "1877482619939.1685 for parameters (4, 5, 5)\n",
      "657417.3763955422 for parameters (5, 1, 1)\n",
      "1004144.0007280394 for parameters (5, 1, 2)\n",
      "1630697.2286871085 for parameters (5, 1, 3)\n",
      "19722264.13557587 for parameters (5, 1, 4)\n",
      "834115.295948307 for parameters (5, 1, 5)\n",
      "67016228.774993286 for parameters (5, 2, 1)\n",
      "527932.7194438062 for parameters (5, 2, 2)\n",
      "142109946.53365868 for parameters (5, 2, 3)\n",
      "1934588.5600295872 for parameters (5, 2, 4)\n",
      "621259.2754885653 for parameters (5, 2, 5)\n",
      "64832779691.570114 for parameters (5, 3, 1)\n",
      "110712451416.63274 for parameters (5, 3, 2)\n",
      "194434146423.57666 for parameters (5, 3, 3)\n",
      "404995488.5895379 for parameters (5, 3, 4)\n",
      "233635777.08268896 for parameters (5, 3, 5)\n",
      "9286262739086.473 for parameters (5, 4, 1)\n",
      "8694934226225.294 for parameters (5, 4, 2)\n",
      "185131154650.4812 for parameters (5, 4, 3)\n",
      "552306529203.2458 for parameters (5, 4, 4)\n",
      "46740004140.808876 for parameters (5, 4, 5)\n",
      "55282147972043.64 for parameters (5, 5, 1)\n",
      "11241658823333.574 for parameters (5, 5, 2)\n",
      "10539544931574.0 for parameters (5, 5, 3)\n",
      "43289900489838.984 for parameters (5, 5, 4)\n",
      "770764474061.156 for parameters (5, 5, 5)\n",
      "824105.8506161142 for parameters (6, 1, 1)\n",
      "683985.3867425487 for parameters (6, 1, 2)\n",
      "939859.9997072208 for parameters (6, 1, 3)\n",
      "15895696.229934728 for parameters (6, 1, 4)\n",
      "14922166.835241318 for parameters (6, 1, 5)\n",
      "174150469.01959026 for parameters (6, 2, 1)\n",
      "1348984.5755751072 for parameters (6, 2, 2)\n",
      "1066511.4441690273 for parameters (6, 2, 3)\n",
      "117205488.34090766 for parameters (6, 2, 4)\n",
      "86850051.16352911 for parameters (6, 2, 5)\n",
      "2141827054.066403 for parameters (6, 3, 1)\n",
      "270356494.68502545 for parameters (6, 3, 2)\n",
      "168344080.07467398 for parameters (6, 3, 3)\n",
      "412265760.341724 for parameters (6, 3, 4)\n",
      "253302325.53904805 for parameters (6, 3, 5)\n",
      "3556386933013.4673 for parameters (6, 4, 1)\n",
      "2815674356.9368906 for parameters (6, 4, 2)\n",
      "5937779526409.95 for parameters (6, 4, 3)\n",
      "144807789755.91357 for parameters (6, 4, 4)\n",
      "93247084.27759548 for parameters (6, 4, 5)\n",
      "89538658388103.84 for parameters (6, 5, 1)\n",
      "1705955395910.3635 for parameters (6, 5, 2)\n",
      "14398902.606084028 for parameters (6, 5, 3)\n",
      "16674549362839.812 for parameters (6, 5, 4)\n",
      "1541535252017.2344 for parameters (6, 5, 5)\n",
      "710977.6010010934 for parameters (7, 1, 1)\n",
      "823667.6641176171 for parameters (7, 1, 2)\n",
      "617900.210986989 for parameters (7, 1, 3)\n",
      "16826353.949353997 for parameters (7, 1, 4)\n",
      "14916229.61043343 for parameters (7, 1, 5)\n",
      "151588238.13762006 for parameters (7, 2, 1)\n",
      "2429226.798962531 for parameters (7, 2, 2)\n",
      "959621.8404173309 for parameters (7, 2, 3)\n",
      "7232343.486830756 for parameters (7, 2, 4)\n",
      "4995449.622104494 for parameters (7, 2, 5)\n",
      "7107415.770381844 for parameters (7, 3, 1)\n",
      "199735552.4948147 for parameters (7, 3, 2)\n",
      "304856748.9727486 for parameters (7, 3, 3)\n",
      "35917594.166048095 for parameters (7, 3, 4)\n",
      "85441664.89679304 for parameters (7, 3, 5)\n",
      "1513890665562.765 for parameters (7, 4, 1)\n",
      "332669632.3084469 for parameters (7, 4, 2)\n",
      "8718763924.608404 for parameters (7, 4, 3)\n",
      "354018750.2565373 for parameters (7, 4, 4)\n",
      "606146143.064931 for parameters (7, 4, 5)\n",
      "112450331703952.0 for parameters (7, 5, 1)\n",
      "946237222198.9141 for parameters (7, 5, 2)\n",
      "7515030699017.747 for parameters (7, 5, 3)\n",
      "9997303310.139957 for parameters (7, 5, 4)\n",
      "13113104299.884926 for parameters (7, 5, 5)\n",
      "1042166.55005558 for parameters (8, 1, 1)\n",
      "720371.2997728732 for parameters (8, 1, 2)\n",
      "1145286.3413420548 for parameters (8, 1, 3)\n",
      "10905632.85855855 for parameters (8, 1, 4)\n",
      "15333060.052336156 for parameters (8, 1, 5)\n",
      "136839626.29940316 for parameters (8, 2, 1)\n",
      "140633071.95926696 for parameters (8, 2, 2)\n",
      "137608521.4273791 for parameters (8, 2, 3)\n",
      "836691.6355926713 for parameters (8, 2, 4)\n",
      "11782407.939151332 for parameters (8, 2, 5)\n",
      "88053532.97861293 for parameters (8, 3, 1)\n",
      "9050407.009083541 for parameters (8, 3, 2)\n",
      "196403613.71077114 for parameters (8, 3, 3)\n",
      "247170332.37924057 for parameters (8, 3, 4)\n"
     ]
    },
    {
     "name": "stdout",
     "output_type": "stream",
     "text": [
      "7757885.474847628 for parameters (8, 3, 5)\n",
      "1099007915613.568 for parameters (8, 4, 1)\n",
      "91454195.79923959 for parameters (8, 4, 2)\n",
      "23319600.177841377 for parameters (8, 4, 3)\n",
      "11589061.87805549 for parameters (8, 4, 4)\n",
      "566511097.5644928 for parameters (8, 4, 5)\n",
      "111855135859039.05 for parameters (8, 5, 1)\n",
      "546556265739.38934 for parameters (8, 5, 2)\n",
      "851142673030.6917 for parameters (8, 5, 3)\n",
      "24659841076.37469 for parameters (8, 5, 4)\n",
      "15450308.768216724 for parameters (8, 5, 5)\n",
      "9177473.415488014 for parameters (9, 1, 1)\n",
      "1973205.4098518756 for parameters (9, 1, 2)\n",
      "6970180.456609977 for parameters (9, 1, 3)\n",
      "9586133.270068567 for parameters (9, 1, 4)\n",
      "895571.1203009428 for parameters (9, 1, 5)\n",
      "51276839.13566696 for parameters (9, 2, 1)\n",
      "15566674.525568074 for parameters (9, 2, 2)\n",
      "825541.0021874255 for parameters (9, 2, 3)\n",
      "806292.587127769 for parameters (9, 2, 4)\n",
      "33746791.83581805 for parameters (9, 2, 5)\n",
      "851197713.831156 for parameters (9, 3, 1)\n",
      "45557546.32559612 for parameters (9, 3, 2)\n",
      "181753703.42674357 for parameters (9, 3, 3)\n",
      "352820977.4975134 for parameters (9, 3, 4)\n",
      "261389816.9784914 for parameters (9, 3, 5)\n",
      "268482057450.66162 for parameters (9, 4, 1)\n",
      "610162129.2367483 for parameters (9, 4, 2)\n",
      "103795994.40314624 for parameters (9, 4, 3)\n",
      "68690072.0436565 for parameters (9, 4, 4)\n",
      "742591790.2563765 for parameters (9, 4, 5)\n",
      "61533478733817.17 for parameters (9, 5, 1)\n",
      "351638262628.16876 for parameters (9, 5, 2)\n",
      "3007689870038.2695 for parameters (9, 5, 3)\n",
      "275203602.25922203 for parameters (9, 5, 4)\n",
      "107677808.98015419 for parameters (9, 5, 5)\n",
      "(4, 3, 2) 360148.0481060642\n"
     ]
    }
   ],
   "source": [
    "p_values = [1, 5, 10]\n",
    "d_values = [1, 2, 4, 6]\n",
    "q_values = [1, 5, 10, 15]\n",
    "vals = []\n",
    "prev = 100000000000000000000000000\n",
    "for p in p_values:\n",
    "    for d in d_values:\n",
    "        for q in q_values:\n",
    "            param = (p, d, q)\n",
    "            model = ARIMA(train.incremental_cases, order=param).fit()\n",
    "            pred = model.forecast(steps=40)\n",
    "            mse = mean_squared_error(test.incremental_cases, pred)\n",
    "            if mse < prev:\n",
    "                prev = mse\n",
    "                best = param\n",
    "            print(mse, 'for parameters', param)\n",
    "print(best, prev)"
   ]
  },
  {
   "cell_type": "code",
   "execution_count": 20,
   "id": "1e94180b",
   "metadata": {},
   "outputs": [
    {
     "data": {
      "text/plain": [
       "0.08402074014115912"
      ]
     },
     "execution_count": 20,
     "metadata": {},
     "output_type": "execute_result"
    }
   ],
   "source": [
    "model = ARIMA(train.incremental_cases, order=(4, 3, 2)).fit()\n",
    "pred = pd.concat([pd.Series([-62]), model.forecast(steps=40)]).cumsum()[1:]\n",
    "pred = pd.concat([pd.Series([101]), pred]).cumsum()[1:]\n",
    "r2 = r2_score(test.incremental_cases, pred)\n",
    "r2"
   ]
  },
  {
   "cell_type": "code",
   "execution_count": 21,
   "id": "aee4f79d",
   "metadata": {},
   "outputs": [
    {
     "data": {
      "text/plain": [
       "<AxesSubplot:xlabel='date'>"
      ]
     },
     "execution_count": 21,
     "metadata": {},
     "output_type": "execute_result"
    },
    {
     "data": {
      "image/png": "[encoded data removed]",
      "text/plain": [
       "<Figure size 432x288 with 1 Axes>"
      ]
     },
     "metadata": {
      "needs_background": "light"
     },
     "output_type": "display_data"
    }
   ],
   "source": [
    "\n",
    "prediction = pd.DataFrame({'actual':test.incremental_cases.reset_index(drop = True), \n",
    "              'pred':pred.reset_index(drop = True)})\n",
    "prediction['date'] = test['date'].reset_index(drop = True)\n",
    "prediction.plot(x = 'date', y = ['actual', 'pred'])"
   ]
  },
  {
   "cell_type": "code",
   "execution_count": 22,
   "id": "2ba0ca23",
   "metadata": {},
   "outputs": [
    {
     "data": {
      "text/plain": [
       "[<matplotlib.lines.Line2D at 0x7fb7aaf361c0>]"
      ]
     },
     "execution_count": 22,
     "metadata": {},
     "output_type": "execute_result"
    },
    {
     "data": {
      "image/png": "[encoded data removed]",
      "text/plain": [
       "<Figure size 432x288 with 1 Axes>"
      ]
     },
     "metadata": {
      "needs_background": "light"
     },
     "output_type": "display_data"
    }
   ],
   "source": [
    "plt.plot(model.resid)"
   ]
  },
  {
   "cell_type": "code",
   "execution_count": 23,
   "id": "7aa6dd2c",
   "metadata": {},
   "outputs": [
    {
     "data": {
      "text/plain": [
       "(-2.395824720160588, 0.142918320064836)"
      ]
     },
     "execution_count": 23,
     "metadata": {},
     "output_type": "execute_result"
    }
   ],
   "source": [
    "harris = data[data['entity'] == 'Texas-Harris'].loc[:, ['date', 'incremental_cases']]\n",
    "\n",
    "def stationary_test(series):\n",
    "    result = adfuller(series)\n",
    "    return (result[0], result[1])\n",
    "\n",
    "# Harris data is non-stationary without any differencing\n",
    "stationary_test(harris.incremental_cases)\n",
    "\n",
    "# test statistic (hypothesis that non-stationarity cannot be rejected)\n",
    "# p-value is greater than 0.05 "
   ]
  },
  {
   "cell_type": "code",
   "execution_count": 24,
   "id": "84c7d83d",
   "metadata": {},
   "outputs": [
    {
     "data": {
      "text/plain": [
       "(-9.396340262942193, 6.359410189896808e-16)"
      ]
     },
     "execution_count": 24,
     "metadata": {},
     "output_type": "execute_result"
    }
   ],
   "source": [
    "# first-level differencing\n",
    "harris['incremental_cases'] = harris['incremental_cases'].diff().fillna(harris['incremental_cases']).astype('int')\n",
    "\n",
    "# la is still non-stationary after first-level differencing\n",
    "stationary_test(harris.incremental_cases)\n",
    "\n",
    "# test statistic (hypothesis that non-stationarity can be rejected)\n",
    "# p-value is much less than 0.05"
   ]
  },
  {
   "cell_type": "code",
   "execution_count": 25,
   "id": "ccbf4e9e",
   "metadata": {},
   "outputs": [],
   "source": [
    "train2  = harris.iloc[:230, :]"
   ]
  },
  {
   "cell_type": "code",
   "execution_count": 27,
   "id": "a54b40ff",
   "metadata": {},
   "outputs": [
    {
     "data": {
      "text/plain": [
       "<AxesSubplot:xlabel='date', ylabel='incremental_cases'>"
      ]
     },
     "execution_count": 27,
     "metadata": {},
     "output_type": "execute_result"
    },
    {
     "data": {
      "image/png": "[encoded data removed]",
      "text/plain": [
       "<Figure size 432x288 with 1 Axes>"
      ]
     },
     "metadata": {
      "needs_background": "light"
     },
     "output_type": "display_data"
    }
   ],
   "source": [
    "# use non-differenced cases for test actuals\n",
    "testing2 = data[data['entity'] == 'Texas-Harris'].loc[:, ['date', 'incremental_cases']]\n",
    "test2 = testing.iloc[230:, :]\n",
    "\n",
    "sns.lineplot(x=\"date\", y=\"incremental_cases\",legend = 'full' , data=testing)"
   ]
  },
  {
   "cell_type": "code",
   "execution_count": 29,
   "id": "92f6b12c",
   "metadata": {},
   "outputs": [
    {
     "name": "stdout",
     "output_type": "stream",
     "text": [
      "3170014.9046729784 for parameters (0, 0, 0)\n",
      "47945194.187448576 for parameters (0, 0, 1)\n",
      "40908424.44737697 for parameters (0, 0, 5)\n",
      "54479907811.94998 for parameters (0, 1, 0)\n",
      "3178847.54690139 for parameters (0, 1, 1)\n",
      "29786826.008350767 for parameters (0, 1, 5)\n",
      "20780325381010.2 for parameters (0, 2, 0)\n",
      "60187777115.759155 for parameters (0, 2, 1)\n",
      "125902426.04554662 for parameters (0, 2, 5)\n",
      "1.6046257705599769e+19 for parameters (0, 5, 0)\n",
      "4.521952730267336e+17 for parameters (0, 5, 1)\n",
      "4583713396137.85 for parameters (0, 5, 5)\n",
      "10450529.357052112 for parameters (1, 0, 0)\n",
      "45078822.09434605 for parameters (1, 0, 1)\n",
      "92580090.15022711 for parameters (1, 0, 5)\n",
      "7407373714.454381 for parameters (1, 1, 0)\n",
      "12761409.07784791 for parameters (1, 1, 1)\n",
      "6542556.026172217 for parameters (1, 1, 5)\n",
      "3358999691601.954 for parameters (1, 2, 0)\n",
      "8250007461.071863 for parameters (1, 2, 1)\n",
      "964925.6318564771 for parameters (1, 2, 5)\n",
      "2.1965005288877687e+19 for parameters (1, 5, 0)\n",
      "1.8994616581035018e+17 for parameters (1, 5, 1)\n",
      "4717351007.449555 for parameters (1, 5, 5)\n",
      "26640520.608360957 for parameters (5, 0, 0)\n",
      "26953547.414434135 for parameters (5, 0, 1)\n",
      "24131565.756612424 for parameters (5, 0, 5)\n",
      "1250875.651479708 for parameters (5, 1, 0)\n",
      "29854882.37504285 for parameters (5, 1, 1)\n",
      "2097637.465764596 for parameters (5, 1, 5)\n",
      "160959614702.1024 for parameters (5, 2, 0)\n",
      "1681160.1278993667 for parameters (5, 2, 1)\n",
      "153051231.09726125 for parameters (5, 2, 5)\n",
      "5471880367593158.0 for parameters (5, 5, 0)\n",
      "162302132717047.56 for parameters (5, 5, 1)\n",
      "11002789025359.062 for parameters (5, 5, 5)\n",
      "(1, 2, 5) 964925.6318564771\n"
     ]
    }
   ],
   "source": [
    "p_values = [1, 5, 10]\n",
    "d_values = [1, 2, 4, 6]\n",
    "q_values = [1, 5, 10, 15]\n",
    "vals = []\n",
    "prev = 100000000000000000000000000\n",
    "for p in p_values:\n",
    "    for d in d_values:\n",
    "        for q in q_values:\n",
    "            param = (p, d, q)\n",
    "            model = ARIMA(train.incremental_cases, order=param).fit()\n",
    "            pred = model.forecast(steps=40)\n",
    "            mse = mean_squared_error(test.incremental_cases, pred)\n",
    "            if mse < prev:\n",
    "                prev = mse\n",
    "                best = param\n",
    "            print(mse, 'for parameters', param)\n",
    "print(best, prev)"
   ]
  },
  {
   "cell_type": "code",
   "execution_count": 30,
   "id": "be385907",
   "metadata": {},
   "outputs": [
    {
     "name": "stdout",
     "output_type": "stream",
     "text": [
      "3170014.9046729784 for parameters (0, 0, 0)\n",
      "47945194.187448576 for parameters (0, 0, 1)\n",
      "41424229.41258921 for parameters (0, 0, 3)\n",
      "40908424.44737697 for parameters (0, 0, 5)\n",
      "22594468.03884239 for parameters (0, 0, 6)\n",
      "46615008.87503549 for parameters (0, 0, 7)\n",
      "63365305.575023726 for parameters (0, 0, 8)\n",
      "54479907811.94998 for parameters (0, 1, 0)\n",
      "3178847.54690139 for parameters (0, 1, 1)\n",
      "35867389.44724147 for parameters (0, 1, 3)\n",
      "29786826.008350767 for parameters (0, 1, 5)\n",
      "30036477.55127866 for parameters (0, 1, 6)\n",
      "12629463.014346365 for parameters (0, 1, 7)\n",
      "29928438.297045268 for parameters (0, 1, 8)\n",
      "20780325381010.2 for parameters (0, 2, 0)\n",
      "60187777115.759155 for parameters (0, 2, 1)\n",
      "32700498.559336066 for parameters (0, 2, 3)\n",
      "125902426.04554662 for parameters (0, 2, 5)\n",
      "4581376.87347653 for parameters (0, 2, 6)\n",
      "180826380.20458153 for parameters (0, 2, 7)\n",
      "28934530.177509554 for parameters (0, 2, 8)\n",
      "4053133330618877.0 for parameters (0, 3, 0)\n",
      "22447942959362.78 for parameters (0, 3, 1)\n",
      "774249966.3219081 for parameters (0, 3, 3)\n",
      "5158365574.863095 for parameters (0, 3, 5)\n",
      "7556964438.265219 for parameters (0, 3, 6)\n",
      "2646760094.8926525 for parameters (0, 3, 7)\n",
      "3230600752.1266394 for parameters (0, 3, 8)\n",
      "4.2846881633617574e+17 for parameters (0, 4, 0)\n",
      "4319898472443595.0 for parameters (0, 4, 1)\n",
      "427103014218.5419 for parameters (0, 4, 3)\n",
      "2778699506.09708 for parameters (0, 4, 5)\n",
      "79928259591.2485 for parameters (0, 4, 6)\n",
      "121571731501.91324 for parameters (0, 4, 7)\n",
      "43008895855.62947 for parameters (0, 4, 8)\n",
      "1.6046257705599769e+19 for parameters (0, 5, 0)\n",
      "4.521952730267336e+17 for parameters (0, 5, 1)\n",
      "165017169744663.8 for parameters (0, 5, 3)\n",
      "4583713396137.85 for parameters (0, 5, 5)\n",
      "32769598298049.125 for parameters (0, 5, 6)\n",
      "36510059901979.83 for parameters (0, 5, 7)\n",
      "11488927702442.244 for parameters (0, 5, 8)\n",
      "10450529.357052112 for parameters (1, 0, 0)\n",
      "45078822.09434605 for parameters (1, 0, 1)\n",
      "56163655.86870072 for parameters (1, 0, 3)\n",
      "92580090.15022711 for parameters (1, 0, 5)\n",
      "46012226.72309818 for parameters (1, 0, 6)\n",
      "52908408.706203416 for parameters (1, 0, 7)\n",
      "74949904.432579 for parameters (1, 0, 8)\n",
      "7407373714.454381 for parameters (1, 1, 0)\n",
      "12761409.07784791 for parameters (1, 1, 1)\n",
      "38492643.94032622 for parameters (1, 1, 3)\n",
      "6542556.026172217 for parameters (1, 1, 5)\n",
      "26643282.789948042 for parameters (1, 1, 6)\n",
      "30739893.391731214 for parameters (1, 1, 7)\n",
      "16695580.037704399 for parameters (1, 1, 8)\n",
      "3358999691601.954 for parameters (1, 2, 0)\n",
      "8250007461.071863 for parameters (1, 2, 1)\n",
      "13082135.143809423 for parameters (1, 2, 3)\n",
      "964925.6318564771 for parameters (1, 2, 5)\n",
      "2353073.287141867 for parameters (1, 2, 6)\n",
      "14344941.52879337 for parameters (1, 2, 7)\n",
      "158382271.44324213 for parameters (1, 2, 8)\n",
      "875390488106890.5 for parameters (1, 3, 0)\n",
      "3636834068607.2124 for parameters (1, 3, 1)\n",
      "72783068.4856972 for parameters (1, 3, 3)\n",
      "338819953.57025206 for parameters (1, 3, 5)\n",
      "2191341189.51371 for parameters (1, 3, 6)\n",
      "3699508639.40605 for parameters (1, 3, 7)\n",
      "120800318.71313648 for parameters (1, 3, 8)\n",
      "1.795207885435875e+17 for parameters (1, 4, 0)\n",
      "934811581551501.8 for parameters (1, 4, 1)\n",
      "4027346124.630567 for parameters (1, 4, 3)\n",
      "760376731.0829794 for parameters (1, 4, 5)\n",
      "66602815504.00044 for parameters (1, 4, 6)\n",
      "177192610098.22983 for parameters (1, 4, 7)\n",
      "130766794089.67041 for parameters (1, 4, 8)\n",
      "2.1965005288877687e+19 for parameters (1, 5, 0)\n",
      "1.8994616581035018e+17 for parameters (1, 5, 1)\n",
      "19769602556183.918 for parameters (1, 5, 3)\n",
      "4717351007.449555 for parameters (1, 5, 5)\n",
      "7930737305634.561 for parameters (1, 5, 6)\n",
      "1834797243939.3418 for parameters (1, 5, 7)\n",
      "1617224865242.8298 for parameters (1, 5, 8)\n",
      "18403191.3963216 for parameters (2, 0, 0)\n",
      "42471233.218647145 for parameters (2, 0, 1)\n",
      "41275028.83427893 for parameters (2, 0, 3)\n",
      "60544653.94635244 for parameters (2, 0, 5)\n",
      "35543738.7686844 for parameters (2, 0, 6)\n",
      "57077667.454312466 for parameters (2, 0, 7)\n",
      "39345382.10412093 for parameters (2, 0, 8)\n",
      "1885617165.6051476 for parameters (2, 1, 0)\n",
      "22180557.822474785 for parameters (2, 1, 1)\n",
      "36002128.25385131 for parameters (2, 1, 3)\n",
      "683654.7345282004 for parameters (2, 1, 5)\n",
      "2869578.560309052 for parameters (2, 1, 6)\n",
      "2204057.738232887 for parameters (2, 1, 7)\n",
      "13337430.08111028 for parameters (2, 1, 8)\n",
      "620787147574.7163 for parameters (2, 2, 0)\n",
      "2115080636.2732863 for parameters (2, 2, 1)\n",
      "3849494.042901536 for parameters (2, 2, 3)\n",
      "108885293.57877831 for parameters (2, 2, 5)\n",
      "112325313.16193266 for parameters (2, 2, 6)\n",
      "100046988.68519467 for parameters (2, 2, 7)\n",
      "107572421.49165973 for parameters (2, 2, 8)\n",
      "82684456107786.9 for parameters (2, 3, 0)\n",
      "674558167555.547 for parameters (2, 3, 1)\n",
      "3986174996.5932875 for parameters (2, 3, 3)\n",
      "1472273105.8180828 for parameters (2, 3, 5)\n",
      "85613040.81912002 for parameters (2, 3, 6)\n",
      "508018.02726373647 for parameters (2, 3, 7)\n",
      "68389394.36088674 for parameters (2, 3, 8)\n",
      "1.9737208325070696e+16 for parameters (2, 4, 0)\n",
      "88442848270810.72 for parameters (2, 4, 1)\n",
      "7963521143.53952 for parameters (2, 4, 3)\n",
      "62483502353.17586 for parameters (2, 4, 5)\n",
      "385341588748.4405 for parameters (2, 4, 6)\n",
      "126985656836.58044 for parameters (2, 4, 7)\n",
      "103709867966.67563 for parameters (2, 4, 8)\n",
      "4.018438302025399e+18 for parameters (2, 5, 0)\n",
      "2.1274930094602024e+16 for parameters (2, 5, 1)\n",
      "3564735037269.427 for parameters (2, 5, 3)\n",
      "70997468523.59245 for parameters (2, 5, 5)\n",
      "103721142574.43367 for parameters (2, 5, 6)\n",
      "4725558205756.408 for parameters (2, 5, 7)\n",
      "940593634700.6553 for parameters (2, 5, 8)\n",
      "23252984.7353316 for parameters (3, 0, 0)\n",
      "39512972.17371331 for parameters (3, 0, 1)\n",
      "45193676.60873091 for parameters (3, 0, 3)\n",
      "51272562.60546006 for parameters (3, 0, 5)\n",
      "33075302.604022175 for parameters (3, 0, 6)\n",
      "51772670.534416504 for parameters (3, 0, 7)\n",
      "42982544.596659675 for parameters (3, 0, 8)\n",
      "933661019.0915606 for parameters (3, 1, 0)\n",
      "28000451.82315565 for parameters (3, 1, 1)\n",
      "33210705.00499291 for parameters (3, 1, 3)\n",
      "2489155.571331682 for parameters (3, 1, 5)\n",
      "749407.2425054649 for parameters (3, 1, 6)\n",
      "1786900.3722078041 for parameters (3, 1, 7)\n",
      "17707764.22298134 for parameters (3, 1, 8)\n",
      "452815031130.8711 for parameters (3, 2, 0)\n",
      "1058314981.7947515 for parameters (3, 2, 1)\n",
      "33105679.519968044 for parameters (3, 2, 3)\n",
      "8431853.189014435 for parameters (3, 2, 5)\n",
      "117661648.8680946 for parameters (3, 2, 6)\n",
      "105995364.04912642 for parameters (3, 2, 7)\n",
      "116625410.13106015 for parameters (3, 2, 8)\n",
      "28499354027451.0 for parameters (3, 3, 0)\n",
      "492202838435.2904 for parameters (3, 3, 1)\n",
      "83848574.78138927 for parameters (3, 3, 3)\n",
      "30302750463.819862 for parameters (3, 3, 5)\n",
      "27419338775.81972 for parameters (3, 3, 6)\n",
      "75797749.09599307 for parameters (3, 3, 7)\n",
      "119768173.3770804 for parameters (3, 3, 8)\n",
      "2304045775672642.5 for parameters (3, 4, 0)\n",
      "30448190797948.5 for parameters (3, 4, 1)\n",
      "16198855794365.818 for parameters (3, 4, 3)\n",
      "110575835056.6022 for parameters (3, 4, 5)\n",
      "110998100649.15865 for parameters (3, 4, 6)\n",
      "7974755544.822617 for parameters (3, 4, 7)\n",
      "29138118289.071632 for parameters (3, 4, 8)\n",
      "4.5704662176010074e+17 for parameters (3, 5, 0)\n",
      "3427085061450023.0 for parameters (3, 5, 1)\n",
      "2117314939323.6987 for parameters (3, 5, 3)\n",
      "3.6007235249335607e+19 for parameters (3, 5, 5)\n",
      "5579119108938.979 for parameters (3, 5, 6)\n",
      "307226911428.78436 for parameters (3, 5, 7)\n",
      "764695684335.7561 for parameters (3, 5, 8)\n",
      "27267728.688774128 for parameters (4, 0, 0)\n",
      "41182284.70129834 for parameters (4, 0, 1)\n",
      "47855898.20009201 for parameters (4, 0, 3)\n",
      "40448662.462706685 for parameters (4, 0, 5)\n",
      "25617713.56442961 for parameters (4, 0, 6)\n",
      "27648629.495883893 for parameters (4, 0, 7)\n",
      "53498802.060793266 for parameters (4, 0, 8)\n",
      "248023725.4322799 for parameters (4, 1, 0)\n",
      "32762584.68719692 for parameters (4, 1, 1)\n",
      "30799856.409118295 for parameters (4, 1, 3)\n",
      "14916080.930777624 for parameters (4, 1, 5)\n",
      "1899495.382449184 for parameters (4, 1, 6)\n",
      "680656.8376353001 for parameters (4, 1, 7)\n",
      "1373326.98468132 for parameters (4, 1, 8)\n",
      "294997624200.63806 for parameters (4, 2, 0)\n",
      "291295393.2052123 for parameters (4, 2, 1)\n",
      "1758327.282519587 for parameters (4, 2, 3)\n",
      "114635925.59770557 for parameters (4, 2, 5)\n",
      "120154466.6344542 for parameters (4, 2, 6)\n",
      "112986481.69051366 for parameters (4, 2, 7)\n",
      "96466153.38499305 for parameters (4, 2, 8)\n",
      "19008559769900.914 for parameters (4, 3, 0)\n"
     ]
    },
    {
     "name": "stdout",
     "output_type": "stream",
     "text": [
      "322187511668.50476 for parameters (4, 3, 1)\n",
      "3891944057.0736823 for parameters (4, 3, 3)\n",
      "378271615.84725106 for parameters (4, 3, 5)\n",
      "7763595251.03342 for parameters (4, 3, 6)\n",
      "565244404.8399056 for parameters (4, 3, 7)\n",
      "112327226.52213927 for parameters (4, 3, 8)\n",
      "715716858805549.4 for parameters (4, 4, 0)\n",
      "20310862122347.1 for parameters (4, 4, 1)\n",
      "553341712668.732 for parameters (4, 4, 3)\n",
      "76777023289.66443 for parameters (4, 4, 5)\n",
      "58515898707.2278 for parameters (4, 4, 6)\n",
      "65187560055.03092 for parameters (4, 4, 7)\n",
      "70376528514.62782 for parameters (4, 4, 8)\n",
      "1.0359943121222811e+17 for parameters (4, 5, 0)\n",
      "1116473474261965.0 for parameters (4, 5, 1)\n",
      "9366889035232.604 for parameters (4, 5, 3)\n",
      "5467551.15 for parameters (4, 5, 5)\n",
      "2635442303142.559 for parameters (4, 5, 6)\n",
      "582878110501.5305 for parameters (4, 5, 7)\n",
      "5117202407840.664 for parameters (4, 5, 8)\n",
      "26640520.608360957 for parameters (5, 0, 0)\n",
      "26953547.414434135 for parameters (5, 0, 1)\n",
      "20620179.914510947 for parameters (5, 0, 3)\n",
      "24131565.756612424 for parameters (5, 0, 5)\n",
      "25862812.634451497 for parameters (5, 0, 6)\n",
      "45733407.62402059 for parameters (5, 0, 7)\n",
      "34282351.11273418 for parameters (5, 0, 8)\n",
      "1250875.651479708 for parameters (5, 1, 0)\n",
      "29854882.37504285 for parameters (5, 1, 1)\n",
      "31333395.02344483 for parameters (5, 1, 3)\n",
      "2097637.465764596 for parameters (5, 1, 5)\n",
      "1468268.2566726871 for parameters (5, 1, 6)\n",
      "4256878.195865545 for parameters (5, 1, 7)\n",
      "555047.6514480328 for parameters (5, 1, 8)\n",
      "160959614702.1024 for parameters (5, 2, 0)\n",
      "1681160.1278993667 for parameters (5, 2, 1)\n",
      "50105285.99270052 for parameters (5, 2, 3)\n",
      "153051231.09726125 for parameters (5, 2, 5)\n",
      "504450.8493795354 for parameters (5, 2, 6)\n",
      "96724883.78932211 for parameters (5, 2, 7)\n",
      "181961214.61437315 for parameters (5, 2, 8)\n",
      "13489442335348.754 for parameters (5, 3, 0)\n",
      "184651396128.7648 for parameters (5, 3, 1)\n",
      "47469505.06793912 for parameters (5, 3, 3)\n",
      "502867809.0211797 for parameters (5, 3, 5)\n",
      "967116332.7767906 for parameters (5, 3, 6)\n",
      "707974375.646447 for parameters (5, 3, 7)\n",
      "353622145.3264879 for parameters (5, 3, 8)\n",
      "252865425135907.1 for parameters (5, 4, 0)\n",
      "14929727811007.605 for parameters (5, 4, 1)\n",
      "559942303712.921 for parameters (5, 4, 3)\n",
      "2145427893.6544125 for parameters (5, 4, 5)\n",
      "1193696602.473479 for parameters (5, 4, 6)\n",
      "92197210732.86732 for parameters (5, 4, 7)\n",
      "62402597829.00747 for parameters (5, 4, 8)\n",
      "5471880367593158.0 for parameters (5, 5, 0)\n",
      "162302132717047.56 for parameters (5, 5, 1)\n",
      "7979611869633.791 for parameters (5, 5, 3)\n",
      "11002789025359.062 for parameters (5, 5, 5)\n",
      "43970400316.37154 for parameters (5, 5, 6)\n",
      "8034376583.326419 for parameters (5, 5, 7)\n",
      "2400727342523.944 for parameters (5, 5, 8)\n",
      "(5, 2, 6) 504450.8493795354\n"
     ]
    }
   ],
   "source": [
    "p_values = [1, 5, 10]\n",
    "d_values = [1, 2, 4, 6]\n",
    "q_values = [1, 5, 10, 15]\n",
    "vals = []\n",
    "prev = 100000000000000000000000000\n",
    "for p in p_values:\n",
    "    for d in d_values:\n",
    "        for q in q_values:\n",
    "            param = (p, d, q)\n",
    "            model = ARIMA(train.incremental_cases, order=param).fit()\n",
    "            pred = model.forecast(steps=40)\n",
    "            mse = mean_squared_error(test.incremental_cases, pred)\n",
    "            if mse < prev:\n",
    "                prev = mse\n",
    "                best = param\n",
    "            print(mse, 'for parameters', param)\n",
    "print(best, prev)"
   ]
  },
  {
   "cell_type": "code",
   "execution_count": 31,
   "id": "8cc07b11",
   "metadata": {},
   "outputs": [
    {
     "name": "stdout",
     "output_type": "stream",
     "text": [
      "6542556.026172217 for parameters (1, 1, 5)\n",
      "26643282.789948042 for parameters (1, 1, 6)\n",
      "30739893.391731214 for parameters (1, 1, 7)\n",
      "964925.6318564771 for parameters (1, 2, 5)\n",
      "2353073.287141867 for parameters (1, 2, 6)\n",
      "14344941.52879337 for parameters (1, 2, 7)\n",
      "338819953.57025206 for parameters (1, 3, 5)\n",
      "2191341189.51371 for parameters (1, 3, 6)\n",
      "3699508639.40605 for parameters (1, 3, 7)\n",
      "2097637.465764596 for parameters (5, 1, 5)\n",
      "1468268.2566726871 for parameters (5, 1, 6)\n",
      "4256878.195865545 for parameters (5, 1, 7)\n",
      "153051231.09726125 for parameters (5, 2, 5)\n",
      "504450.8493795354 for parameters (5, 2, 6)\n",
      "96724883.78932211 for parameters (5, 2, 7)\n",
      "502867809.0211797 for parameters (5, 3, 5)\n",
      "967116332.7767906 for parameters (5, 3, 6)\n",
      "707974375.646447 for parameters (5, 3, 7)\n",
      "1232362.6247790945 for parameters (6, 1, 5)\n",
      "1033637.1108401468 for parameters (6, 1, 6)\n",
      "398468.96665272024 for parameters (6, 1, 7)\n",
      "39769761.32870388 for parameters (6, 2, 5)\n",
      "11170473.406527251 for parameters (6, 2, 6)\n",
      "116459352.71096945 for parameters (6, 2, 7)\n",
      "3256765419.377277 for parameters (6, 3, 5)\n",
      "619886255.675975 for parameters (6, 3, 6)\n",
      "42768027.01625459 for parameters (6, 3, 7)\n",
      "22825491.78734737 for parameters (7, 1, 5)\n",
      "13269294.089458209 for parameters (7, 1, 6)\n",
      "1455064.7212066806 for parameters (7, 1, 7)\n",
      "7793660.855140825 for parameters (7, 2, 5)\n",
      "25350691.25156527 for parameters (7, 2, 6)\n",
      "115558722.74115877 for parameters (7, 2, 7)\n",
      "1769138016.5915387 for parameters (7, 3, 5)\n",
      "690014954.4646971 for parameters (7, 3, 6)\n",
      "769062349.0199769 for parameters (7, 3, 7)\n",
      "(6, 1, 7) 398468.96665272024\n"
     ]
    }
   ],
   "source": [
    "p_values = [1, 5, 10]\n",
    "d_values = [1, 2, 4, 6]\n",
    "q_values = [1, 5, 10, 15]\n",
    "vals = []\n",
    "prev = 100000000000000000000000000\n",
    "for p in p_values:\n",
    "    for d in d_values:\n",
    "        for q in q_values:\n",
    "            param = (p, d, q)\n",
    "            model = ARIMA(train.incremental_cases, order=param).fit()\n",
    "            pred = model.forecast(steps=40)\n",
    "            mse = mean_squared_error(test.incremental_cases, pred)\n",
    "            if mse < prev:\n",
    "                prev = mse\n",
    "                best = param\n",
    "            print(mse, 'for parameters', param)\n",
    "print(best, prev)"
   ]
  },
  {
   "cell_type": "code",
   "execution_count": 41,
   "id": "90c786f1",
   "metadata": {},
   "outputs": [
    {
     "data": {
      "text/plain": [
       "-0.3269482779639339"
      ]
     },
     "execution_count": 41,
     "metadata": {},
     "output_type": "execute_result"
    }
   ],
   "source": [
    "model2 = ARIMA(train2.incremental_cases, order=(6, 1, 7)).fit()\n",
    "pred = pd.concat([pd.Series([-62]), model2.forecast(steps=40)]).cumsum()[1:]\n",
    "pred = pd.concat([pd.Series([101]), pred]).cumsum()[1:]\n",
    "r2 = r2_score(test2.incremental_cases, pred)\n",
    "r2"
   ]
  },
  {
   "cell_type": "code",
   "execution_count": 42,
   "id": "e18bdd63",
   "metadata": {},
   "outputs": [
    {
     "data": {
      "text/plain": [
       "<AxesSubplot:xlabel='date'>"
      ]
     },
     "execution_count": 42,
     "metadata": {},
     "output_type": "execute_result"
    },
    {
     "data": {
      "image/png": "[encoded data removed]",
      "text/plain": [
       "<Figure size 432x288 with 1 Axes>"
      ]
     },
     "metadata": {
      "needs_background": "light"
     },
     "output_type": "display_data"
    }
   ],
   "source": [
    "prediction = pd.DataFrame({'actual':test2.incremental_cases.reset_index(drop = True), \n",
    "              'pred':pred.reset_index(drop = True)})\n",
    "prediction['date'] = test2['date'].reset_index(drop = True)\n",
    "prediction.plot(x = 'date', y = ['actual', 'pred'])"
   ]
  },
  {
   "cell_type": "code",
   "execution_count": 43,
   "id": "69a948c2",
   "metadata": {},
   "outputs": [],
   "source": [
    "philly= data[data['entity'] == 'Pennsylvania-Philadelphia'].loc[:, ['date', 'incremental_cases']]"
   ]
  },
  {
   "cell_type": "code",
   "execution_count": 44,
   "id": "c9942d04",
   "metadata": {},
   "outputs": [
    {
     "data": {
      "text/plain": [
       "(-0.3535586053857135, 0.9175688476501691)"
      ]
     },
     "execution_count": 44,
     "metadata": {},
     "output_type": "execute_result"
    }
   ],
   "source": [
    "stationary_test(philly.incremental_cases)"
   ]
  },
  {
   "cell_type": "code",
   "execution_count": 46,
   "id": "2413b5c0",
   "metadata": {},
   "outputs": [
    {
     "data": {
      "text/plain": [
       "(-3.985676159805606, 0.001487400482092525)"
      ]
     },
     "execution_count": 46,
     "metadata": {},
     "output_type": "execute_result"
    }
   ],
   "source": [
    "philly['incremental_cases'] = philly['incremental_cases'].diff().fillna(philly['incremental_cases']).astype('int')\n",
    "stationary_test(philly.incremental_cases)\n"
   ]
  },
  {
   "cell_type": "code",
   "execution_count": 47,
   "id": "2209ca97",
   "metadata": {},
   "outputs": [
    {
     "data": {
      "text/plain": [
       "<AxesSubplot:xlabel='date', ylabel='incremental_cases'>"
      ]
     },
     "execution_count": 47,
     "metadata": {},
     "output_type": "execute_result"
    },
    {
     "data": {
      "image/png": "[encoded data removed]",
      "text/plain": [
       "<Figure size 432x288 with 1 Axes>"
      ]
     },
     "metadata": {
      "needs_background": "light"
     },
     "output_type": "display_data"
    }
   ],
   "source": [
    "# use non-differenced cases for test actuals\n",
    "# using differenced cases for train\n",
    "train = philly.iloc[:230, :]\n",
    "testing = data[data['entity'] == 'Pennsylvania-Philadelphia'].loc[:, ['date', 'incremental_cases']]\n",
    "test = testing.iloc[230:, :]\n",
    "\n",
    "sns.lineplot(x=\"date\", y=\"incremental_cases\",legend = 'full' , data=testing)"
   ]
  },
  {
   "cell_type": "code",
   "execution_count": 48,
   "id": "02c99f9a",
   "metadata": {},
   "outputs": [
    {
     "name": "stdout",
     "output_type": "stream",
     "text": [
      "1070184.2413294856 for parameters (1, 1, 1)\n",
      "1059111.7801579311 for parameters (1, 1, 5)\n",
      "1054435.0563171352 for parameters (1, 1, 10)\n",
      "1047336.2344121117 for parameters (1, 1, 15)\n",
      "1366245.9295804729 for parameters (1, 2, 1)\n",
      "1077303.2982724821 for parameters (1, 2, 5)\n",
      "1064782.6743722397 for parameters (1, 2, 10)\n",
      "1083286.0310691658 for parameters (1, 2, 15)\n",
      "9547097274.85312 for parameters (1, 4, 1)\n",
      "3100824.5944267856 for parameters (1, 4, 5)\n",
      "2583635.6356292414 for parameters (1, 4, 10)\n",
      "4732898.309873216 for parameters (1, 4, 15)\n",
      "2093383948172623.2 for parameters (1, 6, 1)\n",
      "8726791939.678814 for parameters (1, 6, 5)\n",
      "864780045.1052262 for parameters (1, 6, 10)\n",
      "5800451337.936434 for parameters (1, 6, 15)\n",
      "1062279.1252902322 for parameters (5, 1, 1)\n",
      "996859.0316429269 for parameters (5, 1, 5)\n",
      "980608.9312737841 for parameters (5, 1, 10)\n",
      "962847.516998839 for parameters (5, 1, 15)\n",
      "1207727.4041171826 for parameters (5, 2, 1)\n",
      "1080095.4484063606 for parameters (5, 2, 5)\n",
      "1009095.8219985428 for parameters (5, 2, 10)\n",
      "1010920.989009919 for parameters (5, 2, 15)\n",
      "37066566.19917627 for parameters (5, 4, 1)\n",
      "3309683.3535926947 for parameters (5, 4, 5)\n",
      "1234277.136013864 for parameters (5, 4, 10)\n",
      "1703688.9029582508 for parameters (5, 4, 15)\n",
      "688960206.5259087 for parameters (5, 6, 1)\n",
      "167790300.49840674 for parameters (5, 6, 5)\n",
      "424140051.80038786 for parameters (5, 6, 10)\n",
      "990107047.991772 for parameters (5, 6, 15)\n",
      "1033176.5982918441 for parameters (10, 1, 1)\n",
      "1026406.2040382428 for parameters (10, 1, 5)\n",
      "979729.9734788556 for parameters (10, 1, 10)\n",
      "969025.5958687359 for parameters (10, 1, 15)\n",
      "1042188.3438682563 for parameters (10, 2, 1)\n",
      "1023383.8937137343 for parameters (10, 2, 5)\n",
      "981876.5531222218 for parameters (10, 2, 10)\n",
      "976986.2929171349 for parameters (10, 2, 15)\n",
      "17391701.823055245 for parameters (10, 4, 1)\n",
      "1285982.8129068608 for parameters (10, 4, 5)\n",
      "1462959.606970931 for parameters (10, 4, 10)\n",
      "1174390.1160035476 for parameters (10, 4, 15)\n",
      "2087133646743.3853 for parameters (10, 6, 1)\n",
      "88765251.72337031 for parameters (10, 6, 5)\n",
      "987544536.5605819 for parameters (10, 6, 10)\n",
      "50494585.81123773 for parameters (10, 6, 15)\n",
      "(5, 1, 15) 962847.516998839\n"
     ]
    }
   ],
   "source": [
    "p_values = [1, 5, 10]\n",
    "d_values = [1, 2, 4, 6]\n",
    "q_values = [1, 5, 10, 15]\n",
    "vals = []\n",
    "prev = 100000000000000000000000000\n",
    "for p in p_values:\n",
    "    for d in d_values:\n",
    "        for q in q_values:\n",
    "            param = (p, d, q)\n",
    "            model = ARIMA(train.incremental_cases, order=param).fit()\n",
    "            pred = model.forecast(steps=40)\n",
    "            mse = mean_squared_error(test.incremental_cases, pred)\n",
    "            if mse < prev:\n",
    "                prev = mse\n",
    "                best = param\n",
    "            print(mse, 'for parameters', param)\n",
    "print(best, prev)"
   ]
  },
  {
   "cell_type": "code",
   "execution_count": 52,
   "id": "77060da4",
   "metadata": {},
   "outputs": [
    {
     "data": {
      "text/plain": [
       "-21.95668648993384"
      ]
     },
     "execution_count": 52,
     "metadata": {},
     "output_type": "execute_result"
    }
   ],
   "source": [
    "\n",
    "model = ARIMA(train.incremental_cases, order=(5, 1, 15)).fit()\n",
    "pred = pd.concat([pd.Series([-62]), model.forecast(steps=40)]).cumsum()[1:]\n",
    "pred = pd.concat([pd.Series([101]), pred]).cumsum()[1:]\n",
    "r2 = r2_score(test.incremental_cases, pred)\n",
    "r2\n"
   ]
  },
  {
   "cell_type": "code",
   "execution_count": 53,
   "id": "d960ca79",
   "metadata": {},
   "outputs": [
    {
     "data": {
      "text/plain": [
       "<AxesSubplot:xlabel='date'>"
      ]
     },
     "execution_count": 53,
     "metadata": {},
     "output_type": "execute_result"
    },
    {
     "data": {
      "image/png": "[encoded data removed]",
      "text/plain": [
       "<Figure size 432x288 with 1 Axes>"
      ]
     },
     "metadata": {
      "needs_background": "light"
     },
     "output_type": "display_data"
    }
   ],
   "source": [
    "prediction = pd.DataFrame({'actual':test.incremental_cases.reset_index(drop = True), \n",
    "              'pred':pred.reset_index(drop = True)})\n",
    "prediction['date'] = test['date'].reset_index(drop = True)\n",
    "prediction.plot(x = 'date', y = ['actual', 'pred'])"
   ]
  },
  {
   "cell_type": "code",
   "execution_count": null,
   "id": "7216fbc4",
   "metadata": {},
   "outputs": [],
   "source": []
  }
 ],
 "metadata": {
  "kernelspec": {
   "display_name": "Python 3 (ipykernel)",
   "language": "python",
   "name": "python3"
  },
  "language_info": {
   "codemirror_mode": {
    "name": "ipython",
    "version": 3
   },
   "file_extension": ".py",
   "mimetype": "text/x-python",
   "name": "python",
   "nbconvert_exporter": "python",
   "pygments_lexer": "ipython3",
   "version": "3.9.12"
  }
 },
 "nbformat": 4,
 "nbformat_minor": 5
}
