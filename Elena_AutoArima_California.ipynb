{
 "cells": [
  {
   "cell_type": "markdown",
   "id": "c00480db",
   "metadata": {},
   "source": [
    "# AutoArima Models for California Counties "
   ]
  },
  {
   "cell_type": "code",
   "execution_count": null,
   "id": "ecc8f3df",
   "metadata": {},
   "outputs": [],
   "source": [
    "import pandas as pd\n",
    "from pmdarima import auto_arima"
   ]
  },
  {
   "cell_type": "code",
   "execution_count": null,
   "id": "2ad846c6",
   "metadata": {},
   "outputs": [],
   "source": [
    "auto_model = auto_arima(train.incremental_cases, seasonal=True, m=12, suppress_warnings=True, stepwise=True)\n",
    "\n",
    "print(auto_model.summary())\n",
    "n_periods=12\n",
    "forecast, conf_int = auto_model.predict(n_periods=n_periods, return_conf_int=True)\n",
    "\n",
    "# Print the forecast and confidence interval\n",
    "print(\"Forecast:\", forecast)\n",
    "print(\"Confidence Interval:\", conf_int)"
   ]
  },
  {
   "cell_type": "code",
   "execution_count": null,
   "id": "766b6aeb",
   "metadata": {},
   "outputs": [],
   "source": []
  },
  {
   "cell_type": "code",
   "execution_count": null,
   "id": "09fab5e6",
   "metadata": {},
   "outputs": [],
   "source": []
  },
  {
   "cell_type": "code",
   "execution_count": null,
   "id": "16964791",
   "metadata": {},
   "outputs": [],
   "source": []
  }
 ],
 "metadata": {
  "kernelspec": {
   "display_name": "Python 3 (ipykernel)",
   "language": "python",
   "name": "python3"
  },
  "language_info": {
   "codemirror_mode": {
    "name": "ipython",
    "version": 3
   },
   "file_extension": ".py",
   "mimetype": "text/x-python",
   "name": "python",
   "nbconvert_exporter": "python",
   "pygments_lexer": "ipython3",
   "version": "3.11.5"
  }
 },
 "nbformat": 4,
 "nbformat_minor": 5
}
