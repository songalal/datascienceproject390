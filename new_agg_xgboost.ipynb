{
 "cells": [
  {
   "cell_type": "code",
   "execution_count": 120,
   "id": "ee9e388b-9a97-4b22-aadb-592767094ac5",
   "metadata": {},
   "outputs": [],
   "source": [
    "import pandas as pd\n",
    "from xgboost import XGBRegressor\n",
    "from sklearn.metrics import mean_squared_error\n",
    "from sklearn.model_selection import TimeSeriesSplit\n",
    "\n",
    "\n",
    "data = pd.read_csv('variable_selected_county_dataset.csv')  \n",
    "\n",
    "\n",
    "data['date'] = pd.to_datetime(data['date'])\n",
    "data.set_index('date', inplace=True)\n",
    "\n",
    "\n",
    "lags = [7, 14, 21]\n",
    "for lag in lags:\n",
    "    data[f'lag{lag}incremental_cases'] = data['incremental_cases'].shift(lag)  \n",
    "\n",
    "\n",
    "\n",
    "\n",
    "categorical_columns = data.select_dtypes(include=['object']).columns\n",
    "data = pd.get_dummies(data, columns=categorical_columns, drop_first=True)\n",
    "\n",
    "\n",
    "split_date = '2020-10-25'\n",
    "train = data[:split_date]\n",
    "test = data[split_date:]\n",
    "\n",
    "X_train = train.drop(['incremental_cases'], axis=1)  \n",
    "y_train = train['incremental_cases']  \n",
    "X_test = test.drop(['incremental_cases'], axis=1)  \n",
    "y_test = test['incremental_cases']  \n"
   ]
  },
  {
   "cell_type": "code",
   "execution_count": null,
   "id": "2377d9b6",
   "metadata": {},
   "outputs": [],
   "source": [
    "import numpy as np\n",
    "from sklearn.model_selection import RandomizedSearchCV, TimeSeriesSplit\n",
    "from xgboost import XGBRegressor\n",
    "\n",
    "\n",
    "param_dist = {\n",
    "    'n_estimators': np.arange(100, 2001, 100),  # Wider range\n",
    "    'learning_rate': np.linspace(0.01, 0.6, 30),  # More options\n",
    "    'max_depth': np.arange(3, 20, 1),  # Wider range\n",
    "    'subsample': np.linspace(0.5, 1.0, 20),  # More options\n",
    "    'colsample_bytree': np.linspace(0.4, 1.0, 20),  # More options\n",
    "    'min_child_weight': np.arange(1, 13, 1),  # Wider range\n",
    "    'gamma': np.linspace(0, 5, 20),  # Including gamma\n",
    "    'reg_lambda': np.linspace(0, 10, 20),  # Including reg_lambda\n",
    "}\n",
    "from sklearn.metrics import mean_squared_error\n",
    "\n",
    "\n",
    "xgb_model = XGBRegressor(objective='reg:squarederror')\n",
    "\n",
    "\n",
    "tscv = TimeSeriesSplit(n_splits=3)\n",
    "\n",
    "\n",
    "random_search = RandomizedSearchCV(\n",
    "    estimator=xgb_model,\n",
    "    param_distributions=param_dist,\n",
    "    n_iter=200,  \n",
    "    scoring='neg_mean_squared_error',\n",
    "    cv=tscv,\n",
    "    random_state=42,\n",
    "    n_jobs=-1\n",
    ")\n",
    "\n",
    "\n",
    "random_search.fit(X_train, y_train)\n"
   ]
  },
  {
   "cell_type": "code",
   "execution_count": null,
   "id": "af9076cb",
   "metadata": {},
   "outputs": [],
   "source": [
    "\n",
    "best_params = random_search.best_params_\n",
    "print(\"Best Hyperparameters:\", best_params)\n",
    "\n",
    "best_score = np.sqrt(-random_search.best_score_)\n",
    "print(\"Best RMSE:\", best_score)\n"
   ]
  },
  {
   "cell_type": "code",
   "execution_count": null,
   "id": "97614733-7242-4d73-9910-37d91fdc1bc5",
   "metadata": {},
   "outputs": [],
   "source": [
    "\n",
    "final_model = XGBRegressor(**best_params)\n",
    "final_model.fit(X_train, y_train)\n",
    "\n",
    "\n",
    "predictions_train = final_model.predict(X_train)\n",
    "predictions_test = final_model.predict(X_test)\n",
    "\n",
    "\n",
    "train_mse = mean_squared_error(y_train, predictions_train)\n",
    "test_mse = mean_squared_error(y_test, predictions_test)\n",
    "\n",
    "print(f\"Train MSE: {train_mse}\")\n",
    "print(f\"Test MSE: {test_mse}\")\n"
   ]
  },
  {
   "cell_type": "code",
   "execution_count": null,
   "id": "d6636b2e",
   "metadata": {},
   "outputs": [],
   "source": [
    "train_pred=pd.DataFrame(final_model.predict(X_train), columns=['yhat'], index=train.index)\n",
    "train_pred.head()"
   ]
  },
  {
   "cell_type": "code",
   "execution_count": null,
   "id": "42d22c7e",
   "metadata": {},
   "outputs": [],
   "source": [
    "pd.concat([y_train,train_pred['yhat']], axis=1).plot(figsize=(15,5)) \n",
    "plt.legend(['train', 'train_pred'])"
   ]
  },
  {
   "cell_type": "code",
   "execution_count": null,
   "id": "3e8fc051",
   "metadata": {},
   "outputs": [],
   "source": [
    "test_pred=pd.DataFrame(final_model.predict(X_test), columns=['yhat'], index=test.index)\n",
    "pd.concat([y_test,test_pred['yhat']], axis=1).plot( )\n",
    "plt.legend(['test', 'test_pred'])"
   ]
  },
  {
   "cell_type": "code",
   "execution_count": null,
   "id": "36966993",
   "metadata": {},
   "outputs": [],
   "source": [
    "[column for column in data.columns if 'entity' in column]"
   ]
  },
  {
   "cell_type": "code",
   "execution_count": null,
   "id": "cfb9e832-8414-47f6-bdfe-91b126999979",
   "metadata": {},
   "outputs": [],
   "source": [
    "data = pd.read_csv('variable_selected_county_dataset.csv') \n",
    "\n",
    "data['date'] = pd.to_datetime(data['date'])\n",
    "data.set_index('date', inplace=True)\n",
    "\n",
    "\n",
    "lags = [7, 14, 21]\n",
    "for lag in lags:\n",
    "    data[f'lag{lag}incremental_cases'] = data['incremental_cases'].shift(lag)  \n",
    "\n",
    "\n",
    "categorical_columns = data.select_dtypes(include=['object']).columns\n",
    "data = pd.get_dummies(data, columns=categorical_columns, drop_first=True)\n",
    "data = data[data['entity_New York-New York City'] == 1]\n",
    "\n"
   ]
  },
  {
   "cell_type": "code",
   "execution_count": null,
   "id": "5ae733d9",
   "metadata": {},
   "outputs": [],
   "source": [
    "\n",
    "split_date = '2020-10-25'\n",
    "train = data[:split_date]\n",
    "test = data[split_date:]\n",
    "\n",
    "X_train = train.drop(['incremental_cases'], axis=1)  \n",
    "y_train = train['incremental_cases']  \n",
    "X_test = test.drop(['incremental_cases'], axis=1)  \n",
    "y_test = test['incremental_cases']  \n"
   ]
  },
  {
   "cell_type": "code",
   "execution_count": null,
   "id": "ee11da7e",
   "metadata": {},
   "outputs": [],
   "source": [
    "train_pred=pd.DataFrame(final_model.predict(X_train), columns=['yhat'], index=train.index)\n",
    "train_pred.head()\n",
    "pd.concat([y_train,train_pred['yhat']], axis=1).plot(figsize=(15,5)) \n",
    "plt.legend(['train', 'train_pred'])"
   ]
  },
  {
   "cell_type": "code",
   "execution_count": null,
   "id": "b5d717cb",
   "metadata": {},
   "outputs": [],
   "source": [
    "test_pred=pd.DataFrame(final_model.predict(X_test), columns=['yhat'], index=test.index)\n",
    "pd.concat([y_test,test_pred['yhat']], axis=1).plot( )\n",
    "plt.legend(['test', 'test_pred'])"
   ]
  },
  {
   "cell_type": "code",
   "execution_count": null,
   "id": "d37fe9ed",
   "metadata": {},
   "outputs": [],
   "source": [
    "calculate_mape(y_test, test_pred)"
   ]
  },
  {
   "cell_type": "code",
   "execution_count": null,
   "id": "7f99ca3c",
   "metadata": {},
   "outputs": [],
   "source": [
    "data = pd.read_csv('variable_selected_county_dataset.csv')  \n",
    "\n",
    "\n",
    "data['date'] = pd.to_datetime(data['date'])\n",
    "data.set_index('date', inplace=True)\n",
    "\n",
    "\n",
    "lags = [7, 14, 21]\n",
    "for lag in lags:\n",
    "    data[f'lag{lag}incremental_cases'] = data['incremental_cases'].shift(lag)  \n",
    "\n",
    "\n",
    "categorical_columns = data.select_dtypes(include=['object']).columns\n",
    "data = pd.get_dummies(data, columns=categorical_columns, drop_first=True)\n",
    "data = data[data['entity_Illinois-Cook'] == 1]\n",
    "\n"
   ]
  },
  {
   "cell_type": "code",
   "execution_count": null,
   "id": "0ac2c413",
   "metadata": {},
   "outputs": [],
   "source": [
    "\n",
    "split_date = '2020-10-25'\n",
    "train = data[:split_date]\n",
    "test = data[split_date:]\n",
    "\n",
    "X_train = train.drop(['incremental_cases'], axis=1) \n",
    "y_train = train['incremental_cases']  \n",
    "X_test = test.drop(['incremental_cases'], axis=1)  \n",
    "y_test = test['incremental_cases']  "
   ]
  },
  {
   "cell_type": "code",
   "execution_count": null,
   "id": "c6498dcb",
   "metadata": {},
   "outputs": [],
   "source": [
    "train_pred=pd.DataFrame(final_model.predict(X_train), columns=['yhat'], index=train.index)\n",
    "train_pred.head()\n",
    "pd.concat([y_train,train_pred['yhat']], axis=1).plot(figsize=(15,5)) \n",
    "plt.legend(['train', 'train_pred'])"
   ]
  },
  {
   "cell_type": "code",
   "execution_count": null,
   "id": "fd95037a",
   "metadata": {},
   "outputs": [],
   "source": [
    "test_pred=pd.DataFrame(final_model.predict(X_test), columns=['yhat'], index=test.index)\n",
    "pd.concat([y_test,test_pred['yhat']], axis=1).plot( )\n",
    "plt.legend(['test', 'test_pred'])"
   ]
  },
  {
   "cell_type": "code",
   "execution_count": null,
   "id": "fe923a4c",
   "metadata": {},
   "outputs": [],
   "source": [
    "calculate_mape(y_test, test_pred)\n"
   ]
  },
  {
   "cell_type": "code",
   "execution_count": null,
   "id": "e9ad17e6",
   "metadata": {},
   "outputs": [],
   "source": [
    "def calculate_mape(y_true, y_pred):\n",
    "    \"\"\"\n",
    "    Calculate the mean absolute percentage error (MAPE).\n",
    "\n",
    "    Args:\n",
    "        y_true (array-like): Actual values.\n",
    "        y_pred (array-like): Predicted values.\n",
    "\n",
    "    Returns:\n",
    "        float: MAPE value.\n",
    "    \"\"\"\n",
    "    y_true, y_pred = np.array(y_true), np.array(y_pred)\n",
    "    non_zero_indices = y_true != 0  \n",
    "    mape = np.mean(np.abs((y_true[non_zero_indices] - y_pred[non_zero_indices]) / y_true[non_zero_indices])) * 100\n",
    "    return mape\n"
   ]
  },
  {
   "cell_type": "code",
   "execution_count": null,
   "id": "d4c4a0a9",
   "metadata": {},
   "outputs": [],
   "source": [
    "data = pd.read_csv('variable_selected_county_dataset.csv') \n",
    "\n",
    "data['date'] = pd.to_datetime(data['date'])\n",
    "data.set_index('date', inplace=True)\n",
    "\n",
    "lags = [7, 14, 21]\n",
    "for lag in lags:\n",
    "    data[f'lag{lag}incremental_cases'] = data['incremental_cases'].shift(lag)  \n",
    "categorical_columns = data.select_dtypes(include=['object']).columns\n",
    "data = pd.get_dummies(data, columns=categorical_columns, drop_first=True)\n",
    "data = data[data['entity_California-Los Angeles'] == 1]\n",
    "\n"
   ]
  },
  {
   "cell_type": "code",
   "execution_count": null,
   "id": "d5d1c659",
   "metadata": {},
   "outputs": [],
   "source": [
    "split_date = '2020-10-25'\n",
    "train = data[:split_date]\n",
    "test = data[split_date:]\n",
    "\n",
    "X_train = train.drop(['incremental_cases'], axis=1)  \n",
    "y_train = train['incremental_cases']  \n",
    "X_test = test.drop(['incremental_cases'], axis=1)  \n",
    "y_test = test['incremental_cases']  \n"
   ]
  },
  {
   "cell_type": "code",
   "execution_count": null,
   "id": "f44e5ad3",
   "metadata": {},
   "outputs": [],
   "source": [
    "train_pred=pd.DataFrame(final_model.predict(X_train), columns=['yhat'], index=train.index)\n",
    "train_pred.head()\n",
    "pd.concat([y_train,train_pred['yhat']], axis=1).plot(figsize=(15,5)) \n",
    "plt.legend(['train', 'train_pred'])"
   ]
  },
  {
   "cell_type": "code",
   "execution_count": null,
   "id": "33c45775",
   "metadata": {},
   "outputs": [],
   "source": [
    "test_pred=pd.DataFrame(final_model.predict(X_test), columns=['yhat'], index=test.index)\n",
    "pd.concat([y_test,test_pred['yhat']], axis=1).plot( )\n",
    "plt.legend(['test', 'test_pred'])"
   ]
  },
  {
   "cell_type": "code",
   "execution_count": null,
   "id": "e36266b7",
   "metadata": {},
   "outputs": [],
   "source": []
  },
  {
   "cell_type": "code",
   "execution_count": null,
   "id": "0cf8a7ad",
   "metadata": {},
   "outputs": [],
   "source": [
    "calculate_mape(y_test, test_pred)"
   ]
  },
  {
   "cell_type": "code",
   "execution_count": null,
   "id": "ebcc71ad",
   "metadata": {},
   "outputs": [],
   "source": [
    "train_pred=pd.DataFrame(, columns=['yhat'], index=train.index)\n",
    "train_pred.head()\n",
    "pd.concat([y_train,train_pred['yhat']], axis=1).plot(figsize=(15,5)) \n",
    "plt.legend(['train', 'train_pred'])"
   ]
  },
  {
   "cell_type": "code",
   "execution_count": null,
   "id": "5f8c21e9",
   "metadata": {},
   "outputs": [],
   "source": [
    "test_pred=pd.DataFrame(XGBRegressor(n_jobs = -1, random_state = 42).predict(X_test), columns=['yhat'], index=test.index)\n",
    "pd.concat([y_test,test_pred['yhat']], axis=1).plot( )\n",
    "plt.legend(['test', 'test_pred'])"
   ]
  },
  {
   "cell_type": "code",
   "execution_count": null,
   "id": "afc58258",
   "metadata": {},
   "outputs": [],
   "source": []
  }
 ],
 "metadata": {
  "kernelspec": {
   "display_name": "Python 3 (ipykernel)",
   "language": "python",
   "name": "python3"
  },
  "language_info": {
   "codemirror_mode": {
    "name": "ipython",
    "version": 3
   },
   "file_extension": ".py",
   "mimetype": "text/x-python",
   "name": "python",
   "nbconvert_exporter": "python",
   "pygments_lexer": "ipython3",
   "version": "3.9.12"
  }
 },
 "nbformat": 4,
 "nbformat_minor": 5
}
