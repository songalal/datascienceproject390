{
 "cells": [
  {
   "cell_type": "code",
   "execution_count": 22,
   "id": "7302347c",
   "metadata": {},
   "outputs": [],
   "source": [
    "import pandas as pd\n",
    "import datetime as dt\n",
    "import matplotlib.pyplot as plt\n",
    "import seaborn as sns"
   ]
  },
  {
   "cell_type": "code",
   "execution_count": 23,
   "id": "0f491b9d",
   "metadata": {},
   "outputs": [],
   "source": [
    "data = pd.read_csv('data.csv')"
   ]
  },
  {
   "cell_type": "markdown",
   "id": "c03e519e",
   "metadata": {},
   "source": [
    "## County Selection"
   ]
  },
  {
   "cell_type": "code",
   "execution_count": 24,
   "id": "88df9c18",
   "metadata": {},
   "outputs": [],
   "source": [
    "data['entity'] = data['state'] + '-' + data['county']"
   ]
  },
  {
   "cell_type": "code",
   "execution_count": 25,
   "id": "6fbceb7a",
   "metadata": {},
   "outputs": [
    {
     "name": "stdout",
     "output_type": "stream",
     "text": [
      "                      entity  num_date\n",
      "0       Washington-Snohomish       319\n",
      "1              Illinois-Cook       316\n",
      "2          California-Orange       315\n",
      "3     California-Los Angeles       314\n",
      "4           Arizona-Maricopa       314\n",
      "5     California-Santa Clara       309\n",
      "6      Massachusetts-Suffolk       308\n",
      "7   California-San Francisco       307\n",
      "8             Wisconsin-Dane       304\n",
      "9       California-San Diego       299\n",
      "10               Texas-Bexar       297\n",
      "11          Nebraska-Douglas       292\n",
      "12       California-Humboldt       289\n",
      "                    entity  num_date\n",
      "0            Illinois-Cook       316\n",
      "1        California-Orange       315\n",
      "2   California-Los Angeles       314\n",
      "3   California-Santa Clara       309\n",
      "4     California-San Diego       299\n",
      "5         Nebraska-Douglas       292\n",
      "6    California-Sacramento       288\n",
      "7        California-Solano       285\n",
      "8       Washington-Spokane       285\n",
      "9           Utah-Salt Lake       284\n",
      "10       California-Sonoma       283\n",
      "11         California-Napa       283\n",
      "12      California-Alameda       279\n"
     ]
    }
   ],
   "source": [
    "# compute the incremental case as response\n",
    "def incremental(df):\n",
    "    df['incremental_cases'] = df['cases'].diff().fillna(df['cases'])\n",
    "    return df\n",
    "data = data.groupby('entity').apply(lambda x: incremental(x))\n",
    "\n",
    "print(data.groupby('entity').count().loc[:, ['date']].sort_values(\n",
    "    by = 'date', ascending = False).reset_index().rename(columns = {'date':'num_date'}).head(13))\n",
    "\n",
    "# find out counties with case data issue\n",
    "data_prob = list(data[data['incremental_cases'] < 0].entity.unique())\n",
    "\n",
    "# drop counties with data issue\n",
    "data = data[-data['entity'].isin(data_prob)]\n",
    "\n",
    "print(data.groupby('entity').count().loc[:, ['date']].sort_values(\n",
    "    by = 'date', ascending = False).reset_index().rename(columns = {'date':'num_date'}).head(13))\n"
   ]
  },
  {
   "cell_type": "code",
   "execution_count": 28,
   "id": "803cf9be",
   "metadata": {},
   "outputs": [
    {
     "name": "stdout",
     "output_type": "stream",
     "text": [
      "                      entity  days  num_date  frequency\n",
      "76               Idaho-Clark   139       133   0.956835\n",
      "0             Alabama-Blount   255       255   1.000000\n",
      "287      Pennsylvania-Mercer   258       258   1.000000\n",
      "286     Pennsylvania-Luzerne   265       265   1.000000\n",
      "285     Pennsylvania-Lebanon   261       261   1.000000\n",
      "284   Pennsylvania-Lancaster   261       261   1.000000\n",
      "283  Pennsylvania-Lackawanna   262       262   1.000000\n",
      "282      Pennsylvania-Greene   255       255   1.000000\n",
      "281    Pennsylvania-Delaware   274       274   1.000000\n",
      "280     Pennsylvania-Dauphin   258       258   1.000000\n"
     ]
    }
   ],
   "source": [
    "# number of rows / reported date for each county\n",
    "county_date = data.groupby('entity').count().loc[:, ['date']].sort_values(\n",
    "    by = 'date', ascending = False).reset_index().rename(columns = {'date':'num_date'})\n",
    "\n",
    "# number of days between a county's first and last report of cases\n",
    "report_date = data.groupby('entity')['date'].min().reset_index().rename(\n",
    "    columns = {'date':'start'}).merge(data.groupby('entity')['date'].max().reset_index().rename(\n",
    "    columns = {'date':'end'}), on = 'entity')\n",
    "\n",
    "report_date['start'] = pd.to_datetime(report_date['start'], format='%Y-%m-%d')\n",
    "report_date['end'] = pd.to_datetime(report_date['end'], format='%Y-%m-%d')\n",
    "\n",
    "report_date['days'] = (report_date['end'] - report_date['start']).dt.days + 1\n",
    "\n",
    "# identify any potential gaps in reporting frequency\n",
    "    # in other words, whether a county missed reporting for certain dates\n",
    "\n",
    "freq_df = report_date.loc[:, ['entity', 'days']].merge(county_date, on = 'entity')\n",
    "freq_df['frequency'] = freq_df['num_date'] / freq_df['days']\n",
    "\n",
    "print(freq_df.sort_values(by = 'frequency').head(10))"
   ]
  },
  {
   "cell_type": "code",
   "execution_count": 29,
   "id": "3d5c91de",
   "metadata": {},
   "outputs": [
    {
     "data": {
      "image/png": "[encoded data removed]",
      "text/plain": [
       "<Figure size 576x432 with 1 Axes>"
      ]
     },
     "metadata": {},
     "output_type": "display_data"
    }
   ],
   "source": [
    "# visualization on the timeline when counties have their first COVID-19 case\n",
    "t = data.groupby('entity')['date'].min().reset_index().rename(\n",
    "    columns = {'date':'start'})\n",
    "\n",
    "t['start'] = pd.to_datetime(t['start'], format='%Y-%m-%d')\n",
    "\n",
    "t['startmonth'] = t['start'].apply(lambda x: x.month)\n",
    "\n",
    "df = t.groupby(['startmonth']).count().iloc[:, :1].reset_index()\n",
    "\n",
    "sns.set(style=\"whitegrid\")\n",
    "plt.figure(figsize=(8, 6))\n",
    "sns.barplot(x=df.columns[0], y=df.columns[1], data=df, palette=\"viridis\")\n",
    "plt.xlabel('Month', fontsize = 12)\n",
    "plt.ylabel('Number of County', fontsize = 12)\n",
    "plt.title('County First Reported Case Timeline', fontsize = 14)\n",
    "plt.show()"
   ]
  },
  {
   "cell_type": "markdown",
   "id": "661b06f8",
   "metadata": {},
   "source": [
    "### Select Top 12 Counties for Model Development"
   ]
  },
  {
   "cell_type": "code",
   "execution_count": 30,
   "id": "8f8c885b",
   "metadata": {},
   "outputs": [],
   "source": [
    "data = data.drop(columns = ['county', 'state'])\n",
    "entity_date = data.groupby('entity').count().loc[:, ['date']].sort_values(\n",
    "    by = 'date', ascending = False).reset_index().rename(columns = {'date':'num_date'}).head(13)\n",
    "\n",
    "# Douglas in Nebraska is excluded because Nebraska never initiated stay-at-home order\n",
    "entity_date = entity_date[entity_date['entity'] != 'Nebraska-Douglas']\n",
    "data.loc[data['entity'].isin(entity_date.entity.to_list())].to_csv('county_data.csv')"
   ]
  },
  {
   "cell_type": "markdown",
   "id": "e7033f75",
   "metadata": {},
   "source": [
    "## Feature Selection"
   ]
  },
  {
   "cell_type": "code",
   "execution_count": 46,
   "id": "e85ebad5",
   "metadata": {},
   "outputs": [
    {
     "data": {
      "text/plain": [
       "Index(['incremental_cases', 'entity', 'date', 'fips', 'cases', 'deaths',\n",
       "       'stay_at_home_announced', 'stay_at_home_effective', 'lat', 'lon',\n",
       "       'total_population', 'area_sqmi', 'population_density_per_sqmi',\n",
       "       'num_deaths', 'years_of_potential_life_lost_rate',\n",
       "       'percent_fair_or_poor_health',\n",
       "       'average_number_of_physically_unhealthy_days',\n",
       "       'average_number_of_mentally_unhealthy_days', 'percent_low_birthweight',\n",
       "       'percent_smokers', 'percent_adults_with_obesity',\n",
       "       'food_environment_index', 'percent_physically_inactive',\n",
       "       'percent_with_access_to_exercise_opportunities',\n",
       "       'percent_excessive_drinking', 'num_alcohol_impaired_driving_deaths',\n",
       "       'num_driving_deaths', 'percent_driving_deaths_with_alcohol_involvement',\n",
       "       'num_chlamydia_cases', 'chlamydia_rate', 'teen_birth_rate',\n",
       "       'num_uninsured', 'percent_uninsured', 'num_primary_care_physicians',\n",
       "       'primary_care_physicians_rate', 'num_dentists', 'dentist_rate',\n",
       "       'num_mental_health_providers', 'mental_health_provider_rate',\n",
       "       'preventable_hospitalization_rate', 'percent_with_annual_mammogram',\n",
       "       'percent_vaccinated', 'high_school_graduation_rate', 'num_some_college',\n",
       "       'population', 'percent_some_college', 'num_unemployed_CHR',\n",
       "       'labor_force', 'percent_unemployed_CHR', 'percent_children_in_poverty',\n",
       "       'eightieth_percentile_income', 'twentieth_percentile_income',\n",
       "       'income_ratio', 'num_single_parent_households_CHR',\n",
       "       'num_households_CHR', 'percent_single_parent_households_CHR',\n",
       "       'num_associations', 'social_association_rate',\n",
       "       'annual_average_violent_crimes'],\n",
       "      dtype='object')"
      ]
     },
     "execution_count": 46,
     "metadata": {},
     "output_type": "execute_result"
    }
   ],
   "source": [
    "data = pd.read_csv('county_data.csv').iloc[:, 1:]\n",
    "# first 57 features (included incremental_cases and entity for identification purposes)\n",
    "data = data.iloc[:, [-1] + [-2] + list(range(57))]\n",
    "data.columns"
   ]
  },
  {
   "cell_type": "code",
   "execution_count": 47,
   "id": "d8a82dc7",
   "metadata": {},
   "outputs": [],
   "source": [
    "# Step 1: remove features based on domain knowledge / common sense / redundency\n",
    "    # fips: unique identifier of county (redundant with 'entity')\n",
    "    # deaths: COVID-19 deaths (can't act as a predictor for COVID cases as it provides overly relevant info)\n",
    "    # total_population vs. population: not sure about the difference but will keep both for now\n",
    "\n",
    "data = data.drop(columns = ['fips', 'deaths', 'cases'])"
   ]
  },
  {
   "cell_type": "code",
   "execution_count": 48,
   "id": "847b7f54",
   "metadata": {},
   "outputs": [
    {
     "data": {
      "text/plain": [
       "[]"
      ]
     },
     "execution_count": 48,
     "metadata": {},
     "output_type": "execute_result"
    }
   ],
   "source": [
    "# Step 2: remove constant or quasi constant features\n",
    "\n",
    "def quasi_constant(df, threshold):\n",
    "    quasi_constant_cols = []\n",
    "    for col in df.columns:\n",
    "        dominant_freq = df[col].value_counts(normalize=True).values[0]\n",
    "        if dominant_freq >= threshold:\n",
    "            quasi_constant_cols.append(col)\n",
    "    return quasi_constant_cols\n",
    "\n",
    "quasi_constant(data, threshold=0.95)"
   ]
  },
  {
   "cell_type": "code",
   "execution_count": 49,
   "id": "510f64dc",
   "metadata": {},
   "outputs": [
    {
     "data": {
      "text/plain": [
       "incremental_cases                                  0\n",
       "entity                                             0\n",
       "date                                               0\n",
       "stay_at_home_announced                             0\n",
       "stay_at_home_effective                             0\n",
       "lat                                                0\n",
       "lon                                                0\n",
       "total_population                                   0\n",
       "area_sqmi                                          0\n",
       "population_density_per_sqmi                        0\n",
       "num_deaths                                         0\n",
       "years_of_potential_life_lost_rate                  0\n",
       "percent_fair_or_poor_health                        0\n",
       "average_number_of_physically_unhealthy_days        0\n",
       "average_number_of_mentally_unhealthy_days          0\n",
       "percent_low_birthweight                            0\n",
       "percent_smokers                                    0\n",
       "percent_adults_with_obesity                        0\n",
       "food_environment_index                             0\n",
       "percent_physically_inactive                        0\n",
       "percent_with_access_to_exercise_opportunities      0\n",
       "percent_excessive_drinking                         0\n",
       "num_alcohol_impaired_driving_deaths                0\n",
       "num_driving_deaths                                 0\n",
       "percent_driving_deaths_with_alcohol_involvement    0\n",
       "num_chlamydia_cases                                0\n",
       "chlamydia_rate                                     0\n",
       "teen_birth_rate                                    0\n",
       "num_uninsured                                      0\n",
       "percent_uninsured                                  0\n",
       "num_primary_care_physicians                        0\n",
       "primary_care_physicians_rate                       0\n",
       "num_dentists                                       0\n",
       "dentist_rate                                       0\n",
       "num_mental_health_providers                        0\n",
       "mental_health_provider_rate                        0\n",
       "preventable_hospitalization_rate                   0\n",
       "percent_with_annual_mammogram                      0\n",
       "percent_vaccinated                                 0\n",
       "high_school_graduation_rate                        0\n",
       "num_some_college                                   0\n",
       "population                                         0\n",
       "percent_some_college                               0\n",
       "num_unemployed_CHR                                 0\n",
       "labor_force                                        0\n",
       "percent_unemployed_CHR                             0\n",
       "percent_children_in_poverty                        0\n",
       "eightieth_percentile_income                        0\n",
       "twentieth_percentile_income                        0\n",
       "income_ratio                                       0\n",
       "num_single_parent_households_CHR                   0\n",
       "num_households_CHR                                 0\n",
       "percent_single_parent_households_CHR               0\n",
       "num_associations                                   0\n",
       "social_association_rate                            0\n",
       "annual_average_violent_crimes                      0\n",
       "dtype: int64"
      ]
     },
     "execution_count": 49,
     "metadata": {},
     "output_type": "execute_result"
    }
   ],
   "source": [
    "# Step 3: missing value check\n",
    "data.isna().sum()"
   ]
  },
  {
   "cell_type": "code",
   "execution_count": 50,
   "id": "2e6e182b",
   "metadata": {},
   "outputs": [
    {
     "data": {
      "text/plain": [
       "incremental_cases                                  1.000000\n",
       "lat                                               -0.109130\n",
       "lon                                                0.341288\n",
       "total_population                                   0.564404\n",
       "area_sqmi                                          0.293254\n",
       "population_density_per_sqmi                        0.377503\n",
       "num_deaths                                         0.582624\n",
       "years_of_potential_life_lost_rate                  0.119723\n",
       "percent_fair_or_poor_health                        0.418826\n",
       "average_number_of_physically_unhealthy_days        0.104057\n",
       "average_number_of_mentally_unhealthy_days         -0.029682\n",
       "percent_low_birthweight                            0.331033\n",
       "percent_smokers                                    0.152817\n",
       "percent_adults_with_obesity                       -0.012846\n",
       "food_environment_index                             0.041224\n",
       "percent_physically_inactive                        0.037210\n",
       "percent_with_access_to_exercise_opportunities      0.199647\n",
       "percent_excessive_drinking                         0.078148\n",
       "num_alcohol_impaired_driving_deaths                0.543962\n",
       "num_driving_deaths                                 0.535494\n",
       "percent_driving_deaths_with_alcohol_involvement   -0.273234\n",
       "num_chlamydia_cases                                0.580553\n",
       "chlamydia_rate                                     0.382992\n",
       "teen_birth_rate                                    0.332899\n",
       "num_uninsured                                      0.573468\n",
       "percent_uninsured                                  0.382971\n",
       "num_primary_care_physicians                        0.559827\n",
       "primary_care_physicians_rate                      -0.264891\n",
       "num_dentists                                       0.551712\n",
       "dentist_rate                                      -0.049806\n",
       "num_mental_health_providers                        0.537121\n",
       "mental_health_provider_rate                       -0.275311\n",
       "preventable_hospitalization_rate                   0.445322\n",
       "percent_with_annual_mammogram                     -0.194681\n",
       "percent_vaccinated                                -0.155537\n",
       "high_school_graduation_rate                        0.010783\n",
       "num_some_college                                   0.563956\n",
       "population                                         0.565007\n",
       "percent_some_college                              -0.146633\n",
       "num_unemployed_CHR                                 0.564929\n",
       "labor_force                                        0.563031\n",
       "percent_unemployed_CHR                             0.272369\n",
       "percent_children_in_poverty                        0.392209\n",
       "eightieth_percentile_income                       -0.158027\n",
       "twentieth_percentile_income                       -0.315149\n",
       "income_ratio                                       0.378405\n",
       "num_single_parent_households_CHR                   0.576671\n",
       "num_households_CHR                                 0.565338\n",
       "percent_single_parent_households_CHR               0.303613\n",
       "num_associations                                   0.571627\n",
       "social_association_rate                           -0.105449\n",
       "annual_average_violent_crimes                      0.579791\n",
       "Name: incremental_cases, dtype: float64"
      ]
     },
     "execution_count": 50,
     "metadata": {},
     "output_type": "execute_result"
    }
   ],
   "source": [
    "# Step 4: correlation analysis\n",
    "\n",
    "data.corr()['incremental_cases']"
   ]
  },
  {
   "cell_type": "code",
   "execution_count": null,
   "id": "73a92ef8",
   "metadata": {},
   "outputs": [],
   "source": []
  }
 ],
 "metadata": {
  "kernelspec": {
   "display_name": "Python 3 (ipykernel)",
   "language": "python",
   "name": "python3"
  },
  "language_info": {
   "codemirror_mode": {
    "name": "ipython",
    "version": 3
   },
   "file_extension": ".py",
   "mimetype": "text/x-python",
   "name": "python",
   "nbconvert_exporter": "python",
   "pygments_lexer": "ipython3",
   "version": "3.9.7"
  }
 },
 "nbformat": 4,
 "nbformat_minor": 5
}
