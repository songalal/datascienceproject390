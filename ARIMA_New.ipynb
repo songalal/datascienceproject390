{
 "cells": [
  {
   "cell_type": "code",
   "execution_count": 1,
   "id": "137bf7b5",
   "metadata": {},
   "outputs": [],
   "source": [
    "import warnings\n",
    "from statsmodels.tools.sm_exceptions import ConvergenceWarning\n",
    "from statsmodels.tools.sm_exceptions import ValueWarning\n",
    "from sklearn.metrics import r2_score, mean_squared_error\n",
    "from statsmodels.tsa.arima.model import ARIMA\n",
    "\n",
    "warnings.filterwarnings('ignore', category=ValueWarning)\n",
    "warnings.filterwarnings('ignore', category=ConvergenceWarning)\n",
    "warnings.filterwarnings('ignore')\n",
    "import pandas as pd\n",
    "import numpy as np\n",
    "import matplotlib.pyplot as plt\n",
    "import seaborn as sns\n",
    "import statsmodels.api as sm\n",
    "\n",
    "from statsmodels.tsa.stattools import adfuller\n",
    "\n",
    "data = pd.read_csv('finalized_county.csv').iloc[:, 1:]"
   ]
  },
  {
   "cell_type": "code",
   "execution_count": 2,
   "id": "e494121b",
   "metadata": {},
   "outputs": [
    {
     "data": {
      "text/plain": [
       "array(['Los Angeles', 'Orange', 'San Diego', 'Miami-Dade', 'Cook',\n",
       "       'Clark', 'Nassau', 'New York City', 'Suffolk', 'Philadelphia',\n",
       "       'Harris', 'Tarrant'], dtype=object)"
      ]
     },
     "execution_count": 2,
     "metadata": {},
     "output_type": "execute_result"
    }
   ],
   "source": [
    "data.county.unique()"
   ]
  },
  {
   "cell_type": "code",
   "execution_count": 3,
   "id": "dbf9c03e",
   "metadata": {},
   "outputs": [],
   "source": [
    "def difference(df):\n",
    "    df['incremental_cases'] = df['incremental_cases'].diff().fillna(df['incremental_cases'])\n",
    "    return df"
   ]
  },
  {
   "cell_type": "markdown",
   "id": "fbdac7f2",
   "metadata": {},
   "source": [
    "## New York City"
   ]
  },
  {
   "cell_type": "code",
   "execution_count": 64,
   "id": "1b07dc00",
   "metadata": {},
   "outputs": [
    {
     "data": {
      "text/plain": [
       "(-4.02774263036756, 0.001272010438045099)"
      ]
     },
     "execution_count": 64,
     "metadata": {},
     "output_type": "execute_result"
    }
   ],
   "source": [
    "nyc = data[data['county'] == 'New York City'].loc[:, ['date', 'incremental_cases']]\n",
    "nyc['incremental_cases'] = nyc['incremental_cases'].astype('int')\n",
    "nyc['date'] = pd.to_datetime(nyc['date'], format=\"%Y-%m-%d\")\n",
    "\n",
    "# use 85%-15% for train-test split\n",
    "train = nyc.iloc[:230, :]\n",
    "test = nyc.iloc[230:, :]\n",
    "\n",
    "def stationary_test(series):\n",
    "    result = adfuller(series)\n",
    "    return (result[0], result[1])\n",
    "\n",
    "# NYC data is stationary without any differencing\n",
    "stationary_test(train.incremental_cases)"
   ]
  },
  {
   "cell_type": "markdown",
   "id": "7eac42e8",
   "metadata": {},
   "source": [
    "# USE THIS CODE FOR TUNING - START"
   ]
  },
  {
   "cell_type": "code",
   "execution_count": 75,
   "id": "48c93160",
   "metadata": {},
   "outputs": [
    {
     "name": "stdout",
     "output_type": "stream",
     "text": [
      "Best ARIMA parameters: (5, 2, 0) with MSE: 11259.646470042439\n"
     ]
    }
   ],
   "source": [
    "from sklearn.model_selection import TimeSeriesSplit\n",
    "from statsmodels.tsa.arima.model import ARIMA\n",
    "from sklearn.metrics import mean_squared_error\n",
    "import numpy as np\n",
    "\n",
    "train = train.loc[:, ['incremental_cases']].reset_index().drop(columns = 'index')\n",
    "n_splits = 3\n",
    "\n",
    "tscv = TimeSeriesSplit(n_splits=n_splits)\n",
    "\n",
    "p_values = [0, 1, 5, 10]\n",
    "d_values = [0, 2, 4, 6]\n",
    "q_values = [0, 1, 5, 10]\n",
    "\n",
    "best_score, best_cfg = float(\"inf\"), None\n",
    "\n",
    "for train_index, val_index in tscv.split(train):\n",
    "    train_data, val_data = train.loc[train_index, :], train.loc[val_index, :]\n",
    "\n",
    "    for p in p_values:\n",
    "        for d in d_values:\n",
    "            for q in q_values:\n",
    "                order = (p, d, q)\n",
    "                model = ARIMA(train_data.incremental_cases, order = order).fit()\n",
    "                forecast = model.forecast(steps=val_data.shape[0])\n",
    "                mse = mean_squared_error(val_data.incremental_cases, forecast)\n",
    "                if mse < best_score:\n",
    "                    best_score, best_cfg = mse, order\n",
    "\n",
    "print(f'Best ARIMA parameters: {best_cfg} with MSE: {best_score}')\n"
   ]
  },
  {
   "cell_type": "markdown",
   "id": "230a9791",
   "metadata": {},
   "source": [
    "# USE THIS CODE FOR TUNING - END"
   ]
  },
  {
   "cell_type": "code",
   "execution_count": 76,
   "id": "9a60158a",
   "metadata": {},
   "outputs": [
    {
     "name": "stdout",
     "output_type": "stream",
     "text": [
      "0.28000803564271615\n"
     ]
    },
    {
     "data": {
      "text/plain": [
       "<AxesSubplot:xlabel='date'>"
      ]
     },
     "execution_count": 76,
     "metadata": {},
     "output_type": "execute_result"
    },
    {
     "data": {
      "image/png": "[encoded data removed]",
      "text/plain": [
       "<Figure size 432x288 with 1 Axes>"
      ]
     },
     "metadata": {
      "needs_background": "light"
     },
     "output_type": "display_data"
    }
   ],
   "source": [
    "model = ARIMA(train.incremental_cases, order=(5, 2, 0)).fit()\n",
    "pred = model.forecast(steps=40)\n",
    "r2 = r2_score(test.incremental_cases, pred)\n",
    "print(r2)\n",
    "\n",
    "prediction = pd.DataFrame({'actual':test.incremental_cases.reset_index(drop = True), \n",
    "              'pred':pred.reset_index(drop = True)})\n",
    "prediction['date'] = test['date'].reset_index(drop = True)\n",
    "prediction.plot(x = 'date', y = ['actual', 'pred'])"
   ]
  },
  {
   "cell_type": "code",
   "execution_count": 77,
   "id": "48da194a",
   "metadata": {},
   "outputs": [
    {
     "name": "stdout",
     "output_type": "stream",
     "text": [
      "Best ARIMA parameters: (4, 2, 1) with MSE: 3536.2832660647477\n"
     ]
    }
   ],
   "source": [
    "p_values = [4, 5, 6]\n",
    "d_values = [0, 1, 2, 3]\n",
    "q_values = [0, 1, 2, 3]\n",
    "\n",
    "best_score, best_cfg = float(\"inf\"), None\n",
    "\n",
    "for train_index, val_index in tscv.split(train):\n",
    "    train_data, val_data = train.loc[train_index, :], train.loc[val_index, :]\n",
    "\n",
    "    for p in p_values:\n",
    "        for d in d_values:\n",
    "            for q in q_values:\n",
    "                order = (p, d, q)\n",
    "                model = ARIMA(train_data.incremental_cases, order = order).fit()\n",
    "                forecast = model.forecast(steps=val_data.shape[0])\n",
    "                mse = mean_squared_error(val_data.incremental_cases, forecast)\n",
    "                if mse < best_score:\n",
    "                    best_score, best_cfg = mse, order\n",
    "\n",
    "print(f'Best ARIMA parameters: {best_cfg} with MSE: {best_score}')"
   ]
  },
  {
   "cell_type": "code",
   "execution_count": 78,
   "id": "2fb84927",
   "metadata": {},
   "outputs": [
    {
     "name": "stdout",
     "output_type": "stream",
     "text": [
      "-0.8616507481082298\n"
     ]
    },
    {
     "data": {
      "text/plain": [
       "<AxesSubplot:xlabel='date'>"
      ]
     },
     "execution_count": 78,
     "metadata": {},
     "output_type": "execute_result"
    },
    {
     "data": {
      "image/png": "[encoded data removed]",
      "text/plain": [
       "<Figure size 432x288 with 1 Axes>"
      ]
     },
     "metadata": {
      "needs_background": "light"
     },
     "output_type": "display_data"
    }
   ],
   "source": [
    "model = ARIMA(train.incremental_cases, order=(4, 2, 1)).fit()\n",
    "pred = model.forecast(steps=40)\n",
    "r2 = r2_score(test.incremental_cases, pred)\n",
    "print(r2)\n",
    "\n",
    "prediction = pd.DataFrame({'actual':test.incremental_cases.reset_index(drop = True), \n",
    "              'pred':pred.reset_index(drop = True)})\n",
    "prediction['date'] = test['date'].reset_index(drop = True)\n",
    "prediction.plot(x = 'date', y = ['actual', 'pred'])"
   ]
  },
  {
   "cell_type": "code",
   "execution_count": 5,
   "id": "c584a8bf",
   "metadata": {},
   "outputs": [
    {
     "data": {
      "text/html": [
       "<div>\n",
       "<style scoped>\n",
       "    .dataframe tbody tr th:only-of-type {\n",
       "        vertical-align: middle;\n",
       "    }\n",
       "\n",
       "    .dataframe tbody tr th {\n",
       "        vertical-align: top;\n",
       "    }\n",
       "\n",
       "    .dataframe thead th {\n",
       "        text-align: right;\n",
       "    }\n",
       "</style>\n",
       "<table border=\"1\" class=\"dataframe\">\n",
       "  <thead>\n",
       "    <tr style=\"text-align: right;\">\n",
       "      <th></th>\n",
       "      <th>p</th>\n",
       "      <th>d</th>\n",
       "      <th>q</th>\n",
       "      <th>aic</th>\n",
       "    </tr>\n",
       "  </thead>\n",
       "  <tbody>\n",
       "    <tr>\n",
       "      <th>6</th>\n",
       "      <td>0</td>\n",
       "      <td>2</td>\n",
       "      <td>5</td>\n",
       "      <td>3492.210783</td>\n",
       "    </tr>\n",
       "    <tr>\n",
       "      <th>11</th>\n",
       "      <td>0</td>\n",
       "      <td>4</td>\n",
       "      <td>10</td>\n",
       "      <td>3494.166152</td>\n",
       "    </tr>\n",
       "    <tr>\n",
       "      <th>22</th>\n",
       "      <td>1</td>\n",
       "      <td>2</td>\n",
       "      <td>5</td>\n",
       "      <td>3494.174564</td>\n",
       "    </tr>\n",
       "    <tr>\n",
       "      <th>7</th>\n",
       "      <td>0</td>\n",
       "      <td>2</td>\n",
       "      <td>10</td>\n",
       "      <td>3495.394601</td>\n",
       "    </tr>\n",
       "    <tr>\n",
       "      <th>54</th>\n",
       "      <td>10</td>\n",
       "      <td>2</td>\n",
       "      <td>5</td>\n",
       "      <td>3497.257365</td>\n",
       "    </tr>\n",
       "    <tr>\n",
       "      <th>...</th>\n",
       "      <td>...</td>\n",
       "      <td>...</td>\n",
       "      <td>...</td>\n",
       "      <td>...</td>\n",
       "    </tr>\n",
       "    <tr>\n",
       "      <th>8</th>\n",
       "      <td>0</td>\n",
       "      <td>4</td>\n",
       "      <td>0</td>\n",
       "      <td>4271.733651</td>\n",
       "    </tr>\n",
       "    <tr>\n",
       "      <th>29</th>\n",
       "      <td>1</td>\n",
       "      <td>6</td>\n",
       "      <td>1</td>\n",
       "      <td>4335.896481</td>\n",
       "    </tr>\n",
       "    <tr>\n",
       "      <th>13</th>\n",
       "      <td>0</td>\n",
       "      <td>6</td>\n",
       "      <td>1</td>\n",
       "      <td>4516.209564</td>\n",
       "    </tr>\n",
       "    <tr>\n",
       "      <th>28</th>\n",
       "      <td>1</td>\n",
       "      <td>6</td>\n",
       "      <td>0</td>\n",
       "      <td>4584.501578</td>\n",
       "    </tr>\n",
       "    <tr>\n",
       "      <th>12</th>\n",
       "      <td>0</td>\n",
       "      <td>6</td>\n",
       "      <td>0</td>\n",
       "      <td>4790.930834</td>\n",
       "    </tr>\n",
       "  </tbody>\n",
       "</table>\n",
       "<p>64 rows × 4 columns</p>\n",
       "</div>"
      ],
      "text/plain": [
       "     p  d   q          aic\n",
       "6    0  2   5  3492.210783\n",
       "11   0  4  10  3494.166152\n",
       "22   1  2   5  3494.174564\n",
       "7    0  2  10  3495.394601\n",
       "54  10  2   5  3497.257365\n",
       "..  .. ..  ..          ...\n",
       "8    0  4   0  4271.733651\n",
       "29   1  6   1  4335.896481\n",
       "13   0  6   1  4516.209564\n",
       "28   1  6   0  4584.501578\n",
       "12   0  6   0  4790.930834\n",
       "\n",
       "[64 rows x 4 columns]"
      ]
     },
     "execution_count": 5,
     "metadata": {},
     "output_type": "execute_result"
    }
   ],
   "source": [
    "p_values = [0, 1, 5, 10]\n",
    "d_values = [0, 2, 4, 6]\n",
    "q_values = [0, 1, 5, 10]\n",
    "results = []\n",
    "prev = float('inf')\n",
    "for p in p_values:\n",
    "    for d in d_values:\n",
    "        for q in q_values:\n",
    "            param = (p, d, q)\n",
    "            model = ARIMA(train.incremental_cases, order=param).fit()\n",
    "            results.append([p, d, q, model.aic])\n",
    "pd.DataFrame(results, columns=['p','d','q', 'aic']).sort_values('aic')"
   ]
  },
  {
   "cell_type": "code",
   "execution_count": 6,
   "id": "3a7380c5",
   "metadata": {},
   "outputs": [
    {
     "name": "stdout",
     "output_type": "stream",
     "text": [
      "-0.44394918357353497\n"
     ]
    },
    {
     "data": {
      "text/plain": [
       "<AxesSubplot:xlabel='date'>"
      ]
     },
     "execution_count": 6,
     "metadata": {},
     "output_type": "execute_result"
    },
    {
     "data": {
      "image/png": "[encoded data removed]",
      "text/plain": [
       "<Figure size 432x288 with 1 Axes>"
      ]
     },
     "metadata": {
      "needs_background": "light"
     },
     "output_type": "display_data"
    }
   ],
   "source": [
    "model = ARIMA(train.incremental_cases, order=(0, 2, 5)).fit()\n",
    "pred = model.forecast(steps=40)\n",
    "r2 = r2_score(test.incremental_cases, pred)\n",
    "print(r2)\n",
    "\n",
    "prediction = pd.DataFrame({'actual':test.incremental_cases.reset_index(drop = True), \n",
    "              'pred':pred.reset_index(drop = True)})\n",
    "prediction['date'] = test['date'].reset_index(drop = True)\n",
    "prediction.plot(x = 'date', y = ['actual', 'pred'])"
   ]
  },
  {
   "cell_type": "code",
   "execution_count": 7,
   "id": "40bfbe96",
   "metadata": {},
   "outputs": [
    {
     "name": "stdout",
     "output_type": "stream",
     "text": [
      "0.8715586512498383\n"
     ]
    },
    {
     "data": {
      "text/plain": [
       "<AxesSubplot:xlabel='date'>"
      ]
     },
     "execution_count": 7,
     "metadata": {},
     "output_type": "execute_result"
    },
    {
     "data": {
      "image/png": "[encoded data removed]",
      "text/plain": [
       "<Figure size 432x288 with 1 Axes>"
      ]
     },
     "metadata": {
      "needs_background": "light"
     },
     "output_type": "display_data"
    }
   ],
   "source": [
    "model = ARIMA(train.incremental_cases, order=(0, 4, 10)).fit()\n",
    "pred = model.forecast(steps=40)\n",
    "r2 = r2_score(test.incremental_cases, pred)\n",
    "print(r2)\n",
    "\n",
    "prediction = pd.DataFrame({'actual':test.incremental_cases.reset_index(drop = True), \n",
    "              'pred':pred.reset_index(drop = True)})\n",
    "prediction['date'] = test['date'].reset_index(drop = True)\n",
    "prediction.plot(x = 'date', y = ['actual', 'pred'])"
   ]
  },
  {
   "cell_type": "code",
   "execution_count": 23,
   "id": "00f93fba",
   "metadata": {},
   "outputs": [
    {
     "data": {
      "text/html": [
       "<div>\n",
       "<style scoped>\n",
       "    .dataframe tbody tr th:only-of-type {\n",
       "        vertical-align: middle;\n",
       "    }\n",
       "\n",
       "    .dataframe tbody tr th {\n",
       "        vertical-align: top;\n",
       "    }\n",
       "\n",
       "    .dataframe thead th {\n",
       "        text-align: right;\n",
       "    }\n",
       "</style>\n",
       "<table border=\"1\" class=\"dataframe\">\n",
       "  <thead>\n",
       "    <tr style=\"text-align: right;\">\n",
       "      <th></th>\n",
       "      <th>p</th>\n",
       "      <th>d</th>\n",
       "      <th>q</th>\n",
       "      <th>bic</th>\n",
       "    </tr>\n",
       "  </thead>\n",
       "  <tbody>\n",
       "    <tr>\n",
       "      <th>6</th>\n",
       "      <td>0</td>\n",
       "      <td>2</td>\n",
       "      <td>5</td>\n",
       "      <td>3512.786857</td>\n",
       "    </tr>\n",
       "    <tr>\n",
       "      <th>22</th>\n",
       "      <td>1</td>\n",
       "      <td>2</td>\n",
       "      <td>5</td>\n",
       "      <td>3518.179983</td>\n",
       "    </tr>\n",
       "    <tr>\n",
       "      <th>10</th>\n",
       "      <td>0</td>\n",
       "      <td>4</td>\n",
       "      <td>5</td>\n",
       "      <td>3528.237360</td>\n",
       "    </tr>\n",
       "    <tr>\n",
       "      <th>11</th>\n",
       "      <td>0</td>\n",
       "      <td>4</td>\n",
       "      <td>10</td>\n",
       "      <td>3531.792037</td>\n",
       "    </tr>\n",
       "    <tr>\n",
       "      <th>7</th>\n",
       "      <td>0</td>\n",
       "      <td>2</td>\n",
       "      <td>10</td>\n",
       "      <td>3533.117403</td>\n",
       "    </tr>\n",
       "    <tr>\n",
       "      <th>...</th>\n",
       "      <td>...</td>\n",
       "      <td>...</td>\n",
       "      <td>...</td>\n",
       "      <td>...</td>\n",
       "    </tr>\n",
       "    <tr>\n",
       "      <th>8</th>\n",
       "      <td>0</td>\n",
       "      <td>4</td>\n",
       "      <td>0</td>\n",
       "      <td>4275.154186</td>\n",
       "    </tr>\n",
       "    <tr>\n",
       "      <th>29</th>\n",
       "      <td>1</td>\n",
       "      <td>6</td>\n",
       "      <td>1</td>\n",
       "      <td>4346.131419</td>\n",
       "    </tr>\n",
       "    <tr>\n",
       "      <th>13</th>\n",
       "      <td>0</td>\n",
       "      <td>6</td>\n",
       "      <td>1</td>\n",
       "      <td>4523.032856</td>\n",
       "    </tr>\n",
       "    <tr>\n",
       "      <th>28</th>\n",
       "      <td>1</td>\n",
       "      <td>6</td>\n",
       "      <td>0</td>\n",
       "      <td>4591.324870</td>\n",
       "    </tr>\n",
       "    <tr>\n",
       "      <th>12</th>\n",
       "      <td>0</td>\n",
       "      <td>6</td>\n",
       "      <td>0</td>\n",
       "      <td>4794.342480</td>\n",
       "    </tr>\n",
       "  </tbody>\n",
       "</table>\n",
       "<p>64 rows × 4 columns</p>\n",
       "</div>"
      ],
      "text/plain": [
       "    p  d   q          bic\n",
       "6   0  2   5  3512.786857\n",
       "22  1  2   5  3518.179983\n",
       "10  0  4   5  3528.237360\n",
       "11  0  4  10  3531.792037\n",
       "7   0  2  10  3533.117403\n",
       ".. .. ..  ..          ...\n",
       "8   0  4   0  4275.154186\n",
       "29  1  6   1  4346.131419\n",
       "13  0  6   1  4523.032856\n",
       "28  1  6   0  4591.324870\n",
       "12  0  6   0  4794.342480\n",
       "\n",
       "[64 rows x 4 columns]"
      ]
     },
     "execution_count": 23,
     "metadata": {},
     "output_type": "execute_result"
    }
   ],
   "source": [
    "p_values = [0, 1, 5, 10]\n",
    "d_values = [0, 2, 4, 6]\n",
    "q_values = [0, 1, 5, 10]\n",
    "results = []\n",
    "prev = float('inf')\n",
    "for p in p_values:\n",
    "    for d in d_values:\n",
    "        for q in q_values:\n",
    "            param = (p, d, q)\n",
    "            model = ARIMA(train.incremental_cases, order=param).fit()\n",
    "            results.append([p, d, q, model.bic])\n",
    "pd.DataFrame(results, columns=['p','d','q', 'bic']).sort_values('bic')"
   ]
  },
  {
   "cell_type": "code",
   "execution_count": 24,
   "id": "74837227",
   "metadata": {},
   "outputs": [
    {
     "name": "stdout",
     "output_type": "stream",
     "text": [
      "-0.44394918357353497\n"
     ]
    },
    {
     "data": {
      "text/plain": [
       "<AxesSubplot:xlabel='date'>"
      ]
     },
     "execution_count": 24,
     "metadata": {},
     "output_type": "execute_result"
    },
    {
     "data": {
      "image/png": "[encoded data removed]",
      "text/plain": [
       "<Figure size 432x288 with 1 Axes>"
      ]
     },
     "metadata": {
      "needs_background": "light"
     },
     "output_type": "display_data"
    }
   ],
   "source": [
    "model = ARIMA(train.incremental_cases, order=(0, 2, 5)).fit()\n",
    "pred = model.forecast(steps=40)\n",
    "r2 = r2_score(test.incremental_cases, pred)\n",
    "print(r2)\n",
    "\n",
    "prediction = pd.DataFrame({'actual':test.incremental_cases.reset_index(drop = True), \n",
    "              'pred':pred.reset_index(drop = True)})\n",
    "prediction['date'] = test['date'].reset_index(drop = True)\n",
    "prediction.plot(x = 'date', y = ['actual', 'pred'])"
   ]
  },
  {
   "cell_type": "code",
   "execution_count": 25,
   "id": "2fa9d2b0",
   "metadata": {},
   "outputs": [
    {
     "name": "stdout",
     "output_type": "stream",
     "text": [
      "-0.39968265059569186\n"
     ]
    },
    {
     "data": {
      "text/plain": [
       "<AxesSubplot:xlabel='date'>"
      ]
     },
     "execution_count": 25,
     "metadata": {},
     "output_type": "execute_result"
    },
    {
     "data": {
      "image/png": "[encoded data removed]",
      "text/plain": [
       "<Figure size 432x288 with 1 Axes>"
      ]
     },
     "metadata": {
      "needs_background": "light"
     },
     "output_type": "display_data"
    }
   ],
   "source": [
    "model = ARIMA(train.incremental_cases, order=(1, 2, 5)).fit()\n",
    "pred = model.forecast(steps=40)\n",
    "r2 = r2_score(test.incremental_cases, pred)\n",
    "print(r2)\n",
    "\n",
    "prediction = pd.DataFrame({'actual':test.incremental_cases.reset_index(drop = True), \n",
    "              'pred':pred.reset_index(drop = True)})\n",
    "prediction['date'] = test['date'].reset_index(drop = True)\n",
    "prediction.plot(x = 'date', y = ['actual', 'pred'])"
   ]
  },
  {
   "cell_type": "code",
   "execution_count": 26,
   "id": "b7ecf82f",
   "metadata": {},
   "outputs": [
    {
     "name": "stdout",
     "output_type": "stream",
     "text": [
      "0.598787705899696\n"
     ]
    },
    {
     "data": {
      "text/plain": [
       "<AxesSubplot:xlabel='date'>"
      ]
     },
     "execution_count": 26,
     "metadata": {},
     "output_type": "execute_result"
    },
    {
     "data": {
      "image/png": "[encoded data removed]",
      "text/plain": [
       "<Figure size 432x288 with 1 Axes>"
      ]
     },
     "metadata": {
      "needs_background": "light"
     },
     "output_type": "display_data"
    }
   ],
   "source": [
    "model = ARIMA(train.incremental_cases, order=(0, 4, 5)).fit()\n",
    "pred = model.forecast(steps=40)\n",
    "r2 = r2_score(test.incremental_cases, pred)\n",
    "print(r2)\n",
    "\n",
    "prediction = pd.DataFrame({'actual':test.incremental_cases.reset_index(drop = True), \n",
    "              'pred':pred.reset_index(drop = True)})\n",
    "prediction['date'] = test['date'].reset_index(drop = True)\n",
    "prediction.plot(x = 'date', y = ['actual', 'pred'])"
   ]
  },
  {
   "cell_type": "code",
   "execution_count": 9,
   "id": "d916f7d0",
   "metadata": {},
   "outputs": [
    {
     "data": {
      "text/html": [
       "<div>\n",
       "<style scoped>\n",
       "    .dataframe tbody tr th:only-of-type {\n",
       "        vertical-align: middle;\n",
       "    }\n",
       "\n",
       "    .dataframe tbody tr th {\n",
       "        vertical-align: top;\n",
       "    }\n",
       "\n",
       "    .dataframe thead th {\n",
       "        text-align: right;\n",
       "    }\n",
       "</style>\n",
       "<table border=\"1\" class=\"dataframe\">\n",
       "  <thead>\n",
       "    <tr style=\"text-align: right;\">\n",
       "      <th></th>\n",
       "      <th>p</th>\n",
       "      <th>d</th>\n",
       "      <th>q</th>\n",
       "      <th>aic</th>\n",
       "    </tr>\n",
       "  </thead>\n",
       "  <tbody>\n",
       "    <tr>\n",
       "      <th>36</th>\n",
       "      <td>2</td>\n",
       "      <td>3</td>\n",
       "      <td>8</td>\n",
       "      <td>3483.958141</td>\n",
       "    </tr>\n",
       "    <tr>\n",
       "      <th>21</th>\n",
       "      <td>1</td>\n",
       "      <td>3</td>\n",
       "      <td>10</td>\n",
       "      <td>3488.933984</td>\n",
       "    </tr>\n",
       "    <tr>\n",
       "      <th>4</th>\n",
       "      <td>0</td>\n",
       "      <td>3</td>\n",
       "      <td>8</td>\n",
       "      <td>3490.384100</td>\n",
       "    </tr>\n",
       "    <tr>\n",
       "      <th>52</th>\n",
       "      <td>3</td>\n",
       "      <td>3</td>\n",
       "      <td>8</td>\n",
       "      <td>3491.279720</td>\n",
       "    </tr>\n",
       "    <tr>\n",
       "      <th>0</th>\n",
       "      <td>0</td>\n",
       "      <td>2</td>\n",
       "      <td>8</td>\n",
       "      <td>3492.626165</td>\n",
       "    </tr>\n",
       "    <tr>\n",
       "      <th>...</th>\n",
       "      <td>...</td>\n",
       "      <td>...</td>\n",
       "      <td>...</td>\n",
       "      <td>...</td>\n",
       "    </tr>\n",
       "    <tr>\n",
       "      <th>13</th>\n",
       "      <td>0</td>\n",
       "      <td>5</td>\n",
       "      <td>10</td>\n",
       "      <td>3869.870002</td>\n",
       "    </tr>\n",
       "    <tr>\n",
       "      <th>3</th>\n",
       "      <td>0</td>\n",
       "      <td>2</td>\n",
       "      <td>14</td>\n",
       "      <td>3959.350010</td>\n",
       "    </tr>\n",
       "    <tr>\n",
       "      <th>35</th>\n",
       "      <td>2</td>\n",
       "      <td>2</td>\n",
       "      <td>14</td>\n",
       "      <td>4062.188361</td>\n",
       "    </tr>\n",
       "    <tr>\n",
       "      <th>19</th>\n",
       "      <td>1</td>\n",
       "      <td>2</td>\n",
       "      <td>14</td>\n",
       "      <td>4182.451896</td>\n",
       "    </tr>\n",
       "    <tr>\n",
       "      <th>51</th>\n",
       "      <td>3</td>\n",
       "      <td>2</td>\n",
       "      <td>14</td>\n",
       "      <td>4439.763154</td>\n",
       "    </tr>\n",
       "  </tbody>\n",
       "</table>\n",
       "<p>64 rows × 4 columns</p>\n",
       "</div>"
      ],
      "text/plain": [
       "    p  d   q          aic\n",
       "36  2  3   8  3483.958141\n",
       "21  1  3  10  3488.933984\n",
       "4   0  3   8  3490.384100\n",
       "52  3  3   8  3491.279720\n",
       "0   0  2   8  3492.626165\n",
       ".. .. ..  ..          ...\n",
       "13  0  5  10  3869.870002\n",
       "3   0  2  14  3959.350010\n",
       "35  2  2  14  4062.188361\n",
       "19  1  2  14  4182.451896\n",
       "51  3  2  14  4439.763154\n",
       "\n",
       "[64 rows x 4 columns]"
      ]
     },
     "execution_count": 9,
     "metadata": {},
     "output_type": "execute_result"
    }
   ],
   "source": [
    "p_values = [0, 1, 2, 3]\n",
    "d_values = [2, 3, 4, 5]\n",
    "q_values = [8, 10, 12, 14]\n",
    "results = []\n",
    "prev = float('inf')\n",
    "for p in p_values:\n",
    "    for d in d_values:\n",
    "        for q in q_values:\n",
    "            param = (p, d, q)\n",
    "            model = ARIMA(train.incremental_cases, order=param).fit()\n",
    "            results.append([p, d, q, model.aic])\n",
    "pd.DataFrame(results, columns=['p','d','q', 'aic']).sort_values('aic')"
   ]
  },
  {
   "cell_type": "code",
   "execution_count": 10,
   "id": "91a24d88",
   "metadata": {},
   "outputs": [
    {
     "name": "stdout",
     "output_type": "stream",
     "text": [
      "-1.1336349530570633\n"
     ]
    },
    {
     "data": {
      "text/plain": [
       "<AxesSubplot:xlabel='date'>"
      ]
     },
     "execution_count": 10,
     "metadata": {},
     "output_type": "execute_result"
    },
    {
     "data": {
      "image/png": "[encoded data removed]",
      "text/plain": [
       "<Figure size 432x288 with 1 Axes>"
      ]
     },
     "metadata": {
      "needs_background": "light"
     },
     "output_type": "display_data"
    }
   ],
   "source": [
    "model = ARIMA(train.incremental_cases, order=(2, 3, 8)).fit()\n",
    "pred = model.forecast(steps=40)\n",
    "r2 = r2_score(test.incremental_cases, pred)\n",
    "print(r2)\n",
    "\n",
    "prediction = pd.DataFrame({'actual':test.incremental_cases.reset_index(drop = True), \n",
    "              'pred':pred.reset_index(drop = True)})\n",
    "prediction['date'] = test['date'].reset_index(drop = True)\n",
    "prediction.plot(x = 'date', y = ['actual', 'pred'])"
   ]
  },
  {
   "cell_type": "code",
   "execution_count": 11,
   "id": "9ec42143",
   "metadata": {},
   "outputs": [
    {
     "name": "stdout",
     "output_type": "stream",
     "text": [
      "-0.41965660110281267\n"
     ]
    },
    {
     "data": {
      "text/plain": [
       "<AxesSubplot:xlabel='date'>"
      ]
     },
     "execution_count": 11,
     "metadata": {},
     "output_type": "execute_result"
    },
    {
     "data": {
      "image/png": "[encoded data removed]",
      "text/plain": [
       "<Figure size 432x288 with 1 Axes>"
      ]
     },
     "metadata": {
      "needs_background": "light"
     },
     "output_type": "display_data"
    }
   ],
   "source": [
    "model = ARIMA(train.incremental_cases, order=(1, 3, 10)).fit()\n",
    "pred = model.forecast(steps=40)\n",
    "r2 = r2_score(test.incremental_cases, pred)\n",
    "print(r2)\n",
    "\n",
    "prediction = pd.DataFrame({'actual':test.incremental_cases.reset_index(drop = True), \n",
    "              'pred':pred.reset_index(drop = True)})\n",
    "prediction['date'] = test['date'].reset_index(drop = True)\n",
    "prediction.plot(x = 'date', y = ['actual', 'pred'])"
   ]
  },
  {
   "cell_type": "code",
   "execution_count": 12,
   "id": "b97f0812",
   "metadata": {},
   "outputs": [
    {
     "name": "stdout",
     "output_type": "stream",
     "text": [
      "0.6564240475954306\n"
     ]
    },
    {
     "data": {
      "text/plain": [
       "<AxesSubplot:xlabel='date'>"
      ]
     },
     "execution_count": 12,
     "metadata": {},
     "output_type": "execute_result"
    },
    {
     "data": {
      "image/png": "[encoded data removed]",
      "text/plain": [
       "<Figure size 432x288 with 1 Axes>"
      ]
     },
     "metadata": {
      "needs_background": "light"
     },
     "output_type": "display_data"
    }
   ],
   "source": [
    "model = ARIMA(train.incremental_cases, order=(0, 3, 8)).fit()\n",
    "pred = model.forecast(steps=40)\n",
    "r2 = r2_score(test.incremental_cases, pred)\n",
    "print(r2)\n",
    "\n",
    "prediction = pd.DataFrame({'actual':test.incremental_cases.reset_index(drop = True), \n",
    "              'pred':pred.reset_index(drop = True)})\n",
    "prediction['date'] = test['date'].reset_index(drop = True)\n",
    "prediction.plot(x = 'date', y = ['actual', 'pred'])"
   ]
  },
  {
   "cell_type": "code",
   "execution_count": 13,
   "id": "3497b737",
   "metadata": {},
   "outputs": [],
   "source": [
    "train_size = int(len(nyc) * 0.7)\n",
    "val_size = int(len(nyc) * 0.15)\n",
    "train, val, test = nyc[:train_size], nyc[train_size:train_size+val_size], nyc[train_size+val_size:]\n"
   ]
  },
  {
   "cell_type": "code",
   "execution_count": 17,
   "id": "32eaf6af",
   "metadata": {},
   "outputs": [
    {
     "name": "stdout",
     "output_type": "stream",
     "text": [
      "Best ARIMA parameters: None with MSE on validation set: inf\n"
     ]
    }
   ],
   "source": [
    "best_score, best_cfg = float(\"inf\"), None\n",
    "p_values = [0, 1, 5, 10]\n",
    "d_values = [0, 2, 4, 6]\n",
    "q_values = [0, 1, 5, 10]\n",
    "# Grid search for ARIMA parameters using validation set\n",
    "for p in p_values:\n",
    "    for d in d_values:\n",
    "        for q in q_values:\n",
    "            order = (p, d, q)\n",
    "            try:\n",
    "                model = ARIMA(train.incremental_cases, order)\n",
    "                fitted = model.fit()\n",
    "                forecast = fitted.forecast(steps=len(val))[0]\n",
    "                mse = mean_squared_error(val, forecast)\n",
    "                if mse < best_score:\n",
    "                    best_score, best_cfg = mse, order\n",
    "            except:\n",
    "                continue\n",
    "\n",
    "print(f'Best ARIMA parameters: {best_cfg} with MSE on validation set: {best_score}')"
   ]
  },
  {
   "cell_type": "code",
   "execution_count": null,
   "id": "7e5359f0",
   "metadata": {},
   "outputs": [],
   "source": []
  },
  {
   "cell_type": "code",
   "execution_count": 15,
   "id": "bb271dce",
   "metadata": {},
   "outputs": [
    {
     "data": {
      "text/html": [
       "<div>\n",
       "<style scoped>\n",
       "    .dataframe tbody tr th:only-of-type {\n",
       "        vertical-align: middle;\n",
       "    }\n",
       "\n",
       "    .dataframe tbody tr th {\n",
       "        vertical-align: top;\n",
       "    }\n",
       "\n",
       "    .dataframe thead th {\n",
       "        text-align: right;\n",
       "    }\n",
       "</style>\n",
       "<table border=\"1\" class=\"dataframe\">\n",
       "  <thead>\n",
       "    <tr style=\"text-align: right;\">\n",
       "      <th></th>\n",
       "      <th>p</th>\n",
       "      <th>d</th>\n",
       "      <th>q</th>\n",
       "      <th>aic</th>\n",
       "    </tr>\n",
       "  </thead>\n",
       "  <tbody>\n",
       "    <tr>\n",
       "      <th>15</th>\n",
       "      <td>0</td>\n",
       "      <td>3</td>\n",
       "      <td>6</td>\n",
       "      <td>3488.811286</td>\n",
       "    </tr>\n",
       "    <tr>\n",
       "      <th>47</th>\n",
       "      <td>2</td>\n",
       "      <td>3</td>\n",
       "      <td>6</td>\n",
       "      <td>3489.983054</td>\n",
       "    </tr>\n",
       "    <tr>\n",
       "      <th>62</th>\n",
       "      <td>3</td>\n",
       "      <td>3</td>\n",
       "      <td>5</td>\n",
       "      <td>3490.293954</td>\n",
       "    </tr>\n",
       "    <tr>\n",
       "      <th>10</th>\n",
       "      <td>0</td>\n",
       "      <td>2</td>\n",
       "      <td>5</td>\n",
       "      <td>3492.210783</td>\n",
       "    </tr>\n",
       "    <tr>\n",
       "      <th>63</th>\n",
       "      <td>3</td>\n",
       "      <td>3</td>\n",
       "      <td>6</td>\n",
       "      <td>3493.598175</td>\n",
       "    </tr>\n",
       "    <tr>\n",
       "      <th>...</th>\n",
       "      <td>...</td>\n",
       "      <td>...</td>\n",
       "      <td>...</td>\n",
       "      <td>...</td>\n",
       "    </tr>\n",
       "    <tr>\n",
       "      <th>28</th>\n",
       "      <td>1</td>\n",
       "      <td>3</td>\n",
       "      <td>3</td>\n",
       "      <td>3566.418218</td>\n",
       "    </tr>\n",
       "    <tr>\n",
       "      <th>3</th>\n",
       "      <td>0</td>\n",
       "      <td>0</td>\n",
       "      <td>6</td>\n",
       "      <td>3630.453749</td>\n",
       "    </tr>\n",
       "    <tr>\n",
       "      <th>2</th>\n",
       "      <td>0</td>\n",
       "      <td>0</td>\n",
       "      <td>5</td>\n",
       "      <td>3640.070969</td>\n",
       "    </tr>\n",
       "    <tr>\n",
       "      <th>1</th>\n",
       "      <td>0</td>\n",
       "      <td>0</td>\n",
       "      <td>4</td>\n",
       "      <td>3659.638837</td>\n",
       "    </tr>\n",
       "    <tr>\n",
       "      <th>0</th>\n",
       "      <td>0</td>\n",
       "      <td>0</td>\n",
       "      <td>3</td>\n",
       "      <td>3694.447871</td>\n",
       "    </tr>\n",
       "  </tbody>\n",
       "</table>\n",
       "<p>64 rows × 4 columns</p>\n",
       "</div>"
      ],
      "text/plain": [
       "    p  d  q          aic\n",
       "15  0  3  6  3488.811286\n",
       "47  2  3  6  3489.983054\n",
       "62  3  3  5  3490.293954\n",
       "10  0  2  5  3492.210783\n",
       "63  3  3  6  3493.598175\n",
       ".. .. .. ..          ...\n",
       "28  1  3  3  3566.418218\n",
       "3   0  0  6  3630.453749\n",
       "2   0  0  5  3640.070969\n",
       "1   0  0  4  3659.638837\n",
       "0   0  0  3  3694.447871\n",
       "\n",
       "[64 rows x 4 columns]"
      ]
     },
     "execution_count": 15,
     "metadata": {},
     "output_type": "execute_result"
    }
   ],
   "source": [
    "p_values = [0, 1, 2, 3]\n",
    "d_values = [0, 1, 2, 3]\n",
    "q_values = [3, 4, 5, 6]\n",
    "results = []\n",
    "prev = float('inf')\n",
    "for p in p_values:\n",
    "    for d in d_values:\n",
    "        for q in q_values:\n",
    "            param = (p, d, q)\n",
    "            model = ARIMA(train.incremental_cases, order=param).fit()\n",
    "            results.append([p, d, q, model.aic])\n",
    "pd.DataFrame(results, columns=['p','d','q', 'aic']).sort_values('aic')"
   ]
  },
  {
   "cell_type": "code",
   "execution_count": 16,
   "id": "8e7d7c07",
   "metadata": {},
   "outputs": [
    {
     "name": "stdout",
     "output_type": "stream",
     "text": [
      "-0.5835337089653063\n"
     ]
    },
    {
     "data": {
      "text/plain": [
       "<AxesSubplot:xlabel='date'>"
      ]
     },
     "execution_count": 16,
     "metadata": {},
     "output_type": "execute_result"
    },
    {
     "data": {
      "image/png": "[encoded data removed]",
      "text/plain": [
       "<Figure size 432x288 with 1 Axes>"
      ]
     },
     "metadata": {
      "needs_background": "light"
     },
     "output_type": "display_data"
    }
   ],
   "source": [
    "model = ARIMA(train.incremental_cases, order=(0, 3, 6)).fit()\n",
    "pred = model.forecast(steps=40)\n",
    "r2 = r2_score(test.incremental_cases, pred)\n",
    "print(r2)\n",
    "\n",
    "prediction = pd.DataFrame({'actual':test.incremental_cases.reset_index(drop = True), \n",
    "              'pred':pred.reset_index(drop = True)})\n",
    "prediction['date'] = test['date'].reset_index(drop = True)\n",
    "prediction.plot(x = 'date', y = ['actual', 'pred'])"
   ]
  },
  {
   "cell_type": "code",
   "execution_count": 19,
   "id": "b4de550d",
   "metadata": {},
   "outputs": [
    {
     "data": {
      "text/html": [
       "<div>\n",
       "<style scoped>\n",
       "    .dataframe tbody tr th:only-of-type {\n",
       "        vertical-align: middle;\n",
       "    }\n",
       "\n",
       "    .dataframe tbody tr th {\n",
       "        vertical-align: top;\n",
       "    }\n",
       "\n",
       "    .dataframe thead th {\n",
       "        text-align: right;\n",
       "    }\n",
       "</style>\n",
       "<table border=\"1\" class=\"dataframe\">\n",
       "  <thead>\n",
       "    <tr style=\"text-align: right;\">\n",
       "      <th></th>\n",
       "      <th>p</th>\n",
       "      <th>q</th>\n",
       "      <th>aic</th>\n",
       "    </tr>\n",
       "  </thead>\n",
       "  <tbody>\n",
       "    <tr>\n",
       "      <th>19</th>\n",
       "      <td>3</td>\n",
       "      <td>4</td>\n",
       "      <td>3513.153025</td>\n",
       "    </tr>\n",
       "    <tr>\n",
       "      <th>23</th>\n",
       "      <td>4</td>\n",
       "      <td>3</td>\n",
       "      <td>3515.578822</td>\n",
       "    </tr>\n",
       "    <tr>\n",
       "      <th>15</th>\n",
       "      <td>3</td>\n",
       "      <td>0</td>\n",
       "      <td>3544.434363</td>\n",
       "    </tr>\n",
       "    <tr>\n",
       "      <th>12</th>\n",
       "      <td>2</td>\n",
       "      <td>2</td>\n",
       "      <td>3544.462982</td>\n",
       "    </tr>\n",
       "    <tr>\n",
       "      <th>17</th>\n",
       "      <td>3</td>\n",
       "      <td>2</td>\n",
       "      <td>3544.820130</td>\n",
       "    </tr>\n",
       "    <tr>\n",
       "      <th>13</th>\n",
       "      <td>2</td>\n",
       "      <td>3</td>\n",
       "      <td>3544.946890</td>\n",
       "    </tr>\n",
       "    <tr>\n",
       "      <th>16</th>\n",
       "      <td>3</td>\n",
       "      <td>1</td>\n",
       "      <td>3545.589224</td>\n",
       "    </tr>\n",
       "    <tr>\n",
       "      <th>8</th>\n",
       "      <td>1</td>\n",
       "      <td>3</td>\n",
       "      <td>3545.762988</td>\n",
       "    </tr>\n",
       "    <tr>\n",
       "      <th>21</th>\n",
       "      <td>4</td>\n",
       "      <td>1</td>\n",
       "      <td>3545.804306</td>\n",
       "    </tr>\n",
       "    <tr>\n",
       "      <th>20</th>\n",
       "      <td>4</td>\n",
       "      <td>0</td>\n",
       "      <td>3546.080555</td>\n",
       "    </tr>\n",
       "    <tr>\n",
       "      <th>9</th>\n",
       "      <td>1</td>\n",
       "      <td>4</td>\n",
       "      <td>3546.179914</td>\n",
       "    </tr>\n",
       "    <tr>\n",
       "      <th>22</th>\n",
       "      <td>4</td>\n",
       "      <td>2</td>\n",
       "      <td>3546.642206</td>\n",
       "    </tr>\n",
       "    <tr>\n",
       "      <th>24</th>\n",
       "      <td>4</td>\n",
       "      <td>4</td>\n",
       "      <td>3546.689175</td>\n",
       "    </tr>\n",
       "    <tr>\n",
       "      <th>14</th>\n",
       "      <td>2</td>\n",
       "      <td>4</td>\n",
       "      <td>3546.768612</td>\n",
       "    </tr>\n",
       "    <tr>\n",
       "      <th>18</th>\n",
       "      <td>3</td>\n",
       "      <td>3</td>\n",
       "      <td>3546.984921</td>\n",
       "    </tr>\n",
       "    <tr>\n",
       "      <th>6</th>\n",
       "      <td>1</td>\n",
       "      <td>1</td>\n",
       "      <td>3549.799293</td>\n",
       "    </tr>\n",
       "    <tr>\n",
       "      <th>7</th>\n",
       "      <td>1</td>\n",
       "      <td>2</td>\n",
       "      <td>3550.466134</td>\n",
       "    </tr>\n",
       "    <tr>\n",
       "      <th>11</th>\n",
       "      <td>2</td>\n",
       "      <td>1</td>\n",
       "      <td>3551.043113</td>\n",
       "    </tr>\n",
       "    <tr>\n",
       "      <th>10</th>\n",
       "      <td>2</td>\n",
       "      <td>0</td>\n",
       "      <td>3564.517302</td>\n",
       "    </tr>\n",
       "    <tr>\n",
       "      <th>5</th>\n",
       "      <td>1</td>\n",
       "      <td>0</td>\n",
       "      <td>3583.143894</td>\n",
       "    </tr>\n",
       "    <tr>\n",
       "      <th>4</th>\n",
       "      <td>0</td>\n",
       "      <td>4</td>\n",
       "      <td>3659.638837</td>\n",
       "    </tr>\n",
       "    <tr>\n",
       "      <th>3</th>\n",
       "      <td>0</td>\n",
       "      <td>3</td>\n",
       "      <td>3694.447871</td>\n",
       "    </tr>\n",
       "    <tr>\n",
       "      <th>2</th>\n",
       "      <td>0</td>\n",
       "      <td>2</td>\n",
       "      <td>3764.822717</td>\n",
       "    </tr>\n",
       "    <tr>\n",
       "      <th>1</th>\n",
       "      <td>0</td>\n",
       "      <td>1</td>\n",
       "      <td>3825.016661</td>\n",
       "    </tr>\n",
       "    <tr>\n",
       "      <th>0</th>\n",
       "      <td>0</td>\n",
       "      <td>0</td>\n",
       "      <td>4031.030518</td>\n",
       "    </tr>\n",
       "  </tbody>\n",
       "</table>\n",
       "</div>"
      ],
      "text/plain": [
       "    p  q          aic\n",
       "19  3  4  3513.153025\n",
       "23  4  3  3515.578822\n",
       "15  3  0  3544.434363\n",
       "12  2  2  3544.462982\n",
       "17  3  2  3544.820130\n",
       "13  2  3  3544.946890\n",
       "16  3  1  3545.589224\n",
       "8   1  3  3545.762988\n",
       "21  4  1  3545.804306\n",
       "20  4  0  3546.080555\n",
       "9   1  4  3546.179914\n",
       "22  4  2  3546.642206\n",
       "24  4  4  3546.689175\n",
       "14  2  4  3546.768612\n",
       "18  3  3  3546.984921\n",
       "6   1  1  3549.799293\n",
       "7   1  2  3550.466134\n",
       "11  2  1  3551.043113\n",
       "10  2  0  3564.517302\n",
       "5   1  0  3583.143894\n",
       "4   0  4  3659.638837\n",
       "3   0  3  3694.447871\n",
       "2   0  2  3764.822717\n",
       "1   0  1  3825.016661\n",
       "0   0  0  4031.030518"
      ]
     },
     "execution_count": 19,
     "metadata": {},
     "output_type": "execute_result"
    }
   ],
   "source": [
    "results = []\n",
    "for p in range(0, 5):\n",
    "    for q in range(0, 5):\n",
    "        param = (p, 0, q)\n",
    "        model = ARIMA(train.incremental_cases, order = param).fit()\n",
    "        results.append([p,q,model.aic])\n",
    "pd.DataFrame(results, columns=['p', 'q', 'aic']).sort_values('aic')    "
   ]
  },
  {
   "cell_type": "code",
   "execution_count": 20,
   "id": "ab17d851",
   "metadata": {},
   "outputs": [
    {
     "name": "stdout",
     "output_type": "stream",
     "text": [
      "-0.0628997043772821\n"
     ]
    },
    {
     "data": {
      "text/plain": [
       "<AxesSubplot:xlabel='date'>"
      ]
     },
     "execution_count": 20,
     "metadata": {},
     "output_type": "execute_result"
    },
    {
     "data": {
      "image/png": "[encoded data removed]",
      "text/plain": [
       "<Figure size 432x288 with 1 Axes>"
      ]
     },
     "metadata": {
      "needs_background": "light"
     },
     "output_type": "display_data"
    }
   ],
   "source": [
    "model = ARIMA(train.incremental_cases, order=(3, 0, 4)).fit()\n",
    "pred = model.forecast(steps=40)\n",
    "r2 = r2_score(test.incremental_cases, pred)\n",
    "print(r2)\n",
    "\n",
    "prediction = pd.DataFrame({'actual':test.incremental_cases.reset_index(drop = True), \n",
    "              'pred':pred.reset_index(drop = True)})\n",
    "prediction['date'] = test['date'].reset_index(drop = True)\n",
    "prediction.plot(x = 'date', y = ['actual', 'pred'])"
   ]
  },
  {
   "cell_type": "code",
   "execution_count": 22,
   "id": "90c38cf6",
   "metadata": {},
   "outputs": [
    {
     "data": {
      "text/html": [
       "<div>\n",
       "<style scoped>\n",
       "    .dataframe tbody tr th:only-of-type {\n",
       "        vertical-align: middle;\n",
       "    }\n",
       "\n",
       "    .dataframe tbody tr th {\n",
       "        vertical-align: top;\n",
       "    }\n",
       "\n",
       "    .dataframe thead th {\n",
       "        text-align: right;\n",
       "    }\n",
       "</style>\n",
       "<table border=\"1\" class=\"dataframe\">\n",
       "  <thead>\n",
       "    <tr style=\"text-align: right;\">\n",
       "      <th></th>\n",
       "      <th>p</th>\n",
       "      <th>q</th>\n",
       "      <th>aic</th>\n",
       "    </tr>\n",
       "  </thead>\n",
       "  <tbody>\n",
       "    <tr>\n",
       "      <th>14</th>\n",
       "      <td>10</td>\n",
       "      <td>5</td>\n",
       "      <td>3515.804049</td>\n",
       "    </tr>\n",
       "    <tr>\n",
       "      <th>13</th>\n",
       "      <td>10</td>\n",
       "      <td>1</td>\n",
       "      <td>3526.059298</td>\n",
       "    </tr>\n",
       "    <tr>\n",
       "      <th>12</th>\n",
       "      <td>10</td>\n",
       "      <td>0</td>\n",
       "      <td>3532.885536</td>\n",
       "    </tr>\n",
       "    <tr>\n",
       "      <th>7</th>\n",
       "      <td>1</td>\n",
       "      <td>10</td>\n",
       "      <td>3538.904232</td>\n",
       "    </tr>\n",
       "    <tr>\n",
       "      <th>8</th>\n",
       "      <td>5</td>\n",
       "      <td>0</td>\n",
       "      <td>3545.294484</td>\n",
       "    </tr>\n",
       "    <tr>\n",
       "      <th>9</th>\n",
       "      <td>5</td>\n",
       "      <td>1</td>\n",
       "      <td>3546.706871</td>\n",
       "    </tr>\n",
       "    <tr>\n",
       "      <th>5</th>\n",
       "      <td>1</td>\n",
       "      <td>1</td>\n",
       "      <td>3549.799293</td>\n",
       "    </tr>\n",
       "    <tr>\n",
       "      <th>6</th>\n",
       "      <td>1</td>\n",
       "      <td>5</td>\n",
       "      <td>3554.331095</td>\n",
       "    </tr>\n",
       "    <tr>\n",
       "      <th>10</th>\n",
       "      <td>5</td>\n",
       "      <td>5</td>\n",
       "      <td>3559.187338</td>\n",
       "    </tr>\n",
       "    <tr>\n",
       "      <th>4</th>\n",
       "      <td>1</td>\n",
       "      <td>0</td>\n",
       "      <td>3583.143894</td>\n",
       "    </tr>\n",
       "    <tr>\n",
       "      <th>3</th>\n",
       "      <td>0</td>\n",
       "      <td>10</td>\n",
       "      <td>3588.991347</td>\n",
       "    </tr>\n",
       "    <tr>\n",
       "      <th>2</th>\n",
       "      <td>0</td>\n",
       "      <td>5</td>\n",
       "      <td>3640.070969</td>\n",
       "    </tr>\n",
       "    <tr>\n",
       "      <th>11</th>\n",
       "      <td>5</td>\n",
       "      <td>10</td>\n",
       "      <td>3691.195282</td>\n",
       "    </tr>\n",
       "    <tr>\n",
       "      <th>15</th>\n",
       "      <td>10</td>\n",
       "      <td>10</td>\n",
       "      <td>3764.844840</td>\n",
       "    </tr>\n",
       "    <tr>\n",
       "      <th>1</th>\n",
       "      <td>0</td>\n",
       "      <td>1</td>\n",
       "      <td>3825.016661</td>\n",
       "    </tr>\n",
       "    <tr>\n",
       "      <th>0</th>\n",
       "      <td>0</td>\n",
       "      <td>0</td>\n",
       "      <td>4031.030518</td>\n",
       "    </tr>\n",
       "  </tbody>\n",
       "</table>\n",
       "</div>"
      ],
      "text/plain": [
       "     p   q          aic\n",
       "14  10   5  3515.804049\n",
       "13  10   1  3526.059298\n",
       "12  10   0  3532.885536\n",
       "7    1  10  3538.904232\n",
       "8    5   0  3545.294484\n",
       "9    5   1  3546.706871\n",
       "5    1   1  3549.799293\n",
       "6    1   5  3554.331095\n",
       "10   5   5  3559.187338\n",
       "4    1   0  3583.143894\n",
       "3    0  10  3588.991347\n",
       "2    0   5  3640.070969\n",
       "11   5  10  3691.195282\n",
       "15  10  10  3764.844840\n",
       "1    0   1  3825.016661\n",
       "0    0   0  4031.030518"
      ]
     },
     "execution_count": 22,
     "metadata": {},
     "output_type": "execute_result"
    }
   ],
   "source": [
    "p_values = [0, 1, 5, 10]\n",
    "q_values = [0, 1, 5, 10]\n",
    "results = []\n",
    "for p in p_values:\n",
    "    for q in q_values:\n",
    "        param = (p, 0, q)\n",
    "        model = ARIMA(train.incremental_cases, order = param).fit()\n",
    "        results.append([p,q,model.aic])\n",
    "pd.DataFrame(results, columns=['p', 'q', 'aic']).sort_values('aic')  "
   ]
  },
  {
   "cell_type": "code",
   "execution_count": 23,
   "id": "555a6681",
   "metadata": {},
   "outputs": [
    {
     "name": "stdout",
     "output_type": "stream",
     "text": [
      "-0.03978917031944551\n"
     ]
    },
    {
     "data": {
      "text/plain": [
       "<AxesSubplot:xlabel='date'>"
      ]
     },
     "execution_count": 23,
     "metadata": {},
     "output_type": "execute_result"
    },
    {
     "data": {
      "image/png": "[encoded data removed]",
      "text/plain": [
       "<Figure size 432x288 with 1 Axes>"
      ]
     },
     "metadata": {
      "needs_background": "light"
     },
     "output_type": "display_data"
    }
   ],
   "source": [
    "model = ARIMA(train.incremental_cases, order=(10, 0, 5)).fit()\n",
    "pred = model.forecast(steps=40)\n",
    "r2 = r2_score(test.incremental_cases, pred)\n",
    "print(r2)\n",
    "\n",
    "prediction = pd.DataFrame({'actual':test.incremental_cases.reset_index(drop = True), \n",
    "              'pred':pred.reset_index(drop = True)})\n",
    "prediction['date'] = test['date'].reset_index(drop = True)\n",
    "prediction.plot(x = 'date', y = ['actual', 'pred'])"
   ]
  },
  {
   "cell_type": "code",
   "execution_count": 24,
   "id": "60b1b9c7",
   "metadata": {},
   "outputs": [
    {
     "data": {
      "text/html": [
       "<div>\n",
       "<style scoped>\n",
       "    .dataframe tbody tr th:only-of-type {\n",
       "        vertical-align: middle;\n",
       "    }\n",
       "\n",
       "    .dataframe tbody tr th {\n",
       "        vertical-align: top;\n",
       "    }\n",
       "\n",
       "    .dataframe thead th {\n",
       "        text-align: right;\n",
       "    }\n",
       "</style>\n",
       "<table border=\"1\" class=\"dataframe\">\n",
       "  <thead>\n",
       "    <tr style=\"text-align: right;\">\n",
       "      <th></th>\n",
       "      <th>p</th>\n",
       "      <th>q</th>\n",
       "      <th>aic</th>\n",
       "    </tr>\n",
       "  </thead>\n",
       "  <tbody>\n",
       "    <tr>\n",
       "      <th>17</th>\n",
       "      <td>8</td>\n",
       "      <td>7</td>\n",
       "      <td>3515.414072</td>\n",
       "    </tr>\n",
       "    <tr>\n",
       "      <th>2</th>\n",
       "      <td>5</td>\n",
       "      <td>7</td>\n",
       "      <td>3517.392990</td>\n",
       "    </tr>\n",
       "    <tr>\n",
       "      <th>6</th>\n",
       "      <td>6</td>\n",
       "      <td>6</td>\n",
       "      <td>3517.592759</td>\n",
       "    </tr>\n",
       "    <tr>\n",
       "      <th>7</th>\n",
       "      <td>6</td>\n",
       "      <td>7</td>\n",
       "      <td>3519.571243</td>\n",
       "    </tr>\n",
       "    <tr>\n",
       "      <th>5</th>\n",
       "      <td>6</td>\n",
       "      <td>5</td>\n",
       "      <td>3521.597989</td>\n",
       "    </tr>\n",
       "    <tr>\n",
       "      <th>1</th>\n",
       "      <td>5</td>\n",
       "      <td>6</td>\n",
       "      <td>3528.909030</td>\n",
       "    </tr>\n",
       "    <tr>\n",
       "      <th>20</th>\n",
       "      <td>9</td>\n",
       "      <td>5</td>\n",
       "      <td>3543.168773</td>\n",
       "    </tr>\n",
       "    <tr>\n",
       "      <th>15</th>\n",
       "      <td>8</td>\n",
       "      <td>5</td>\n",
       "      <td>3545.116218</td>\n",
       "    </tr>\n",
       "    <tr>\n",
       "      <th>10</th>\n",
       "      <td>7</td>\n",
       "      <td>5</td>\n",
       "      <td>3545.332289</td>\n",
       "    </tr>\n",
       "    <tr>\n",
       "      <th>3</th>\n",
       "      <td>5</td>\n",
       "      <td>8</td>\n",
       "      <td>3547.314396</td>\n",
       "    </tr>\n",
       "    <tr>\n",
       "      <th>8</th>\n",
       "      <td>6</td>\n",
       "      <td>8</td>\n",
       "      <td>3547.491004</td>\n",
       "    </tr>\n",
       "    <tr>\n",
       "      <th>4</th>\n",
       "      <td>5</td>\n",
       "      <td>9</td>\n",
       "      <td>3551.184885</td>\n",
       "    </tr>\n",
       "    <tr>\n",
       "      <th>0</th>\n",
       "      <td>5</td>\n",
       "      <td>5</td>\n",
       "      <td>3559.187338</td>\n",
       "    </tr>\n",
       "    <tr>\n",
       "      <th>9</th>\n",
       "      <td>6</td>\n",
       "      <td>9</td>\n",
       "      <td>3561.744488</td>\n",
       "    </tr>\n",
       "    <tr>\n",
       "      <th>11</th>\n",
       "      <td>7</td>\n",
       "      <td>6</td>\n",
       "      <td>3562.203182</td>\n",
       "    </tr>\n",
       "    <tr>\n",
       "      <th>21</th>\n",
       "      <td>9</td>\n",
       "      <td>6</td>\n",
       "      <td>3563.638872</td>\n",
       "    </tr>\n",
       "    <tr>\n",
       "      <th>16</th>\n",
       "      <td>8</td>\n",
       "      <td>6</td>\n",
       "      <td>3568.381573</td>\n",
       "    </tr>\n",
       "    <tr>\n",
       "      <th>12</th>\n",
       "      <td>7</td>\n",
       "      <td>7</td>\n",
       "      <td>3577.339990</td>\n",
       "    </tr>\n",
       "    <tr>\n",
       "      <th>22</th>\n",
       "      <td>9</td>\n",
       "      <td>7</td>\n",
       "      <td>3593.777399</td>\n",
       "    </tr>\n",
       "    <tr>\n",
       "      <th>14</th>\n",
       "      <td>7</td>\n",
       "      <td>9</td>\n",
       "      <td>3600.002620</td>\n",
       "    </tr>\n",
       "    <tr>\n",
       "      <th>19</th>\n",
       "      <td>8</td>\n",
       "      <td>9</td>\n",
       "      <td>3609.415533</td>\n",
       "    </tr>\n",
       "    <tr>\n",
       "      <th>13</th>\n",
       "      <td>7</td>\n",
       "      <td>8</td>\n",
       "      <td>3611.892072</td>\n",
       "    </tr>\n",
       "    <tr>\n",
       "      <th>23</th>\n",
       "      <td>9</td>\n",
       "      <td>8</td>\n",
       "      <td>3628.504014</td>\n",
       "    </tr>\n",
       "    <tr>\n",
       "      <th>24</th>\n",
       "      <td>9</td>\n",
       "      <td>9</td>\n",
       "      <td>3638.801778</td>\n",
       "    </tr>\n",
       "    <tr>\n",
       "      <th>18</th>\n",
       "      <td>8</td>\n",
       "      <td>8</td>\n",
       "      <td>3649.148157</td>\n",
       "    </tr>\n",
       "  </tbody>\n",
       "</table>\n",
       "</div>"
      ],
      "text/plain": [
       "    p  q          aic\n",
       "17  8  7  3515.414072\n",
       "2   5  7  3517.392990\n",
       "6   6  6  3517.592759\n",
       "7   6  7  3519.571243\n",
       "5   6  5  3521.597989\n",
       "1   5  6  3528.909030\n",
       "20  9  5  3543.168773\n",
       "15  8  5  3545.116218\n",
       "10  7  5  3545.332289\n",
       "3   5  8  3547.314396\n",
       "8   6  8  3547.491004\n",
       "4   5  9  3551.184885\n",
       "0   5  5  3559.187338\n",
       "9   6  9  3561.744488\n",
       "11  7  6  3562.203182\n",
       "21  9  6  3563.638872\n",
       "16  8  6  3568.381573\n",
       "12  7  7  3577.339990\n",
       "22  9  7  3593.777399\n",
       "14  7  9  3600.002620\n",
       "19  8  9  3609.415533\n",
       "13  7  8  3611.892072\n",
       "23  9  8  3628.504014\n",
       "24  9  9  3638.801778\n",
       "18  8  8  3649.148157"
      ]
     },
     "execution_count": 24,
     "metadata": {},
     "output_type": "execute_result"
    }
   ],
   "source": [
    "results = []\n",
    "for p in range(5, 10):\n",
    "    for q in range(5, 10):\n",
    "        param = (p, 0, q)\n",
    "        model = ARIMA(train.incremental_cases, order = param).fit()\n",
    "        results.append([p,q,model.aic])\n",
    "pd.DataFrame(results, columns=['p', 'q', 'aic']).sort_values('aic')  "
   ]
  },
  {
   "cell_type": "code",
   "execution_count": 30,
   "id": "2a8ae0e8",
   "metadata": {},
   "outputs": [
    {
     "data": {
      "text/html": [
       "<div>\n",
       "<style scoped>\n",
       "    .dataframe tbody tr th:only-of-type {\n",
       "        vertical-align: middle;\n",
       "    }\n",
       "\n",
       "    .dataframe tbody tr th {\n",
       "        vertical-align: top;\n",
       "    }\n",
       "\n",
       "    .dataframe thead th {\n",
       "        text-align: right;\n",
       "    }\n",
       "</style>\n",
       "<table border=\"1\" class=\"dataframe\">\n",
       "  <thead>\n",
       "    <tr style=\"text-align: right;\">\n",
       "      <th></th>\n",
       "      <th>p</th>\n",
       "      <th>d</th>\n",
       "      <th>q</th>\n",
       "      <th>aic</th>\n",
       "    </tr>\n",
       "  </thead>\n",
       "  <tbody>\n",
       "    <tr>\n",
       "      <th>113</th>\n",
       "      <td>4</td>\n",
       "      <td>2</td>\n",
       "      <td>3</td>\n",
       "      <td>16.000000</td>\n",
       "    </tr>\n",
       "    <tr>\n",
       "      <th>48</th>\n",
       "      <td>1</td>\n",
       "      <td>4</td>\n",
       "      <td>3</td>\n",
       "      <td>2789.631263</td>\n",
       "    </tr>\n",
       "    <tr>\n",
       "      <th>19</th>\n",
       "      <td>0</td>\n",
       "      <td>3</td>\n",
       "      <td>4</td>\n",
       "      <td>3494.595902</td>\n",
       "    </tr>\n",
       "    <tr>\n",
       "      <th>63</th>\n",
       "      <td>2</td>\n",
       "      <td>2</td>\n",
       "      <td>3</td>\n",
       "      <td>3497.195179</td>\n",
       "    </tr>\n",
       "    <tr>\n",
       "      <th>44</th>\n",
       "      <td>1</td>\n",
       "      <td>3</td>\n",
       "      <td>4</td>\n",
       "      <td>3497.571495</td>\n",
       "    </tr>\n",
       "    <tr>\n",
       "      <th>...</th>\n",
       "      <td>...</td>\n",
       "      <td>...</td>\n",
       "      <td>...</td>\n",
       "      <td>...</td>\n",
       "    </tr>\n",
       "    <tr>\n",
       "      <th>21</th>\n",
       "      <td>0</td>\n",
       "      <td>4</td>\n",
       "      <td>1</td>\n",
       "      <td>4008.237895</td>\n",
       "    </tr>\n",
       "    <tr>\n",
       "      <th>15</th>\n",
       "      <td>0</td>\n",
       "      <td>3</td>\n",
       "      <td>0</td>\n",
       "      <td>4018.998222</td>\n",
       "    </tr>\n",
       "    <tr>\n",
       "      <th>0</th>\n",
       "      <td>0</td>\n",
       "      <td>0</td>\n",
       "      <td>0</td>\n",
       "      <td>4031.030518</td>\n",
       "    </tr>\n",
       "    <tr>\n",
       "      <th>45</th>\n",
       "      <td>1</td>\n",
       "      <td>4</td>\n",
       "      <td>0</td>\n",
       "      <td>4118.332831</td>\n",
       "    </tr>\n",
       "    <tr>\n",
       "      <th>20</th>\n",
       "      <td>0</td>\n",
       "      <td>4</td>\n",
       "      <td>0</td>\n",
       "      <td>4271.733651</td>\n",
       "    </tr>\n",
       "  </tbody>\n",
       "</table>\n",
       "<p>125 rows × 4 columns</p>\n",
       "</div>"
      ],
      "text/plain": [
       "     p  d  q          aic\n",
       "113  4  2  3    16.000000\n",
       "48   1  4  3  2789.631263\n",
       "19   0  3  4  3494.595902\n",
       "63   2  2  3  3497.195179\n",
       "44   1  3  4  3497.571495\n",
       "..  .. .. ..          ...\n",
       "21   0  4  1  4008.237895\n",
       "15   0  3  0  4018.998222\n",
       "0    0  0  0  4031.030518\n",
       "45   1  4  0  4118.332831\n",
       "20   0  4  0  4271.733651\n",
       "\n",
       "[125 rows x 4 columns]"
      ]
     },
     "execution_count": 30,
     "metadata": {},
     "output_type": "execute_result"
    }
   ],
   "source": [
    "results = []\n",
    "for p in range(0, 5):\n",
    "    for d in range(0, 5):\n",
    "        for q in range(0, 5):\n",
    "            param = (p, d, q)\n",
    "            model = ARIMA(train.incremental_cases, order = param).fit()\n",
    "            results.append([p, d, q,model.aic])\n",
    "pd.DataFrame(results, columns=['p', 'd', 'q', 'aic']).sort_values('aic')  "
   ]
  },
  {
   "cell_type": "code",
   "execution_count": 35,
   "id": "453e1296",
   "metadata": {},
   "outputs": [
    {
     "data": {
      "text/html": [
       "<div>\n",
       "<style scoped>\n",
       "    .dataframe tbody tr th:only-of-type {\n",
       "        vertical-align: middle;\n",
       "    }\n",
       "\n",
       "    .dataframe tbody tr th {\n",
       "        vertical-align: top;\n",
       "    }\n",
       "\n",
       "    .dataframe thead th {\n",
       "        text-align: right;\n",
       "    }\n",
       "</style>\n",
       "<table border=\"1\" class=\"dataframe\">\n",
       "  <thead>\n",
       "    <tr style=\"text-align: right;\">\n",
       "      <th></th>\n",
       "      <th>p</th>\n",
       "      <th>d</th>\n",
       "      <th>q</th>\n",
       "      <th>aic</th>\n",
       "    </tr>\n",
       "  </thead>\n",
       "  <tbody>\n",
       "    <tr>\n",
       "      <th>113</th>\n",
       "      <td>4</td>\n",
       "      <td>2</td>\n",
       "      <td>3</td>\n",
       "      <td>16.000000</td>\n",
       "    </tr>\n",
       "    <tr>\n",
       "      <th>48</th>\n",
       "      <td>1</td>\n",
       "      <td>4</td>\n",
       "      <td>3</td>\n",
       "      <td>2789.631263</td>\n",
       "    </tr>\n",
       "    <tr>\n",
       "      <th>19</th>\n",
       "      <td>0</td>\n",
       "      <td>3</td>\n",
       "      <td>4</td>\n",
       "      <td>3494.595902</td>\n",
       "    </tr>\n",
       "    <tr>\n",
       "      <th>63</th>\n",
       "      <td>2</td>\n",
       "      <td>2</td>\n",
       "      <td>3</td>\n",
       "      <td>3497.195179</td>\n",
       "    </tr>\n",
       "    <tr>\n",
       "      <th>44</th>\n",
       "      <td>1</td>\n",
       "      <td>3</td>\n",
       "      <td>4</td>\n",
       "      <td>3497.571495</td>\n",
       "    </tr>\n",
       "    <tr>\n",
       "      <th>88</th>\n",
       "      <td>3</td>\n",
       "      <td>2</td>\n",
       "      <td>3</td>\n",
       "      <td>3498.153123</td>\n",
       "    </tr>\n",
       "    <tr>\n",
       "      <th>38</th>\n",
       "      <td>1</td>\n",
       "      <td>2</td>\n",
       "      <td>3</td>\n",
       "      <td>3498.460449</td>\n",
       "    </tr>\n",
       "    <tr>\n",
       "      <th>39</th>\n",
       "      <td>1</td>\n",
       "      <td>2</td>\n",
       "      <td>4</td>\n",
       "      <td>3498.574720</td>\n",
       "    </tr>\n",
       "    <tr>\n",
       "      <th>64</th>\n",
       "      <td>2</td>\n",
       "      <td>2</td>\n",
       "      <td>4</td>\n",
       "      <td>3498.605984</td>\n",
       "    </tr>\n",
       "    <tr>\n",
       "      <th>68</th>\n",
       "      <td>2</td>\n",
       "      <td>3</td>\n",
       "      <td>3</td>\n",
       "      <td>3498.719748</td>\n",
       "    </tr>\n",
       "    <tr>\n",
       "      <th>14</th>\n",
       "      <td>0</td>\n",
       "      <td>2</td>\n",
       "      <td>4</td>\n",
       "      <td>3499.770760</td>\n",
       "    </tr>\n",
       "    <tr>\n",
       "      <th>108</th>\n",
       "      <td>4</td>\n",
       "      <td>1</td>\n",
       "      <td>3</td>\n",
       "      <td>3499.993418</td>\n",
       "    </tr>\n",
       "    <tr>\n",
       "      <th>59</th>\n",
       "      <td>2</td>\n",
       "      <td>1</td>\n",
       "      <td>4</td>\n",
       "      <td>3506.139231</td>\n",
       "    </tr>\n",
       "    <tr>\n",
       "      <th>34</th>\n",
       "      <td>1</td>\n",
       "      <td>1</td>\n",
       "      <td>4</td>\n",
       "      <td>3506.409779</td>\n",
       "    </tr>\n",
       "    <tr>\n",
       "      <th>24</th>\n",
       "      <td>0</td>\n",
       "      <td>4</td>\n",
       "      <td>4</td>\n",
       "      <td>3508.871113</td>\n",
       "    </tr>\n",
       "    <tr>\n",
       "      <th>84</th>\n",
       "      <td>3</td>\n",
       "      <td>1</td>\n",
       "      <td>4</td>\n",
       "      <td>3509.148471</td>\n",
       "    </tr>\n",
       "    <tr>\n",
       "      <th>69</th>\n",
       "      <td>2</td>\n",
       "      <td>3</td>\n",
       "      <td>4</td>\n",
       "      <td>3509.371038</td>\n",
       "    </tr>\n",
       "    <tr>\n",
       "      <th>79</th>\n",
       "      <td>3</td>\n",
       "      <td>0</td>\n",
       "      <td>4</td>\n",
       "      <td>3513.153025</td>\n",
       "    </tr>\n",
       "    <tr>\n",
       "      <th>89</th>\n",
       "      <td>3</td>\n",
       "      <td>2</td>\n",
       "      <td>4</td>\n",
       "      <td>3514.730242</td>\n",
       "    </tr>\n",
       "    <tr>\n",
       "      <th>103</th>\n",
       "      <td>4</td>\n",
       "      <td>0</td>\n",
       "      <td>3</td>\n",
       "      <td>3515.578822</td>\n",
       "    </tr>\n",
       "  </tbody>\n",
       "</table>\n",
       "</div>"
      ],
      "text/plain": [
       "     p  d  q          aic\n",
       "113  4  2  3    16.000000\n",
       "48   1  4  3  2789.631263\n",
       "19   0  3  4  3494.595902\n",
       "63   2  2  3  3497.195179\n",
       "44   1  3  4  3497.571495\n",
       "88   3  2  3  3498.153123\n",
       "38   1  2  3  3498.460449\n",
       "39   1  2  4  3498.574720\n",
       "64   2  2  4  3498.605984\n",
       "68   2  3  3  3498.719748\n",
       "14   0  2  4  3499.770760\n",
       "108  4  1  3  3499.993418\n",
       "59   2  1  4  3506.139231\n",
       "34   1  1  4  3506.409779\n",
       "24   0  4  4  3508.871113\n",
       "84   3  1  4  3509.148471\n",
       "69   2  3  4  3509.371038\n",
       "79   3  0  4  3513.153025\n",
       "89   3  2  4  3514.730242\n",
       "103  4  0  3  3515.578822"
      ]
     },
     "execution_count": 35,
     "metadata": {},
     "output_type": "execute_result"
    }
   ],
   "source": [
    "pd.DataFrame(results, columns=['p', 'd', 'q', 'aic']).sort_values('aic').head(20)"
   ]
  },
  {
   "cell_type": "code",
   "execution_count": 39,
   "id": "74605ec7",
   "metadata": {},
   "outputs": [
    {
     "name": "stdout",
     "output_type": "stream",
     "text": [
      "0.447348742201208\n"
     ]
    },
    {
     "data": {
      "text/plain": [
       "<AxesSubplot:xlabel='date'>"
      ]
     },
     "execution_count": 39,
     "metadata": {},
     "output_type": "execute_result"
    },
    {
     "data": {
      "image/png": "[encoded data removed]",
      "text/plain": [
       "<Figure size 432x288 with 1 Axes>"
      ]
     },
     "metadata": {
      "needs_background": "light"
     },
     "output_type": "display_data"
    }
   ],
   "source": [
    "model = ARIMA(train.incremental_cases, order=(1, 3, 4)).fit()\n",
    "pred = model.forecast(steps=40)\n",
    "r2 = r2_score(test.incremental_cases, pred)\n",
    "print(r2)\n",
    "\n",
    "prediction = pd.DataFrame({'actual':test.incremental_cases.reset_index(drop = True), \n",
    "              'pred':pred.reset_index(drop = True)})\n",
    "prediction['date'] = test['date'].reset_index(drop = True)\n",
    "prediction.plot(x = 'date', y = ['actual', 'pred'])"
   ]
  },
  {
   "cell_type": "code",
   "execution_count": 28,
   "id": "765217ec",
   "metadata": {},
   "outputs": [
    {
     "name": "stdout",
     "output_type": "stream",
     "text": [
      "-0.04153079432833362\n"
     ]
    },
    {
     "data": {
      "text/plain": [
       "<AxesSubplot:xlabel='date'>"
      ]
     },
     "execution_count": 28,
     "metadata": {},
     "output_type": "execute_result"
    },
    {
     "data": {
      "image/png": "[encoded data removed]",
      "text/plain": [
       "<Figure size 432x288 with 1 Axes>"
      ]
     },
     "metadata": {
      "needs_background": "light"
     },
     "output_type": "display_data"
    }
   ],
   "source": [
    "model = ARIMA(train.incremental_cases, order=(8, 0, 7)).fit()\n",
    "pred = model.forecast(steps=40)\n",
    "r2 = r2_score(test.incremental_cases, pred)\n",
    "print(r2)\n",
    "\n",
    "prediction = pd.DataFrame({'actual':test.incremental_cases.reset_index(drop = True), \n",
    "              'pred':pred.reset_index(drop = True)})\n",
    "prediction['date'] = test['date'].reset_index(drop = True)\n",
    "prediction.plot(x = 'date', y = ['actual', 'pred'])"
   ]
  },
  {
   "cell_type": "code",
   "execution_count": 17,
   "id": "ba456566",
   "metadata": {},
   "outputs": [
    {
     "ename": "LinAlgError",
     "evalue": "LU decomposition error.",
     "output_type": "error",
     "traceback": [
      "\u001b[0;31m---------------------------------------------------------------------------\u001b[0m",
      "\u001b[0;31mLinAlgError\u001b[0m                               Traceback (most recent call last)",
      "\u001b[0;32m/var/folders/7s/7pz0sdt94z3dpk3yrw82q8jm0000gn/T/ipykernel_20387/316338743.py\u001b[0m in \u001b[0;36m<module>\u001b[0;34m\u001b[0m\n\u001b[1;32m      8\u001b[0m         \u001b[0;32mfor\u001b[0m \u001b[0mq\u001b[0m \u001b[0;32min\u001b[0m \u001b[0mq_values\u001b[0m\u001b[0;34m:\u001b[0m\u001b[0;34m\u001b[0m\u001b[0;34m\u001b[0m\u001b[0m\n\u001b[1;32m      9\u001b[0m             \u001b[0mparam\u001b[0m \u001b[0;34m=\u001b[0m \u001b[0;34m(\u001b[0m\u001b[0mp\u001b[0m\u001b[0;34m,\u001b[0m \u001b[0md\u001b[0m\u001b[0;34m,\u001b[0m \u001b[0mq\u001b[0m\u001b[0;34m)\u001b[0m\u001b[0;34m\u001b[0m\u001b[0;34m\u001b[0m\u001b[0m\n\u001b[0;32m---> 10\u001b[0;31m             \u001b[0mmodel\u001b[0m \u001b[0;34m=\u001b[0m \u001b[0mARIMA\u001b[0m\u001b[0;34m(\u001b[0m\u001b[0mtrain\u001b[0m\u001b[0;34m.\u001b[0m\u001b[0mincremental_cases\u001b[0m\u001b[0;34m,\u001b[0m \u001b[0morder\u001b[0m\u001b[0;34m=\u001b[0m\u001b[0mparam\u001b[0m\u001b[0;34m)\u001b[0m\u001b[0;34m.\u001b[0m\u001b[0mfit\u001b[0m\u001b[0;34m(\u001b[0m\u001b[0;34m)\u001b[0m\u001b[0;34m\u001b[0m\u001b[0;34m\u001b[0m\u001b[0m\n\u001b[0m\u001b[1;32m     11\u001b[0m             \u001b[0mresults\u001b[0m\u001b[0;34m.\u001b[0m\u001b[0mappend\u001b[0m\u001b[0;34m(\u001b[0m\u001b[0;34m[\u001b[0m\u001b[0mp\u001b[0m\u001b[0;34m,\u001b[0m \u001b[0md\u001b[0m\u001b[0;34m,\u001b[0m \u001b[0mq\u001b[0m\u001b[0;34m,\u001b[0m \u001b[0mmodel\u001b[0m\u001b[0;34m.\u001b[0m\u001b[0maic\u001b[0m\u001b[0;34m]\u001b[0m\u001b[0;34m)\u001b[0m\u001b[0;34m\u001b[0m\u001b[0;34m\u001b[0m\u001b[0m\n\u001b[1;32m     12\u001b[0m \u001b[0mpd\u001b[0m\u001b[0;34m.\u001b[0m\u001b[0mDataFrame\u001b[0m\u001b[0;34m(\u001b[0m\u001b[0mresults\u001b[0m\u001b[0;34m,\u001b[0m \u001b[0mcolumns\u001b[0m\u001b[0;34m=\u001b[0m\u001b[0;34m[\u001b[0m\u001b[0;34m'p'\u001b[0m\u001b[0;34m,\u001b[0m\u001b[0;34m'd'\u001b[0m\u001b[0;34m,\u001b[0m\u001b[0;34m'q'\u001b[0m\u001b[0;34m,\u001b[0m \u001b[0;34m'aic'\u001b[0m\u001b[0;34m]\u001b[0m\u001b[0;34m)\u001b[0m\u001b[0;34m.\u001b[0m\u001b[0msort_values\u001b[0m\u001b[0;34m(\u001b[0m\u001b[0;34m'aic'\u001b[0m\u001b[0;34m)\u001b[0m\u001b[0;34m\u001b[0m\u001b[0;34m\u001b[0m\u001b[0m\n",
      "\u001b[0;32m/opt/anaconda3/lib/python3.9/site-packages/statsmodels/tsa/arima/model.py\u001b[0m in \u001b[0;36mfit\u001b[0;34m(self, start_params, transformed, includes_fixed, method, method_kwargs, gls, gls_kwargs, cov_type, cov_kwds, return_params, low_memory)\u001b[0m\n\u001b[1;32m    393\u001b[0m                 \u001b[0mmethod_kwargs\u001b[0m\u001b[0;34m.\u001b[0m\u001b[0msetdefault\u001b[0m\u001b[0;34m(\u001b[0m\u001b[0;34m'disp'\u001b[0m\u001b[0;34m,\u001b[0m \u001b[0;36m0\u001b[0m\u001b[0;34m)\u001b[0m\u001b[0;34m\u001b[0m\u001b[0;34m\u001b[0m\u001b[0m\n\u001b[1;32m    394\u001b[0m \u001b[0;34m\u001b[0m\u001b[0m\n\u001b[0;32m--> 395\u001b[0;31m                 res = super().fit(\n\u001b[0m\u001b[1;32m    396\u001b[0m                     \u001b[0mreturn_params\u001b[0m\u001b[0;34m=\u001b[0m\u001b[0mreturn_params\u001b[0m\u001b[0;34m,\u001b[0m \u001b[0mlow_memory\u001b[0m\u001b[0;34m=\u001b[0m\u001b[0mlow_memory\u001b[0m\u001b[0;34m,\u001b[0m\u001b[0;34m\u001b[0m\u001b[0;34m\u001b[0m\u001b[0m\n\u001b[1;32m    397\u001b[0m                     cov_type=cov_type, cov_kwds=cov_kwds, **method_kwargs)\n",
      "\u001b[0;32m/opt/anaconda3/lib/python3.9/site-packages/statsmodels/tsa/statespace/mlemodel.py\u001b[0m in \u001b[0;36mfit\u001b[0;34m(self, start_params, transformed, includes_fixed, cov_type, cov_kwds, method, maxiter, full_output, disp, callback, return_params, optim_score, optim_complex_step, optim_hessian, flags, low_memory, **kwargs)\u001b[0m\n\u001b[1;32m    702\u001b[0m                 \u001b[0mflags\u001b[0m\u001b[0;34m[\u001b[0m\u001b[0;34m'hessian_method'\u001b[0m\u001b[0;34m]\u001b[0m \u001b[0;34m=\u001b[0m \u001b[0moptim_hessian\u001b[0m\u001b[0;34m\u001b[0m\u001b[0;34m\u001b[0m\u001b[0m\n\u001b[1;32m    703\u001b[0m             \u001b[0mfargs\u001b[0m \u001b[0;34m=\u001b[0m \u001b[0;34m(\u001b[0m\u001b[0mflags\u001b[0m\u001b[0;34m,\u001b[0m\u001b[0;34m)\u001b[0m\u001b[0;34m\u001b[0m\u001b[0;34m\u001b[0m\u001b[0m\n\u001b[0;32m--> 704\u001b[0;31m             mlefit = super(MLEModel, self).fit(start_params, method=method,\n\u001b[0m\u001b[1;32m    705\u001b[0m                                                \u001b[0mfargs\u001b[0m\u001b[0;34m=\u001b[0m\u001b[0mfargs\u001b[0m\u001b[0;34m,\u001b[0m\u001b[0;34m\u001b[0m\u001b[0;34m\u001b[0m\u001b[0m\n\u001b[1;32m    706\u001b[0m                                                \u001b[0mmaxiter\u001b[0m\u001b[0;34m=\u001b[0m\u001b[0mmaxiter\u001b[0m\u001b[0;34m,\u001b[0m\u001b[0;34m\u001b[0m\u001b[0;34m\u001b[0m\u001b[0m\n",
      "\u001b[0;32m/opt/anaconda3/lib/python3.9/site-packages/statsmodels/base/model.py\u001b[0m in \u001b[0;36mfit\u001b[0;34m(self, start_params, method, maxiter, full_output, disp, fargs, callback, retall, skip_hessian, **kwargs)\u001b[0m\n\u001b[1;32m    564\u001b[0m \u001b[0;34m\u001b[0m\u001b[0m\n\u001b[1;32m    565\u001b[0m         \u001b[0moptimizer\u001b[0m \u001b[0;34m=\u001b[0m \u001b[0mOptimizer\u001b[0m\u001b[0;34m(\u001b[0m\u001b[0;34m)\u001b[0m\u001b[0;34m\u001b[0m\u001b[0;34m\u001b[0m\u001b[0m\n\u001b[0;32m--> 566\u001b[0;31m         xopt, retvals, optim_settings = optimizer._fit(f, score, start_params,\n\u001b[0m\u001b[1;32m    567\u001b[0m                                                        \u001b[0mfargs\u001b[0m\u001b[0;34m,\u001b[0m \u001b[0mkwargs\u001b[0m\u001b[0;34m,\u001b[0m\u001b[0;34m\u001b[0m\u001b[0;34m\u001b[0m\u001b[0m\n\u001b[1;32m    568\u001b[0m                                                        \u001b[0mhessian\u001b[0m\u001b[0;34m=\u001b[0m\u001b[0mhess\u001b[0m\u001b[0;34m,\u001b[0m\u001b[0;34m\u001b[0m\u001b[0;34m\u001b[0m\u001b[0m\n",
      "\u001b[0;32m/opt/anaconda3/lib/python3.9/site-packages/statsmodels/base/optimizer.py\u001b[0m in \u001b[0;36m_fit\u001b[0;34m(self, objective, gradient, start_params, fargs, kwargs, hessian, method, maxiter, full_output, disp, callback, retall)\u001b[0m\n\u001b[1;32m    240\u001b[0m \u001b[0;34m\u001b[0m\u001b[0m\n\u001b[1;32m    241\u001b[0m         \u001b[0mfunc\u001b[0m \u001b[0;34m=\u001b[0m \u001b[0mfit_funcs\u001b[0m\u001b[0;34m[\u001b[0m\u001b[0mmethod\u001b[0m\u001b[0;34m]\u001b[0m\u001b[0;34m\u001b[0m\u001b[0;34m\u001b[0m\u001b[0m\n\u001b[0;32m--> 242\u001b[0;31m         xopt, retvals = func(objective, gradient, start_params, fargs, kwargs,\n\u001b[0m\u001b[1;32m    243\u001b[0m                              \u001b[0mdisp\u001b[0m\u001b[0;34m=\u001b[0m\u001b[0mdisp\u001b[0m\u001b[0;34m,\u001b[0m \u001b[0mmaxiter\u001b[0m\u001b[0;34m=\u001b[0m\u001b[0mmaxiter\u001b[0m\u001b[0;34m,\u001b[0m \u001b[0mcallback\u001b[0m\u001b[0;34m=\u001b[0m\u001b[0mcallback\u001b[0m\u001b[0;34m,\u001b[0m\u001b[0;34m\u001b[0m\u001b[0;34m\u001b[0m\u001b[0m\n\u001b[1;32m    244\u001b[0m                              \u001b[0mretall\u001b[0m\u001b[0;34m=\u001b[0m\u001b[0mretall\u001b[0m\u001b[0;34m,\u001b[0m \u001b[0mfull_output\u001b[0m\u001b[0;34m=\u001b[0m\u001b[0mfull_output\u001b[0m\u001b[0;34m,\u001b[0m\u001b[0;34m\u001b[0m\u001b[0;34m\u001b[0m\u001b[0m\n",
      "\u001b[0;32m/opt/anaconda3/lib/python3.9/site-packages/statsmodels/base/optimizer.py\u001b[0m in \u001b[0;36m_fit_lbfgs\u001b[0;34m(f, score, start_params, fargs, kwargs, disp, maxiter, callback, retall, full_output, hess)\u001b[0m\n\u001b[1;32m    657\u001b[0m         \u001b[0mfunc\u001b[0m \u001b[0;34m=\u001b[0m \u001b[0mf\u001b[0m\u001b[0;34m\u001b[0m\u001b[0;34m\u001b[0m\u001b[0m\n\u001b[1;32m    658\u001b[0m \u001b[0;34m\u001b[0m\u001b[0m\n\u001b[0;32m--> 659\u001b[0;31m     retvals = optimize.fmin_l_bfgs_b(func, start_params, maxiter=maxiter,\n\u001b[0m\u001b[1;32m    660\u001b[0m                                      \u001b[0mcallback\u001b[0m\u001b[0;34m=\u001b[0m\u001b[0mcallback\u001b[0m\u001b[0;34m,\u001b[0m \u001b[0margs\u001b[0m\u001b[0;34m=\u001b[0m\u001b[0mfargs\u001b[0m\u001b[0;34m,\u001b[0m\u001b[0;34m\u001b[0m\u001b[0;34m\u001b[0m\u001b[0m\n\u001b[1;32m    661\u001b[0m                                      \u001b[0mbounds\u001b[0m\u001b[0;34m=\u001b[0m\u001b[0mbounds\u001b[0m\u001b[0;34m,\u001b[0m \u001b[0mdisp\u001b[0m\u001b[0;34m=\u001b[0m\u001b[0mdisp\u001b[0m\u001b[0;34m,\u001b[0m\u001b[0;34m\u001b[0m\u001b[0;34m\u001b[0m\u001b[0m\n",
      "\u001b[0;32m/opt/anaconda3/lib/python3.9/site-packages/scipy/optimize/lbfgsb.py\u001b[0m in \u001b[0;36mfmin_l_bfgs_b\u001b[0;34m(func, x0, fprime, args, approx_grad, bounds, m, factr, pgtol, epsilon, iprint, maxfun, maxiter, disp, callback, maxls)\u001b[0m\n\u001b[1;32m    195\u001b[0m             'maxls': maxls}\n\u001b[1;32m    196\u001b[0m \u001b[0;34m\u001b[0m\u001b[0m\n\u001b[0;32m--> 197\u001b[0;31m     res = _minimize_lbfgsb(fun, x0, args=args, jac=jac, bounds=bounds,\n\u001b[0m\u001b[1;32m    198\u001b[0m                            **opts)\n\u001b[1;32m    199\u001b[0m     d = {'grad': res['jac'],\n",
      "\u001b[0;32m/opt/anaconda3/lib/python3.9/site-packages/scipy/optimize/lbfgsb.py\u001b[0m in \u001b[0;36m_minimize_lbfgsb\u001b[0;34m(fun, x0, args, jac, bounds, disp, maxcor, ftol, gtol, eps, maxfun, maxiter, iprint, callback, maxls, finite_diff_rel_step, **unknown_options)\u001b[0m\n\u001b[1;32m    358\u001b[0m             \u001b[0;31m# until the completion of the current minimization iteration.\u001b[0m\u001b[0;34m\u001b[0m\u001b[0;34m\u001b[0m\u001b[0m\n\u001b[1;32m    359\u001b[0m             \u001b[0;31m# Overwrite f and g:\u001b[0m\u001b[0;34m\u001b[0m\u001b[0;34m\u001b[0m\u001b[0m\n\u001b[0;32m--> 360\u001b[0;31m             \u001b[0mf\u001b[0m\u001b[0;34m,\u001b[0m \u001b[0mg\u001b[0m \u001b[0;34m=\u001b[0m \u001b[0mfunc_and_grad\u001b[0m\u001b[0;34m(\u001b[0m\u001b[0mx\u001b[0m\u001b[0;34m)\u001b[0m\u001b[0;34m\u001b[0m\u001b[0;34m\u001b[0m\u001b[0m\n\u001b[0m\u001b[1;32m    361\u001b[0m         \u001b[0;32melif\u001b[0m \u001b[0mtask_str\u001b[0m\u001b[0;34m.\u001b[0m\u001b[0mstartswith\u001b[0m\u001b[0;34m(\u001b[0m\u001b[0;34mb'NEW_X'\u001b[0m\u001b[0;34m)\u001b[0m\u001b[0;34m:\u001b[0m\u001b[0;34m\u001b[0m\u001b[0;34m\u001b[0m\u001b[0m\n\u001b[1;32m    362\u001b[0m             \u001b[0;31m# new iteration\u001b[0m\u001b[0;34m\u001b[0m\u001b[0;34m\u001b[0m\u001b[0m\n",
      "\u001b[0;32m/opt/anaconda3/lib/python3.9/site-packages/scipy/optimize/_differentiable_functions.py\u001b[0m in \u001b[0;36mfun_and_grad\u001b[0;34m(self, x)\u001b[0m\n\u001b[1;32m    265\u001b[0m         \u001b[0;32mif\u001b[0m \u001b[0;32mnot\u001b[0m \u001b[0mnp\u001b[0m\u001b[0;34m.\u001b[0m\u001b[0marray_equal\u001b[0m\u001b[0;34m(\u001b[0m\u001b[0mx\u001b[0m\u001b[0;34m,\u001b[0m \u001b[0mself\u001b[0m\u001b[0;34m.\u001b[0m\u001b[0mx\u001b[0m\u001b[0;34m)\u001b[0m\u001b[0;34m:\u001b[0m\u001b[0;34m\u001b[0m\u001b[0;34m\u001b[0m\u001b[0m\n\u001b[1;32m    266\u001b[0m             \u001b[0mself\u001b[0m\u001b[0;34m.\u001b[0m\u001b[0m_update_x_impl\u001b[0m\u001b[0;34m(\u001b[0m\u001b[0mx\u001b[0m\u001b[0;34m)\u001b[0m\u001b[0;34m\u001b[0m\u001b[0;34m\u001b[0m\u001b[0m\n\u001b[0;32m--> 267\u001b[0;31m         \u001b[0mself\u001b[0m\u001b[0;34m.\u001b[0m\u001b[0m_update_fun\u001b[0m\u001b[0;34m(\u001b[0m\u001b[0;34m)\u001b[0m\u001b[0;34m\u001b[0m\u001b[0;34m\u001b[0m\u001b[0m\n\u001b[0m\u001b[1;32m    268\u001b[0m         \u001b[0mself\u001b[0m\u001b[0;34m.\u001b[0m\u001b[0m_update_grad\u001b[0m\u001b[0;34m(\u001b[0m\u001b[0;34m)\u001b[0m\u001b[0;34m\u001b[0m\u001b[0;34m\u001b[0m\u001b[0m\n\u001b[1;32m    269\u001b[0m         \u001b[0;32mreturn\u001b[0m \u001b[0mself\u001b[0m\u001b[0;34m.\u001b[0m\u001b[0mf\u001b[0m\u001b[0;34m,\u001b[0m \u001b[0mself\u001b[0m\u001b[0;34m.\u001b[0m\u001b[0mg\u001b[0m\u001b[0;34m\u001b[0m\u001b[0;34m\u001b[0m\u001b[0m\n",
      "\u001b[0;32m/opt/anaconda3/lib/python3.9/site-packages/scipy/optimize/_differentiable_functions.py\u001b[0m in \u001b[0;36m_update_fun\u001b[0;34m(self)\u001b[0m\n\u001b[1;32m    231\u001b[0m     \u001b[0;32mdef\u001b[0m \u001b[0m_update_fun\u001b[0m\u001b[0;34m(\u001b[0m\u001b[0mself\u001b[0m\u001b[0;34m)\u001b[0m\u001b[0;34m:\u001b[0m\u001b[0;34m\u001b[0m\u001b[0;34m\u001b[0m\u001b[0m\n\u001b[1;32m    232\u001b[0m         \u001b[0;32mif\u001b[0m \u001b[0;32mnot\u001b[0m \u001b[0mself\u001b[0m\u001b[0;34m.\u001b[0m\u001b[0mf_updated\u001b[0m\u001b[0;34m:\u001b[0m\u001b[0;34m\u001b[0m\u001b[0;34m\u001b[0m\u001b[0m\n\u001b[0;32m--> 233\u001b[0;31m             \u001b[0mself\u001b[0m\u001b[0;34m.\u001b[0m\u001b[0m_update_fun_impl\u001b[0m\u001b[0;34m(\u001b[0m\u001b[0;34m)\u001b[0m\u001b[0;34m\u001b[0m\u001b[0;34m\u001b[0m\u001b[0m\n\u001b[0m\u001b[1;32m    234\u001b[0m             \u001b[0mself\u001b[0m\u001b[0;34m.\u001b[0m\u001b[0mf_updated\u001b[0m \u001b[0;34m=\u001b[0m \u001b[0;32mTrue\u001b[0m\u001b[0;34m\u001b[0m\u001b[0;34m\u001b[0m\u001b[0m\n\u001b[1;32m    235\u001b[0m \u001b[0;34m\u001b[0m\u001b[0m\n",
      "\u001b[0;32m/opt/anaconda3/lib/python3.9/site-packages/scipy/optimize/_differentiable_functions.py\u001b[0m in \u001b[0;36mupdate_fun\u001b[0;34m()\u001b[0m\n\u001b[1;32m    135\u001b[0m \u001b[0;34m\u001b[0m\u001b[0m\n\u001b[1;32m    136\u001b[0m         \u001b[0;32mdef\u001b[0m \u001b[0mupdate_fun\u001b[0m\u001b[0;34m(\u001b[0m\u001b[0;34m)\u001b[0m\u001b[0;34m:\u001b[0m\u001b[0;34m\u001b[0m\u001b[0;34m\u001b[0m\u001b[0m\n\u001b[0;32m--> 137\u001b[0;31m             \u001b[0mself\u001b[0m\u001b[0;34m.\u001b[0m\u001b[0mf\u001b[0m \u001b[0;34m=\u001b[0m \u001b[0mfun_wrapped\u001b[0m\u001b[0;34m(\u001b[0m\u001b[0mself\u001b[0m\u001b[0;34m.\u001b[0m\u001b[0mx\u001b[0m\u001b[0;34m)\u001b[0m\u001b[0;34m\u001b[0m\u001b[0;34m\u001b[0m\u001b[0m\n\u001b[0m\u001b[1;32m    138\u001b[0m \u001b[0;34m\u001b[0m\u001b[0m\n\u001b[1;32m    139\u001b[0m         \u001b[0mself\u001b[0m\u001b[0;34m.\u001b[0m\u001b[0m_update_fun_impl\u001b[0m \u001b[0;34m=\u001b[0m \u001b[0mupdate_fun\u001b[0m\u001b[0;34m\u001b[0m\u001b[0;34m\u001b[0m\u001b[0m\n",
      "\u001b[0;32m/opt/anaconda3/lib/python3.9/site-packages/scipy/optimize/_differentiable_functions.py\u001b[0m in \u001b[0;36mfun_wrapped\u001b[0;34m(x)\u001b[0m\n\u001b[1;32m    132\u001b[0m             \u001b[0;31m# Overwriting results in undefined behaviour because\u001b[0m\u001b[0;34m\u001b[0m\u001b[0;34m\u001b[0m\u001b[0m\n\u001b[1;32m    133\u001b[0m             \u001b[0;31m# fun(self.x) will change self.x, with the two no longer linked.\u001b[0m\u001b[0;34m\u001b[0m\u001b[0;34m\u001b[0m\u001b[0m\n\u001b[0;32m--> 134\u001b[0;31m             \u001b[0;32mreturn\u001b[0m \u001b[0mfun\u001b[0m\u001b[0;34m(\u001b[0m\u001b[0mnp\u001b[0m\u001b[0;34m.\u001b[0m\u001b[0mcopy\u001b[0m\u001b[0;34m(\u001b[0m\u001b[0mx\u001b[0m\u001b[0;34m)\u001b[0m\u001b[0;34m,\u001b[0m \u001b[0;34m*\u001b[0m\u001b[0margs\u001b[0m\u001b[0;34m)\u001b[0m\u001b[0;34m\u001b[0m\u001b[0;34m\u001b[0m\u001b[0m\n\u001b[0m\u001b[1;32m    135\u001b[0m \u001b[0;34m\u001b[0m\u001b[0m\n\u001b[1;32m    136\u001b[0m         \u001b[0;32mdef\u001b[0m \u001b[0mupdate_fun\u001b[0m\u001b[0;34m(\u001b[0m\u001b[0;34m)\u001b[0m\u001b[0;34m:\u001b[0m\u001b[0;34m\u001b[0m\u001b[0;34m\u001b[0m\u001b[0m\n",
      "\u001b[0;32m/opt/anaconda3/lib/python3.9/site-packages/statsmodels/base/model.py\u001b[0m in \u001b[0;36mf\u001b[0;34m(params, *args)\u001b[0m\n\u001b[1;32m    532\u001b[0m \u001b[0;34m\u001b[0m\u001b[0m\n\u001b[1;32m    533\u001b[0m         \u001b[0;32mdef\u001b[0m \u001b[0mf\u001b[0m\u001b[0;34m(\u001b[0m\u001b[0mparams\u001b[0m\u001b[0;34m,\u001b[0m \u001b[0;34m*\u001b[0m\u001b[0margs\u001b[0m\u001b[0;34m)\u001b[0m\u001b[0;34m:\u001b[0m\u001b[0;34m\u001b[0m\u001b[0;34m\u001b[0m\u001b[0m\n\u001b[0;32m--> 534\u001b[0;31m             \u001b[0;32mreturn\u001b[0m \u001b[0;34m-\u001b[0m\u001b[0mself\u001b[0m\u001b[0;34m.\u001b[0m\u001b[0mloglike\u001b[0m\u001b[0;34m(\u001b[0m\u001b[0mparams\u001b[0m\u001b[0;34m,\u001b[0m \u001b[0;34m*\u001b[0m\u001b[0margs\u001b[0m\u001b[0;34m)\u001b[0m \u001b[0;34m/\u001b[0m \u001b[0mnobs\u001b[0m\u001b[0;34m\u001b[0m\u001b[0;34m\u001b[0m\u001b[0m\n\u001b[0m\u001b[1;32m    535\u001b[0m \u001b[0;34m\u001b[0m\u001b[0m\n\u001b[1;32m    536\u001b[0m         \u001b[0;32mif\u001b[0m \u001b[0mmethod\u001b[0m \u001b[0;34m==\u001b[0m \u001b[0;34m'newton'\u001b[0m\u001b[0;34m:\u001b[0m\u001b[0;34m\u001b[0m\u001b[0;34m\u001b[0m\u001b[0m\n",
      "\u001b[0;32m/opt/anaconda3/lib/python3.9/site-packages/statsmodels/tsa/statespace/mlemodel.py\u001b[0m in \u001b[0;36mloglike\u001b[0;34m(self, params, *args, **kwargs)\u001b[0m\n\u001b[1;32m    937\u001b[0m             \u001b[0mkwargs\u001b[0m\u001b[0;34m[\u001b[0m\u001b[0;34m'inversion_method'\u001b[0m\u001b[0;34m]\u001b[0m \u001b[0;34m=\u001b[0m \u001b[0mINVERT_UNIVARIATE\u001b[0m \u001b[0;34m|\u001b[0m \u001b[0mSOLVE_LU\u001b[0m\u001b[0;34m\u001b[0m\u001b[0;34m\u001b[0m\u001b[0m\n\u001b[1;32m    938\u001b[0m \u001b[0;34m\u001b[0m\u001b[0m\n\u001b[0;32m--> 939\u001b[0;31m         \u001b[0mloglike\u001b[0m \u001b[0;34m=\u001b[0m \u001b[0mself\u001b[0m\u001b[0;34m.\u001b[0m\u001b[0mssm\u001b[0m\u001b[0;34m.\u001b[0m\u001b[0mloglike\u001b[0m\u001b[0;34m(\u001b[0m\u001b[0mcomplex_step\u001b[0m\u001b[0;34m=\u001b[0m\u001b[0mcomplex_step\u001b[0m\u001b[0;34m,\u001b[0m \u001b[0;34m**\u001b[0m\u001b[0mkwargs\u001b[0m\u001b[0;34m)\u001b[0m\u001b[0;34m\u001b[0m\u001b[0;34m\u001b[0m\u001b[0m\n\u001b[0m\u001b[1;32m    940\u001b[0m \u001b[0;34m\u001b[0m\u001b[0m\n\u001b[1;32m    941\u001b[0m         \u001b[0;31m# Koopman, Shephard, and Doornik recommend maximizing the average\u001b[0m\u001b[0;34m\u001b[0m\u001b[0;34m\u001b[0m\u001b[0m\n",
      "\u001b[0;32m/opt/anaconda3/lib/python3.9/site-packages/statsmodels/tsa/statespace/kalman_filter.py\u001b[0m in \u001b[0;36mloglike\u001b[0;34m(self, **kwargs)\u001b[0m\n\u001b[1;32m    999\u001b[0m         kwargs.setdefault('conserve_memory',\n\u001b[1;32m   1000\u001b[0m                           MEMORY_CONSERVE ^ MEMORY_NO_LIKELIHOOD)\n\u001b[0;32m-> 1001\u001b[0;31m         \u001b[0mkfilter\u001b[0m \u001b[0;34m=\u001b[0m \u001b[0mself\u001b[0m\u001b[0;34m.\u001b[0m\u001b[0m_filter\u001b[0m\u001b[0;34m(\u001b[0m\u001b[0;34m**\u001b[0m\u001b[0mkwargs\u001b[0m\u001b[0;34m)\u001b[0m\u001b[0;34m\u001b[0m\u001b[0;34m\u001b[0m\u001b[0m\n\u001b[0m\u001b[1;32m   1002\u001b[0m         loglikelihood_burn = kwargs.get('loglikelihood_burn',\n\u001b[1;32m   1003\u001b[0m                                         self.loglikelihood_burn)\n",
      "\u001b[0;32m/opt/anaconda3/lib/python3.9/site-packages/statsmodels/tsa/statespace/kalman_filter.py\u001b[0m in \u001b[0;36m_filter\u001b[0;34m(self, filter_method, inversion_method, stability_method, conserve_memory, filter_timing, tolerance, loglikelihood_burn, complex_step)\u001b[0m\n\u001b[1;32m    919\u001b[0m \u001b[0;34m\u001b[0m\u001b[0m\n\u001b[1;32m    920\u001b[0m         \u001b[0;31m# Initialize the state\u001b[0m\u001b[0;34m\u001b[0m\u001b[0;34m\u001b[0m\u001b[0m\n\u001b[0;32m--> 921\u001b[0;31m         \u001b[0mself\u001b[0m\u001b[0;34m.\u001b[0m\u001b[0m_initialize_state\u001b[0m\u001b[0;34m(\u001b[0m\u001b[0mprefix\u001b[0m\u001b[0;34m=\u001b[0m\u001b[0mprefix\u001b[0m\u001b[0;34m,\u001b[0m \u001b[0mcomplex_step\u001b[0m\u001b[0;34m=\u001b[0m\u001b[0mcomplex_step\u001b[0m\u001b[0;34m)\u001b[0m\u001b[0;34m\u001b[0m\u001b[0;34m\u001b[0m\u001b[0m\n\u001b[0m\u001b[1;32m    922\u001b[0m \u001b[0;34m\u001b[0m\u001b[0m\n\u001b[1;32m    923\u001b[0m         \u001b[0;31m# Run the filter\u001b[0m\u001b[0;34m\u001b[0m\u001b[0;34m\u001b[0m\u001b[0m\n",
      "\u001b[0;32m/opt/anaconda3/lib/python3.9/site-packages/statsmodels/tsa/statespace/representation.py\u001b[0m in \u001b[0;36m_initialize_state\u001b[0;34m(self, prefix, complex_step)\u001b[0m\n\u001b[1;32m   1056\u001b[0m             \u001b[0;32mif\u001b[0m \u001b[0;32mnot\u001b[0m \u001b[0mself\u001b[0m\u001b[0;34m.\u001b[0m\u001b[0minitialization\u001b[0m\u001b[0;34m.\u001b[0m\u001b[0minitialized\u001b[0m\u001b[0;34m:\u001b[0m\u001b[0;34m\u001b[0m\u001b[0;34m\u001b[0m\u001b[0m\n\u001b[1;32m   1057\u001b[0m                 \u001b[0;32mraise\u001b[0m \u001b[0mRuntimeError\u001b[0m\u001b[0;34m(\u001b[0m\u001b[0;34m'Initialization is incomplete.'\u001b[0m\u001b[0;34m)\u001b[0m\u001b[0;34m\u001b[0m\u001b[0;34m\u001b[0m\u001b[0m\n\u001b[0;32m-> 1058\u001b[0;31m             self._statespaces[prefix].initialize(self.initialization,\n\u001b[0m\u001b[1;32m   1059\u001b[0m                                                  complex_step=complex_step)\n\u001b[1;32m   1060\u001b[0m         \u001b[0;32melse\u001b[0m\u001b[0;34m:\u001b[0m\u001b[0;34m\u001b[0m\u001b[0;34m\u001b[0m\u001b[0m\n",
      "\u001b[0;32mstatsmodels/tsa/statespace/_representation.pyx\u001b[0m in \u001b[0;36mstatsmodels.tsa.statespace._representation.dStatespace.initialize\u001b[0;34m()\u001b[0m\n",
      "\u001b[0;32mstatsmodels/tsa/statespace/_representation.pyx\u001b[0m in \u001b[0;36mstatsmodels.tsa.statespace._representation.dStatespace.initialize\u001b[0;34m()\u001b[0m\n",
      "\u001b[0;32mstatsmodels/tsa/statespace/_initialization.pyx\u001b[0m in \u001b[0;36mstatsmodels.tsa.statespace._initialization.dInitialization.initialize\u001b[0;34m()\u001b[0m\n",
      "\u001b[0;32mstatsmodels/tsa/statespace/_initialization.pyx\u001b[0m in \u001b[0;36mstatsmodels.tsa.statespace._initialization.dInitialization.initialize_stationary_stationary_cov\u001b[0;34m()\u001b[0m\n",
      "\u001b[0;32mstatsmodels/tsa/statespace/_tools.pyx\u001b[0m in \u001b[0;36mstatsmodels.tsa.statespace._tools._dsolve_discrete_lyapunov\u001b[0;34m()\u001b[0m\n",
      "\u001b[0;31mLinAlgError\u001b[0m: LU decomposition error."
     ]
    }
   ],
   "source": [
    "p_values = [0, 1, 2, 3, 4, 5]\n",
    "d_values = [0, 1, 2, 3, 4, 5]\n",
    "q_values = [5, 6, 7, 8]\n",
    "results = []\n",
    "prev = float('inf')\n",
    "for p in p_values:\n",
    "    for d in d_values:\n",
    "        for q in q_values:\n",
    "            param = (p, d, q)\n",
    "            model = ARIMA(train.incremental_cases, order=param).fit()\n",
    "            results.append([p, d, q, model.aic])\n",
    "pd.DataFrame(results, columns=['p','d','q', 'aic']).sort_values('aic')"
   ]
  },
  {
   "cell_type": "code",
   "execution_count": 14,
   "id": "88eb2ab3",
   "metadata": {},
   "outputs": [
    {
     "name": "stdout",
     "output_type": "stream",
     "text": [
      "1549063.5364596266 for parameters (1, 1, 1)\n",
      "1041981.0101645675 for parameters (1, 1, 5)\n",
      "1357956.7566587704 for parameters (1, 1, 10)\n",
      "1216463.400977837 for parameters (1, 1, 15)\n",
      "1349629.7010003189 for parameters (1, 2, 1)\n",
      "795102.808458714 for parameters (1, 2, 5)\n",
      "451981.9084357934 for parameters (1, 2, 10)\n",
      "869091.3267274689 for parameters (1, 2, 15)\n",
      "2266445224.5778875 for parameters (1, 4, 1)\n",
      "1371308.3356573884 for parameters (1, 4, 5)\n",
      "1753167.2797663421 for parameters (1, 4, 10)\n",
      "28119669.887651384 for parameters (1, 4, 15)\n",
      "1125052446068457.8 for parameters (1, 6, 1)\n",
      "66635202.362387575 for parameters (1, 6, 5)\n",
      "471171432.5514668 for parameters (1, 6, 10)\n",
      "2211714.9718962056 for parameters (1, 6, 15)\n",
      "1540055.7607299844 for parameters (5, 1, 1)\n",
      "977904.4150121424 for parameters (5, 1, 5)\n",
      "1612418.6687248657 for parameters (5, 1, 10)\n",
      "1160768.1848970563 for parameters (5, 1, 15)\n",
      "1045601.9788290743 for parameters (5, 2, 1)\n",
      "276382.93671741756 for parameters (5, 2, 5)\n",
      "1000460.6182987783 for parameters (5, 2, 10)\n",
      "883634.3866813587 for parameters (5, 2, 15)\n",
      "9058439.415310483 for parameters (5, 4, 1)\n",
      "618396.8356060258 for parameters (5, 4, 5)\n",
      "94931.11538630082 for parameters (5, 4, 10)\n",
      "542466.8346418205 for parameters (5, 4, 15)\n",
      "119485389887.5068 for parameters (5, 6, 1)\n",
      "93354495.83064947 for parameters (5, 6, 5)\n",
      "136864521.58994132 for parameters (5, 6, 10)\n",
      "44235368.56528558 for parameters (5, 6, 15)\n",
      "1418870.2412765508 for parameters (10, 1, 1)\n",
      "1183770.7241257566 for parameters (10, 1, 5)\n",
      "1039137.6919062526 for parameters (10, 1, 10)\n",
      "1100760.3951641025 for parameters (10, 1, 15)\n",
      "1127691.9284429331 for parameters (10, 2, 1)\n",
      "1161457.30425645 for parameters (10, 2, 5)\n",
      "407984.59787099686 for parameters (10, 2, 10)\n",
      "1020173.9338862121 for parameters (10, 2, 15)\n",
      "3529371.020296526 for parameters (10, 4, 1)\n",
      "25053862.768493313 for parameters (10, 4, 5)\n",
      "2061083.2677748508 for parameters (10, 4, 10)\n",
      "1804883.3788207422 for parameters (10, 4, 15)\n",
      "2891028773.0957274 for parameters (10, 6, 1)\n",
      "1781420.7505039293 for parameters (10, 6, 5)\n",
      "44452425.26888608 for parameters (10, 6, 10)\n",
      "2861139.7158862627 for parameters (10, 6, 15)\n",
      "(5, 4, 10) 94931.11538630082\n"
     ]
    }
   ],
   "source": [
    "p_values = [1, 5, 10]\n",
    "d_values = [1, 2, 4, 6]\n",
    "q_values = [1, 5, 10, 15]\n",
    "vals = []\n",
    "prev = 100000000000000000000000000\n",
    "for p in p_values:\n",
    "    for d in d_values:\n",
    "        for q in q_values:\n",
    "            param = (p, d, q)\n",
    "            model = ARIMA(train.incremental_cases, order=param).fit()\n",
    "            pred = model.forecast(steps=40)\n",
    "            mse = mean_squared_error(test.incremental_cases, pred)\n",
    "            if mse < prev:\n",
    "                prev = mse\n",
    "                best = param\n",
    "            print(mse, 'for parameters', param)\n",
    "print(best, prev)"
   ]
  },
  {
   "cell_type": "code",
   "execution_count": 15,
   "id": "02a911af",
   "metadata": {},
   "outputs": [
    {
     "data": {
      "text/plain": [
       "0.8294055720342459"
      ]
     },
     "execution_count": 15,
     "metadata": {},
     "output_type": "execute_result"
    }
   ],
   "source": [
    "model = ARIMA(train.incremental_cases, order=(5, 4, 10)).fit()\n",
    "pred = model.forecast(steps=40)\n",
    "r2 = r2_score(test.incremental_cases, pred)\n",
    "r2"
   ]
  },
  {
   "cell_type": "code",
   "execution_count": 16,
   "id": "b271fd94",
   "metadata": {},
   "outputs": [
    {
     "name": "stdout",
     "output_type": "stream",
     "text": [
      "1220766.5634239335 for parameters (3, 3, 9)\n",
      "521290.95808599424 for parameters (3, 3, 10)\n",
      "511798.3289727288 for parameters (3, 3, 11)\n",
      "1810401.3788042876 for parameters (3, 4, 9)\n",
      "250920.37393956244 for parameters (3, 4, 10)\n",
      "182738.17447471875 for parameters (3, 4, 11)\n",
      "5453980.512635309 for parameters (3, 5, 9)\n",
      "35749298.601994716 for parameters (3, 5, 10)\n",
      "61603678.70280813 for parameters (3, 5, 11)\n",
      "237410694.15880078 for parameters (3, 6, 9)\n",
      "247915191.81539136 for parameters (3, 6, 10)\n",
      "504195.94077514356 for parameters (3, 6, 11)\n",
      "285356.3330654354 for parameters (4, 3, 9)\n",
      "881290.5061518478 for parameters (4, 3, 10)\n",
      "1133130.7506620071 for parameters (4, 3, 11)\n",
      "296363.70141635626 for parameters (4, 4, 9)\n",
      "68887.63015841597 for parameters (4, 4, 10)\n",
      "265524.68658765574 for parameters (4, 4, 11)\n",
      "21233506.540181123 for parameters (4, 5, 9)\n",
      "36539271.81010924 for parameters (4, 5, 10)\n",
      "25427878.32972912 for parameters (4, 5, 11)\n",
      "77078398.74759933 for parameters (4, 6, 9)\n",
      "88719710.70621257 for parameters (4, 6, 10)\n",
      "401222763.0600673 for parameters (4, 6, 11)\n",
      "354899.1224938326 for parameters (5, 3, 9)\n",
      "1239942.6294686217 for parameters (5, 3, 10)\n",
      "1274159.7916686842 for parameters (5, 3, 11)\n",
      "1538270.7656228053 for parameters (5, 4, 9)\n",
      "94931.11538630082 for parameters (5, 4, 10)\n",
      "842139.9721970133 for parameters (5, 4, 11)\n",
      "425202.39638170553 for parameters (5, 5, 9)\n",
      "7967721.6437160205 for parameters (5, 5, 10)\n",
      "1307691.2131217432 for parameters (5, 5, 11)\n",
      "40045694.240537286 for parameters (5, 6, 9)\n",
      "136864521.58994132 for parameters (5, 6, 10)\n",
      "95475663.0385269 for parameters (5, 6, 11)\n",
      "898248.8601501014 for parameters (6, 3, 9)\n",
      "254325.48161315708 for parameters (6, 3, 10)\n",
      "1470120.4727431887 for parameters (6, 3, 11)\n",
      "5946901.669674806 for parameters (6, 4, 9)\n",
      "1298057.7180841106 for parameters (6, 4, 10)\n",
      "979300.2181213845 for parameters (6, 4, 11)\n",
      "119154337.26140638 for parameters (6, 5, 9)\n",
      "36113332.378138766 for parameters (6, 5, 10)\n",
      "2552733.0351553014 for parameters (6, 5, 11)\n",
      "2049040.5057817302 for parameters (6, 6, 9)\n",
      "52403802.789665714 for parameters (6, 6, 10)\n",
      "175733.6513729977 for parameters (6, 6, 11)\n",
      "(4, 4, 10) 68887.63015841597\n"
     ]
    }
   ],
   "source": [
    "p_values = [3, 4, 5, 6]\n",
    "d_values = [3, 4, 5, 6]\n",
    "q_values = [9, 10, 11]\n",
    "vals = []\n",
    "prev = 100000000000000000000000000\n",
    "for p in p_values:\n",
    "    for d in d_values:\n",
    "        for q in q_values:\n",
    "            param = (p, d, q)\n",
    "            model = ARIMA(train.incremental_cases, order=param).fit()\n",
    "            pred = model.forecast(steps=40)\n",
    "            mse = mean_squared_error(test.incremental_cases, pred)\n",
    "            if mse < prev:\n",
    "                prev = mse\n",
    "                best = param\n",
    "            print(mse, 'for parameters', param)\n",
    "print(best, prev)"
   ]
  },
  {
   "cell_type": "code",
   "execution_count": 17,
   "id": "f408f44e",
   "metadata": {},
   "outputs": [
    {
     "data": {
      "text/plain": [
       "0.8762065966151361"
      ]
     },
     "execution_count": 17,
     "metadata": {},
     "output_type": "execute_result"
    }
   ],
   "source": [
    "model = ARIMA(train.incremental_cases, order=(4, 4, 10)).fit()\n",
    "pred = model.forecast(steps=40)\n",
    "r2 = r2_score(test.incremental_cases, pred)\n",
    "r2"
   ]
  },
  {
   "cell_type": "code",
   "execution_count": 18,
   "id": "e8075841",
   "metadata": {},
   "outputs": [
    {
     "data": {
      "text/plain": [
       "<AxesSubplot:xlabel='date'>"
      ]
     },
     "execution_count": 18,
     "metadata": {},
     "output_type": "execute_result"
    },
    {
     "data": {
      "image/png": "[encoded data removed]",
      "text/plain": [
       "<Figure size 432x288 with 1 Axes>"
      ]
     },
     "metadata": {
      "needs_background": "light"
     },
     "output_type": "display_data"
    }
   ],
   "source": [
    "prediction = pd.DataFrame({'actual':test.incremental_cases.reset_index(drop = True), \n",
    "              'pred':pred.reset_index(drop = True)})\n",
    "prediction['date'] = test['date'].reset_index(drop = True)\n",
    "prediction.plot(x = 'date', y = ['actual', 'pred'])"
   ]
  },
  {
   "cell_type": "code",
   "execution_count": 19,
   "id": "ce2aeb07",
   "metadata": {},
   "outputs": [
    {
     "data": {
      "text/plain": [
       "[<matplotlib.lines.Line2D at 0x7fa2e94e5760>]"
      ]
     },
     "execution_count": 19,
     "metadata": {},
     "output_type": "execute_result"
    },
    {
     "data": {
      "image/png": "[encoded data removed]",
      "text/plain": [
       "<Figure size 432x288 with 1 Axes>"
      ]
     },
     "metadata": {
      "needs_background": "light"
     },
     "output_type": "display_data"
    }
   ],
   "source": [
    "plt.plot(model.resid)"
   ]
  },
  {
   "cell_type": "markdown",
   "id": "1c5da576",
   "metadata": {},
   "source": [
    "## Suffolk"
   ]
  },
  {
   "cell_type": "code",
   "execution_count": 41,
   "id": "6048e014",
   "metadata": {},
   "outputs": [
    {
     "name": "stdout",
     "output_type": "stream",
     "text": [
      "(-1.9912096665928523, 0.2904406048537419)\n",
      "2389    101\n",
      "Name: incremental_cases, dtype: int64\n",
      "2389   -62\n",
      "Name: incremental_cases, dtype: int64\n"
     ]
    },
    {
     "data": {
      "text/plain": [
       "(-14.698522702913342, 2.9719362953173403e-27)"
      ]
     },
     "execution_count": 41,
     "metadata": {},
     "output_type": "execute_result"
    }
   ],
   "source": [
    "suffolk = data[data['county'] == 'Suffolk'].loc[:, ['date', 'incremental_cases']]\n",
    "suffolk['incremental_cases'] = suffolk['incremental_cases'].astype('int')\n",
    "suffolk['date'] = pd.to_datetime(suffolk['date'], format=\"%Y-%m-%d\")\n",
    "\n",
    "# suffolk is non-stationary\n",
    "print(stationary_test(suffolk.incremental_cases))\n",
    "\n",
    "# get this value for reversion purposes\n",
    "print(suffolk.loc[suffolk['date'] == '2020-10-25', 'incremental_cases'])\n",
    "\n",
    "# first-level differencing\n",
    "suffolk['incremental_cases'] = suffolk['incremental_cases'].diff(\n",
    ").fillna(suffolk['incremental_cases']).astype('int')\n",
    "\n",
    "# suffolk is still non-stationary after first-level differencing\n",
    "stationary_test(suffolk.incremental_cases)\n",
    "\n",
    "# get this value for reversion purposes\n",
    "print(suffolk.loc[suffolk['date'] == '2020-10-25', 'incremental_cases'])\n",
    "\n",
    "# second-level differencing\n",
    "suffolk['incremental_cases'] = suffolk['incremental_cases'].diff(\n",
    ").fillna(suffolk['incremental_cases']).astype('int')\n",
    "\n",
    "# suffolk is stationary after second-level differencing\n",
    "stationary_test(suffolk.incremental_cases)"
   ]
  },
  {
   "cell_type": "code",
   "execution_count": 66,
   "id": "415393c6",
   "metadata": {},
   "outputs": [
    {
     "data": {
      "text/plain": [
       "<AxesSubplot:xlabel='date', ylabel='incremental_cases'>"
      ]
     },
     "execution_count": 66,
     "metadata": {},
     "output_type": "execute_result"
    },
    {
     "data": {
      "image/png": "[encoded data removed]",
      "text/plain": [
       "<Figure size 432x288 with 1 Axes>"
      ]
     },
     "metadata": {
      "needs_background": "light"
     },
     "output_type": "display_data"
    }
   ],
   "source": [
    "# use differenced cases for train\n",
    "train = suffolk.iloc[:230, :]\n",
    "\n",
    "# use non-differenced cases for test actuals\n",
    "og = data[data['county'] == 'Suffolk'].loc[:, ['date', 'incremental_cases']]\n",
    "og.incremental_cases = og.incremental_cases.astype('int')\n",
    "og.date = pd.to_datetime(og.date, format=\"%Y-%m-%d\")\n",
    "test = og.iloc[230:, :]\n",
    "\n",
    "sns.lineplot(x=\"date\", y=\"incremental_cases\",legend = 'full' , data=og)"
   ]
  },
  {
   "cell_type": "code",
   "execution_count": 34,
   "id": "f609b04f",
   "metadata": {},
   "outputs": [
    {
     "name": "stdout",
     "output_type": "stream",
     "text": [
      "328756.30299393804 for parameters (1, 1, 1)\n",
      "95704.77003054768 for parameters (1, 1, 5)\n",
      "97967.26446041746 for parameters (1, 1, 10)\n",
      "302370645130.9877 for parameters (1, 3, 1)\n",
      "1518140.3840154111 for parameters (1, 3, 5)\n",
      "3559889.6701657968 for parameters (1, 3, 10)\n",
      "1.115400112932473e+16 for parameters (1, 5, 1)\n",
      "88469946262.8493 for parameters (1, 5, 5)\n",
      "17835273161.700294 for parameters (1, 5, 10)\n",
      "19098.250311920237 for parameters (5, 1, 1)\n",
      "75352.84278661487 for parameters (5, 1, 5)\n",
      "164061.80554217723 for parameters (5, 1, 10)\n",
      "1546271290.0141037 for parameters (5, 3, 1)\n",
      "658655.3049371885 for parameters (5, 3, 5)\n",
      "116718.34943748191 for parameters (5, 3, 10)\n",
      "2793090445882.8857 for parameters (5, 5, 1)\n",
      "23253781373.04783 for parameters (5, 5, 5)\n",
      "2130002.660859504 for parameters (5, 5, 10)\n",
      "76536.7951712968 for parameters (10, 1, 1)\n",
      "76569.38821303677 for parameters (10, 1, 5)\n",
      "117874.63483392494 for parameters (10, 1, 10)\n",
      "49052707.36171587 for parameters (10, 3, 1)\n",
      "308299.2340914166 for parameters (10, 3, 5)\n",
      "2605587.9086362435 for parameters (10, 3, 10)\n",
      "3.8551812925445596e+23 for parameters (10, 5, 1)\n",
      "238202505.8806778 for parameters (10, 5, 5)\n",
      "2237689893.4517074 for parameters (10, 5, 10)\n",
      "93732.51101187943 for parameters (15, 1, 1)\n",
      "51505.9532231528 for parameters (15, 1, 5)\n",
      "101803.03558374205 for parameters (15, 1, 10)\n",
      "7806401.716155037 for parameters (15, 3, 1)\n",
      "835329.555359756 for parameters (15, 3, 5)\n",
      "54009.23345906994 for parameters (15, 3, 10)\n",
      "40393050240.83632 for parameters (15, 5, 1)\n",
      "10147438443.100122 for parameters (15, 5, 5)\n",
      "12230920.386966445 for parameters (15, 5, 10)\n",
      "(5, 1, 1) 19098.250311920237\n"
     ]
    }
   ],
   "source": [
    "p_values = [1, 5, 10, 15]\n",
    "d_values = [1, 3, 5]\n",
    "q_values = [1, 5, 10]\n",
    "vals = []\n",
    "prev = 100000000000000000000000000\n",
    "for p in p_values:\n",
    "    for d in d_values:\n",
    "        for q in q_values:\n",
    "            param = (p, d, q)\n",
    "            model = ARIMA(train.incremental_cases, order=param).fit()\n",
    "            pred = model.forecast(steps=40)\n",
    "            pred = pd.concat([pd.Series([-62]), pred]).cumsum()[1:]\n",
    "            pred = pd.concat([pd.Series([101]), pred]).cumsum()[1:]\n",
    "            mse = mean_squared_error(test.incremental_cases, pred)\n",
    "            if mse < prev:\n",
    "                prev = mse\n",
    "                best = param\n",
    "            print(mse, 'for parameters', param)\n",
    "print(best, prev)"
   ]
  },
  {
   "cell_type": "code",
   "execution_count": 38,
   "id": "79865949",
   "metadata": {},
   "outputs": [
    {
     "data": {
      "text/plain": [
       "0.7277560066654538"
      ]
     },
     "execution_count": 38,
     "metadata": {},
     "output_type": "execute_result"
    }
   ],
   "source": [
    "model = ARIMA(train.incremental_cases, order=(5, 1, 1)).fit()\n",
    "pred = pd.concat([pd.Series([-62]), model.forecast(steps=40)]).cumsum()[1:]\n",
    "pred = pd.concat([pd.Series([101]), pred]).cumsum()[1:]\n",
    "r2 = r2_score(test.incremental_cases, pred)\n",
    "r2"
   ]
  },
  {
   "cell_type": "code",
   "execution_count": 44,
   "id": "ef31b1e9",
   "metadata": {},
   "outputs": [
    {
     "name": "stdout",
     "output_type": "stream",
     "text": [
      "26795.576370541276 for parameters (3, 0, 0)\n",
      "227308.2220268255 for parameters (3, 0, 1)\n",
      "228419.61577016412 for parameters (3, 0, 2)\n",
      "227374.34531893424 for parameters (3, 0, 3)\n",
      "3502610.682856617 for parameters (3, 1, 0)\n",
      "26818.874407237472 for parameters (3, 1, 1)\n",
      "231787.03655003692 for parameters (3, 1, 2)\n",
      "230924.93045679777 for parameters (3, 1, 3)\n",
      "1225558498.5519795 for parameters (3, 2, 0)\n",
      "4019184.4249214516 for parameters (3, 2, 1)\n",
      "15560.872534193735 for parameters (3, 2, 2)\n",
      "15473.817623478613 for parameters (3, 2, 3)\n",
      "186243289088.4706 for parameters (3, 3, 0)\n",
      "1286410846.4326963 for parameters (3, 3, 1)\n",
      "4801499.388405604 for parameters (3, 3, 2)\n",
      "10810736.358670453 for parameters (3, 3, 3)\n",
      "23007.285589432486 for parameters (4, 0, 0)\n",
      "235415.65983718206 for parameters (4, 0, 1)\n",
      "74024.34721067201 for parameters (4, 0, 2)\n",
      "170165.23967269712 for parameters (4, 0, 3)\n",
      "2295427.446994893 for parameters (4, 1, 0)\n",
      "23030.22863681036 for parameters (4, 1, 1)\n",
      "25413.934885017436 for parameters (4, 1, 2)\n",
      "59487.32131098052 for parameters (4, 1, 3)\n",
      "1238505637.3031998 for parameters (4, 2, 0)\n",
      "2613308.308347184 for parameters (4, 2, 1)\n",
      "3997714.4930262687 for parameters (4, 2, 2)\n",
      "14844.417962028567 for parameters (4, 2, 3)\n",
      "1455788310.6346538 for parameters (4, 3, 0)\n",
      "1310416269.3188052 for parameters (4, 3, 1)\n",
      "3220567.3696521497 for parameters (4, 3, 2)\n",
      "9803911.294968668 for parameters (4, 3, 3)\n",
      "19151.516503572097 for parameters (5, 0, 0)\n",
      "134039.0549050989 for parameters (5, 0, 1)\n",
      "67478.72373963904 for parameters (5, 0, 2)\n",
      "119785.98236597658 for parameters (5, 0, 3)\n",
      "608455.3435963227 for parameters (5, 1, 0)\n",
      "19098.250311920237 for parameters (5, 1, 1)\n",
      "125717.48935706072 for parameters (5, 1, 2)\n",
      "16016.046975004789 for parameters (5, 1, 3)\n",
      "1450128285.4844253 for parameters (5, 2, 0)\n",
      "706272.2993422815 for parameters (5, 2, 1)\n",
      "2717166.697750178 for parameters (5, 2, 2)\n",
      "34414.29939074707 for parameters (5, 2, 3)\n",
      "38336913813.31262 for parameters (5, 3, 0)\n",
      "1546271290.0141037 for parameters (5, 3, 1)\n",
      "1311182460.416439 for parameters (5, 3, 2)\n",
      "3251983.1649843855 for parameters (5, 3, 3)\n",
      "25803.008510004944 for parameters (6, 0, 0)\n",
      "87352.65829370197 for parameters (6, 0, 1)\n",
      "31768.704812716816 for parameters (6, 0, 2)\n",
      "88193.45197432299 for parameters (6, 0, 3)\n",
      "2653516.917104532 for parameters (6, 1, 0)\n",
      "25836.083951161516 for parameters (6, 1, 1)\n",
      "85384.05686233942 for parameters (6, 1, 2)\n",
      "125575.03887247402 for parameters (6, 1, 3)\n",
      "516517117.4373468 for parameters (6, 2, 0)\n",
      "2923334.5302702878 for parameters (6, 2, 1)\n",
      "14553.33346672136 for parameters (6, 2, 2)\n",
      "158086.45249621622 for parameters (6, 2, 3)\n",
      "93858244595.82132 for parameters (6, 3, 0)\n",
      "557662732.043627 for parameters (6, 3, 1)\n",
      "4137651.2444254137 for parameters (6, 3, 2)\n",
      "26869.4405721809 for parameters (6, 3, 3)\n",
      "(6, 2, 2) 14553.33346672136\n"
     ]
    }
   ],
   "source": [
    "p_values = [3, 4, 5, 6]\n",
    "d_values = [0, 1, 2, 3]\n",
    "q_values = [0, 1, 2, 3]\n",
    "vals = []\n",
    "prev = 100000000000000000000000000\n",
    "for p in p_values:\n",
    "    for d in d_values:\n",
    "        for q in q_values:\n",
    "            param = (p, d, q)\n",
    "            model = ARIMA(train.incremental_cases, order=param).fit()\n",
    "            pred = model.forecast(steps=40)\n",
    "            pred = pd.concat([pd.Series([-62]), pred]).cumsum()[1:]\n",
    "            pred = pd.concat([pd.Series([101]), pred]).cumsum()[1:]\n",
    "            mse = mean_squared_error(test.incremental_cases, pred)\n",
    "            if mse < prev:\n",
    "                prev = mse\n",
    "                best = param\n",
    "            print(mse, 'for parameters', param)\n",
    "print(best, prev)"
   ]
  },
  {
   "cell_type": "code",
   "execution_count": 45,
   "id": "95a25624",
   "metadata": {},
   "outputs": [
    {
     "data": {
      "text/plain": [
       "0.7925434238948796"
      ]
     },
     "execution_count": 45,
     "metadata": {},
     "output_type": "execute_result"
    }
   ],
   "source": [
    "model = ARIMA(train.incremental_cases, order=(6, 2, 2)).fit()\n",
    "pred = pd.concat([pd.Series([-62]), model.forecast(steps=40)]).cumsum()[1:]\n",
    "pred = pd.concat([pd.Series([101]), pred]).cumsum()[1:]\n",
    "r2 = r2_score(test.incremental_cases, pred)\n",
    "r2"
   ]
  },
  {
   "cell_type": "code",
   "execution_count": 50,
   "id": "a4007763",
   "metadata": {},
   "outputs": [
    {
     "name": "stdout",
     "output_type": "stream",
     "text": [
      "19098.250311920237 for parameters (5, 1, 1)\n",
      "125717.48935706072 for parameters (5, 1, 2)\n",
      "16016.046975004789 for parameters (5, 1, 3)\n",
      "706272.2993422815 for parameters (5, 2, 1)\n",
      "2717166.697750178 for parameters (5, 2, 2)\n",
      "34414.29939074707 for parameters (5, 2, 3)\n",
      "1546271290.0141037 for parameters (5, 3, 1)\n",
      "1311182460.416439 for parameters (5, 3, 2)\n",
      "3251983.1649843855 for parameters (5, 3, 3)\n",
      "25836.083951161516 for parameters (6, 1, 1)\n",
      "85384.05686233942 for parameters (6, 1, 2)\n",
      "125575.03887247402 for parameters (6, 1, 3)\n",
      "2923334.5302702878 for parameters (6, 2, 1)\n",
      "14553.33346672136 for parameters (6, 2, 2)\n",
      "158086.45249621622 for parameters (6, 2, 3)\n",
      "557662732.043627 for parameters (6, 3, 1)\n",
      "4137651.2444254137 for parameters (6, 3, 2)\n",
      "26869.4405721809 for parameters (6, 3, 3)\n",
      "51983.23312491763 for parameters (7, 1, 1)\n",
      "80362.65231731646 for parameters (7, 1, 2)\n",
      "85410.98955250515 for parameters (7, 1, 3)\n",
      "4277082.5200314615 for parameters (7, 2, 1)\n",
      "31886.1590722995 for parameters (7, 2, 2)\n",
      "142876.83999034026 for parameters (7, 2, 3)\n",
      "5851373.913514918 for parameters (7, 3, 1)\n",
      "6196142.330541774 for parameters (7, 3, 2)\n",
      "2439870635.924312 for parameters (7, 3, 3)\n",
      "77003.48985663394 for parameters (8, 1, 1)\n",
      "82852.89926800513 for parameters (8, 1, 2)\n",
      "71589.87108752162 for parameters (8, 1, 3)\n",
      "1591966.1526842294 for parameters (8, 2, 1)\n",
      "55905.21566854543 for parameters (8, 2, 2)\n",
      "44780.09306726242 for parameters (8, 2, 3)\n",
      "97454172.72160149 for parameters (8, 3, 1)\n",
      "2424865.41842609 for parameters (8, 3, 2)\n",
      "4931339.482353111 for parameters (8, 3, 3)\n",
      "(6, 2, 2) 14553.33346672136\n"
     ]
    }
   ],
   "source": [
    "p_values = [5, 6, 7, 8]\n",
    "d_values = [1, 2, 3]\n",
    "q_values = [1, 2, 3]\n",
    "vals = []\n",
    "prev = 100000000000000000000000000\n",
    "for p in p_values:\n",
    "    for d in d_values:\n",
    "        for q in q_values:\n",
    "            param = (p, d, q)\n",
    "            model = ARIMA(train.incremental_cases, order=param).fit()\n",
    "            pred = model.forecast(steps=40)\n",
    "            pred = pd.concat([pd.Series([-62]), pred]).cumsum()[1:]\n",
    "            pred = pd.concat([pd.Series([101]), pred]).cumsum()[1:]\n",
    "            mse = mean_squared_error(test.incremental_cases, pred)\n",
    "            if mse < prev:\n",
    "                prev = mse\n",
    "                best = param\n",
    "            print(mse, 'for parameters', param)\n",
    "print(best, prev)"
   ]
  },
  {
   "cell_type": "code",
   "execution_count": 51,
   "id": "ab455e7a",
   "metadata": {},
   "outputs": [
    {
     "data": {
      "text/plain": [
       "0.7925434238948796"
      ]
     },
     "execution_count": 51,
     "metadata": {},
     "output_type": "execute_result"
    }
   ],
   "source": [
    "model = ARIMA(train.incremental_cases, order=(6, 2, 2)).fit()\n",
    "pred = pd.concat([pd.Series([-62]), model.forecast(steps=40)]).cumsum()[1:]\n",
    "pred = pd.concat([pd.Series([101]), pred]).cumsum()[1:]\n",
    "r2 = r2_score(test.incremental_cases, pred)\n",
    "r2"
   ]
  },
  {
   "cell_type": "code",
   "execution_count": 52,
   "id": "1ac77cfd",
   "metadata": {},
   "outputs": [
    {
     "data": {
      "text/plain": [
       "<AxesSubplot:xlabel='date'>"
      ]
     },
     "execution_count": 52,
     "metadata": {},
     "output_type": "execute_result"
    },
    {
     "data": {
      "image/png": "[encoded data removed]",
      "text/plain": [
       "<Figure size 432x288 with 1 Axes>"
      ]
     },
     "metadata": {
      "needs_background": "light"
     },
     "output_type": "display_data"
    }
   ],
   "source": [
    "prediction = pd.DataFrame({'actual':test.incremental_cases.reset_index(drop = True), \n",
    "              'pred':pred.reset_index(drop = True)})\n",
    "prediction['date'] = test['date'].reset_index(drop = True)\n",
    "prediction.plot(x = 'date', y = ['actual', 'pred'])"
   ]
  },
  {
   "cell_type": "code",
   "execution_count": 53,
   "id": "fa5c759a",
   "metadata": {},
   "outputs": [
    {
     "data": {
      "text/plain": [
       "[<matplotlib.lines.Line2D at 0x7fa2ee61a8e0>]"
      ]
     },
     "execution_count": 53,
     "metadata": {},
     "output_type": "execute_result"
    },
    {
     "data": {
      "image/png": "[encoded data removed]",
      "text/plain": [
       "<Figure size 432x288 with 1 Axes>"
      ]
     },
     "metadata": {
      "needs_background": "light"
     },
     "output_type": "display_data"
    }
   ],
   "source": [
    "plt.plot(model.resid)"
   ]
  },
  {
   "cell_type": "markdown",
   "id": "18d1bd52",
   "metadata": {},
   "source": [
    "## Clark"
   ]
  },
  {
   "cell_type": "code",
   "execution_count": 56,
   "id": "bdb4a34f",
   "metadata": {},
   "outputs": [
    {
     "name": "stdout",
     "output_type": "stream",
     "text": [
      "(-0.11236379030359485, 0.9481930426302596)\n",
      "1579    735\n",
      "Name: incremental_cases, dtype: int64\n",
      "(-3.3449201000745075, 0.012986122973228372)\n"
     ]
    }
   ],
   "source": [
    "clark = data[data['county'] == 'Clark'].loc[:, ['date', 'incremental_cases']]\n",
    "clark['incremental_cases'] = clark['incremental_cases'].astype('int')\n",
    "clark['date'] = pd.to_datetime(clark['date'], format=\"%Y-%m-%d\")\n",
    "\n",
    "# clark is non-stationary\n",
    "print(stationary_test(clark.incremental_cases))\n",
    "\n",
    "# get this value for reversion purposes\n",
    "print(clark.loc[clark['date'] == '2020-10-25', 'incremental_cases'])\n",
    "\n",
    "# first-level differencing\n",
    "clark['incremental_cases'] = clark['incremental_cases'].diff(\n",
    ").fillna(clark['incremental_cases']).astype('int')\n",
    "\n",
    "# suffolk is stationary after first-level differencing\n",
    "print(stationary_test(clark.incremental_cases))"
   ]
  },
  {
   "cell_type": "code",
   "execution_count": 65,
   "id": "02942336",
   "metadata": {},
   "outputs": [
    {
     "data": {
      "text/plain": [
       "<AxesSubplot:xlabel='date', ylabel='incremental_cases'>"
      ]
     },
     "execution_count": 65,
     "metadata": {},
     "output_type": "execute_result"
    },
    {
     "data": {
      "image/png": "[encoded data removed]",
      "text/plain": [
       "<Figure size 432x288 with 1 Axes>"
      ]
     },
     "metadata": {
      "needs_background": "light"
     },
     "output_type": "display_data"
    }
   ],
   "source": [
    "# use differenced cases for train\n",
    "train = clark.iloc[:230, :]\n",
    "\n",
    "# use non-differenced cases for test actuals\n",
    "og = data[data['county'] == 'Clark'].loc[:, ['date', 'incremental_cases']]\n",
    "og.incremental_cases = og.incremental_cases.astype('int')\n",
    "og.date = pd.to_datetime(og.date, format=\"%Y-%m-%d\")\n",
    "test = og.iloc[230:, :]\n",
    "\n",
    "sns.lineplot(x=\"date\", y=\"incremental_cases\",legend = 'full' , data=og)"
   ]
  },
  {
   "cell_type": "code",
   "execution_count": 59,
   "id": "22f4201f",
   "metadata": {},
   "outputs": [
    {
     "name": "stdout",
     "output_type": "stream",
     "text": [
      "316603.60332153714 for parameters (1, 1, 1)\n",
      "162528.61706663127 for parameters (1, 1, 5)\n",
      "181925.4691648996 for parameters (1, 1, 10)\n",
      "220523.65844374863 for parameters (1, 1, 15)\n",
      "227296375.15759602 for parameters (1, 3, 1)\n",
      "3331948.371956575 for parameters (1, 3, 5)\n",
      "4472509.397645781 for parameters (1, 3, 10)\n",
      "150879.9635053487 for parameters (1, 3, 15)\n",
      "15774065870504.484 for parameters (1, 5, 1)\n",
      "140947640.98832536 for parameters (1, 5, 5)\n",
      "1744496735.194432 for parameters (1, 5, 10)\n",
      "9742844470.59451 for parameters (1, 5, 15)\n",
      "398212.7680708927 for parameters (5, 1, 1)\n",
      "382936.2759271349 for parameters (5, 1, 5)\n",
      "229785.13301573056 for parameters (5, 1, 10)\n",
      "445488.3859824274 for parameters (5, 1, 15)\n",
      "13947266.479226738 for parameters (5, 3, 1)\n",
      "10733193.51605082 for parameters (5, 3, 5)\n",
      "121573.70236501885 for parameters (5, 3, 10)\n",
      "4867377.198999817 for parameters (5, 3, 15)\n",
      "1327785480516.2222 for parameters (5, 5, 1)\n",
      "34894721.69323008 for parameters (5, 5, 5)\n",
      "5190213.449623789 for parameters (5, 5, 10)\n",
      "498317053.15276 for parameters (5, 5, 15)\n",
      "357180.7612203901 for parameters (10, 1, 1)\n",
      "380153.3027914545 for parameters (10, 1, 5)\n",
      "194956.7036769684 for parameters (10, 1, 10)\n",
      "209380.9336740609 for parameters (10, 1, 15)\n",
      "13310710.340459878 for parameters (10, 3, 1)\n",
      "1232749.0297881993 for parameters (10, 3, 5)\n",
      "1166345.815188563 for parameters (10, 3, 10)\n",
      "39259042.743936434 for parameters (10, 3, 15)\n",
      "25803081664.15141 for parameters (10, 5, 1)\n",
      "1420990327.330978 for parameters (10, 5, 5)\n",
      "320331830.59540987 for parameters (10, 5, 10)\n",
      "42143504.411246434 for parameters (10, 5, 15)\n",
      "182198.0928266224 for parameters (15, 1, 1)\n",
      "168912.72070408124 for parameters (15, 1, 5)\n",
      "168360.47854582057 for parameters (15, 1, 10)\n",
      "182461.73499592955 for parameters (15, 1, 15)\n",
      "6932809.36305329 for parameters (15, 3, 1)\n",
      "471428.5919883363 for parameters (15, 3, 5)\n",
      "2046355.4490558803 for parameters (15, 3, 10)\n",
      "93759.5495993735 for parameters (15, 3, 15)\n",
      "457502021330.4413 for parameters (15, 5, 1)\n",
      "571880348.8068192 for parameters (15, 5, 5)\n",
      "1391069668.0407588 for parameters (15, 5, 10)\n",
      "7297253600.664804 for parameters (15, 5, 15)\n",
      "(15, 3, 15) 93759.5495993735\n"
     ]
    }
   ],
   "source": [
    "p_values = [1, 5, 10, 15]\n",
    "d_values = [1, 3, 5]\n",
    "q_values = [1, 5, 10, 15]\n",
    "vals = []\n",
    "prev = 100000000000000000000000000\n",
    "for p in p_values:\n",
    "    for d in d_values:\n",
    "        for q in q_values:\n",
    "            param = (p, d, q)\n",
    "            model = ARIMA(train.incremental_cases, order=param).fit()\n",
    "            pred = model.forecast(steps=40)\n",
    "            pred = pd.concat([pd.Series([735]), pred]).cumsum()[1:]\n",
    "            mse = mean_squared_error(test.incremental_cases, pred)\n",
    "            if mse < prev:\n",
    "                prev = mse\n",
    "                best = param\n",
    "            print(mse, 'for parameters', param)\n",
    "print(best, prev)"
   ]
  },
  {
   "cell_type": "code",
   "execution_count": 60,
   "id": "b71feff2",
   "metadata": {},
   "outputs": [
    {
     "data": {
      "text/plain": [
       "0.6134282438372292"
      ]
     },
     "execution_count": 60,
     "metadata": {},
     "output_type": "execute_result"
    }
   ],
   "source": [
    "model = ARIMA(train.incremental_cases, order=(15, 3, 15)).fit()\n",
    "pred = pd.concat([pd.Series([735]), model.forecast(steps=40)]).cumsum()[1:]\n",
    "r2 = r2_score(test.incremental_cases, pred)\n",
    "r2"
   ]
  },
  {
   "cell_type": "code",
   "execution_count": 61,
   "id": "cfb9959a",
   "metadata": {},
   "outputs": [
    {
     "name": "stdout",
     "output_type": "stream",
     "text": [
      "133053.82549291052 for parameters (13, 2, 13)\n",
      "173531.79691120106 for parameters (13, 2, 14)\n",
      "100906.59196489982 for parameters (13, 2, 15)\n",
      "134512.72450597567 for parameters (13, 2, 16)\n",
      "266172.27622103045 for parameters (13, 3, 13)\n",
      "312891.67837983835 for parameters (13, 3, 14)\n",
      "348810.3878079738 for parameters (13, 3, 15)\n",
      "133700.5461487655 for parameters (13, 3, 16)\n",
      "3276409.469659756 for parameters (13, 4, 13)\n",
      "97942.67035231285 for parameters (13, 4, 14)\n",
      "418432.0989389625 for parameters (13, 4, 15)\n",
      "839235.4771309483 for parameters (13, 4, 16)\n",
      "9324772.061237438 for parameters (13, 5, 13)\n",
      "32457367.07346313 for parameters (13, 5, 14)\n",
      "290469853.69511545 for parameters (13, 5, 15)\n",
      "33214036.004862726 for parameters (13, 5, 16)\n",
      "106834.6366250769 for parameters (14, 2, 13)\n",
      "108964.57916061781 for parameters (14, 2, 14)\n",
      "152229.11622034595 for parameters (14, 2, 15)\n",
      "167751.11570006557 for parameters (14, 2, 16)\n",
      "240363.79965473208 for parameters (14, 3, 13)\n",
      "397921.7172046368 for parameters (14, 3, 14)\n",
      "101145.01945174475 for parameters (14, 3, 15)\n",
      "154074.79947348454 for parameters (14, 3, 16)\n",
      "49727478.144849285 for parameters (14, 4, 13)\n",
      "4991520.520139618 for parameters (14, 4, 14)\n",
      "1108170.2525507458 for parameters (14, 4, 15)\n",
      "240979.98518032738 for parameters (14, 4, 16)\n",
      "27867548.65170862 for parameters (14, 5, 13)\n",
      "412691337.26172227 for parameters (14, 5, 14)\n",
      "35301878.54662909 for parameters (14, 5, 15)\n",
      "37064002.55981777 for parameters (14, 5, 16)\n",
      "103039.64004481638 for parameters (15, 2, 13)\n",
      "133837.2267028475 for parameters (15, 2, 14)\n",
      "162182.83212252095 for parameters (15, 2, 15)\n",
      "160453.64599109703 for parameters (15, 2, 16)\n",
      "195204.7152366907 for parameters (15, 3, 13)\n",
      "129680.66155420829 for parameters (15, 3, 14)\n",
      "93759.5495993735 for parameters (15, 3, 15)\n",
      "105622.97318091537 for parameters (15, 3, 16)\n",
      "28358745.78408753 for parameters (15, 4, 13)\n",
      "22205486.888461776 for parameters (15, 4, 14)\n",
      "60406361.499792054 for parameters (15, 4, 15)\n",
      "4861078.71333247 for parameters (15, 4, 16)\n",
      "189910002.253089 for parameters (15, 5, 13)\n",
      "86214930.49307616 for parameters (15, 5, 14)\n",
      "7297253600.664804 for parameters (15, 5, 15)\n",
      "66623049.62949383 for parameters (15, 5, 16)\n",
      "117563.63156286246 for parameters (16, 2, 13)\n",
      "121128.33783560945 for parameters (16, 2, 14)\n",
      "97155.93821189723 for parameters (16, 2, 15)\n",
      "154722.0025270575 for parameters (16, 2, 16)\n",
      "1606776.840114173 for parameters (16, 3, 13)\n",
      "1964114.9434766888 for parameters (16, 3, 14)\n",
      "1401697.9652944687 for parameters (16, 3, 15)\n",
      "97148.56641030608 for parameters (16, 3, 16)\n",
      "13139098.540494386 for parameters (16, 4, 13)\n",
      "23022487.266877748 for parameters (16, 4, 14)\n",
      "15150439.36929977 for parameters (16, 4, 15)\n",
      "27530259.27147597 for parameters (16, 4, 16)\n",
      "699310770.3493836 for parameters (16, 5, 13)\n",
      "11272071.316634994 for parameters (16, 5, 14)\n",
      "1122109882.1550975 for parameters (16, 5, 15)\n",
      "24525935.221944638 for parameters (16, 5, 16)\n",
      "(15, 3, 15) 93759.5495993735\n"
     ]
    }
   ],
   "source": [
    "p_values = [13, 14, 15, 16]\n",
    "d_values = [2, 3, 4, 5]\n",
    "q_values = [13, 14, 15, 16]\n",
    "vals = []\n",
    "prev = 100000000000000000000000000\n",
    "for p in p_values:\n",
    "    for d in d_values:\n",
    "        for q in q_values:\n",
    "            param = (p, d, q)\n",
    "            model = ARIMA(train.incremental_cases, order=param).fit()\n",
    "            pred = model.forecast(steps=40)\n",
    "            pred = pd.concat([pd.Series([735]), pred]).cumsum()[1:]\n",
    "            mse = mean_squared_error(test.incremental_cases, pred)\n",
    "            if mse < prev:\n",
    "                prev = mse\n",
    "                best = param\n",
    "            print(mse, 'for parameters', param)\n",
    "print(best, prev)"
   ]
  },
  {
   "cell_type": "code",
   "execution_count": 62,
   "id": "6fd72e62",
   "metadata": {},
   "outputs": [
    {
     "data": {
      "text/plain": [
       "0.6134282438372292"
      ]
     },
     "execution_count": 62,
     "metadata": {},
     "output_type": "execute_result"
    }
   ],
   "source": [
    "model = ARIMA(train.incremental_cases, order=(15, 3, 15)).fit()\n",
    "pred = pd.concat([pd.Series([735]), model.forecast(steps=40)]).cumsum()[1:]\n",
    "r2 = r2_score(test.incremental_cases, pred)\n",
    "r2"
   ]
  },
  {
   "cell_type": "code",
   "execution_count": 63,
   "id": "7f2087d5",
   "metadata": {},
   "outputs": [
    {
     "data": {
      "text/plain": [
       "<AxesSubplot:xlabel='date'>"
      ]
     },
     "execution_count": 63,
     "metadata": {},
     "output_type": "execute_result"
    },
    {
     "data": {
      "image/png": "[encoded data removed]",
      "text/plain": [
       "<Figure size 432x288 with 1 Axes>"
      ]
     },
     "metadata": {
      "needs_background": "light"
     },
     "output_type": "display_data"
    }
   ],
   "source": [
    "prediction = pd.DataFrame({'actual':test.incremental_cases.reset_index(drop = True), \n",
    "              'pred':pred.reset_index(drop = True)})\n",
    "prediction['date'] = test['date'].reset_index(drop = True)\n",
    "prediction.plot(x = 'date', y = ['actual', 'pred'])"
   ]
  },
  {
   "cell_type": "code",
   "execution_count": 64,
   "id": "f3634c0b",
   "metadata": {},
   "outputs": [
    {
     "data": {
      "text/plain": [
       "[<matplotlib.lines.Line2D at 0x7fa2ede1aee0>]"
      ]
     },
     "execution_count": 64,
     "metadata": {},
     "output_type": "execute_result"
    },
    {
     "data": {
      "image/png": "[encoded data removed]",
      "text/plain": [
       "<Figure size 432x288 with 1 Axes>"
      ]
     },
     "metadata": {
      "needs_background": "light"
     },
     "output_type": "display_data"
    }
   ],
   "source": [
    "plt.plot(model.resid)"
   ]
  },
  {
   "cell_type": "markdown",
   "id": "c2ec4876",
   "metadata": {},
   "source": [
    "## Nassau"
   ]
  },
  {
   "cell_type": "code",
   "execution_count": 136,
   "id": "09813856",
   "metadata": {},
   "outputs": [],
   "source": [
    "nassau = data[data['county'] == 'Nassau'].loc[:, ['date', 'incremental_cases']]\n",
    "nassau['incremental_cases'] = nassau['incremental_cases'].astype('int')\n",
    "nassau['date'] = pd.to_datetime(nassau['date'], format=\"%Y-%m-%d\")\n",
    "train = nassau.iloc[:230, :]\n",
    "test = nassau.iloc[230:, :]"
   ]
  },
  {
   "cell_type": "code",
   "execution_count": 33,
   "id": "0c3f900e",
   "metadata": {},
   "outputs": [
    {
     "data": {
      "text/plain": [
       "<AxesSubplot:xlabel='date', ylabel='incremental_cases'>"
      ]
     },
     "execution_count": 33,
     "metadata": {},
     "output_type": "execute_result"
    },
    {
     "data": {
      "image/png": "[encoded data removed]",
      "text/plain": [
       "<Figure size 432x288 with 1 Axes>"
      ]
     },
     "metadata": {},
     "output_type": "display_data"
    }
   ],
   "source": [
    "sns.lineplot(x=\"date\", y=\"incremental_cases\",legend = 'full' , data=nassau)"
   ]
  },
  {
   "cell_type": "code",
   "execution_count": 30,
   "id": "a8d3af37",
   "metadata": {},
   "outputs": [
    {
     "data": {
      "text/plain": [
       "<AxesSubplot:xlabel='date', ylabel='incremental_cases'>"
      ]
     },
     "execution_count": 30,
     "metadata": {},
     "output_type": "execute_result"
    },
    {
     "data": {
      "image/png": "[encoded data removed]",
      "text/plain": [
       "<Figure size 432x288 with 1 Axes>"
      ]
     },
     "metadata": {},
     "output_type": "display_data"
    }
   ],
   "source": [
    "sns.lineplot(x=\"date\", y=\"incremental_cases\",legend = 'full' , data=train)"
   ]
  },
  {
   "cell_type": "code",
   "execution_count": 31,
   "id": "e1e1c5e6",
   "metadata": {},
   "outputs": [
    {
     "data": {
      "text/plain": [
       "<AxesSubplot:xlabel='date', ylabel='incremental_cases'>"
      ]
     },
     "execution_count": 31,
     "metadata": {},
     "output_type": "execute_result"
    },
    {
     "data": {
      "image/png": "[encoded data removed]",
      "text/plain": [
       "<Figure size 432x288 with 1 Axes>"
      ]
     },
     "metadata": {},
     "output_type": "display_data"
    }
   ],
   "source": [
    "sns.lineplot(x=\"date\", y=\"incremental_cases\",legend = 'full' , data=test)"
   ]
  },
  {
   "cell_type": "code",
   "execution_count": 36,
   "id": "2c74e634",
   "metadata": {},
   "outputs": [
    {
     "name": "stdout",
     "output_type": "stream",
     "text": [
      "98302.6115261377 for parameters (1, 1, 1)\n",
      "93203.25805787843 for parameters (1, 1, 5)\n",
      "87906.53857891682 for parameters (1, 1, 10)\n",
      "153414.17805109813 for parameters (1, 1, 15)\n",
      "90545.12725458835 for parameters (1, 2, 1)\n",
      "35462.912042247226 for parameters (1, 2, 5)\n",
      "89574.20511219415 for parameters (1, 2, 10)\n",
      "87210.82125615045 for parameters (1, 2, 15)\n",
      "491553382.57529956 for parameters (1, 4, 1)\n",
      "320672.26478763233 for parameters (1, 4, 5)\n",
      "7999.098995976927 for parameters (1, 4, 10)\n",
      "199977.71516906787 for parameters (1, 4, 15)\n",
      "70100246320125.5 for parameters (1, 6, 1)\n",
      "41692576.15288268 for parameters (1, 6, 5)\n",
      "11139859.554922508 for parameters (1, 6, 10)\n",
      "1884710.5289507066 for parameters (1, 6, 15)\n",
      "99112.7785867358 for parameters (5, 1, 1)\n",
      "94352.88733533517 for parameters (5, 1, 5)\n",
      "81228.31052792163 for parameters (5, 1, 10)\n",
      "60464.315540533 for parameters (5, 1, 15)\n",
      "71215.5058525671 for parameters (5, 2, 1)\n",
      "74454.87024434311 for parameters (5, 2, 5)\n",
      "87901.45888566402 for parameters (5, 2, 10)\n",
      "111693.07374911809 for parameters (5, 2, 15)\n",
      "6518514.899338715 for parameters (5, 4, 1)\n",
      "221733.51151614278 for parameters (5, 4, 5)\n",
      "28171.142085014413 for parameters (5, 4, 10)\n",
      "2762306.957551787 for parameters (5, 4, 15)\n",
      "462189880436.7246 for parameters (5, 6, 1)\n",
      "78013958.48200189 for parameters (5, 6, 5)\n",
      "638549.1942787938 for parameters (5, 6, 10)\n",
      "14171658.704787299 for parameters (5, 6, 15)\n",
      "88550.47521722078 for parameters (10, 1, 1)\n",
      "91064.55949307866 for parameters (10, 1, 5)\n",
      "73540.85025099931 for parameters (10, 1, 10)\n",
      "99322.41039779344 for parameters (10, 1, 15)\n",
      "67996.83566459834 for parameters (10, 2, 1)\n",
      "71850.40965621281 for parameters (10, 2, 5)\n",
      "91431.85077110233 for parameters (10, 2, 10)\n",
      "117127.1047678426 for parameters (10, 2, 15)\n",
      "121896.63622817611 for parameters (10, 4, 1)\n",
      "149443.0916195871 for parameters (10, 4, 5)\n",
      "327464.44312084996 for parameters (10, 4, 10)\n",
      "11028.683900567145 for parameters (10, 4, 15)\n",
      "6069016071.92642 for parameters (10, 6, 1)\n",
      "11782326.039408943 for parameters (10, 6, 5)\n",
      "77248922.54342611 for parameters (10, 6, 10)\n",
      "720999.6112918474 for parameters (10, 6, 15)\n",
      "(1, 4, 10) 7999.098995976927\n"
     ]
    }
   ],
   "source": [
    "p_values = [1, 5, 10]\n",
    "d_values = [1, 2, 4, 6]\n",
    "q_values = [1, 5, 10, 15]\n",
    "vals = []\n",
    "prev = 100000000000000000000000000\n",
    "for p in p_values:\n",
    "    for d in d_values:\n",
    "        for q in q_values:\n",
    "            param = (p, d, q)\n",
    "            model = ARIMA(train.incremental_cases, order=param).fit()\n",
    "            pred = model.forecast(steps=40)\n",
    "            mse = mean_squared_error(test.incremental_cases, pred)\n",
    "            if mse < prev:\n",
    "                prev = mse\n",
    "                best = param\n",
    "            print(mse, 'for parameters', param)\n",
    "print(best, prev)"
   ]
  },
  {
   "cell_type": "code",
   "execution_count": 52,
   "id": "47a8b79e",
   "metadata": {},
   "outputs": [
    {
     "data": {
      "text/plain": [
       "0.7897425073562174"
      ]
     },
     "execution_count": 52,
     "metadata": {},
     "output_type": "execute_result"
    }
   ],
   "source": [
    "model = ARIMA(train.incremental_cases, order=(1, 4, 10)).fit()\n",
    "pred = model.forecast(steps=40)\n",
    "r2 = r2_score(test.incremental_cases, pred)\n",
    "r2"
   ]
  },
  {
   "cell_type": "code",
   "execution_count": 49,
   "id": "8dd46d82",
   "metadata": {},
   "outputs": [
    {
     "name": "stdout",
     "output_type": "stream",
     "text": [
      "85174.22031094975 for parameters (1, 2, 8)\n",
      "89574.20511219415 for parameters (1, 2, 10)\n",
      "99017.75214948354 for parameters (1, 2, 12)\n",
      "83749.78158582702 for parameters (1, 3, 8)\n",
      "131307.23812190793 for parameters (1, 3, 10)\n",
      "162272.26855612398 for parameters (1, 3, 12)\n",
      "20088.364275576103 for parameters (1, 4, 8)\n",
      "7999.098995976927 for parameters (1, 4, 10)\n",
      "7387.267289115358 for parameters (1, 4, 12)\n",
      "2882589.210716582 for parameters (1, 5, 8)\n",
      "63423.80453637923 for parameters (1, 5, 10)\n",
      "1715081.7497793946 for parameters (1, 5, 12)\n",
      "80858.94257742283 for parameters (3, 2, 8)\n",
      "76717.54853112546 for parameters (3, 2, 10)\n",
      "69806.40551579716 for parameters (3, 2, 12)\n",
      "25652.148342078654 for parameters (3, 3, 8)\n",
      "162429.5449254043 for parameters (3, 3, 10)\n",
      "47185.57015033301 for parameters (3, 3, 12)\n",
      "50430.71621254432 for parameters (3, 4, 8)\n",
      "57395.68213365159 for parameters (3, 4, 10)\n",
      "18072.990139508052 for parameters (3, 4, 12)\n",
      "55745.17333606801 for parameters (3, 5, 8)\n",
      "43584.19732261078 for parameters (3, 5, 10)\n",
      "9765.03339154673 for parameters (3, 5, 12)\n",
      "81104.83370091282 for parameters (5, 2, 8)\n",
      "87901.45888566402 for parameters (5, 2, 10)\n",
      "94461.10972629886 for parameters (5, 2, 12)\n",
      "69120.12311982544 for parameters (5, 3, 8)\n",
      "21504.276110315193 for parameters (5, 3, 10)\n",
      "159611.66125921375 for parameters (5, 3, 12)\n",
      "586595.4492190357 for parameters (5, 4, 8)\n",
      "28171.142085014413 for parameters (5, 4, 10)\n",
      "49975.12141583014 for parameters (5, 4, 12)\n",
      "12381029.94911343 for parameters (5, 5, 8)\n",
      "741154.3067569288 for parameters (5, 5, 10)\n",
      "20648.717449969838 for parameters (5, 5, 12)\n",
      "(1, 4, 12) 7387.267289115358\n"
     ]
    }
   ],
   "source": [
    "p_values = [1, 3, 5]\n",
    "d_values = [2, 3, 4, 5]\n",
    "q_values = [8, 10, 12]\n",
    "vals = []\n",
    "prev = 100000000000000000000000000\n",
    "for p in p_values:\n",
    "    for d in d_values:\n",
    "        for q in q_values:\n",
    "            param = (p, d, q)\n",
    "            model = ARIMA(train.incremental_cases, order=param).fit()\n",
    "            pred = model.forecast(steps=40)\n",
    "            mse = mean_squared_error(test.incremental_cases, pred)\n",
    "            if mse < prev:\n",
    "                prev = mse\n",
    "                best = param\n",
    "            print(mse, 'for parameters', param)\n",
    "print(best, prev)"
   ]
  },
  {
   "cell_type": "code",
   "execution_count": 51,
   "id": "38e052af",
   "metadata": {},
   "outputs": [
    {
     "data": {
      "text/plain": [
       "0.8058245936848625"
      ]
     },
     "execution_count": 51,
     "metadata": {},
     "output_type": "execute_result"
    }
   ],
   "source": [
    "model = ARIMA(train.incremental_cases, order=(1, 4, 12)).fit()\n",
    "pred = model.forecast(steps=40)\n",
    "r2 = r2_score(test.incremental_cases, pred)\n",
    "r2"
   ]
  },
  {
   "cell_type": "code",
   "execution_count": 138,
   "id": "67352be0",
   "metadata": {},
   "outputs": [
    {
     "data": {
      "text/plain": [
       "[<matplotlib.lines.Line2D at 0x7ff210be5be0>]"
      ]
     },
     "execution_count": 138,
     "metadata": {},
     "output_type": "execute_result"
    },
    {
     "data": {
      "image/png": "[encoded data removed]",
      "text/plain": [
       "<Figure size 432x288 with 1 Axes>"
      ]
     },
     "metadata": {},
     "output_type": "display_data"
    }
   ],
   "source": [
    "plt.plot(model.resid)"
   ]
  },
  {
   "cell_type": "code",
   "execution_count": 53,
   "id": "aa5272f0",
   "metadata": {},
   "outputs": [
    {
     "name": "stdout",
     "output_type": "stream",
     "text": [
      "131307.23812190793 for parameters (1, 3, 10)\n",
      "162272.26855612398 for parameters (1, 3, 12)\n",
      "6646.556531126199 for parameters (1, 3, 14)\n",
      "505728.43346036924 for parameters (1, 3, 16)\n",
      "7999.098995976927 for parameters (1, 4, 10)\n",
      "7387.267289115358 for parameters (1, 4, 12)\n",
      "22482.424035708198 for parameters (1, 4, 14)\n",
      "63108.343840753674 for parameters (1, 4, 16)\n",
      "63423.80453637923 for parameters (1, 5, 10)\n",
      "1715081.7497793946 for parameters (1, 5, 12)\n",
      "2914753.5917041474 for parameters (1, 5, 14)\n",
      "1616457.9696131092 for parameters (1, 5, 16)\n",
      "11139859.554922508 for parameters (1, 6, 10)\n",
      "1441572.691051162 for parameters (1, 6, 12)\n",
      "744139.1289154652 for parameters (1, 6, 14)\n",
      "2582647.9816267304 for parameters (1, 6, 16)\n",
      "55183.20863681255 for parameters (2, 3, 10)\n",
      "135493.27062885926 for parameters (2, 3, 12)\n",
      "23153.61373243195 for parameters (2, 3, 14)\n",
      "43516.22470401444 for parameters (2, 3, 16)\n",
      "7409.914276551662 for parameters (2, 4, 10)\n",
      "10352.337507009364 for parameters (2, 4, 12)\n",
      "101737.86064995872 for parameters (2, 4, 14)\n",
      "60897.23181253652 for parameters (2, 4, 16)\n",
      "283343.87125802983 for parameters (2, 5, 10)\n",
      "4058195.4913053303 for parameters (2, 5, 12)\n",
      "941484.9404913293 for parameters (2, 5, 14)\n",
      "8282194.911794879 for parameters (2, 5, 16)\n",
      "5553964.927576127 for parameters (2, 6, 10)\n",
      "218262.82977335883 for parameters (2, 6, 12)\n",
      "14986356.745897174 for parameters (2, 6, 14)\n",
      "6076138.398300612 for parameters (2, 6, 16)\n",
      "162429.5449254043 for parameters (3, 3, 10)\n",
      "47185.57015033301 for parameters (3, 3, 12)\n",
      "172206.4963820855 for parameters (3, 3, 14)\n",
      "87000.69213236155 for parameters (3, 3, 16)\n",
      "57395.68213365159 for parameters (3, 4, 10)\n",
      "18072.990139508052 for parameters (3, 4, 12)\n",
      "264222.54679641605 for parameters (3, 4, 14)\n",
      "1770490.0469066661 for parameters (3, 4, 16)\n",
      "43584.19732261078 for parameters (3, 5, 10)\n",
      "9765.03339154673 for parameters (3, 5, 12)\n",
      "522402.35722171084 for parameters (3, 5, 14)\n",
      "4624676.867899281 for parameters (3, 5, 16)\n",
      "334648.26631219895 for parameters (3, 6, 10)\n",
      "50810.45025361145 for parameters (3, 6, 12)\n",
      "4063993.9227740737 for parameters (3, 6, 14)\n",
      "453790.28969855345 for parameters (3, 6, 16)\n",
      "28517.915420583508 for parameters (4, 3, 10)\n",
      "130982.38033551307 for parameters (4, 3, 12)\n",
      "211937.36173146171 for parameters (4, 3, 14)\n",
      "15857.18357227229 for parameters (4, 3, 16)\n",
      "28818.022444465674 for parameters (4, 4, 10)\n",
      "78153.92196976262 for parameters (4, 4, 12)\n",
      "872543.4719366524 for parameters (4, 4, 14)\n",
      "1442033.2490948248 for parameters (4, 4, 16)\n",
      "204749.45585506846 for parameters (4, 5, 10)\n",
      "24776.899634848236 for parameters (4, 5, 12)\n",
      "6436314.63175118 for parameters (4, 5, 14)\n",
      "98220.2097023919 for parameters (4, 5, 16)\n",
      "280389.8699153188 for parameters (4, 6, 10)\n",
      "5868413.96189414 for parameters (4, 6, 12)\n",
      "3333826.5855224235 for parameters (4, 6, 14)\n",
      "941070.3549906986 for parameters (4, 6, 16)\n",
      "(1, 3, 14) 6646.556531126199\n"
     ]
    }
   ],
   "source": [
    "p_values = [1, 2, 3, 4]\n",
    "d_values = [3, 4, 5, 6]\n",
    "q_values = [10, 12, 14, 16]\n",
    "vals = []\n",
    "prev = 100000000000000000000000000\n",
    "for p in p_values:\n",
    "    for d in d_values:\n",
    "        for q in q_values:\n",
    "            param = (p, d, q)\n",
    "            model = ARIMA(train.incremental_cases, order=param).fit()\n",
    "            pred = model.forecast(steps=40)\n",
    "            mse = mean_squared_error(test.incremental_cases, pred)\n",
    "            if mse < prev:\n",
    "                prev = mse\n",
    "                best = param\n",
    "            print(mse, 'for parameters', param)\n",
    "print(best, prev)"
   ]
  },
  {
   "cell_type": "code",
   "execution_count": 137,
   "id": "c22b26ae",
   "metadata": {},
   "outputs": [
    {
     "data": {
      "text/plain": [
       "0.8252942848122512"
      ]
     },
     "execution_count": 137,
     "metadata": {},
     "output_type": "execute_result"
    }
   ],
   "source": [
    "model = ARIMA(train.incremental_cases, order=(1, 3, 14)).fit()\n",
    "pred = model.forecast(steps=40)\n",
    "r2 = r2_score(test.incremental_cases, pred)\n",
    "r2"
   ]
  },
  {
   "cell_type": "code",
   "execution_count": 73,
   "id": "a984ff43",
   "metadata": {},
   "outputs": [
    {
     "data": {
      "text/plain": [
       "<AxesSubplot:xlabel='date'>"
      ]
     },
     "execution_count": 73,
     "metadata": {},
     "output_type": "execute_result"
    },
    {
     "data": {
      "image/png": "[encoded data removed]",
      "text/plain": [
       "<Figure size 432x288 with 1 Axes>"
      ]
     },
     "metadata": {},
     "output_type": "display_data"
    }
   ],
   "source": [
    "prediction = pd.DataFrame({'actual':test.incremental_cases.reset_index(drop = True), \n",
    "              'pred':pred.reset_index(drop = True)})\n",
    "prediction['date'] = test['date'].reset_index(drop = True)\n",
    "prediction.plot(x = 'date', y = ['actual', 'pred'])"
   ]
  },
  {
   "cell_type": "code",
   "execution_count": 143,
   "id": "912e3212",
   "metadata": {},
   "outputs": [],
   "source": [
    "cook = data[data['county'] == 'Cook'].loc[:, ['date', 'incremental_cases']]\n",
    "cook['incremental_cases'] = cook['incremental_cases'].diff().fillna(cook['incremental_cases'])\n",
    "cook['incremental_cases'] = cook['incremental_cases'].astype('int')\n",
    "cook['date'] = pd.to_datetime(cook['date'], format=\"%Y-%m-%d\")\n",
    "train = cook.iloc[:230, :]\n",
    "test = cook.iloc[230:, :]\n",
    "og = data[data['county'] == 'Cook'].loc[:, ['date', 'incremental_cases']]\n",
    "og['incremental_cases'] = og['incremental_cases'].astype('int')\n",
    "og_test = og.iloc[230:, :]\n",
    "\n",
    "\n"
   ]
  },
  {
   "cell_type": "code",
   "execution_count": 109,
   "id": "a5e85540",
   "metadata": {},
   "outputs": [
    {
     "data": {
      "text/html": [
       "<div>\n",
       "<style scoped>\n",
       "    .dataframe tbody tr th:only-of-type {\n",
       "        vertical-align: middle;\n",
       "    }\n",
       "\n",
       "    .dataframe tbody tr th {\n",
       "        vertical-align: top;\n",
       "    }\n",
       "\n",
       "    .dataframe thead th {\n",
       "        text-align: right;\n",
       "    }\n",
       "</style>\n",
       "<table border=\"1\" class=\"dataframe\">\n",
       "  <thead>\n",
       "    <tr style=\"text-align: right;\">\n",
       "      <th></th>\n",
       "      <th>date</th>\n",
       "      <th>incremental_cases</th>\n",
       "    </tr>\n",
       "  </thead>\n",
       "  <tbody>\n",
       "    <tr>\n",
       "      <th>1309</th>\n",
       "      <td>2020-10-25</td>\n",
       "      <td>1769.0</td>\n",
       "    </tr>\n",
       "  </tbody>\n",
       "</table>\n",
       "</div>"
      ],
      "text/plain": [
       "            date  incremental_cases\n",
       "1309  2020-10-25             1769.0"
      ]
     },
     "execution_count": 109,
     "metadata": {},
     "output_type": "execute_result"
    }
   ],
   "source": [
    "og.loc[og['date'] == '2020-10-25']"
   ]
  },
  {
   "cell_type": "code",
   "execution_count": null,
   "id": "d7b51664",
   "metadata": {},
   "outputs": [],
   "source": [
    "prediction = pd.DataFrame({'actual':test.incremental_cases.reset_index(drop = True), \n",
    "              'pred':pred.reset_index(drop = True)})\n",
    "prediction['date'] = test['date'].reset_index(drop = True)\n",
    "prediction.plot(x = 'date', y = ['actual', 'pred'])"
   ]
  },
  {
   "cell_type": "code",
   "execution_count": 115,
   "id": "9f569fdb",
   "metadata": {},
   "outputs": [
    {
     "data": {
      "text/plain": [
       "<AxesSubplot:xlabel='date', ylabel='incremental_cases'>"
      ]
     },
     "execution_count": 115,
     "metadata": {},
     "output_type": "execute_result"
    },
    {
     "data": {
      "image/png": "[encoded data removed]",
      "text/plain": [
       "<Figure size 432x288 with 1 Axes>"
      ]
     },
     "metadata": {},
     "output_type": "display_data"
    }
   ],
   "source": [
    "og['incremental_cases'] = og['incremental_cases'].astype('int')\n",
    "og['date'] = pd.to_datetime(og['date'], format=\"%Y-%m-%d\")\n",
    "sns.lineplot(x=\"date\", y=\"incremental_cases\",legend = 'full' , data=og)"
   ]
  },
  {
   "cell_type": "code",
   "execution_count": 118,
   "id": "2186f377",
   "metadata": {},
   "outputs": [
    {
     "name": "stdout",
     "output_type": "stream",
     "text": [
      "3922783.4819415575 for parameters (1, 1, 1)\n",
      "2118428.0805857955 for parameters (1, 1, 5)\n",
      "2129378.0274179135 for parameters (1, 1, 10)\n",
      "2187058.3990931353 for parameters (1, 1, 15)\n",
      "6568291218.025919 for parameters (1, 3, 1)\n",
      "8370719.979212103 for parameters (1, 3, 5)\n",
      "2212465.3659426356 for parameters (1, 3, 10)\n",
      "3805746.048269232 for parameters (1, 3, 15)\n",
      "5946674890380321.0 for parameters (1, 5, 1)\n",
      "950417330.4240506 for parameters (1, 5, 5)\n",
      "11859807759263.777 for parameters (1, 5, 10)\n",
      "2660885297.4589567 for parameters (1, 5, 15)\n",
      "2.05140373120688e+20 for parameters (1, 7, 1)\n",
      "777204930238736.6 for parameters (1, 7, 5)\n",
      "143794962445.84512 for parameters (1, 7, 10)\n",
      "620512326062912.4 for parameters (1, 7, 15)\n",
      "2241922.57920627 for parameters (5, 1, 1)\n",
      "2356994.1312001413 for parameters (5, 1, 5)\n",
      "2708044.7053099712 for parameters (5, 1, 10)\n",
      "2115148.6120981188 for parameters (5, 1, 15)\n",
      "1469719.156803852 for parameters (5, 3, 1)\n",
      "6806660.488339471 for parameters (5, 3, 5)\n",
      "5678876.665218426 for parameters (5, 3, 10)\n",
      "5708460.243056068 for parameters (5, 3, 15)\n",
      "4903251800690.934 for parameters (5, 5, 1)\n",
      "8172316586.259501 for parameters (5, 5, 5)\n",
      "769457869.6813396 for parameters (5, 5, 10)\n",
      "1626554.876372301 for parameters (5, 5, 15)\n",
      "4188575160052160.0 for parameters (5, 7, 1)\n",
      "12615436749515.566 for parameters (5, 7, 5)\n",
      "51524691631.998924 for parameters (5, 7, 10)\n",
      "4166773342.1277266 for parameters (5, 7, 15)\n",
      "2346524.3162881234 for parameters (10, 1, 1)\n",
      "2271228.8151060366 for parameters (10, 1, 5)\n",
      "2139438.891479521 for parameters (10, 1, 10)\n",
      "2845136.8088927623 for parameters (10, 1, 15)\n",
      "2709292.007240145 for parameters (10, 3, 1)\n",
      "5526386.617932769 for parameters (10, 3, 5)\n",
      "4530040.4950896725 for parameters (10, 3, 10)\n",
      "4190935.3402704196 for parameters (10, 3, 15)\n",
      "21624333343.67268 for parameters (10, 5, 1)\n",
      "1104654048.237872 for parameters (10, 5, 5)\n",
      "2822773572.114147 for parameters (10, 5, 10)\n",
      "18814168.292346288 for parameters (10, 5, 15)\n",
      "5765183847933238.0 for parameters (10, 7, 1)\n",
      "11132533844174.11 for parameters (10, 7, 5)\n",
      "1389758479650.7065 for parameters (10, 7, 10)\n",
      "65405680.87982521 for parameters (10, 7, 15)\n",
      "(5, 3, 1) 1469719.156803852\n"
     ]
    }
   ],
   "source": [
    "p_values = [1, 5, 10]\n",
    "d_values = [1, 3, 5, 7]\n",
    "q_values = [1, 5, 10, 15]\n",
    "vals = []\n",
    "prev = 100000000000000000000000000\n",
    "for p in p_values:\n",
    "    for d in d_values:\n",
    "        for q in q_values:\n",
    "            param = (p, d, q)\n",
    "            model = ARIMA(train.incremental_cases, order=param).fit()\n",
    "            pred = model.forecast(steps=40)\n",
    "            pred = pd.concat([pd.Series([1769]), pred]).cumsum()[1:]\n",
    "            mse = mean_squared_error(og_test.incremental_cases, pred)\n",
    "            if mse < prev:\n",
    "                prev = mse\n",
    "                best = param\n",
    "            print(mse, 'for parameters', param)\n",
    "print(best, prev)"
   ]
  },
  {
   "cell_type": "code",
   "execution_count": 145,
   "id": "b0bc173b",
   "metadata": {},
   "outputs": [],
   "source": [
    "model = ARIMA(train.incremental_cases, order=(5, 3, 1)).fit()\n",
    "pred = pd.concat([pd.Series([1769]), model.forecast(steps=40)]).cumsum()[1:]\n",
    "r2 = r2_score(og_test.incremental_cases, pred)"
   ]
  },
  {
   "cell_type": "code",
   "execution_count": 146,
   "id": "18df58e6",
   "metadata": {},
   "outputs": [
    {
     "data": {
      "text/plain": [
       "0.14330023389991453"
      ]
     },
     "execution_count": 146,
     "metadata": {},
     "output_type": "execute_result"
    }
   ],
   "source": [
    "r2"
   ]
  },
  {
   "cell_type": "code",
   "execution_count": 135,
   "id": "ae98684f",
   "metadata": {},
   "outputs": [
    {
     "data": {
      "text/plain": [
       "[<matplotlib.lines.Line2D at 0x7ff20fc1d2e0>]"
      ]
     },
     "execution_count": 135,
     "metadata": {},
     "output_type": "execute_result"
    },
    {
     "data": {
      "image/png": "[encoded data removed]",
      "text/plain": [
       "<Figure size 432x288 with 1 Axes>"
      ]
     },
     "metadata": {},
     "output_type": "display_data"
    }
   ],
   "source": [
    "plt.plot(model.resid)"
   ]
  },
  {
   "cell_type": "code",
   "execution_count": 141,
   "id": "9107f4af",
   "metadata": {},
   "outputs": [
    {
     "data": {
      "text/plain": [
       "<AxesSubplot:xlabel='date'>"
      ]
     },
     "execution_count": 141,
     "metadata": {},
     "output_type": "execute_result"
    },
    {
     "data": {
      "image/png": "[encoded data removed]",
      "text/plain": [
       "<Figure size 432x288 with 1 Axes>"
      ]
     },
     "metadata": {},
     "output_type": "display_data"
    }
   ],
   "source": [
    "prediction = pd.DataFrame({'actual':og_test.incremental_cases.reset_index(drop = True), \n",
    "              'pred':pred.reset_index(drop = True)})\n",
    "prediction['date'] = og_test['date'].reset_index(drop = True)\n",
    "prediction.plot(x = 'date', y = ['actual', 'pred'])"
   ]
  },
  {
   "cell_type": "code",
   "execution_count": 132,
   "id": "a37230e1",
   "metadata": {},
   "outputs": [
    {
     "name": "stdout",
     "output_type": "stream",
     "text": [
      "2585999.181176463 for parameters (4, 1, 0)\n",
      "4179358.907989816 for parameters (4, 1, 1)\n",
      "4086561.9613037533 for parameters (4, 1, 3)\n",
      "2231251.8113776944 for parameters (4, 1, 5)\n",
      "2082426.2392703951 for parameters (4, 1, 7)\n",
      "234215625.1595261 for parameters (4, 2, 0)\n",
      "2952942.64619421 for parameters (4, 2, 1)\n",
      "2198121.1208846616 for parameters (4, 2, 3)\n",
      "4343375.152592564 for parameters (4, 2, 5)\n",
      "2089898.932992354 for parameters (4, 2, 7)\n",
      "121568655458.96272 for parameters (4, 3, 0)\n",
      "259899876.88886136 for parameters (4, 3, 1)\n",
      "16553014.005352518 for parameters (4, 3, 3)\n",
      "5968901.542837031 for parameters (4, 3, 5)\n",
      "5011651.435436076 for parameters (4, 3, 7)\n",
      "2273587935233.435 for parameters (4, 4, 0)\n",
      "131947786121.81181 for parameters (4, 4, 1)\n",
      "703604465.555926 for parameters (4, 4, 3)\n",
      "3440763.1200728393 for parameters (4, 4, 5)\n",
      "11022276.834254649 for parameters (4, 4, 7)\n",
      "1998066579776.8625 for parameters (4, 5, 0)\n",
      "2415284763594.899 for parameters (4, 5, 1)\n",
      "7790109782.572955 for parameters (4, 5, 3)\n",
      "9072193896.465366 for parameters (4, 5, 5)\n",
      "15724533.975712767 for parameters (4, 5, 7)\n",
      "3409802.5177967413 for parameters (5, 1, 0)\n",
      "2241922.57920627 for parameters (5, 1, 1)\n",
      "2536452.8925912767 for parameters (5, 1, 3)\n",
      "2356994.1312001413 for parameters (5, 1, 5)\n",
      "2244896.2913910393 for parameters (5, 1, 7)\n",
      "1496257.6962268923 for parameters (5, 2, 0)\n",
      "4048123.4566469714 for parameters (5, 2, 1)\n",
      "2035141.4585204266 for parameters (5, 2, 3)\n",
      "5027513.581675968 for parameters (5, 2, 5)\n",
      "3033610.546635115 for parameters (5, 2, 7)\n",
      "84647792704.22461 for parameters (5, 3, 0)\n",
      "1469719.156803852 for parameters (5, 3, 1)\n",
      "479309844.9229435 for parameters (5, 3, 3)\n",
      "6806660.488339471 for parameters (5, 3, 5)\n",
      "8635812.05323444 for parameters (5, 3, 7)\n",
      "4721378734950.102 for parameters (5, 4, 0)\n",
      "92441488710.72592 for parameters (5, 4, 1)\n",
      "884327833.0728792 for parameters (5, 4, 3)\n",
      "2746113.535393612 for parameters (5, 4, 5)\n",
      "14958109.045875827 for parameters (5, 4, 7)\n",
      "1797032655130.1218 for parameters (5, 5, 0)\n",
      "4903251800690.934 for parameters (5, 5, 1)\n",
      "207462949307.28964 for parameters (5, 5, 3)\n",
      "8172316586.259501 for parameters (5, 5, 5)\n",
      "1935373.5570458192 for parameters (5, 5, 7)\n",
      "2326263.4742252505 for parameters (6, 1, 0)\n",
      "2193010.8650185456 for parameters (6, 1, 1)\n",
      "2169738.918148022 for parameters (6, 1, 3)\n",
      "2594466.383951255 for parameters (6, 1, 5)\n",
      "2253218.2932233233 for parameters (6, 1, 7)\n",
      "112432729.32596645 for parameters (6, 2, 0)\n",
      "2607750.6559002805 for parameters (6, 2, 1)\n",
      "2117713.0186715513 for parameters (6, 2, 3)\n",
      "2136226.16545178 for parameters (6, 2, 5)\n",
      "3948430.9152763113 for parameters (6, 2, 7)\n",
      "15860052777.876667 for parameters (6, 3, 0)\n",
      "121727379.96198066 for parameters (6, 3, 1)\n",
      "9066103.537278773 for parameters (6, 3, 3)\n",
      "15928883.02835911 for parameters (6, 3, 5)\n",
      "8913840.388859171 for parameters (6, 3, 7)\n",
      "5787405121922.669 for parameters (6, 4, 0)\n",
      "19704631584.2035 for parameters (6, 4, 1)\n",
      "16468174.911201086 for parameters (6, 4, 3)\n",
      "892446915.0360473 for parameters (6, 4, 5)\n",
      "1517179.0245364117 for parameters (6, 4, 7)\n",
      "30379437864522.773 for parameters (6, 5, 0)\n",
      "6184625511518.31 for parameters (6, 5, 1)\n",
      "1710974704.5372958 for parameters (6, 5, 3)\n",
      "168783543831.9127 for parameters (6, 5, 5)\n",
      "17295221686.089912 for parameters (6, 5, 7)\n",
      "2083877.6567869217 for parameters (7, 1, 0)\n",
      "2189083.5139036775 for parameters (7, 1, 1)\n",
      "2148758.320325971 for parameters (7, 1, 3)\n",
      "2537080.4471828877 for parameters (7, 1, 5)\n",
      "2209633.4676831514 for parameters (7, 1, 7)\n",
      "132179485.20378657 for parameters (7, 2, 0)\n",
      "2241692.7093475806 for parameters (7, 2, 1)\n",
      "2136680.4655899648 for parameters (7, 2, 3)\n",
      "2140827.3761927886 for parameters (7, 2, 5)\n",
      "2204862.7736036717 for parameters (7, 2, 7)\n",
      "1523949576.260369 for parameters (7, 3, 0)\n",
      "145682519.86674947 for parameters (7, 3, 1)\n",
      "7275347947921.138 for parameters (7, 3, 3)\n",
      "3480618.202042991 for parameters (7, 3, 5)\n",
      "7458008.95525859 for parameters (7, 3, 7)\n",
      "4333121289644.689 for parameters (7, 4, 0)\n",
      "2018688150.3857849 for parameters (7, 4, 1)\n",
      "213916976.56932247 for parameters (7, 4, 3)\n",
      "202465223.59407035 for parameters (7, 4, 5)\n",
      "1508354.2050016455 for parameters (7, 4, 7)\n",
      "199259529646990.28 for parameters (7, 5, 0)\n",
      "4561139664521.242 for parameters (7, 5, 1)\n",
      "41814650830.37953 for parameters (7, 5, 3)\n",
      "406038782305.59406 for parameters (7, 5, 5)\n",
      "1845051790.6501586 for parameters (7, 5, 7)\n",
      "(5, 3, 1) 1469719.156803852\n"
     ]
    }
   ],
   "source": [
    "p_values = [4, 5, 6, 7]\n",
    "d_values = [1, 2, 3, 4, 5]\n",
    "q_values = [0, 1, 3, 5, 7]\n",
    "vals = []\n",
    "prev = 100000000000000000000000000\n",
    "for p in p_values:\n",
    "    for d in d_values:\n",
    "        for q in q_values:\n",
    "            param = (p, d, q)\n",
    "            model = ARIMA(train.incremental_cases, order=param).fit()\n",
    "            pred = model.forecast(steps=40)\n",
    "            pred = pd.concat([pd.Series([1769]), pred]).cumsum()[1:]\n",
    "            mse = mean_squared_error(og_test.incremental_cases, pred)\n",
    "            if mse < prev:\n",
    "                prev = mse\n",
    "                best = param\n",
    "            print(mse, 'for parameters', param)\n",
    "print(best, prev)"
   ]
  },
  {
   "cell_type": "code",
   "execution_count": 122,
   "id": "6d1e1aa3",
   "metadata": {},
   "outputs": [
    {
     "name": "stdout",
     "output_type": "stream",
     "text": [
      "4067052.1682629855 for parameters (3, 1, 1)\n",
      "2521412.4214350707 for parameters (3, 1, 5)\n",
      "2667099.740887978 for parameters (3, 1, 10)\n",
      "2166698.5632880973 for parameters (3, 1, 15)\n",
      "345976934.32335967 for parameters (3, 3, 1)\n",
      "4030257.942905154 for parameters (3, 3, 5)\n",
      "3291904.391260854 for parameters (3, 3, 10)\n",
      "5163380.657103458 for parameters (3, 3, 15)\n",
      "5908246294.270546 for parameters (3, 5, 1)\n",
      "163909233182.956 for parameters (3, 5, 5)\n",
      "30707127.064725954 for parameters (3, 5, 10)\n",
      "16888345.05181956 for parameters (3, 5, 15)\n",
      "4179358.907989816 for parameters (4, 1, 1)\n",
      "2231251.8113776944 for parameters (4, 1, 5)\n",
      "2907226.92483992 for parameters (4, 1, 10)\n",
      "2163920.4718441474 for parameters (4, 1, 15)\n",
      "259899876.88886136 for parameters (4, 3, 1)\n",
      "5968901.542837031 for parameters (4, 3, 5)\n",
      "8453521.976725897 for parameters (4, 3, 10)\n",
      "6762148.474988081 for parameters (4, 3, 15)\n",
      "2415284763594.899 for parameters (4, 5, 1)\n",
      "9072193896.465366 for parameters (4, 5, 5)\n",
      "40333014.50572058 for parameters (4, 5, 10)\n",
      "49484112.26880408 for parameters (4, 5, 15)\n",
      "2241922.57920627 for parameters (5, 1, 1)\n",
      "2356994.1312001413 for parameters (5, 1, 5)\n",
      "2708044.7053099712 for parameters (5, 1, 10)\n",
      "2115148.6120981188 for parameters (5, 1, 15)\n",
      "1469719.156803852 for parameters (5, 3, 1)\n",
      "6806660.488339471 for parameters (5, 3, 5)\n",
      "5678876.665218426 for parameters (5, 3, 10)\n",
      "5708460.243056068 for parameters (5, 3, 15)\n",
      "4903251800690.934 for parameters (5, 5, 1)\n",
      "8172316586.259501 for parameters (5, 5, 5)\n",
      "769457869.6813396 for parameters (5, 5, 10)\n",
      "1626554.876372301 for parameters (5, 5, 15)\n",
      "2193010.8650185456 for parameters (6, 1, 1)\n",
      "2594466.383951255 for parameters (6, 1, 5)\n",
      "2635588.6326438333 for parameters (6, 1, 10)\n",
      "2221427.705631972 for parameters (6, 1, 15)\n",
      "121727379.96198066 for parameters (6, 3, 1)\n",
      "15928883.02835911 for parameters (6, 3, 5)\n",
      "5962858.85043357 for parameters (6, 3, 10)\n",
      "6066438.087143427 for parameters (6, 3, 15)\n",
      "6184625511518.31 for parameters (6, 5, 1)\n",
      "168783543831.9127 for parameters (6, 5, 5)\n",
      "27647139.281643163 for parameters (6, 5, 10)\n",
      "1701329.1757536791 for parameters (6, 5, 15)\n",
      "(5, 3, 1) 1469719.156803852\n"
     ]
    }
   ],
   "source": [
    "p_values = [3, 4, 5, 6]\n",
    "d_values = [1, 3, 5]\n",
    "q_values = [1, 5, 10, 15]\n",
    "vals = []\n",
    "prev = 100000000000000000000000000\n",
    "for p in p_values:\n",
    "    for d in d_values:\n",
    "        for q in q_values:\n",
    "            param = (p, d, q)\n",
    "            model = ARIMA(train.incremental_cases, order=param).fit()\n",
    "            pred = model.forecast(steps=40)\n",
    "            pred = pd.concat([pd.Series([1769]), pred]).cumsum()[1:]\n",
    "            mse = mean_squared_error(og_test.incremental_cases, pred)\n",
    "            if mse < prev:\n",
    "                prev = mse\n",
    "                best = param\n",
    "            print(mse, 'for parameters', param)\n",
    "print(best, prev)"
   ]
  },
  {
   "cell_type": "code",
   "execution_count": null,
   "id": "2a043da4",
   "metadata": {},
   "outputs": [],
   "source": []
  }
 ],
 "metadata": {
  "kernelspec": {
   "display_name": "Python 3 (ipykernel)",
   "language": "python",
   "name": "python3"
  },
  "language_info": {
   "codemirror_mode": {
    "name": "ipython",
    "version": 3
   },
   "file_extension": ".py",
   "mimetype": "text/x-python",
   "name": "python",
   "nbconvert_exporter": "python",
   "pygments_lexer": "ipython3",
   "version": "3.9.7"
  }
 },
 "nbformat": 4,
 "nbformat_minor": 5
}
