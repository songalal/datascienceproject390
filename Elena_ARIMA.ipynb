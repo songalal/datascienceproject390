{
 "cells": [
  {
   "cell_type": "markdown",
   "id": "ec9e304e",
   "metadata": {},
   "source": [
    "# UNIVARIATE MODELS"
   ]
  },
  {
   "cell_type": "markdown",
   "id": "1cb5ba59",
   "metadata": {},
   "source": [
    "### ARIMA Model: Suffolk "
   ]
  },
  {
   "cell_type": "code",
   "execution_count": null,
   "id": "9bc73862",
   "metadata": {},
   "outputs": [],
   "source": [
    "from pandas import read_csv\n",
    "from pandas import datetime\n",
    "from matplotlib import pyplot\n",
    "\n",
    "def parser(x):\n",
    "    return datetime.strptime('190'+x, '%Y-%m')\n",
    "\n",
    "series = read_csv('shampoo-sales.csv', header=0, parse_dates=[0], index_col=0, squeeze=True, date_parser=parser)\n",
    "print(series.head())\n",
    "series.plot()\n",
    "pyplot.show()\n",
    "\n"
   ]
  },
  {
   "cell_type": "markdown",
   "id": "3b997ed0",
   "metadata": {},
   "source": [
    "### ARIMA Model: San Francisco "
   ]
  },
  {
   "cell_type": "code",
   "execution_count": null,
   "id": "1e1b07c9",
   "metadata": {},
   "outputs": [],
   "source": []
  },
  {
   "cell_type": "markdown",
   "id": "59451323",
   "metadata": {},
   "source": [
    "### ARIMA Model: Suffolk "
   ]
  },
  {
   "cell_type": "code",
   "execution_count": null,
   "id": "3c6ba1da",
   "metadata": {},
   "outputs": [],
   "source": []
  }
 ],
 "metadata": {
  "kernelspec": {
   "display_name": "Python 3 (ipykernel)",
   "language": "python",
   "name": "python3"
  },
  "language_info": {
   "codemirror_mode": {
    "name": "ipython",
    "version": 3
   },
   "file_extension": ".py",
   "mimetype": "text/x-python",
   "name": "python",
   "nbconvert_exporter": "python",
   "pygments_lexer": "ipython3",
   "version": "3.11.5"
  }
 },
 "nbformat": 4,
 "nbformat_minor": 5
}
