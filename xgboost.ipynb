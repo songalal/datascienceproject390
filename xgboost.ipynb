{
 "cells": [
  {
   "cell_type": "code",
   "execution_count": 4,
   "id": "ee9e388b-9a97-4b22-aadb-592767094ac5",
   "metadata": {},
   "outputs": [],
   "source": [
    "import pandas as pd\n",
    "import xgboost as xgb"
   ]
  },
  {
   "cell_type": "code",
   "execution_count": 2,
   "id": "97614733-7242-4d73-9910-37d91fdc1bc5",
   "metadata": {},
   "outputs": [],
   "source": [
    "df = pd.read_csv('variable_selected_county_dataset.csv', index_col=0)"
   ]
  },
  {
   "cell_type": "code",
   "execution_count": 34,
   "id": "cfb9e832-8414-47f6-bdfe-91b126999979",
   "metadata": {},
   "outputs": [],
   "source": [
    "dfToUse = df.drop(labels=['cases'],axis=1)"
   ]
  },
  {
   "cell_type": "code",
   "execution_count": 40,
   "id": "0753a187-0e2d-4e87-beca-37d6157a9bb6",
   "metadata": {},
   "outputs": [],
   "source": [
    "train = dfToUse[dfToUse['date'] < '2020-10-26'].sort_values(by=['date']).reset_index().drop(labels=['index'],axis=1)\n",
    "test = dfToUse[dfToUse['date'] >= '2020-10-26']"
   ]
  },
  {
   "cell_type": "code",
   "execution_count": 10,
   "id": "2d53c8ca-f07d-4cd7-b039-f4afb5bfe769",
   "metadata": {},
   "outputs": [],
   "source": [
    "from sklearn.model_selection import TimeSeriesSplit\n",
    "from sklearn.metrics import mean_squared_error\n",
    "import numpy as np\n",
    "\n",
    "#train.reset_index(inplace=True)\n",
    "\n",
    "n_splits = 3\n",
    "\n",
    "tscv = TimeSeriesSplit(n_splits=n_splits)"
   ]
  },
  {
   "cell_type": "code",
   "execution_count": 43,
   "id": "3471a2c1-a147-43b2-b743-88183b156234",
   "metadata": {},
   "outputs": [],
   "source": [
    "yTrain = train['incremental_cases']\n",
    "xTrain = train.drop(labels=['incremental_cases'],axis=1)\n"
   ]
  },
  {
   "cell_type": "code",
   "execution_count": 46,
   "id": "92e80cfa-b154-4bb3-ab9d-56b5f500638b",
   "metadata": {},
   "outputs": [],
   "source": [
    "finalXTrain = pd.get_dummies(xTrain)"
   ]
  },
  {
   "cell_type": "code",
   "execution_count": null,
   "id": "8f40c60f-0f97-4bc8-b8dc-feb136b44751",
   "metadata": {},
   "outputs": [
    {
     "name": "stdout",
     "output_type": "stream",
     "text": [
      "(2500, 0.001, 4, 0.1, 0, 0)\n",
      "(2500, 0.001, 4, 0.1, 0, 0.1)\n"
     ]
    }
   ],
   "source": [
    "nEst = [2500, 5000, 7500]\n",
    "lr = [0.001,0.1,0.5]\n",
    "md = [4,6,8]\n",
    "ss = [0.1,0.5,0.8]\n",
    "rl = [0,1]\n",
    "gam = [0,0.1,1]\n",
    "best_score, best_cfg = float(\"inf\"), None\n",
    "for n in nEst:\n",
    "    for l in lr:\n",
    "        for m in md:\n",
    "            for s in ss:\n",
    "                for r in rl:\n",
    "                    for g in gam:\n",
    "                        eval = (n,l,m,s,r,g)\n",
    "                        avg = 0\n",
    "                        print(eval)\n",
    "                        for train_index, val_index in tscv.split(finalXTrain):\n",
    "                            train_data, val_data = finalXTrain.loc[train_index], finalXTrain.loc[val_index]\n",
    "                            yFit = yTrain.loc[train_index]\n",
    "                            yVal = yTrain.loc[val_index]\n",
    "                            model = xgb.XGBRegressor(n_estimators=n, learning_rate=l, max_depth=m, subsample=s, reg_lambda=r, gamma=g)\n",
    "                            model.fit(train_data, yFit)\n",
    "                            forecast = model.predict(val_data)\n",
    "                            mse = mean_squared_error(yVal, forecast)\n",
    "                            avg += mse\n",
    "                        if avg < best_score:\n",
    "                            best_score, best_cfg = avg, eval"
   ]
  }
 ],
 "metadata": {
  "kernelspec": {
   "display_name": "Python 3 (ipykernel)",
   "language": "python",
   "name": "python3"
  },
  "language_info": {
   "codemirror_mode": {
    "name": "ipython",
    "version": 3
   },
   "file_extension": ".py",
   "mimetype": "text/x-python",
   "name": "python",
   "nbconvert_exporter": "python",
   "pygments_lexer": "ipython3",
   "version": "3.11.5"
  }
 },
 "nbformat": 4,
 "nbformat_minor": 5
}
