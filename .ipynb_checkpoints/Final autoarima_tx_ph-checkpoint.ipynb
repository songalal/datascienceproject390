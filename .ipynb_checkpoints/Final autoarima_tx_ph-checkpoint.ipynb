{
 "cells": [
  {
   "cell_type": "code",
   "execution_count": 62,
   "id": "d39dc98c",
   "metadata": {},
   "outputs": [],
   "source": [
    "import warnings\n",
    "import pandas as pd\n",
    "from matplotlib import pyplot\n",
    "import matplotlib.pyplot as plt\n",
    "import seaborn as sns\n",
    "from statsmodels.tsa.stattools import adfuller\n",
    "from statsmodels.tsa.arima.model import ARIMA\n",
    "from sklearn.metrics import r2_score, mean_squared_error\n",
    "warnings.filterwarnings('ignore')\n",
    "from statsmodels.tsa.arima.model import ARIMA\n",
    "import statsmodels.api as sm\n",
    "from pmdarima import auto_arima\n",
    "from sklearn.model_selection import TimeSeriesSplit\n",
    "from statsmodels.tsa.arima.model import ARIMA\n",
    "from sklearn.metrics import mean_squared_error\n",
    "from pmdarima import auto_arima\n",
    "import pandas as pd\n",
    "from sklearn.metrics import r2_score\n",
    "import numpy as np"
   ]
  },
  {
   "cell_type": "code",
   "execution_count": 63,
   "id": "22153619",
   "metadata": {},
   "outputs": [],
   "source": [
    "data = pd.read_csv('finalized_county.csv')"
   ]
  },
  {
   "cell_type": "code",
   "execution_count": 64,
   "id": "edc8dce1",
   "metadata": {},
   "outputs": [],
   "source": [
    "tarrant = data[data['county'] == 'Tarrant'].loc[:, ['date', 'incremental_cases']]\n",
    "tarrant['incremental_cases'] = tarrant['incremental_cases'].astype('int')\n",
    "tarrant['date'] = pd.to_datetime(tarrant['date'], format=\"%Y-%m-%d\")\n",
    "\n",
    "# use 85%-15% for train-test split\n",
    "train = tarrant.iloc[:230, :]\n",
    "test = tarrant.iloc[230:, :]\n",
    "\n",
    "def stationary_test(series):\n",
    "    result = adfuller(series)\n",
    "    return (result[0], result[1])\n"
   ]
  },
  {
   "cell_type": "code",
   "execution_count": 65,
   "id": "5b6537bb",
   "metadata": {},
   "outputs": [
    {
     "data": {
      "text/plain": [
       "<AxesSubplot:xlabel='date', ylabel='incremental_cases'>"
      ]
     },
     "execution_count": 65,
     "metadata": {},
     "output_type": "execute_result"
    },
    {
     "data": {
      "image/png": "[encoded data removed]",
      "text/plain": [
       "<Figure size 432x288 with 1 Axes>"
      ]
     },
     "metadata": {
      "needs_background": "light"
     },
     "output_type": "display_data"
    }
   ],
   "source": [
    "# use non-differenced cases for test actuals\n",
    "testing = data[data['county'] == 'Tarrant'].loc[:, ['date', 'incremental_cases']]\n",
    "test = testing.iloc[230:, :]\n",
    "\n",
    "# Plotting actual test data\n",
    "sns.lineplot(x=\"date\", y=\"incremental_cases\",legend = 'full' , data=testing)"
   ]
  },
  {
   "cell_type": "code",
   "execution_count": 66,
   "id": "422c4ad6",
   "metadata": {},
   "outputs": [
    {
     "name": "stdout",
     "output_type": "stream",
     "text": [
      "Performing stepwise search to minimize aic\n",
      " ARIMA(1,1,1)(0,0,0)[0] intercept   : AIC=inf, Time=0.05 sec\n",
      " ARIMA(0,1,0)(0,0,0)[0] intercept   : AIC=621.873, Time=0.01 sec\n",
      " ARIMA(1,1,0)(0,0,0)[0] intercept   : AIC=610.425, Time=0.02 sec\n",
      " ARIMA(0,1,1)(0,0,0)[0] intercept   : AIC=inf, Time=0.03 sec\n",
      " ARIMA(0,1,0)(0,0,0)[0]             : AIC=620.014, Time=0.01 sec\n",
      " ARIMA(2,1,0)(0,0,0)[0] intercept   : AIC=611.696, Time=0.02 sec\n",
      " ARIMA(2,1,1)(0,0,0)[0] intercept   : AIC=inf, Time=0.05 sec\n",
      " ARIMA(1,1,0)(0,0,0)[0]             : AIC=608.777, Time=0.01 sec\n",
      " ARIMA(2,1,0)(0,0,0)[0]             : AIC=610.104, Time=0.02 sec\n",
      " ARIMA(1,1,1)(0,0,0)[0]             : AIC=598.795, Time=0.02 sec\n",
      " ARIMA(0,1,1)(0,0,0)[0]             : AIC=597.033, Time=0.01 sec\n",
      " ARIMA(0,1,2)(0,0,0)[0]             : AIC=598.804, Time=0.02 sec\n",
      " ARIMA(1,1,2)(0,0,0)[0]             : AIC=inf, Time=0.05 sec\n",
      "\n",
      "Best model:  ARIMA(0,1,1)(0,0,0)[0]          \n",
      "Total fit time: 0.324 seconds\n",
      "Performing stepwise search to minimize aic\n",
      " ARIMA(1,1,1)(0,0,0)[0] intercept   : AIC=1366.433, Time=0.06 sec\n",
      " ARIMA(0,1,0)(0,0,0)[0] intercept   : AIC=1405.188, Time=0.01 sec\n",
      " ARIMA(1,1,0)(0,0,0)[0] intercept   : AIC=1392.723, Time=0.03 sec\n",
      " ARIMA(0,1,1)(0,0,0)[0] intercept   : AIC=1364.562, Time=0.03 sec\n",
      " ARIMA(0,1,0)(0,0,0)[0]             : AIC=1403.188, Time=0.01 sec\n",
      " ARIMA(0,1,2)(0,0,0)[0] intercept   : AIC=1366.314, Time=0.06 sec\n",
      " ARIMA(1,1,2)(0,0,0)[0] intercept   : AIC=1365.649, Time=0.12 sec\n",
      " ARIMA(0,1,1)(0,0,0)[0]             : AIC=1365.410, Time=0.02 sec\n",
      "\n",
      "Best model:  ARIMA(0,1,1)(0,0,0)[0] intercept\n",
      "Total fit time: 0.329 seconds\n",
      "Performing stepwise search to minimize aic\n",
      " ARIMA(1,1,1)(0,0,0)[0] intercept   : AIC=2279.720, Time=0.07 sec\n",
      " ARIMA(0,1,0)(0,0,0)[0] intercept   : AIC=2332.961, Time=0.01 sec\n",
      " ARIMA(1,1,0)(0,0,0)[0] intercept   : AIC=2329.151, Time=0.03 sec\n",
      " ARIMA(0,1,1)(0,0,0)[0] intercept   : AIC=2290.236, Time=0.04 sec\n",
      " ARIMA(0,1,0)(0,0,0)[0]             : AIC=2330.969, Time=0.01 sec\n",
      " ARIMA(2,1,1)(0,0,0)[0] intercept   : AIC=2267.349, Time=0.09 sec\n",
      " ARIMA(2,1,0)(0,0,0)[0] intercept   : AIC=2297.967, Time=0.03 sec\n",
      " ARIMA(3,1,1)(0,0,0)[0] intercept   : AIC=2269.277, Time=0.13 sec\n",
      " ARIMA(2,1,2)(0,0,0)[0] intercept   : AIC=2268.757, Time=0.17 sec\n",
      " ARIMA(1,1,2)(0,0,0)[0] intercept   : AIC=2267.541, Time=0.10 sec\n",
      " ARIMA(3,1,0)(0,0,0)[0] intercept   : AIC=2294.981, Time=0.10 sec\n",
      " ARIMA(3,1,2)(0,0,0)[0] intercept   : AIC=2269.065, Time=0.19 sec\n",
      " ARIMA(2,1,1)(0,0,0)[0]             : AIC=2265.979, Time=0.06 sec\n",
      " ARIMA(1,1,1)(0,0,0)[0]             : AIC=2278.670, Time=0.04 sec\n",
      " ARIMA(2,1,0)(0,0,0)[0]             : AIC=2295.994, Time=0.02 sec\n",
      " ARIMA(3,1,1)(0,0,0)[0]             : AIC=2267.922, Time=0.07 sec\n",
      " ARIMA(2,1,2)(0,0,0)[0]             : AIC=2267.482, Time=0.09 sec\n",
      " ARIMA(1,1,0)(0,0,0)[0]             : AIC=2327.162, Time=0.02 sec\n",
      " ARIMA(1,1,2)(0,0,0)[0]             : AIC=2266.410, Time=0.05 sec\n",
      " ARIMA(3,1,0)(0,0,0)[0]             : AIC=2293.018, Time=0.04 sec\n",
      " ARIMA(3,1,2)(0,0,0)[0]             : AIC=2267.754, Time=0.11 sec\n",
      "\n",
      "Best model:  ARIMA(2,1,1)(0,0,0)[0]          \n",
      "Total fit time: 1.485 seconds\n",
      "Best ARIMA model summary:\n",
      "                               SARIMAX Results                                \n",
      "==============================================================================\n",
      "Dep. Variable:                      y   No. Observations:                   59\n",
      "Model:               SARIMAX(0, 1, 1)   Log Likelihood                -296.516\n",
      "Date:                Sun, 10 Mar 2024   AIC                            597.033\n",
      "Time:                        13:47:59   BIC                            601.154\n",
      "Sample:                             0   HQIC                           598.638\n",
      "                                 - 59                                         \n",
      "Covariance Type:                  opg                                         \n",
      "==============================================================================\n",
      "                 coef    std err          z      P>|z|      [0.025      0.975]\n",
      "------------------------------------------------------------------------------\n",
      "ma.L1         -0.8109      0.098     -8.296      0.000      -1.002      -0.619\n",
      "sigma2      1585.0576    205.127      7.727      0.000    1183.016    1987.099\n",
      "===================================================================================\n",
      "Ljung-Box (L1) (Q):                   0.00   Jarque-Bera (JB):                13.50\n",
      "Prob(Q):                              0.97   Prob(JB):                         0.00\n",
      "Heteroskedasticity (H):              26.48   Skew:                             0.90\n",
      "Prob(H) (two-sided):                  0.00   Kurtosis:                         4.52\n",
      "===================================================================================\n",
      "\n",
      "Warnings:\n",
      "[1] Covariance matrix calculated using the outer product of gradients (complex-step).\n",
      "with MSE: 30288.774644889545\n"
     ]
    }
   ],
   "source": [
    "train = train.loc[:, ['incremental_cases']].reset_index().drop(columns='index')\n",
    "\n",
    "n_splits = 3\n",
    "tscv = TimeSeriesSplit(n_splits=n_splits)\n",
    "\n",
    "best_score, best_model = float(\"inf\"), None\n",
    "\n",
    "for train_index, val_index in tscv.split(train):\n",
    "    train_data, val_data = train.iloc[train_index, :], train.iloc[val_index, :]\n",
    "\n",
    "    model = auto_arima(train_data.incremental_cases, seasonal=True, stepwise=True,\n",
    "                       suppress_warnings=True, error_action=\"ignore\",\n",
    "                       start_p=1, start_q=1, max_p=8, max_q=8, d=None, trace=True)\n",
    "\n",
    "    # Forecast\n",
    "    forecast = model.predict(n_periods=val_data.shape[0])\n",
    "    \n",
    "    # Evaluate\n",
    "    mse = mean_squared_error(val_data.incremental_cases, forecast)\n",
    "    if mse < best_score:\n",
    "        best_score = mse\n",
    "        best_model = model\n",
    "\n",
    "print(f'Best ARIMA model summary:')\n",
    "print(best_model.summary())\n",
    "print(f'with MSE: {best_score}')"
   ]
  },
  {
   "cell_type": "code",
   "execution_count": null,
   "id": "fc307277",
   "metadata": {},
   "outputs": [],
   "source": [
    "# Fit the model with specified ARIMA(0,1,1) parameters\n",
    "model = auto_arima(train.incremental_cases, start_p=0, start_q=0, max_p=3, max_q=2, d=1,\n",
    "                   seasonal=True, stepwise=True, suppress_warnings=True, error_action=\"ignore\", trace=True)\n",
    "\n",
    "# Forecast the next 40 steps beyond the train dataset\n",
    "pred, conf_int = model.predict(n_periods=40, return_conf_int=True)\n",
    "\n",
    "lower_bounds = conf_int[:, 0]\n",
    "upper_bounds = conf_int[:, 1]\n",
    "\n",
    "r2 = r2_score(test.incremental_cases, pred)  # Ensure test data is the correct length\n",
    "print(\"R-squared\", r2)"
   ]
  },
  {
   "cell_type": "code",
   "execution_count": null,
   "id": "d2c3191a",
   "metadata": {},
   "outputs": [],
   "source": [
    "test['date'] = pd.to_datetime(test['date'], format=\"%Y-%m-%d\")\n",
    "prediction = pd.DataFrame({'actual':test.incremental_cases.reset_index(drop = True), \n",
    "              'pred':pred.reset_index(drop = True)})\n",
    "prediction['date'] = test['date'].reset_index(drop = True)\n",
    "prediction.plot(x = 'date', y = ['actual', 'pred'])"
   ]
  },
  {
   "cell_type": "code",
   "execution_count": null,
   "id": "17d72ea2",
   "metadata": {},
   "outputs": [],
   "source": [
    "import matplotlib.pyplot as plt\n",
    "\n",
    "# Plot actual test values\n",
    "plt.figure(figsize=(10, 6))\n",
    "plt.plot(test['date'], test.incremental_cases, label='Actual Test Values', color='blue')\n",
    "\n",
    "# Plot forecasted values\n",
    "plt.plot(test['date'], pred, label='Forecasted Values', color='red')\n",
    "\n",
    "plt.fill_between(test['date'], lower_bounds, upper_bounds, color='pink', alpha=0.3, label='Confidence Interval')\n",
    "\n",
    "plt.title('Tarrant AutoArima - AutoARIMA Actual vs. Forecasted Values')\n",
    "plt.xlabel('Time')\n",
    "plt.ylabel('Incremental Cases')\n",
    "plt.legend()\n",
    "plt.show()"
   ]
  },
  {
   "cell_type": "code",
   "execution_count": null,
   "id": "e8bd20f9",
   "metadata": {},
   "outputs": [],
   "source": [
    "# Plotting Residuals\n",
    "fitted_values = model.predict_in_sample()\n",
    "residuals = train.incremental_cases - fitted_values\n",
    "\n",
    "plt.figure(figsize=(10, 6))\n",
    "plt.plot(residuals, label='Residuals')\n",
    "plt.title('Residuals of Fitted Model')\n",
    "plt.xlabel('Time')\n",
    "plt.ylabel('Residuals')\n",
    "plt.legend()\n",
    "plt.show()"
   ]
  },
  {
   "cell_type": "code",
   "execution_count": null,
   "id": "9d80116c",
   "metadata": {},
   "outputs": [],
   "source": [
    "model.summary()"
   ]
  },
  {
   "cell_type": "code",
   "execution_count": null,
   "id": "148f0396",
   "metadata": {},
   "outputs": [],
   "source": [
    "harris = data[data['county'] == 'Harris'].loc[:, ['date', 'incremental_cases']]\n",
    "harris['incremental_cases'] = harris['incremental_cases'].astype('int')\n",
    "harris['date'] = pd.to_datetime(harris['date'], format=\"%Y-%m-%d\")\n",
    "\n",
    "# use 85%-15% for train-test split\n",
    "train = harris.iloc[:230, :]\n",
    "test = harris.iloc[230:, :]\n",
    "\n",
    "def stationary_test(series):\n",
    "    result = adfuller(series)\n",
    "    return (result[0], result[1])\n"
   ]
  },
  {
   "cell_type": "code",
   "execution_count": null,
   "id": "a43f2c4e",
   "metadata": {},
   "outputs": [],
   "source": [
    "# use non-differenced cases for test actuals\n",
    "testing = data[data['county'] == 'Orange'].loc[:, ['date', 'incremental_cases']]\n",
    "test = testing.iloc[230:, :]\n",
    "\n",
    "# Plotting actual test data\n",
    "sns.lineplot(x=\"date\", y=\"incremental_cases\",legend = 'full' , data=testing)"
   ]
  },
  {
   "cell_type": "code",
   "execution_count": null,
   "id": "739cb72d",
   "metadata": {},
   "outputs": [],
   "source": [
    "train = train.loc[:, ['incremental_cases']].reset_index().drop(columns='index')\n",
    "\n",
    "n_splits = 3\n",
    "tscv = TimeSeriesSplit(n_splits=n_splits)\n",
    "\n",
    "best_score, best_model = float(\"inf\"), None\n",
    "\n",
    "for train_index, val_index in tscv.split(train):\n",
    "    train_data, val_data = train.iloc[train_index, :], train.iloc[val_index, :]\n",
    "\n",
    "    model = auto_arima(train_data.incremental_cases, seasonal=False, stepwise=True,\n",
    "                       suppress_warnings=True, error_action=\"ignore\",\n",
    "                       start_p=1, start_q=1, max_p=8, max_q=8, d=None, trace=True)\n",
    "\n",
    "    # Forecast\n",
    "    forecast = model.predict(n_periods=val_data.shape[0])\n",
    "    \n",
    "    # Evaluate\n",
    "    mse = mean_squared_error(val_data.incremental_cases, forecast)\n",
    "    if mse < best_score:\n",
    "        best_score = mse\n",
    "        best_model = model\n",
    "\n",
    "print(f'Best ARIMA model summary:')\n",
    "print(best_model.summary())\n",
    "print(f'with MSE: {best_score}')"
   ]
  },
  {
   "cell_type": "code",
   "execution_count": null,
   "id": "664a638b",
   "metadata": {},
   "outputs": [],
   "source": [
    "# Fit the model with specified ARIMA(1,0,2) parameters\n",
    "model = auto_arima(train.incremental_cases, start_p=0, start_q=0, max_p=3, max_q=2, d=1,\n",
    "                   seasonal=False, stepwise=True, suppress_warnings=True, error_action=\"ignore\", trace=True)\n",
    "\n",
    "# Forecast the next 40 steps beyond the train dataset\n",
    "pred, conf_int = model.predict(n_periods=40, return_conf_int=True) \n",
    "\n",
    "lower_bounds = conf_int[:, 0]\n",
    "upper_bounds = conf_int[:, 1]\n",
    "\n",
    "r2 = r2_score(test.incremental_cases, pred)  # Ensure test data is the correct length\n",
    "print(\"R-squared\", r2)"
   ]
  },
  {
   "cell_type": "code",
   "execution_count": null,
   "id": "50893bd8",
   "metadata": {},
   "outputs": [],
   "source": [
    "test['date'] = pd.to_datetime(test['date'], format=\"%Y-%m-%d\")\n",
    "\n",
    "prediction = pd.DataFrame({'actual':test.incremental_cases.reset_index(drop = True), \n",
    "              'pred':pred.reset_index(drop = True)})\n",
    "prediction['date'] = test['date'].reset_index(drop = True)\n",
    "prediction.plot(x = 'date', y = ['actual', 'pred'])"
   ]
  },
  {
   "cell_type": "code",
   "execution_count": null,
   "id": "54c274e1",
   "metadata": {},
   "outputs": [],
   "source": [
    "import matplotlib.pyplot as plt\n",
    "\n",
    "# Plot actual test values\n",
    "plt.figure(figsize=(10, 6))\n",
    "plt.plot(test['date'], test.incremental_cases, label='Actual Test Values', color='blue')\n",
    "\n",
    "# Plot forecasted values\n",
    "plt.plot(test['date'], pred, label='Forecasted Values', color='red')\n",
    "\n",
    "plt.fill_between(test['date'], lower_bounds, upper_bounds, color='pink', alpha=0.3, label='Confidence Interval')\n",
    "\n",
    "plt.title('Harris AutoArima - Actual vs. Forecasted Values')\n",
    "plt.xlabel('Time')\n",
    "plt.ylabel('Incremental Cases')\n",
    "plt.legend()\n",
    "plt.show()"
   ]
  },
  {
   "cell_type": "code",
   "execution_count": null,
   "id": "a9463da0",
   "metadata": {},
   "outputs": [],
   "source": [
    "\n",
    "\n",
    "# Plotting residuals\n",
    "fitted_values = model.predict_in_sample()\n",
    "residuals = train.incremental_cases - fitted_values\n",
    "\n",
    "\n",
    "plt.figure(figsize=(10, 6))\n",
    "plt.plot(residuals, label='Residuals')\n",
    "plt.title('Residuals of Fitted Model')\n",
    "plt.xlabel('Time')\n",
    "plt.ylabel('Residuals')\n",
    "plt.legend()\n",
    "plt.show()"
   ]
  },
  {
   "cell_type": "code",
   "execution_count": null,
   "id": "d6863ac1",
   "metadata": {},
   "outputs": [],
   "source": [
    "model.summary()"
   ]
  },
  {
   "cell_type": "code",
   "execution_count": null,
   "id": "dc6414f5",
   "metadata": {},
   "outputs": [],
   "source": [
    "philly = data[data['county'] == 'Philadelphia'].loc[:, ['date', 'incremental_cases']]\n",
    "philly['incremental_cases'] = philly['incremental_cases'].astype('int')\n",
    "philly['date'] = pd.to_datetime(philly['date'], format=\"%Y-%m-%d\")\n",
    "\n",
    "# use 85%-15% for train-test split\n",
    "train = philly.iloc[:230, :]\n",
    "test = philly.iloc[230:, :]\n",
    "\n",
    "def stationary_test(series):\n",
    "    result = adfuller(series)\n",
    "    return (result[0], result[1])\n"
   ]
  },
  {
   "cell_type": "code",
   "execution_count": null,
   "id": "7c579738",
   "metadata": {},
   "outputs": [],
   "source": [
    "# use non-differenced cases for test actuals\n",
    "testing = data[data['county'] == 'Orange'].loc[:, ['date', 'incremental_cases']]\n",
    "test = testing.iloc[230:, :]\n",
    "\n",
    "# Plotting actual test data\n",
    "sns.lineplot(x=\"date\", y=\"incremental_cases\",legend = 'full' , data=testing)"
   ]
  },
  {
   "cell_type": "code",
   "execution_count": null,
   "id": "e7a17ee6",
   "metadata": {},
   "outputs": [],
   "source": [
    "train = train.loc[:, ['incremental_cases']].reset_index().drop(columns='index')\n",
    "\n",
    "n_splits = 3\n",
    "tscv = TimeSeriesSplit(n_splits=n_splits)\n",
    "\n",
    "best_score, best_model = float(\"inf\"), None\n",
    "\n",
    "for train_index, val_index in tscv.split(train):\n",
    "    train_data, val_data = train.iloc[train_index, :], train.iloc[val_index, :]\n",
    "\n",
    "    model = auto_arima(train_data.incremental_cases, seasonal=False, stepwise=True,\n",
    "                       suppress_warnings=True, error_action=\"ignore\",\n",
    "                       start_p=1, start_q=1, max_p=8, max_q=8, d=None, trace=True)\n",
    "\n",
    "    # Forecast\n",
    "    forecast = model.predict(n_periods=val_data.shape[0])\n",
    "    \n",
    "    # Evaluate\n",
    "    mse = mean_squared_error(val_data.incremental_cases, forecast)\n",
    "    if mse < best_score:\n",
    "        best_score = mse\n",
    "        best_model = model\n",
    "\n",
    "print(f'Best ARIMA model summary:')\n",
    "print(best_model.summary())\n",
    "print(f'with MSE: {best_score}')"
   ]
  },
  {
   "cell_type": "code",
   "execution_count": null,
   "id": "e55a4eff",
   "metadata": {},
   "outputs": [],
   "source": [
    "# Fit the model with specified ARIMA(1,0,2) parameters\n",
    "model = auto_arima(train.incremental_cases, start_p=0, start_q=1, max_p=7, max_q=2, d=1,\n",
    "                   seasonal=False, stepwise=True, suppress_warnings=True, error_action=\"ignore\", trace=True)\n",
    "\n",
    "# Forecast the next 40 steps beyond the train dataset\n",
    "pred, conf_int = model.predict(n_periods=40, return_conf_int=True) \n",
    "\n",
    "lower_bounds = conf_int[:, 0]\n",
    "upper_bounds = conf_int[:, 1]\n",
    "\n",
    "r2 = r2_score(test.incremental_cases, pred)  # Ensure test data is the correct length\n",
    "print(\"R-squared\", r2)"
   ]
  },
  {
   "cell_type": "code",
   "execution_count": null,
   "id": "97ce30c4",
   "metadata": {},
   "outputs": [],
   "source": [
    "test['date'] = pd.to_datetime(test['date'], format=\"%Y-%m-%d\")\n",
    "\n",
    "prediction = pd.DataFrame({'actual':test.incremental_cases.reset_index(drop = True), \n",
    "              'pred':pred.reset_index(drop = True)})\n",
    "prediction['date'] = test['date'].reset_index(drop = True)\n",
    "prediction.plot(x = 'date', y = ['actual', 'pred'])"
   ]
  },
  {
   "cell_type": "code",
   "execution_count": null,
   "id": "199a9b1a",
   "metadata": {},
   "outputs": [],
   "source": [
    "import matplotlib.pyplot as plt\n",
    "\n",
    "# Plot actual test values\n",
    "plt.figure(figsize=(10, 6))\n",
    "plt.plot(test['date'], test.incremental_cases, label='Actual Test Values', color='blue')\n",
    "\n",
    "# Plot forecasted values\n",
    "plt.plot(test['date'], pred, label='Forecasted Values', color='red')\n",
    "\n",
    "plt.fill_between(test['date'], lower_bounds, upper_bounds, color='pink', alpha=0.3, label='Confidence Interval')\n",
    "\n",
    "plt.title('Philly AutoArima - Actual vs. Forecasted Values')\n",
    "plt.xlabel('Time')\n",
    "plt.ylabel('Incremental Cases')\n",
    "plt.legend()\n",
    "plt.show()"
   ]
  },
  {
   "cell_type": "code",
   "execution_count": null,
   "id": "7d1d7944",
   "metadata": {},
   "outputs": [],
   "source": [
    "\n",
    "\n",
    "# Plotting residuals\n",
    "fitted_values = model.predict_in_sample()\n",
    "residuals = train.incremental_cases - fitted_values\n",
    "\n",
    "\n",
    "plt.figure(figsize=(10, 6))\n",
    "plt.plot(residuals, label='Residuals')\n",
    "plt.title('Residuals of Fitted Model')\n",
    "plt.xlabel('Time')\n",
    "plt.ylabel('Residuals')\n",
    "plt.legend()\n",
    "plt.show()"
   ]
  },
  {
   "cell_type": "code",
   "execution_count": null,
   "id": "0827e4a7",
   "metadata": {},
   "outputs": [],
   "source": [
    "model.summary()"
   ]
  },
  {
   "cell_type": "code",
   "execution_count": null,
   "id": "41dbde09",
   "metadata": {},
   "outputs": [],
   "source": []
  },
  {
   "cell_type": "code",
   "execution_count": null,
   "id": "0d3671e0",
   "metadata": {},
   "outputs": [],
   "source": []
  },
  {
   "cell_type": "code",
   "execution_count": null,
   "id": "82e5744c",
   "metadata": {},
   "outputs": [],
   "source": []
  },
  {
   "cell_type": "code",
   "execution_count": null,
   "id": "b7692d24",
   "metadata": {},
   "outputs": [],
   "source": []
  }
 ],
 "metadata": {
  "kernelspec": {
   "display_name": "Python 3 (ipykernel)",
   "language": "python",
   "name": "python3"
  },
  "language_info": {
   "codemirror_mode": {
    "name": "ipython",
    "version": 3
   },
   "file_extension": ".py",
   "mimetype": "text/x-python",
   "name": "python",
   "nbconvert_exporter": "python",
   "pygments_lexer": "ipython3",
   "version": "3.9.12"
  }
 },
 "nbformat": 4,
 "nbformat_minor": 5
}
