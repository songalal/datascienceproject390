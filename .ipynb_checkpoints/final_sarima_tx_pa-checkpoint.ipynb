{
 "cells": [
  {
   "cell_type": "code",
   "execution_count": 64,
   "id": "5800c62e",
   "metadata": {},
   "outputs": [],
   "source": [
    "import warnings\n",
    "import pandas as pd\n",
    "from matplotlib import pyplot\n",
    "import matplotlib.pyplot as plt\n",
    "import seaborn as sns\n",
    "from statsmodels.tsa.stattools import adfuller\n",
    "from statsmodels.tsa.arima.model import ARIMA\n",
    "from sklearn.metrics import r2_score, mean_squared_error\n",
    "warnings.filterwarnings('ignore')\n",
    "from statsmodels.tsa.arima.model import ARIMA\n",
    "import statsmodels.api as sm\n",
    "from sklearn.model_selection import TimeSeriesSplit\n",
    "from statsmodels.tsa.statespace.sarimax import SARIMAX\n",
    "from sklearn.metrics import mean_squared_error\n",
    "import numpy as np\n",
    "import random"
   ]
  },
  {
   "cell_type": "code",
   "execution_count": 65,
   "id": "af3745bc",
   "metadata": {},
   "outputs": [],
   "source": [
    "data = pd.read_csv('finalized_county.csv')"
   ]
  },
  {
   "cell_type": "code",
   "execution_count": 66,
   "id": "9ef54ae6",
   "metadata": {},
   "outputs": [],
   "source": [
    "tarrant = data[data['county'] == 'Tarrant'].loc[:, ['date', 'incremental_cases']]\n",
    "tarrant['incremental_cases'] = tarrant['incremental_cases'].astype('int')\n",
    "tarrant['date'] = pd.to_datetime(tarrant['date'], format=\"%Y-%m-%d\")\n",
    "\n",
    "# use 85%-15% for train-test split\n",
    "train = tarrant.iloc[:230, :]\n",
    "test = tarrant.iloc[230:, :]\n",
    "\n",
    "def stationary_test(series):\n",
    "    result = adfuller(series)\n",
    "    return (result[0], result[1])\n"
   ]
  },
  {
   "cell_type": "code",
   "execution_count": 67,
   "id": "1358dc0a",
   "metadata": {},
   "outputs": [
    {
     "name": "stdout",
     "output_type": "stream",
     "text": [
      "Stationary or not?: (-0.7851430797441187, 0.8234472689051321)\n",
      "3199    642\n",
      "Name: incremental_cases, dtype: int64\n",
      "Stationary after first level diff?: (-7.253082067142602, 1.7592508012141803e-10)\n"
     ]
    }
   ],
   "source": [
    "# Tarrant is non-stationary\n",
    "print(\"Stationary or not?:\", stationary_test(train.incremental_cases))\n",
    "\n",
    "# get this value for reversion purposes\n",
    "print(train.loc[train['date'] == '2020-10-25', 'incremental_cases'])\n",
    "\n",
    "# first-level differencing\n",
    "train['incremental_cases'] = train['incremental_cases'].diff(\n",
    ").fillna(train['incremental_cases']).astype('int')\n",
    "\n",
    "# Tarrant is stationary after first-level differencing\n",
    "print(\"Stationary after first level diff?:\", stationary_test(train.incremental_cases))"
   ]
  },
  {
   "cell_type": "code",
   "execution_count": 68,
   "id": "aa656b6e",
   "metadata": {},
   "outputs": [
    {
     "data": {
      "text/plain": [
       "<AxesSubplot:xlabel='date', ylabel='incremental_cases'>"
      ]
     },
     "execution_count": 68,
     "metadata": {},
     "output_type": "execute_result"
    },
    {
     "data": {
      "image/png": "[encoded data removed]",
      "text/plain": [
       "<Figure size 432x288 with 1 Axes>"
      ]
     },
     "metadata": {
      "needs_background": "light"
     },
     "output_type": "display_data"
    }
   ],
   "source": [
    "# use non-differenced cases for test actuals\n",
    "testing = data[data['county'] == 'Tarrant'].loc[:, ['date', 'incremental_cases']]\n",
    "test = testing.iloc[230:, :]\n",
    "\n",
    "# Plotting actual test data\n",
    "sns.lineplot(x=\"date\", y=\"incremental_cases\",legend = 'full' , data=testing)"
   ]
  },
  {
   "cell_type": "code",
   "execution_count": 13,
   "id": "45158ee4",
   "metadata": {},
   "outputs": [
    {
     "name": "stdout",
     "output_type": "stream",
     "text": [
      "Best SARIMA parameters: ((2, 1, 3), (0, 1, 1, 30)) with MSE: 64182.1413255427\n"
     ]
    }
   ],
   "source": [
    "train = train.loc[:, ['incremental_cases']].reset_index().drop(columns='index')\n",
    "n_splits = 3\n",
    "\n",
    "tscv = TimeSeriesSplit(n_splits=n_splits)\n",
    "\n",
    "p_values = [0, 1, 2, 3]\n",
    "d_values = [1]\n",
    "q_values = [0, 1, 2, 3]\n",
    "P_values = [0, 1, 2, 3]\n",
    "D_values = [1]\n",
    "Q_values = [0, 1, 2, 3]\n",
    "m_values = [30]  \n",
    "\n",
    "# Generate all possible combinations of parameters\n",
    "all_combinations = [(p, d, q, P, D, Q, m) for p in p_values for d in d_values for q in q_values\n",
    "                    for P in P_values for D in D_values for Q in Q_values for m in m_values]\n",
    "\n",
    "# Randomize\n",
    "random.shuffle(all_combinations)\n",
    "\n",
    "# Limit the number of iterations\n",
    "max_iterations = 20  \n",
    "limited_combinations = all_combinations[:max_iterations]\n",
    "\n",
    "best_score, best_cfg = float(\"inf\"), None\n",
    "\n",
    "# Iterate through the randomized/limited combinations of parameters\n",
    "for (p, d, q, P, D, Q, m) in limited_combinations:\n",
    "    mse_scores = []\n",
    "\n",
    "    for train_index, val_index in tscv.split(train):\n",
    "        try:\n",
    "            train_data, val_data = train.loc[train_index], train.loc[val_index]\n",
    "            model = SARIMAX(train_data.incremental_cases,\n",
    "                            order=(p, d, q),\n",
    "                            seasonal_order=(P, D, Q, m),\n",
    "                            enforce_stationarity=False,\n",
    "                            enforce_invertibility=False)\n",
    "            model_fit = model.fit(disp=0)\n",
    "            forecast = model_fit.forecast(steps=len(val_data))\n",
    "            mse = mean_squared_error(val_data.incremental_cases, forecast)\n",
    "            mse_scores.append(mse)\n",
    "        except:\n",
    "            mse_scores.append(float(\"inf\"))  # In case the model fitting fails\n",
    "\n",
    "    average_mse = np.mean(mse_scores)\n",
    "    if average_mse < best_score:\n",
    "        best_score, best_cfg = average_mse, ((p, d, q), (P, D, Q, m))\n",
    "\n",
    "print(f'Best SARIMA parameters: {best_cfg} with MSE: {best_score}')"
   ]
  },
  {
   "cell_type": "code",
   "execution_count": 69,
   "id": "24830515",
   "metadata": {},
   "outputs": [
    {
     "name": "stdout",
     "output_type": "stream",
     "text": [
      "RUNNING THE L-BFGS-B CODE\n",
      "\n",
      "           * * *\n",
      "\n",
      "Machine precision = 2.220D-16\n",
      " N =            7     M =           10\n",
      "\n",
      "At X0         0 variables are exactly at the bounds\n",
      "\n",
      "At iterate    0    f=  6.11184D+00    |proj g|=  2.61184D-01\n"
     ]
    },
    {
     "name": "stderr",
     "output_type": "stream",
     "text": [
      " This problem is unconstrained.\n"
     ]
    },
    {
     "name": "stdout",
     "output_type": "stream",
     "text": [
      "\n",
      "At iterate    5    f=  5.98581D+00    |proj g|=  4.81891D-02\n",
      "\n",
      "At iterate   10    f=  5.96041D+00    |proj g|=  1.82842D-02\n",
      "\n",
      "At iterate   15    f=  5.94844D+00    |proj g|=  2.89695D-01\n",
      "\n",
      "At iterate   20    f=  5.93702D+00    |proj g|=  8.74951D-03\n",
      "\n",
      "At iterate   25    f=  5.93463D+00    |proj g|=  1.91225D-02\n",
      "\n",
      "At iterate   30    f=  5.93456D+00    |proj g|=  2.48345D-02\n",
      "\n",
      "At iterate   35    f=  5.93370D+00    |proj g|=  2.99136D-02\n",
      "\n",
      "At iterate   40    f=  5.93361D+00    |proj g|=  6.28337D-03\n",
      "\n",
      "At iterate   45    f=  5.93345D+00    |proj g|=  1.59389D-02\n",
      "\n",
      "At iterate   50    f=  5.93092D+00    |proj g|=  4.99643D-02\n",
      "\n",
      "           * * *\n",
      "\n",
      "Tit   = total number of iterations\n",
      "Tnf   = total number of function evaluations\n",
      "Tnint = total number of segments explored during Cauchy searches\n",
      "Skip  = number of BFGS updates skipped\n",
      "Nact  = number of active bounds at final generalized Cauchy point\n",
      "Projg = norm of the final projected gradient\n",
      "F     = final function value\n",
      "\n",
      "           * * *\n",
      "\n",
      "   N    Tit     Tnf  Tnint  Skip  Nact     Projg        F\n",
      "    7     50     67      1     0     0   4.996D-02   5.931D+00\n",
      "  F =   5.9309166670845821     \n",
      "\n",
      "STOP: TOTAL NO. of ITERATIONS REACHED LIMIT                 \n",
      "R-squared -0.19110283107002046\n"
     ]
    }
   ],
   "source": [
    "model = sm.tsa.statespace.SARIMAX(train.incremental_cases, order=(2, 1, 3), seasonal_order=(0,1,1,30)).fit()\n",
    "pred = pd.concat([pd.Series([642]), model.forecast(steps=40)]).cumsum()[1:]\n",
    "r2 = r2_score(test.incremental_cases, pred)\n",
    "print(\"R-squared\", r2) "
   ]
  },
  {
   "cell_type": "code",
   "execution_count": 70,
   "id": "6256745b",
   "metadata": {},
   "outputs": [
    {
     "data": {
      "text/plain": [
       "<AxesSubplot:xlabel='date'>"
      ]
     },
     "execution_count": 70,
     "metadata": {},
     "output_type": "execute_result"
    },
    {
     "data": {
      "image/png": "[encoded data removed]",
      "text/plain": [
       "<Figure size 432x288 with 1 Axes>"
      ]
     },
     "metadata": {
      "needs_background": "light"
     },
     "output_type": "display_data"
    }
   ],
   "source": [
    "prediction = pd.DataFrame({'actual':test.incremental_cases.reset_index(drop = True), \n",
    "              'pred':pred.reset_index(drop = True)})\n",
    "prediction['date'] = test['date'].reset_index(drop = True)\n",
    "prediction.plot(x = 'date', y = ['actual', 'pred'])"
   ]
  },
  {
   "cell_type": "code",
   "execution_count": 16,
   "id": "c4334cfc",
   "metadata": {},
   "outputs": [
    {
     "name": "stdout",
     "output_type": "stream",
     "text": [
      "Best SARIMA parameters: ((2, 1, 2), (0, 1, 2, 30)) with MSE: 66557.50419641519\n"
     ]
    }
   ],
   "source": [
    "train = train.loc[:, ['incremental_cases']].reset_index().drop(columns='index')\n",
    "n_splits = 3\n",
    "\n",
    "tscv = TimeSeriesSplit(n_splits=n_splits)\n",
    "\n",
    "# Non-seasonal ARIMA parameters\n",
    "p_values = [2, 3]\n",
    "d_values = [1]\n",
    "q_values = [1, 2, 3]\n",
    "\n",
    "# Seasonal parameters\n",
    "P_values = [0, 1, 2, 3]  \n",
    "D_values = [1]  \n",
    "Q_values = [2, 3]  \n",
    "m_values = [30]    \n",
    "\n",
    "best_score, best_cfg = float(\"inf\"), None\n",
    "\n",
    "# Iterate through all combinations of parameters\n",
    "for p in p_values:\n",
    "    for d in d_values:\n",
    "        for q in q_values:\n",
    "            for P in P_values:\n",
    "                for D in D_values:\n",
    "                    for Q in Q_values:\n",
    "                        for m in m_values:\n",
    "                            mse_scores = []  # List to store the MSE of each cross-validation fold\n",
    "                            \n",
    "                            # Cross-validation as the inner loop\n",
    "                            for train_index, val_index in tscv.split(train):\n",
    "                                try:\n",
    "                                    train_data, val_data = train.loc[train_index], train.loc[val_index]\n",
    "                                    model = SARIMAX(train_data.incremental_cases,\n",
    "                                                    order=(p, d, q),\n",
    "                                                    seasonal_order=(P, D, Q, m),\n",
    "                                                    enforce_stationarity=False,\n",
    "                                                    enforce_invertibility=False)\n",
    "                                    model_fit = model.fit(disp=0)\n",
    "                                    forecast = model_fit.forecast(steps=len(val_data))\n",
    "                                    mse = mean_squared_error(val_data.incremental_cases, forecast)\n",
    "                                    mse_scores.append(mse)\n",
    "                                except:\n",
    "                                    mse_scores.append(float(\"inf\"))  \n",
    "                            \n",
    "                            average_mse = np.mean(mse_scores)  # Average MSE over all folds\n",
    "                            if average_mse < best_score:\n",
    "                                best_score, best_cfg = average_mse, ((p, d, q), (P, D, Q, m))\n",
    "\n",
    "print(f'Best SARIMA parameters: {best_cfg} with MSE: {best_score}')"
   ]
  },
  {
   "cell_type": "code",
   "execution_count": 71,
   "id": "7a04ddec",
   "metadata": {},
   "outputs": [
    {
     "name": "stderr",
     "output_type": "stream",
     "text": [
      " This problem is unconstrained.\n"
     ]
    },
    {
     "name": "stdout",
     "output_type": "stream",
     "text": [
      "RUNNING THE L-BFGS-B CODE\n",
      "\n",
      "           * * *\n",
      "\n",
      "Machine precision = 2.220D-16\n",
      " N =            7     M =           10\n",
      "\n",
      "At X0         0 variables are exactly at the bounds\n",
      "\n",
      "At iterate    0    f=  6.08200D+00    |proj g|=  3.15310D-01\n",
      "\n",
      "At iterate    5    f=  5.97668D+00    |proj g|=  7.88775D-03\n",
      "\n",
      "At iterate   10    f=  5.95453D+00    |proj g|=  3.15702D-02\n",
      "\n",
      "At iterate   15    f=  5.92743D+00    |proj g|=  7.05316D-03\n",
      "\n",
      "At iterate   20    f=  5.92673D+00    |proj g|=  3.94498D-03\n",
      "\n",
      "At iterate   25    f=  5.92243D+00    |proj g|=  7.62130D-03\n",
      "\n",
      "At iterate   30    f=  5.82131D+00    |proj g|=  1.34895D-01\n",
      "\n",
      "At iterate   35    f=  5.77004D+00    |proj g|=  4.16750D-03\n",
      "\n",
      "At iterate   40    f=  5.77001D+00    |proj g|=  1.41225D-03\n",
      "\n",
      "At iterate   45    f=  5.76982D+00    |proj g|=  5.49286D-04\n",
      "\n",
      "At iterate   50    f=  5.76977D+00    |proj g|=  1.87574D-04\n",
      "\n",
      "           * * *\n",
      "\n",
      "Tit   = total number of iterations\n",
      "Tnf   = total number of function evaluations\n",
      "Tnint = total number of segments explored during Cauchy searches\n",
      "Skip  = number of BFGS updates skipped\n",
      "Nact  = number of active bounds at final generalized Cauchy point\n",
      "Projg = norm of the final projected gradient\n",
      "F     = final function value\n",
      "\n",
      "           * * *\n",
      "\n",
      "   N    Tit     Tnf  Tnint  Skip  Nact     Projg        F\n",
      "    7     50     59      1     0     0   1.876D-04   5.770D+00\n",
      "  F =   5.7697687942730997     \n",
      "\n",
      "STOP: TOTAL NO. of ITERATIONS REACHED LIMIT                 \n",
      "R-squared -0.2122249452202707\n"
     ]
    }
   ],
   "source": [
    "model = sm.tsa.statespace.SARIMAX(train.incremental_cases, order=(2, 1, 2), seasonal_order=(0,1,2,30)).fit()\n",
    "pred = pd.concat([pd.Series([642]), model.forecast(steps=40)]).cumsum()[1:]\n",
    "r2 = r2_score(test.incremental_cases, pred)\n",
    "print(\"R-squared\", r2) "
   ]
  },
  {
   "cell_type": "code",
   "execution_count": 72,
   "id": "4d02aa92",
   "metadata": {},
   "outputs": [
    {
     "data": {
      "image/png": "[encoded data removed]",
      "text/plain": [
       "<Figure size 432x288 with 1 Axes>"
      ]
     },
     "metadata": {
      "needs_background": "light"
     },
     "output_type": "display_data"
    }
   ],
   "source": [
    "test['date'] = pd.to_datetime(test['date'], format=\"%Y-%m-%d\")\n",
    "\n",
    "prediction = pd.DataFrame({'actual':test.incremental_cases.reset_index(drop = True), \n",
    "              'pred':pred.reset_index(drop = True)})\n",
    "prediction['date'] = test['date'].reset_index(drop = True)\n",
    "ax = prediction.plot(x = 'date', y = ['actual', 'pred'])\n",
    "\n",
    "# Set the labels for the x and y axes\n",
    "ax.set_xlabel('Date')\n",
    "ax.set_ylabel('Incremental Cases')\n",
    "\n",
    "# Optionally, you can also set the title of the plot\n",
    "ax.set_title('Actual vs Predicted Incremental Cases')\n",
    "\n",
    "# Show the plot\n",
    "plt.show()"
   ]
  },
  {
   "cell_type": "code",
   "execution_count": null,
   "id": "a6a2479c",
   "metadata": {},
   "outputs": [],
   "source": []
  },
  {
   "cell_type": "code",
   "execution_count": null,
   "id": "88ac4f9d",
   "metadata": {},
   "outputs": [],
   "source": []
  },
  {
   "cell_type": "code",
   "execution_count": null,
   "id": "4d4aca4f",
   "metadata": {},
   "outputs": [],
   "source": []
  },
  {
   "cell_type": "code",
   "execution_count": 73,
   "id": "7ec20f2e",
   "metadata": {},
   "outputs": [],
   "source": [
    "harris = data[data['county'] == 'Harris'].loc[:, ['date', 'incremental_cases']]\n",
    "harris['incremental_cases'] = harris['incremental_cases'].astype('int')\n",
    "harris['date'] = pd.to_datetime(harris['date'], format=\"%Y-%m-%d\")\n",
    "\n",
    "# use 85%-15% for train-test split\n",
    "train = harris.iloc[:230, :]\n",
    "test = harris.iloc[230:, :]\n",
    "\n",
    "def stationary_test(series):\n",
    "    result = adfuller(series)\n",
    "    return (result[0], result[1])\n"
   ]
  },
  {
   "cell_type": "code",
   "execution_count": 74,
   "id": "4c39caee",
   "metadata": {},
   "outputs": [
    {
     "name": "stdout",
     "output_type": "stream",
     "text": [
      "Stationary or not?: (-2.2416106051506035, 0.19149116285834866)\n",
      "2929    379\n",
      "Name: incremental_cases, dtype: int64\n",
      "Stationary after first level diff?: (-8.652159828218712, 5.0809546880530815e-14)\n"
     ]
    }
   ],
   "source": [
    "# Harris is non-stationary\n",
    "print(\"Stationary or not?:\", stationary_test(train.incremental_cases))\n",
    "\n",
    "# get this value for reversion purposes\n",
    "print(train.loc[train['date'] == '2020-10-25', 'incremental_cases'])\n",
    "\n",
    "# first-level differencing\n",
    "train['incremental_cases'] = train['incremental_cases'].diff(\n",
    ").fillna(train['incremental_cases']).astype('int')\n",
    "\n",
    "# Harris is stationary after first-level differencing\n",
    "print(\"Stationary after first level diff?:\", stationary_test(train.incremental_cases))"
   ]
  },
  {
   "cell_type": "code",
   "execution_count": 75,
   "id": "7aa9fd83",
   "metadata": {},
   "outputs": [
    {
     "data": {
      "text/plain": [
       "<AxesSubplot:xlabel='date', ylabel='incremental_cases'>"
      ]
     },
     "execution_count": 75,
     "metadata": {},
     "output_type": "execute_result"
    },
    {
     "data": {
      "image/png": "[encoded data removed]",
      "text/plain": [
       "<Figure size 432x288 with 1 Axes>"
      ]
     },
     "metadata": {
      "needs_background": "light"
     },
     "output_type": "display_data"
    }
   ],
   "source": [
    "# use non-differenced cases for test actuals\n",
    "testing = data[data['county'] == 'Harris'].loc[:, ['date', 'incremental_cases']]\n",
    "test = testing.iloc[230:, :]\n",
    "\n",
    "# Plotting actual test data\n",
    "sns.lineplot(x=\"date\", y=\"incremental_cases\",legend = 'full' , data=testing)"
   ]
  },
  {
   "cell_type": "code",
   "execution_count": 22,
   "id": "40ac47fd",
   "metadata": {},
   "outputs": [
    {
     "name": "stdout",
     "output_type": "stream",
     "text": [
      "Best SARIMA parameters: ((3, 1, 1), (1, 1, 0, 30)) with MSE: 2362459.4580989517\n"
     ]
    }
   ],
   "source": [
    "train = train.loc[:, ['incremental_cases']].reset_index().drop(columns='index')\n",
    "n_splits = 3\n",
    "\n",
    "tscv = TimeSeriesSplit(n_splits=n_splits)\n",
    "\n",
    "p_values = [0, 1, 2, 3]\n",
    "d_values = [1]\n",
    "q_values = [0, 1, 2, 3]\n",
    "P_values = [0, 1, 2, 3]\n",
    "D_values = [1]\n",
    "Q_values = [0, 1, 2, 3]\n",
    "m_values = [30]  \n",
    "\n",
    "# Generate all possible combinations of parameters\n",
    "all_combinations = [(p, d, q, P, D, Q, m) for p in p_values for d in d_values for q in q_values\n",
    "                    for P in P_values for D in D_values for Q in Q_values for m in m_values]\n",
    "\n",
    "# Randomize\n",
    "random.shuffle(all_combinations)\n",
    "\n",
    "# Limit the number of iterations\n",
    "max_iterations = 20  \n",
    "limited_combinations = all_combinations[:max_iterations]\n",
    "\n",
    "best_score, best_cfg = float(\"inf\"), None\n",
    "\n",
    "# Iterate through the randomized/limited combinations of parameters\n",
    "for (p, d, q, P, D, Q, m) in limited_combinations:\n",
    "    mse_scores = []\n",
    "\n",
    "    for train_index, val_index in tscv.split(train):\n",
    "        try:\n",
    "            train_data, val_data = train.loc[train_index], train.loc[val_index]\n",
    "            model = SARIMAX(train_data.incremental_cases,\n",
    "                            order=(p, d, q),\n",
    "                            seasonal_order=(P, D, Q, m),\n",
    "                            enforce_stationarity=False,\n",
    "                            enforce_invertibility=False)\n",
    "            model_fit = model.fit(disp=0)\n",
    "            forecast = model_fit.forecast(steps=len(val_data))\n",
    "            mse = mean_squared_error(val_data.incremental_cases, forecast)\n",
    "            mse_scores.append(mse)\n",
    "        except:\n",
    "            mse_scores.append(float(\"inf\"))  # In case the model fitting fails\n",
    "\n",
    "    average_mse = np.mean(mse_scores)\n",
    "    if average_mse < best_score:\n",
    "        best_score, best_cfg = average_mse, ((p, d, q), (P, D, Q, m))\n",
    "\n",
    "print(f'Best SARIMA parameters: {best_cfg} with MSE: {best_score}')"
   ]
  },
  {
   "cell_type": "code",
   "execution_count": 76,
   "id": "a765b204",
   "metadata": {},
   "outputs": [
    {
     "name": "stderr",
     "output_type": "stream",
     "text": [
      " This problem is unconstrained.\n"
     ]
    },
    {
     "name": "stdout",
     "output_type": "stream",
     "text": [
      "RUNNING THE L-BFGS-B CODE\n",
      "\n",
      "           * * *\n",
      "\n",
      "Machine precision = 2.220D-16\n",
      " N =            6     M =           10\n",
      "\n",
      "At X0         0 variables are exactly at the bounds\n",
      "\n",
      "At iterate    0    f=  7.57967D+00    |proj g|=  7.31971D-02\n",
      "\n",
      "At iterate    5    f=  7.55181D+00    |proj g|=  1.74787D-02\n",
      "\n",
      "At iterate   10    f=  7.53538D+00    |proj g|=  2.46219D-02\n",
      "\n",
      "At iterate   15    f=  7.53390D+00    |proj g|=  6.59103D-04\n",
      "\n",
      "At iterate   20    f=  7.53357D+00    |proj g|=  5.51777D-04\n",
      "\n",
      "At iterate   25    f=  7.53350D+00    |proj g|=  2.80860D-03\n",
      "\n",
      "At iterate   30    f=  7.41094D+00    |proj g|=  6.59695D-02\n",
      "\n",
      "At iterate   35    f=  7.38791D+00    |proj g|=  1.50550D-03\n",
      "\n",
      "At iterate   40    f=  7.38582D+00    |proj g|=  2.45406D-03\n",
      "\n",
      "At iterate   45    f=  7.34890D+00    |proj g|=  1.22045D-02\n",
      "\n",
      "At iterate   50    f=  7.34877D+00    |proj g|=  1.44936D-04\n",
      "\n",
      "           * * *\n",
      "\n",
      "Tit   = total number of iterations\n",
      "Tnf   = total number of function evaluations\n",
      "Tnint = total number of segments explored during Cauchy searches\n",
      "Skip  = number of BFGS updates skipped\n",
      "Nact  = number of active bounds at final generalized Cauchy point\n",
      "Projg = norm of the final projected gradient\n",
      "F     = final function value\n",
      "\n",
      "           * * *\n",
      "\n",
      "   N    Tit     Tnf  Tnint  Skip  Nact     Projg        F\n",
      "    6     50     76      1     0     0   1.449D-04   7.349D+00\n",
      "  F =   7.3487670359312176     \n",
      "\n",
      "STOP: TOTAL NO. of ITERATIONS REACHED LIMIT                 \n",
      "R-squared -10.938095232749845\n"
     ]
    }
   ],
   "source": [
    "model = sm.tsa.statespace.SARIMAX(train.incremental_cases, order=(3, 1, 1), seasonal_order=(1,1,0,30)).fit()\n",
    "pred = pd.concat([pd.Series([379]), model.forecast(steps=40)]).cumsum()[1:]\n",
    "r2 = r2_score(test.incremental_cases, pred)\n",
    "print(\"R-squared\", r2) "
   ]
  },
  {
   "cell_type": "code",
   "execution_count": 77,
   "id": "05db24f0",
   "metadata": {},
   "outputs": [
    {
     "data": {
      "image/png": "[encoded data removed]",
      "text/plain": [
       "<Figure size 432x288 with 1 Axes>"
      ]
     },
     "metadata": {
      "needs_background": "light"
     },
     "output_type": "display_data"
    }
   ],
   "source": [
    "test['date'] = pd.to_datetime(test['date'], format=\"%Y-%m-%d\")\n",
    "\n",
    "prediction = pd.DataFrame({'actual':test.incremental_cases.reset_index(drop = True), \n",
    "              'pred':pred.reset_index(drop = True)})\n",
    "prediction['date'] = test['date'].reset_index(drop = True)\n",
    "ax = prediction.plot(x = 'date', y = ['actual', 'pred'])\n",
    "\n",
    "# Set the labels for the x and y axes\n",
    "ax.set_xlabel('Date')\n",
    "ax.set_ylabel('Incremental Cases')\n",
    "\n",
    "# Optionally, you can also set the title of the plot\n",
    "ax.set_title('Actual vs Predicted Incremental Cases')\n",
    "\n",
    "# Show the plot\n",
    "plt.show()"
   ]
  },
  {
   "cell_type": "code",
   "execution_count": 23,
   "id": "aee131f3",
   "metadata": {},
   "outputs": [
    {
     "name": "stdout",
     "output_type": "stream",
     "text": [
      "Best SARIMA parameters: ((3, 1, 1), (2, 1, 2, 30)) with MSE: 2365086.718210355\n"
     ]
    }
   ],
   "source": [
    "train = train.loc[:, ['incremental_cases']].reset_index().drop(columns='index')\n",
    "n_splits = 3\n",
    "\n",
    "tscv = TimeSeriesSplit(n_splits=n_splits)\n",
    "\n",
    "# Non-seasonal ARIMA parameters\n",
    "p_values = [2, 3]\n",
    "d_values = [1]\n",
    "q_values = [1, 2, 3]\n",
    "\n",
    "# Seasonal parameters\n",
    "P_values = [0, 1, 2, 3]  \n",
    "D_values = [1]  \n",
    "Q_values = [2, 3]  \n",
    "m_values = [30]    \n",
    "\n",
    "best_score, best_cfg = float(\"inf\"), None\n",
    "\n",
    "# Iterate through all combinations of parameters\n",
    "for p in p_values:\n",
    "    for d in d_values:\n",
    "        for q in q_values:\n",
    "            for P in P_values:\n",
    "                for D in D_values:\n",
    "                    for Q in Q_values:\n",
    "                        for m in m_values:\n",
    "                            mse_scores = []  # List to store the MSE of each cross-validation fold\n",
    "                            \n",
    "                            # Cross-validation as the inner loop\n",
    "                            for train_index, val_index in tscv.split(train):\n",
    "                                try:\n",
    "                                    train_data, val_data = train.loc[train_index], train.loc[val_index]\n",
    "                                    model = SARIMAX(train_data.incremental_cases,\n",
    "                                                    order=(p, d, q),\n",
    "                                                    seasonal_order=(P, D, Q, m),\n",
    "                                                    enforce_stationarity=False,\n",
    "                                                    enforce_invertibility=False)\n",
    "                                    model_fit = model.fit(disp=0)\n",
    "                                    forecast = model_fit.forecast(steps=len(val_data))\n",
    "                                    mse = mean_squared_error(val_data.incremental_cases, forecast)\n",
    "                                    mse_scores.append(mse)\n",
    "                                except:\n",
    "                                    mse_scores.append(float(\"inf\"))  \n",
    "                            \n",
    "                            average_mse = np.mean(mse_scores)  # Average MSE over all folds\n",
    "                            if average_mse < best_score:\n",
    "                                best_score, best_cfg = average_mse, ((p, d, q), (P, D, Q, m))\n",
    "\n",
    "print(f'Best SARIMA parameters: {best_cfg} with MSE: {best_score}')"
   ]
  },
  {
   "cell_type": "code",
   "execution_count": 78,
   "id": "59204c2c",
   "metadata": {},
   "outputs": [
    {
     "name": "stderr",
     "output_type": "stream",
     "text": [
      " This problem is unconstrained.\n"
     ]
    },
    {
     "name": "stdout",
     "output_type": "stream",
     "text": [
      "RUNNING THE L-BFGS-B CODE\n",
      "\n",
      "           * * *\n",
      "\n",
      "Machine precision = 2.220D-16\n",
      " N =            9     M =           10\n",
      "\n",
      "At X0         0 variables are exactly at the bounds\n",
      "\n",
      "At iterate    0    f=  7.56924D+00    |proj g|=  8.35743D-02\n",
      "\n",
      "At iterate    5    f=  7.53589D+00    |proj g|=  1.70089D-02\n",
      "\n",
      "At iterate   10    f=  7.52997D+00    |proj g|=  5.27002D-03\n",
      "\n",
      "At iterate   15    f=  7.52978D+00    |proj g|=  2.88489D-04\n",
      "\n",
      "At iterate   20    f=  7.52960D+00    |proj g|=  6.29861D-03\n",
      "\n",
      "At iterate   25    f=  7.52699D+00    |proj g|=  2.12102D-02\n",
      "\n",
      "At iterate   30    f=  7.50666D+00    |proj g|=  8.27944D-03\n",
      "  ys=-7.961E-02  -gs= 8.746E-02 BFGS update SKIPPED\n",
      "\n",
      "At iterate   35    f=  7.41866D+00    |proj g|=  1.89413D-02\n",
      "\n",
      "At iterate   40    f=  7.41470D+00    |proj g|=  5.69228D-03\n",
      "\n",
      "At iterate   45    f=  7.40226D+00    |proj g|=  3.54829D-02\n",
      "\n",
      "At iterate   50    f=  7.37617D+00    |proj g|=  3.77862D-02\n",
      "\n",
      "           * * *\n",
      "\n",
      "Tit   = total number of iterations\n",
      "Tnf   = total number of function evaluations\n",
      "Tnint = total number of segments explored during Cauchy searches\n",
      "Skip  = number of BFGS updates skipped\n",
      "Nact  = number of active bounds at final generalized Cauchy point\n",
      "Projg = norm of the final projected gradient\n",
      "F     = final function value\n",
      "\n",
      "           * * *\n",
      "\n",
      "   N    Tit     Tnf  Tnint  Skip  Nact     Projg        F\n",
      "    9     50     73      1     1     0   3.779D-02   7.376D+00\n",
      "  F =   7.3761719082149089     \n",
      "\n",
      "STOP: TOTAL NO. of ITERATIONS REACHED LIMIT                 \n",
      "R-squared -12.434567044389347\n"
     ]
    }
   ],
   "source": [
    "model = sm.tsa.statespace.SARIMAX(train.incremental_cases, order=(3, 1, 1), seasonal_order=(2,1,2,30)).fit()\n",
    "pred = pd.concat([pd.Series([379]), model.forecast(steps=40)]).cumsum()[1:]\n",
    "r2 = r2_score(test.incremental_cases, pred)\n",
    "print(\"R-squared\", r2) "
   ]
  },
  {
   "cell_type": "code",
   "execution_count": 79,
   "id": "9d4020bc",
   "metadata": {},
   "outputs": [
    {
     "data": {
      "image/png": "[encoded data removed]",
      "text/plain": [
       "<Figure size 432x288 with 1 Axes>"
      ]
     },
     "metadata": {
      "needs_background": "light"
     },
     "output_type": "display_data"
    }
   ],
   "source": [
    "test['date'] = pd.to_datetime(test['date'], format=\"%Y-%m-%d\")\n",
    "\n",
    "prediction = pd.DataFrame({'actual':test.incremental_cases.reset_index(drop = True), \n",
    "              'pred':pred.reset_index(drop = True)})\n",
    "prediction['date'] = test['date'].reset_index(drop = True)\n",
    "ax = prediction.plot(x = 'date', y = ['actual', 'pred'])\n",
    "\n",
    "# Set the labels for the x and y axes\n",
    "ax.set_xlabel('Date')\n",
    "ax.set_ylabel('Incremental Cases')\n",
    "\n",
    "# Optionally, you can also set the title of the plot\n",
    "ax.set_title('Actual vs Predicted Incremental Cases')\n",
    "\n",
    "# Show the plot\n",
    "plt.show()"
   ]
  },
  {
   "cell_type": "code",
   "execution_count": null,
   "id": "6cdb1d19",
   "metadata": {},
   "outputs": [],
   "source": []
  },
  {
   "cell_type": "code",
   "execution_count": null,
   "id": "8496b298",
   "metadata": {},
   "outputs": [],
   "source": []
  },
  {
   "cell_type": "code",
   "execution_count": null,
   "id": "f2dd5c41",
   "metadata": {},
   "outputs": [],
   "source": []
  },
  {
   "cell_type": "code",
   "execution_count": null,
   "id": "1dfdcf88",
   "metadata": {},
   "outputs": [],
   "source": []
  },
  {
   "cell_type": "code",
   "execution_count": 80,
   "id": "83d5b8c9",
   "metadata": {},
   "outputs": [],
   "source": [
    "philly = data[data['county'] == 'Philadelphia'].loc[:, ['date', 'incremental_cases']]\n",
    "philly['incremental_cases'] = philly['incremental_cases'].astype('int')\n",
    "philly['date'] = pd.to_datetime(philly['date'], format=\"%Y-%m-%d\")\n",
    "\n",
    "# use 85%-15% for train-test split\n",
    "train = philly.iloc[:230, :]\n",
    "test = philly.iloc[230:, :]\n",
    "\n",
    "def stationary_test(series):\n",
    "    result = adfuller(series)\n",
    "    return (result[0], result[1])\n"
   ]
  },
  {
   "cell_type": "code",
   "execution_count": 81,
   "id": "2bb5c424",
   "metadata": {},
   "outputs": [
    {
     "name": "stdout",
     "output_type": "stream",
     "text": [
      "Stationary or not?: (-2.587596964172684, 0.09558791429258168)\n",
      "2659    0\n",
      "Name: incremental_cases, dtype: int64\n",
      "Stationary after first level diff?: (-3.2081320654001626, 0.01951876252889616)\n"
     ]
    }
   ],
   "source": [
    "# Philly is non-stationary\n",
    "print(\"Stationary or not?:\", stationary_test(train.incremental_cases))\n",
    "\n",
    "# get this value for reversion purposes\n",
    "print(train.loc[train['date'] == '2020-10-25', 'incremental_cases'])\n",
    "\n",
    "# first-level differencing\n",
    "train['incremental_cases'] = train['incremental_cases'].diff(\n",
    ").fillna(train['incremental_cases']).astype('int')\n",
    "\n",
    "# Philly is stationary after first-level differencing\n",
    "print(\"Stationary after first level diff?:\", stationary_test(train.incremental_cases))"
   ]
  },
  {
   "cell_type": "code",
   "execution_count": 82,
   "id": "8dd1c925",
   "metadata": {},
   "outputs": [
    {
     "data": {
      "text/plain": [
       "<AxesSubplot:xlabel='date', ylabel='incremental_cases'>"
      ]
     },
     "execution_count": 82,
     "metadata": {},
     "output_type": "execute_result"
    },
    {
     "data": {
      "image/png": "[encoded data removed]",
      "text/plain": [
       "<Figure size 432x288 with 1 Axes>"
      ]
     },
     "metadata": {
      "needs_background": "light"
     },
     "output_type": "display_data"
    }
   ],
   "source": [
    "# use non-differenced cases for test actuals\n",
    "testing = data[data['county'] == 'Philadelphia'].loc[:, ['date', 'incremental_cases']]\n",
    "test = testing.iloc[230:, :]\n",
    "\n",
    "# Plotting actual test data\n",
    "sns.lineplot(x=\"date\", y=\"incremental_cases\",legend = 'full' , data=testing)"
   ]
  },
  {
   "cell_type": "code",
   "execution_count": 27,
   "id": "4e8905c1",
   "metadata": {},
   "outputs": [
    {
     "name": "stdout",
     "output_type": "stream",
     "text": [
      "Best SARIMA parameters: ((2, 1, 3), (1, 1, 1, 30)) with MSE: 53272.020348650905\n"
     ]
    }
   ],
   "source": [
    "train = train.loc[:, ['incremental_cases']].reset_index().drop(columns='index')\n",
    "n_splits = 3\n",
    "\n",
    "tscv = TimeSeriesSplit(n_splits=n_splits)\n",
    "\n",
    "p_values = [0, 1, 2, 3]\n",
    "d_values = [1]\n",
    "q_values = [0, 1, 2, 3]\n",
    "P_values = [0, 1, 2, 3]\n",
    "D_values = [1]\n",
    "Q_values = [0, 1, 2, 3]\n",
    "m_values = [30]  \n",
    "\n",
    "# Generate all possible combinations of parameters\n",
    "all_combinations = [(p, d, q, P, D, Q, m) for p in p_values for d in d_values for q in q_values\n",
    "                    for P in P_values for D in D_values for Q in Q_values for m in m_values]\n",
    "\n",
    "# Randomize\n",
    "random.shuffle(all_combinations)\n",
    "\n",
    "# Limit the number of iterations\n",
    "max_iterations = 20  \n",
    "limited_combinations = all_combinations[:max_iterations]\n",
    "\n",
    "best_score, best_cfg = float(\"inf\"), None\n",
    "\n",
    "# Iterate through the randomized/limited combinations of parameters\n",
    "for (p, d, q, P, D, Q, m) in limited_combinations:\n",
    "    mse_scores = []\n",
    "\n",
    "    for train_index, val_index in tscv.split(train):\n",
    "        try:\n",
    "            train_data, val_data = train.loc[train_index], train.loc[val_index]\n",
    "            model = SARIMAX(train_data.incremental_cases,\n",
    "                            order=(p, d, q),\n",
    "                            seasonal_order=(P, D, Q, m),\n",
    "                            enforce_stationarity=False,\n",
    "                            enforce_invertibility=False)\n",
    "            model_fit = model.fit(disp=0)\n",
    "            forecast = model_fit.forecast(steps=len(val_data))\n",
    "            mse = mean_squared_error(val_data.incremental_cases, forecast)\n",
    "            mse_scores.append(mse)\n",
    "        except:\n",
    "            mse_scores.append(float(\"inf\"))  # In case the model fitting fails\n",
    "\n",
    "    average_mse = np.mean(mse_scores)\n",
    "    if average_mse < best_score:\n",
    "        best_score, best_cfg = average_mse, ((p, d, q), (P, D, Q, m))\n",
    "\n",
    "print(f'Best SARIMA parameters: {best_cfg} with MSE: {best_score}')"
   ]
  },
  {
   "cell_type": "code",
   "execution_count": 83,
   "id": "e7b96b1b",
   "metadata": {},
   "outputs": [
    {
     "name": "stderr",
     "output_type": "stream",
     "text": [
      " This problem is unconstrained.\n"
     ]
    },
    {
     "name": "stdout",
     "output_type": "stream",
     "text": [
      "RUNNING THE L-BFGS-B CODE\n",
      "\n",
      "           * * *\n",
      "\n",
      "Machine precision = 2.220D-16\n",
      " N =            8     M =           10\n",
      "\n",
      "At X0         0 variables are exactly at the bounds\n",
      "\n",
      "At iterate    0    f=  6.45800D+00    |proj g|=  1.31791D+00\n",
      "\n",
      "At iterate    5    f=  5.82196D+00    |proj g|=  1.29343D-01\n",
      "\n",
      "At iterate   10    f=  5.74973D+00    |proj g|=  5.65823D-02\n",
      "\n",
      "At iterate   15    f=  5.74316D+00    |proj g|=  1.69456D-02\n",
      "\n",
      "At iterate   20    f=  5.73927D+00    |proj g|=  3.76519D-02\n",
      "\n",
      "At iterate   25    f=  5.73809D+00    |proj g|=  7.53130D-03\n",
      "\n",
      "At iterate   30    f=  5.73796D+00    |proj g|=  2.25036D-03\n",
      "\n",
      "At iterate   35    f=  5.73756D+00    |proj g|=  8.34065D-03\n",
      "\n",
      "At iterate   40    f=  5.73077D+00    |proj g|=  2.99409D-01\n",
      "\n",
      "At iterate   45    f=  5.70763D+00    |proj g|=  6.85705D-02\n",
      "\n",
      "At iterate   50    f=  5.70357D+00    |proj g|=  9.64110D-03\n",
      "\n",
      "           * * *\n",
      "\n",
      "Tit   = total number of iterations\n",
      "Tnf   = total number of function evaluations\n",
      "Tnint = total number of segments explored during Cauchy searches\n",
      "Skip  = number of BFGS updates skipped\n",
      "Nact  = number of active bounds at final generalized Cauchy point\n",
      "Projg = norm of the final projected gradient\n",
      "F     = final function value\n",
      "\n",
      "           * * *\n",
      "\n",
      "   N    Tit     Tnf  Tnint  Skip  Nact     Projg        F\n",
      "    8     50     57      1     0     0   9.641D-03   5.704D+00\n",
      "  F =   5.7035668381883795     \n",
      "\n",
      "STOP: TOTAL NO. of ITERATIONS REACHED LIMIT                 \n",
      "R-squared -1.065521731388975\n"
     ]
    }
   ],
   "source": [
    "model = sm.tsa.statespace.SARIMAX(train.incremental_cases, order=(2, 1, 3), seasonal_order=(1,1,1,30)).fit()\n",
    "pred = pd.concat([pd.Series([0]), model.forecast(steps=40)]).cumsum()[1:]\n",
    "r2 = r2_score(test.incremental_cases, pred)\n",
    "print(\"R-squared\", r2) "
   ]
  },
  {
   "cell_type": "code",
   "execution_count": 84,
   "id": "18e7fadd",
   "metadata": {},
   "outputs": [
    {
     "data": {
      "text/plain": [
       "<AxesSubplot:xlabel='date'>"
      ]
     },
     "execution_count": 84,
     "metadata": {},
     "output_type": "execute_result"
    },
    {
     "data": {
      "image/png": "[encoded data removed]",
      "text/plain": [
       "<Figure size 432x288 with 1 Axes>"
      ]
     },
     "metadata": {
      "needs_background": "light"
     },
     "output_type": "display_data"
    }
   ],
   "source": [
    "prediction = pd.DataFrame({'actual':test.incremental_cases.reset_index(drop = True), \n",
    "              'pred':pred.reset_index(drop = True)})\n",
    "prediction['date'] = test['date'].reset_index(drop = True)\n",
    "prediction.plot(x = 'date', y = ['actual', 'pred'])"
   ]
  },
  {
   "cell_type": "code",
   "execution_count": 28,
   "id": "39f2b590",
   "metadata": {},
   "outputs": [
    {
     "name": "stdout",
     "output_type": "stream",
     "text": [
      "Best SARIMA parameters: ((3, 1, 3), (1, 1, 2, 30)) with MSE: 52878.35323810712\n"
     ]
    }
   ],
   "source": [
    "train = train.loc[:, ['incremental_cases']].reset_index().drop(columns='index')\n",
    "n_splits = 3\n",
    "\n",
    "tscv = TimeSeriesSplit(n_splits=n_splits)\n",
    "\n",
    "# Non-seasonal ARIMA parameters\n",
    "p_values = [2, 3]\n",
    "d_values = [1]\n",
    "q_values = [1, 2, 3]\n",
    "\n",
    "# Seasonal parameters\n",
    "P_values = [0, 1, 2, 3]  \n",
    "D_values = [1]  \n",
    "Q_values = [2, 3]  \n",
    "m_values = [30]    \n",
    "\n",
    "best_score, best_cfg = float(\"inf\"), None\n",
    "\n",
    "# Iterate through all combinations of parameters\n",
    "for p in p_values:\n",
    "    for d in d_values:\n",
    "        for q in q_values:\n",
    "            for P in P_values:\n",
    "                for D in D_values:\n",
    "                    for Q in Q_values:\n",
    "                        for m in m_values:\n",
    "                            mse_scores = []  # List to store the MSE of each cross-validation fold\n",
    "                            \n",
    "                            # Cross-validation as the inner loop\n",
    "                            for train_index, val_index in tscv.split(train):\n",
    "                                try:\n",
    "                                    train_data, val_data = train.loc[train_index], train.loc[val_index]\n",
    "                                    model = SARIMAX(train_data.incremental_cases,\n",
    "                                                    order=(p, d, q),\n",
    "                                                    seasonal_order=(P, D, Q, m),\n",
    "                                                    enforce_stationarity=False,\n",
    "                                                    enforce_invertibility=False)\n",
    "                                    model_fit = model.fit(disp=0)\n",
    "                                    forecast = model_fit.forecast(steps=len(val_data))\n",
    "                                    mse = mean_squared_error(val_data.incremental_cases, forecast)\n",
    "                                    mse_scores.append(mse)\n",
    "                                except:\n",
    "                                    mse_scores.append(float(\"inf\"))  \n",
    "                            \n",
    "                            average_mse = np.mean(mse_scores)  # Average MSE over all folds\n",
    "                            if average_mse < best_score:\n",
    "                                best_score, best_cfg = average_mse, ((p, d, q), (P, D, Q, m))\n",
    "\n",
    "print(f'Best SARIMA parameters: {best_cfg} with MSE: {best_score}')"
   ]
  },
  {
   "cell_type": "code",
   "execution_count": 85,
   "id": "b53372b6",
   "metadata": {},
   "outputs": [
    {
     "name": "stdout",
     "output_type": "stream",
     "text": [
      "RUNNING THE L-BFGS-B CODE\n",
      "\n",
      "           * * *\n",
      "\n",
      "Machine precision = 2.220D-16\n",
      " N =           10     M =           10\n",
      "\n",
      "At X0         0 variables are exactly at the bounds\n",
      "\n",
      "At iterate    0    f=  6.32077D+00    |proj g|=  8.92607D-01\n"
     ]
    },
    {
     "name": "stderr",
     "output_type": "stream",
     "text": [
      " This problem is unconstrained.\n"
     ]
    },
    {
     "name": "stdout",
     "output_type": "stream",
     "text": [
      "\n",
      "At iterate    5    f=  5.72594D+00    |proj g|=  1.10025D-01\n",
      "\n",
      "At iterate   10    f=  5.69961D+00    |proj g|=  1.03497D-01\n",
      "\n",
      "At iterate   15    f=  5.68795D+00    |proj g|=  4.97192D-02\n",
      "\n",
      "At iterate   20    f=  5.68286D+00    |proj g|=  2.52609D-02\n",
      "\n",
      "At iterate   25    f=  5.68167D+00    |proj g|=  9.32972D-02\n",
      "\n",
      "At iterate   30    f=  5.68083D+00    |proj g|=  2.54720D-02\n",
      "\n",
      "At iterate   35    f=  5.67796D+00    |proj g|=  5.02430D-02\n",
      "\n",
      "At iterate   40    f=  5.67644D+00    |proj g|=  2.33878D-01\n",
      "\n",
      "At iterate   45    f=  5.66068D+00    |proj g|=  8.01871D-02\n",
      "\n",
      "           * * *\n",
      "\n",
      "Tit   = total number of iterations\n",
      "Tnf   = total number of function evaluations\n",
      "Tnint = total number of segments explored during Cauchy searches\n",
      "Skip  = number of BFGS updates skipped\n",
      "Nact  = number of active bounds at final generalized Cauchy point\n",
      "Projg = norm of the final projected gradient\n",
      "F     = final function value\n",
      "\n",
      "           * * *\n",
      "\n",
      "   N    Tit     Tnf  Tnint  Skip  Nact     Projg        F\n",
      "   10     48     72      1     0     0   3.429D-01   5.657D+00\n",
      "  F =   5.6565944380266391     \n",
      "\n",
      "CONVERGENCE: REL_REDUCTION_OF_F_<=_FACTR*EPSMCH             \n"
     ]
    },
    {
     "name": "stderr",
     "output_type": "stream",
     "text": [
      "\n",
      " Warning:  more than 10 function and gradient\n",
      "   evaluations in the last line search.  Termination\n",
      "   may possibly be caused by a bad search direction.\n"
     ]
    },
    {
     "name": "stdout",
     "output_type": "stream",
     "text": [
      "R-squared -1.1835632117561223\n"
     ]
    }
   ],
   "source": [
    "model = sm.tsa.statespace.SARIMAX(train.incremental_cases, order=(3, 1, 3), seasonal_order=(1,1,2,30)).fit()\n",
    "pred = pd.concat([pd.Series([0]), model.forecast(steps=40)]).cumsum()[1:]\n",
    "r2 = r2_score(test.incremental_cases, pred)\n",
    "print(\"R-squared\", r2) "
   ]
  },
  {
   "cell_type": "code",
   "execution_count": 86,
   "id": "2d457eb2",
   "metadata": {},
   "outputs": [
    {
     "data": {
      "image/png": "[encoded data removed]",
      "text/plain": [
       "<Figure size 432x288 with 1 Axes>"
      ]
     },
     "metadata": {
      "needs_background": "light"
     },
     "output_type": "display_data"
    }
   ],
   "source": [
    "test['date'] = pd.to_datetime(test['date'], format=\"%Y-%m-%d\")\n",
    "\n",
    "prediction = pd.DataFrame({'actual':test.incremental_cases.reset_index(drop = True), \n",
    "              'pred':pred.reset_index(drop = True)})\n",
    "prediction['date'] = test['date'].reset_index(drop = True)\n",
    "ax = prediction.plot(x = 'date', y = ['actual', 'pred'])\n",
    "\n",
    "# Set the labels for the x and y axes\n",
    "ax.set_xlabel('Date')\n",
    "ax.set_ylabel('Incremental Cases')\n",
    "\n",
    "# Optionally, you can also set the title of the plot\n",
    "ax.set_title('Actual vs Predicted Incremental Cases')\n",
    "\n",
    "# Show the plot\n",
    "plt.show()"
   ]
  },
  {
   "cell_type": "code",
   "execution_count": null,
   "id": "89740ed2",
   "metadata": {},
   "outputs": [],
   "source": []
  },
  {
   "cell_type": "code",
   "execution_count": null,
   "id": "0b80b75e",
   "metadata": {},
   "outputs": [],
   "source": []
  },
  {
   "cell_type": "code",
   "execution_count": null,
   "id": "adbb276e",
   "metadata": {},
   "outputs": [],
   "source": []
  },
  {
   "cell_type": "code",
   "execution_count": null,
   "id": "f8f357ab",
   "metadata": {},
   "outputs": [],
   "source": []
  },
  {
   "cell_type": "code",
   "execution_count": null,
   "id": "9e09e3ed",
   "metadata": {},
   "outputs": [],
   "source": []
  },
  {
   "cell_type": "code",
   "execution_count": null,
   "id": "66bad7ed",
   "metadata": {},
   "outputs": [],
   "source": []
  },
  {
   "cell_type": "code",
   "execution_count": null,
   "id": "f2325b8a",
   "metadata": {},
   "outputs": [],
   "source": []
  },
  {
   "cell_type": "code",
   "execution_count": null,
   "id": "52f9e35a",
   "metadata": {},
   "outputs": [],
   "source": []
  },
  {
   "cell_type": "code",
   "execution_count": null,
   "id": "3b834d56",
   "metadata": {},
   "outputs": [],
   "source": []
  },
  {
   "cell_type": "code",
   "execution_count": null,
   "id": "ce3b5435",
   "metadata": {},
   "outputs": [],
   "source": []
  },
  {
   "cell_type": "code",
   "execution_count": null,
   "id": "9cbe35ae",
   "metadata": {},
   "outputs": [],
   "source": []
  },
  {
   "cell_type": "code",
   "execution_count": null,
   "id": "1713542a",
   "metadata": {},
   "outputs": [],
   "source": []
  },
  {
   "cell_type": "code",
   "execution_count": null,
   "id": "9fc27ecb",
   "metadata": {},
   "outputs": [],
   "source": []
  },
  {
   "cell_type": "code",
   "execution_count": null,
   "id": "49365999",
   "metadata": {},
   "outputs": [],
   "source": []
  },
  {
   "cell_type": "code",
   "execution_count": null,
   "id": "69c906c2",
   "metadata": {},
   "outputs": [],
   "source": []
  },
  {
   "cell_type": "code",
   "execution_count": null,
   "id": "3506239a",
   "metadata": {},
   "outputs": [],
   "source": []
  }
 ],
 "metadata": {
  "kernelspec": {
   "display_name": "Python 3 (ipykernel)",
   "language": "python",
   "name": "python3"
  },
  "language_info": {
   "codemirror_mode": {
    "name": "ipython",
    "version": 3
   },
   "file_extension": ".py",
   "mimetype": "text/x-python",
   "name": "python",
   "nbconvert_exporter": "python",
   "pygments_lexer": "ipython3",
   "version": "3.9.12"
  }
 },
 "nbformat": 4,
 "nbformat_minor": 5
}
