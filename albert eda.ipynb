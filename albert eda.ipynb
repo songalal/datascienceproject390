{
 "cells": [
  {
   "cell_type": "code",
   "execution_count": 1,
   "id": "987ce946-8349-4502-8c1c-e5300bf2cec8",
   "metadata": {},
   "outputs": [],
   "source": [
    "import pandas as pd"
   ]
  },
  {
   "cell_type": "code",
   "execution_count": 8,
   "id": "3449ca2c-feec-4aa8-a183-72efcd2c147f",
   "metadata": {},
   "outputs": [],
   "source": [
    "df = pd.read_csv('US_counties_COVID19_health_weather_data.csv')\n"
   ]
  },
  {
   "cell_type": "markdown",
   "id": "62ae8191-7573-4f88-a6cc-edee1ed11823",
   "metadata": {},
   "source": [
    "**Features Investigating**"
   ]
  },
  {
   "cell_type": "code",
   "execution_count": 4,
   "id": "5f127a00-a401-438e-a0cc-bbe98cc443b9",
   "metadata": {},
   "outputs": [
    {
     "data": {
      "text/plain": [
       "Index(['percent_severe_housing_cost_burden', 'population_2',\n",
       "       'percent_less_than_18_years_of_age', 'percent_65_and_over', 'num_black',\n",
       "       'percent_black', 'num_american_indian_alaska_native',\n",
       "       'percent_american_indian_alaska_native', 'num_asian', 'percent_asian',\n",
       "       'num_native_hawaiian_other_pacific_islander',\n",
       "       'percent_native_hawaiian_other_pacific_islander', 'num_hispanic',\n",
       "       'percent_hispanic', 'num_non_hispanic_white',\n",
       "       'percent_non_hispanic_white', 'num_not_proficient_in_english',\n",
       "       'percent_not_proficient_in_english', 'percent_female', 'num_rural',\n",
       "       'percent_rural', 'num_housing_units', 'num_households_CDC',\n",
       "       'num_below_poverty', 'num_unemployed_CDC', 'per_capita_income',\n",
       "       'num_no_highschool_diploma', 'num_age_65_and_older',\n",
       "       'num_age_17_and_younger', 'num_disabled',\n",
       "       'num_single_parent_households_CDC', 'num_minorities',\n",
       "       'num_limited_english_abilities', 'num_multi_unit_housing',\n",
       "       'num_mobile_homes', 'num_overcrowding',\n",
       "       'num_households_with_no_vehicle',\n",
       "       'num_institutionalized_in_group_quarters', 'percent_below_poverty',\n",
       "       'percent_unemployed_CDC', 'percent_no_highschool_diploma',\n",
       "       'percent_age_65_and_older', 'percent_age_17_and_younger',\n",
       "       'percent_disabled', 'percent_single_parent_households_CDC',\n",
       "       'percent_minorities', 'percent_limited_english_abilities',\n",
       "       'percent_multi_unit_housing', 'percent_mobile_homes',\n",
       "       'percent_overcrowding', 'percent_no_vehicle',\n",
       "       'percent_institutionalized_in_group_quarters',\n",
       "       'percentile_rank_below_poverty', 'percentile_rank_unemployed',\n",
       "       'percentile_rank_per_capita_income',\n",
       "       'percentile_rank_no_highschool_diploma',\n",
       "       'percentile_rank_socioeconomic_theme'],\n",
       "      dtype='object')"
      ]
     },
     "execution_count": 4,
     "metadata": {},
     "output_type": "execute_result"
    }
   ],
   "source": [
    "#drop preagreed columns, fips is identifier and deaths is something we are not concerened with at the moment\n",
    "df.drop(columns=['fips', 'deaths'], inplace=True)\n",
    "\n",
    "df.columns[114:171]"
   ]
  },
  {
   "cell_type": "code",
   "execution_count": 40,
   "id": "6d2843e1-2c7a-40fb-aa09-fbf559a88784",
   "metadata": {},
   "outputs": [],
   "source": [
    "subset = df.iloc[:, 114:171]\n",
    "subset2 = df.iloc[:, [1,2]]\n",
    "workingDF = pd.concat([subset2, subset], axis=1)"
   ]
  },
  {
   "cell_type": "code",
   "execution_count": 49,
   "id": "5d70126a-3ac7-41fd-9cde-f5635aea9380",
   "metadata": {},
   "outputs": [],
   "source": [
    "workingDF['countyID'] = workingDF['county'] + workingDF['state']\n",
    "workingDF.drop(columns=['county', 'state'], inplace=True)"
   ]
  },
  {
   "cell_type": "code",
   "execution_count": 56,
   "id": "b56a7225-03b7-4b57-b84f-51bef93b459c",
   "metadata": {},
   "outputs": [
    {
     "data": {
      "text/plain": [
       "percent_less_than_18_years_of_age                 17835\n",
       "percent_65_and_over                               17835\n",
       "num_black                                         17835\n",
       "percent_black                                     17835\n",
       "num_american_indian_alaska_native                 17835\n",
       "percent_american_indian_alaska_native             17835\n",
       "num_asian                                         17835\n",
       "percent_asian                                     17835\n",
       "num_native_hawaiian_other_pacific_islander        17835\n",
       "percent_native_hawaiian_other_pacific_islander    17835\n",
       "num_hispanic                                      17835\n",
       "percent_hispanic                                  17835\n",
       "num_non_hispanic_white                            17835\n",
       "percent_non_hispanic_white                        17835\n",
       "num_not_proficient_in_english                     17835\n",
       "percent_not_proficient_in_english                 17835\n",
       "percent_female                                    17835\n",
       "num_rural                                         18942\n",
       "percent_rural                                     18942\n",
       "num_housing_units                                 17835\n",
       "num_households_CDC                                17835\n",
       "num_below_poverty                                 17835\n",
       "num_unemployed_CDC                                17835\n",
       "per_capita_income                                 17835\n",
       "num_no_highschool_diploma                         17835\n",
       "num_age_65_and_older                              17835\n",
       "num_age_17_and_younger                            17835\n",
       "num_disabled                                      17835\n",
       "num_single_parent_households_CDC                  17835\n",
       "num_minorities                                    17835\n",
       "num_limited_english_abilities                     17835\n",
       "num_multi_unit_housing                            17835\n",
       "num_mobile_homes                                  17835\n",
       "num_overcrowding                                  17835\n",
       "num_households_with_no_vehicle                    17835\n",
       "num_institutionalized_in_group_quarters           17835\n",
       "percent_below_poverty                             17835\n",
       "percent_unemployed_CDC                            17835\n",
       "percent_no_highschool_diploma                     17835\n",
       "percent_age_65_and_older                          17835\n",
       "percent_age_17_and_younger                        17835\n",
       "percent_disabled                                  17835\n",
       "percent_single_parent_households_CDC              17835\n",
       "percent_minorities                                17835\n",
       "percent_limited_english_abilities                 17835\n",
       "percent_multi_unit_housing                        17835\n",
       "percent_mobile_homes                              17835\n",
       "percent_overcrowding                              17835\n",
       "percent_no_vehicle                                17835\n",
       "percent_institutionalized_in_group_quarters       17835\n",
       "percentile_rank_below_poverty                     17835\n",
       "percentile_rank_unemployed                        17835\n",
       "percentile_rank_per_capita_income                 17835\n",
       "percentile_rank_no_highschool_diploma             17835\n",
       "percentile_rank_socioeconomic_theme               17835\n",
       "percentile_rank_age_65_and_older                  17835\n",
       "percentile_rank_age_17_and_younger                17835\n",
       "countyID                                              0\n",
       "dtype: int64"
      ]
     },
     "execution_count": 56,
     "metadata": {},
     "output_type": "execute_result"
    }
   ],
   "source": [
    "#for these variables it seems that the same number of na values are present in each column, meaning that they probably are all the same rows with the exception of num_rural and percent_rural\n",
    "workingDF.isna().sum()"
   ]
  },
  {
   "cell_type": "code",
   "execution_count": 59,
   "id": "010fdf69-1252-4845-a0b3-5b8fef4bbb55",
   "metadata": {},
   "outputs": [
    {
     "data": {
      "text/plain": [
       "array(['Petersburg BoroughAlaska', 'St. CroixVirgin Islands',\n",
       "       'St. JohnVirgin Islands', 'St. ThomasVirgin Islands',\n",
       "       'Oglala LakotaSouth Dakota',\n",
       "       'Prince of Wales-Hyder Census AreaAlaska', 'AdjuntasPuerto Rico',\n",
       "       'AguadaPuerto Rico', 'AguadillaPuerto Rico',\n",
       "       'Aguas BuenasPuerto Rico', 'AibonitoPuerto Rico',\n",
       "       'AnascoPuerto Rico', 'AreciboPuerto Rico', 'ArroyoPuerto Rico',\n",
       "       'BarcelonetaPuerto Rico', 'BarranquitasPuerto Rico',\n",
       "       'BayamonPuerto Rico', 'Cabo RojoPuerto Rico', 'CaguasPuerto Rico',\n",
       "       'CamuyPuerto Rico', 'CanovanasPuerto Rico', 'CarolinaPuerto Rico',\n",
       "       'CatanoPuerto Rico', 'CayeyPuerto Rico', 'CeibaPuerto Rico',\n",
       "       'CialesPuerto Rico', 'CidraPuerto Rico', 'CoamoPuerto Rico',\n",
       "       'ComerioPuerto Rico', 'CorozalPuerto Rico', 'DoradoPuerto Rico',\n",
       "       'FajardoPuerto Rico', 'FloridaPuerto Rico', 'GuanicaPuerto Rico',\n",
       "       'GuayamaPuerto Rico', 'GuayanillaPuerto Rico',\n",
       "       'GuaynaboPuerto Rico', 'GuraboPuerto Rico', 'HatilloPuerto Rico',\n",
       "       'HormiguerosPuerto Rico', 'HumacaoPuerto Rico',\n",
       "       'IsabelaPuerto Rico', 'JayuyaPuerto Rico', 'Juana DiazPuerto Rico',\n",
       "       'JuncosPuerto Rico', 'LajasPuerto Rico', 'LaresPuerto Rico',\n",
       "       'Las MariasPuerto Rico', 'Las PiedrasPuerto Rico',\n",
       "       'LoizaPuerto Rico', 'LuquilloPuerto Rico', 'ManatiPuerto Rico',\n",
       "       'MaunaboPuerto Rico', 'MayaguezPuerto Rico', 'MocaPuerto Rico',\n",
       "       'MorovisPuerto Rico', 'NaguaboPuerto Rico', 'NaranjitoPuerto Rico',\n",
       "       'OrocovisPuerto Rico', 'PatillasPuerto Rico',\n",
       "       'PenuelasPuerto Rico', 'PoncePuerto Rico',\n",
       "       'QuebradillasPuerto Rico', 'RinconPuerto Rico',\n",
       "       'Rio GrandePuerto Rico', 'Sabana GrandePuerto Rico',\n",
       "       'SalinasPuerto Rico', 'San GermanPuerto Rico',\n",
       "       'San JuanPuerto Rico', 'San LorenzoPuerto Rico',\n",
       "       'San SebastianPuerto Rico', 'Santa IsabelPuerto Rico',\n",
       "       'Toa AltaPuerto Rico', 'Toa BajaPuerto Rico',\n",
       "       'Trujillo AltoPuerto Rico', 'UtuadoPuerto Rico',\n",
       "       'Vega AltaPuerto Rico', 'Vega BajaPuerto Rico',\n",
       "       'VillalbaPuerto Rico', 'YabucoaPuerto Rico', 'YaucoPuerto Rico',\n",
       "       'ViequesPuerto Rico', 'MaricaoPuerto Rico', 'CulebraPuerto Rico',\n",
       "       'Wrangell City and BoroughAlaska', 'JoplinMissouri',\n",
       "       'Kusilvak Census AreaAlaska', 'SaipanNorthern Mariana Islands',\n",
       "       'TinianNorthern Mariana Islands', 'Skagway MunicipalityAlaska'],\n",
       "      dtype=object)"
      ]
     },
     "execution_count": 59,
     "metadata": {},
     "output_type": "execute_result"
    }
   ],
   "source": [
    "#looking at the na rows, it apperas that it is puerto rico, the virgin islands, parts of alaska, and missouri that are missing this data\n",
    "#i think that we can drop these rows as since it primarily deals with us territories, their socioeconoimc data is much more harder to come by\n",
    "narows = workingDF[workingDF.isna().any(axis=1)]\n",
    "narows.countyID.unique()"
   ]
  },
  {
   "cell_type": "code",
   "execution_count": 68,
   "id": "ade73230-68a2-416b-8c97-9779a34b8188",
   "metadata": {},
   "outputs": [
    {
     "name": "stdout",
     "output_type": "stream",
     "text": [
      "{'Oglala LakotaSouth Dakota', 'Kusilvak Census AreaAlaska', 'Petersburg BoroughAlaska', 'Skagway MunicipalityAlaska', 'Prince of Wales-Hyder Census AreaAlaska', 'Wrangell City and BoroughAlaska'}\n"
     ]
    }
   ],
   "source": [
    "#looking at the differences, we see that it is parts of alaska and one county in south dakota that do not report the number of rural people\n",
    "#i think that we can just drop these rows as in the grand scheme of things, it is only six counties \n",
    "\n",
    "notRurals = workingDF[workingDF.num_black.isna()].countyID.unique()\n",
    "print(set(narows.countyID.unique()).difference(set(notRurals)))"
   ]
  },
  {
   "cell_type": "markdown",
   "id": "2afa0337-37c6-42ed-b64a-ad3ce7c9a30e",
   "metadata": {},
   "source": [
    "Ultimately, I think that since any of the rows with missing values are missing all of the values in terms of the predictor columns, and these rows are from places where data seems to be sparse, we should just use .dropna() on these rows"
   ]
  }
 ],
 "metadata": {
  "kernelspec": {
   "display_name": "Python 3 (ipykernel)",
   "language": "python",
   "name": "python3"
  },
  "language_info": {
   "codemirror_mode": {
    "name": "ipython",
    "version": 3
   },
   "file_extension": ".py",
   "mimetype": "text/x-python",
   "name": "python",
   "nbconvert_exporter": "python",
   "pygments_lexer": "ipython3",
   "version": "3.11.5"
  }
 },
 "nbformat": 4,
 "nbformat_minor": 5
}
